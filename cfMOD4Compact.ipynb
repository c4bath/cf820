{
 "cells": [
  {
   "cell_type": "code",
   "execution_count": 1,
   "metadata": {
    "colab": {
     "base_uri": "https://localhost:8080/"
    },
    "id": "-s5mr3IPgAN-",
    "outputId": "2cf626f7-94a1-4627-d994-3371e9454bba"
   },
   "outputs": [
    {
     "name": "stdout",
     "output_type": "stream",
     "text": [
      "\u001b[33mDEPRECATION: Configuring installation scheme with distutils config files is deprecated and will no longer work in the near future. If you are using a Homebrew or Linuxbrew Python, please see discussion at https://github.com/Homebrew/homebrew-core/issues/76621\u001b[0m\u001b[33m\n",
      "\u001b[0mRequirement already satisfied: ipython-autotime in /usr/local/lib/python3.9/site-packages (0.3.1)\n",
      "Requirement already satisfied: ipython in /usr/local/lib/python3.9/site-packages (from ipython-autotime) (8.4.0)\n",
      "Requirement already satisfied: traitlets>=5 in /usr/local/lib/python3.9/site-packages (from ipython->ipython-autotime) (5.2.2.post1)\n",
      "Requirement already satisfied: matplotlib-inline in /usr/local/lib/python3.9/site-packages (from ipython->ipython-autotime) (0.1.3)\n",
      "Requirement already satisfied: pexpect>4.3 in /usr/local/lib/python3.9/site-packages (from ipython->ipython-autotime) (4.8.0)\n",
      "Requirement already satisfied: pickleshare in /usr/local/lib/python3.9/site-packages (from ipython->ipython-autotime) (0.7.5)\n",
      "Requirement already satisfied: pygments>=2.4.0 in /usr/local/lib/python3.9/site-packages (from ipython->ipython-autotime) (2.12.0)\n",
      "Requirement already satisfied: prompt-toolkit!=3.0.0,!=3.0.1,<3.1.0,>=2.0.0 in /usr/local/lib/python3.9/site-packages (from ipython->ipython-autotime) (3.0.29)\n",
      "Requirement already satisfied: stack-data in /usr/local/lib/python3.9/site-packages (from ipython->ipython-autotime) (0.2.0)\n",
      "Requirement already satisfied: jedi>=0.16 in /usr/local/lib/python3.9/site-packages (from ipython->ipython-autotime) (0.18.1)\n",
      "Requirement already satisfied: backcall in /usr/local/lib/python3.9/site-packages (from ipython->ipython-autotime) (0.2.0)\n",
      "Requirement already satisfied: setuptools>=18.5 in /usr/local/lib/python3.9/site-packages (from ipython->ipython-autotime) (60.5.0)\n",
      "Requirement already satisfied: decorator in /usr/local/lib/python3.9/site-packages (from ipython->ipython-autotime) (5.1.1)\n",
      "Requirement already satisfied: appnope in /usr/local/lib/python3.9/site-packages (from ipython->ipython-autotime) (0.1.3)\n",
      "Requirement already satisfied: parso<0.9.0,>=0.8.0 in /usr/local/lib/python3.9/site-packages (from jedi>=0.16->ipython->ipython-autotime) (0.8.3)\n",
      "Requirement already satisfied: ptyprocess>=0.5 in /usr/local/lib/python3.9/site-packages (from pexpect>4.3->ipython->ipython-autotime) (0.7.0)\n",
      "Requirement already satisfied: wcwidth in /usr/local/lib/python3.9/site-packages (from prompt-toolkit!=3.0.0,!=3.0.1,<3.1.0,>=2.0.0->ipython->ipython-autotime) (0.2.5)\n",
      "Requirement already satisfied: asttokens in /usr/local/lib/python3.9/site-packages (from stack-data->ipython->ipython-autotime) (2.0.5)\n",
      "Requirement already satisfied: executing in /usr/local/lib/python3.9/site-packages (from stack-data->ipython->ipython-autotime) (0.8.3)\n",
      "Requirement already satisfied: pure-eval in /usr/local/lib/python3.9/site-packages (from stack-data->ipython->ipython-autotime) (0.2.2)\n",
      "Requirement already satisfied: six in /usr/local/lib/python3.9/site-packages (from asttokens->stack-data->ipython->ipython-autotime) (1.16.0)\n",
      "\u001b[33mDEPRECATION: Configuring installation scheme with distutils config files is deprecated and will no longer work in the near future. If you are using a Homebrew or Linuxbrew Python, please see discussion at https://github.com/Homebrew/homebrew-core/issues/76621\u001b[0m\u001b[33m\n",
      "\u001b[0m"
     ]
    }
   ],
   "source": [
    "# Note: this file works with the compact dataset file SmallPatSurvRaw.csv available in my github and shared in my google drive\n",
    "\n",
    "# Install autotime extension to measure code execution duration\n",
    "\n",
    "!pip install ipython-autotime"
   ]
  },
  {
   "cell_type": "code",
   "execution_count": 2,
   "metadata": {
    "colab": {
     "base_uri": "https://localhost:8080/"
    },
    "id": "jEZ6dId_gIIe",
    "outputId": "0542914f-7c3a-4b4e-cd75-decf4bb7c977"
   },
   "outputs": [
    {
     "name": "stdout",
     "output_type": "stream",
     "text": [
      "time: 342 µs (started: 2022-12-05 10:19:37 -05:00)\n"
     ]
    }
   ],
   "source": [
    "%load_ext autotime"
   ]
  },
  {
   "cell_type": "code",
   "execution_count": 3,
   "metadata": {
    "colab": {
     "base_uri": "https://localhost:8080/"
    },
    "id": "80owTsGe2tZp",
    "outputId": "036b237f-64eb-4066-acaa-e69696295e05"
   },
   "outputs": [
    {
     "name": "stdout",
     "output_type": "stream",
     "text": [
      "time: 27 s (started: 2022-12-05 10:19:37 -05:00)\n"
     ]
    }
   ],
   "source": [
    "# Import libraries\n",
    "\n",
    "import pandas as pd\n",
    "import numpy as np\n",
    "from sklearn import model_selection, metrics\n",
    "from sklearn.preprocessing import OrdinalEncoder\n",
    "#from sklearn.preprocessing import OneHotEncoder\n",
    "from sklearn.compose import make_column_transformer\n",
    "from sklearn.feature_selection import VarianceThreshold\n",
    "from sklearn.impute import SimpleImputer\n",
    "from sklearn import preprocessing\n",
    "from sklearn.preprocessing import StandardScaler\n",
    "from sklearn.preprocessing import LabelEncoder\n",
    "from sklearn.model_selection import StratifiedKFold\n",
    "from sklearn.model_selection import KFold\n",
    "from sklearn.feature_selection import RFECV, SelectKBest, chi2\n",
    "from sklearn.metrics import roc_auc_score, auc\n",
    "from sklearn.metrics import roc_curve\n",
    "import statsmodels.api as sm\n",
    "import matplotlib.pyplot as plt \n",
    "import matplotlib.patches as patches\n",
    "plt.rc(\"font\", size=14)\n",
    "from sklearn.model_selection import train_test_split\n",
    "import seaborn as sns\n",
    "sns.set(style=\"white\")\n",
    "sns.set(style=\"whitegrid\", color_codes=True)\n",
    "import time\n",
    "from imblearn.over_sampling import SMOTE\n",
    "from imblearn.over_sampling import BorderlineSMOTE\n",
    "from imblearn.under_sampling import RandomUnderSampler\n",
    "from xgboost import XGBClassifier\n",
    "#from lightgbm import LGBMClassifier\n",
    "from sklearn.dummy import DummyClassifier\n",
    "from sklearn.neighbors import KNeighborsClassifier\n",
    "#from sklearn.tree import DecisionTreeClassifier\n",
    "from sklearn.ensemble import RandomForestClassifier\n",
    "#from sklearn.ensemble import AdaBoostClassifier\n",
    "#from sklearn.ensemble import GradientBoostingClassifier\n",
    "from sklearn.naive_bayes import GaussianNB\n",
    "from sklearn.linear_model import LogisticRegression\n",
    "from sklearn.linear_model import LogisticRegressionCV\n",
    "from sklearn.model_selection import RepeatedStratifiedKFold\n",
    "from sklearn.model_selection import cross_val_score, cross_val_predict\n",
    "#from sklearn.model_selection import train_test_split\n",
    "from sklearn.metrics import confusion_matrix, classification_report\n",
    "from sklearn.metrics import f1_score\n",
    "from sklearn.metrics import accuracy_score\n",
    "from sklearn.metrics import precision_score\n",
    "from sklearn.metrics import recall_score\n",
    "from sklearn.metrics import average_precision_score\n",
    "from sklearn.metrics import precision_recall_curve\n",
    "from sklearn.metrics import make_scorer\n",
    "import scipy.stats\n",
    "from scipy import interp\n",
    "import statsmodels.formula.api as smf\n",
    "#from scipy.stats import chi2_contingency\n",
    "#from scipy.stats import chi2\n",
    "from itertools import product\n"
   ]
  },
  {
   "cell_type": "code",
   "execution_count": 4,
   "metadata": {
    "colab": {
     "base_uri": "https://localhost:8080/"
    },
    "id": "A98toCM223nw",
    "outputId": "bcff4dcb-a691-49d4-e577-7e5ff4b6e9e4"
   },
   "outputs": [
    {
     "name": "stdout",
     "output_type": "stream",
     "text": [
      "time: 512 µs (started: 2022-12-05 10:20:04 -05:00)\n"
     ]
    }
   ],
   "source": [
    "# The csv file is in my google drive and shared with anyone with the link \n",
    "\n",
    "\n",
    "# Per Kaggle: source of the dataset: https://journals.lww.com/ccmjournal/Citation/2019/01001/33__THE_GLOBAL_OPEN_SOURCE_SEVERITY_OF_ILLNESS.36.aspx\n",
    "\n",
    "# Please see Data_Dictionary.csv file for explanation / definitions of features \n",
    "\n",
    "#IF USING GOOGLE DRIVE UNCOMMENT THE FOLLOWING 2 LINES:\n",
    "#from google.colab import drive\n",
    "#drive.mount('/content/drive')"
   ]
  },
  {
   "cell_type": "code",
   "execution_count": 5,
   "metadata": {
    "colab": {
     "base_uri": "https://localhost:8080/"
    },
    "id": "tb9emEB_263x",
    "outputId": "a030daf1-97e9-4109-b48d-ce4adf5d03f4"
   },
   "outputs": [
    {
     "name": "stdout",
     "output_type": "stream",
     "text": [
      "time: 113 ms (started: 2022-12-05 10:20:04 -05:00)\n"
     ]
    }
   ],
   "source": [
    "\n",
    "#IF USING GOOGLE DRIVE (copying file shortcut into end user's own google drive will enable access)\n",
    "#Uncomment and edit the following path and filename as needed:\n",
    "#data=pd.read_csv(r'/content/drive/MyDrive/820PublicData/SmallPatSurvRaw.csv',header=0)\n",
    "\n",
    "#IF NOT USING GOOGLE DRIVE:\n",
    "#Uncomment and edit the following path and filename as needed:\n",
    "#data=pd.read_csv(r'/Users/Lj4b 1 2/Documents/Ryerson/CIND820BigDataProject/Data/SmallPatSurvRaw.csv',header=0)"
   ]
  },
  {
   "cell_type": "code",
   "execution_count": 6,
   "metadata": {
    "colab": {
     "base_uri": "https://localhost:8080/"
    },
    "id": "KuJgsKgq3DEq",
    "outputId": "8e759a45-cdbd-4e66-d3da-a133602ac2f5"
   },
   "outputs": [
    {
     "data": {
      "text/plain": [
       "hospital_death                    0\n",
       "age                             772\n",
       "bmi                             444\n",
       "elective_surgery                  0\n",
       "ethnicity                       230\n",
       "gender                            6\n",
       "height                          234\n",
       "hospital_admit_source          2156\n",
       "icu_admit_source                 11\n",
       "icu_id                            0\n",
       "icu_stay_type                     0\n",
       "icu_type                          0\n",
       "pre_icu_los_days                  0\n",
       "readmission_status                0\n",
       "weight                          313\n",
       "gcs_eyes_apache                 366\n",
       "gcs_motor_apache                366\n",
       "gcs_unable_apache               170\n",
       "gcs_verbal_apache               366\n",
       "intubated_apache                110\n",
       "ventilated_apache               110\n",
       "aids                            110\n",
       "cirrhosis                       110\n",
       "diabetes_mellitus               110\n",
       "hepatic_failure                 110\n",
       "immunosuppression               110\n",
       "leukemia                        110\n",
       "lymphoma                        110\n",
       "solid_tumor_with_metastasis     110\n",
       "apache_3j_bodysystem            218\n",
       "apache_2_bodysystem             218\n",
       "dtype: int64"
      ]
     },
     "execution_count": 6,
     "metadata": {},
     "output_type": "execute_result"
    },
    {
     "name": "stdout",
     "output_type": "stream",
     "text": [
      "time: 26.7 ms (started: 2022-12-05 10:20:04 -05:00)\n"
     ]
    }
   ],
   "source": [
    "pd.options.display.min_rows = 186\n",
    "data.isnull().sum()"
   ]
  },
  {
   "cell_type": "code",
   "execution_count": 7,
   "metadata": {
    "colab": {
     "base_uri": "https://localhost:8080/"
    },
    "id": "905P5CSN3KdZ",
    "outputId": "ef74f99a-df30-4157-ec2c-2be2eef7e6a1"
   },
   "outputs": [
    {
     "name": "stdout",
     "output_type": "stream",
     "text": [
      "time: 1.5 ms (started: 2022-12-05 10:20:05 -05:00)\n"
     ]
    }
   ],
   "source": [
    "# Eliminate features that: \n",
    "# 1. do not provide any information value (i.e. 'encounter_id', 'patient_id', 'hospital_id') \n",
    "# 2. are the predicted probabilities from the APACHE IV model ('apache_4a_hospital_death_prob','apache_4a_icu_death_prob') \n",
    "# 3. OR are not of interest in our prediction and analysis (the physiological measures, i.e. 'bilirubin_apache','bun_apache','creatinine_apache', etc)\n",
    "# data.drop(['encounter_id','patient_id','readmission_status','hospital_id','icu_id','albumin_apache','apache_2_diagnosis','apache_3j_diagnosis','apache_post_operative','arf_apache','bilirubin_apache','bun_apache','creatinine_apache','fio2_apache','glucose_apache','heart_rate_apache','hematocrit_apache','map_apache','paco2_apache','paco2_for_ph_apache','pao2_apache','ph_apache','resprate_apache','sodium_apache','temp_apache','urineoutput_apache','wbc_apache','d1_diasbp_invasive_max','d1_diasbp_invasive_min','d1_diasbp_max','d1_diasbp_min','d1_diasbp_noninvasive_max','d1_diasbp_noninvasive_min','d1_heartrate_max','d1_heartrate_min','d1_mbp_invasive_max','d1_mbp_invasive_min','d1_mbp_max','d1_mbp_min','d1_mbp_noninvasive_max','d1_mbp_noninvasive_min','d1_resprate_max','d1_resprate_min','d1_spo2_max','d1_spo2_min','d1_sysbp_invasive_max','d1_sysbp_invasive_min','d1_sysbp_max','d1_sysbp_min','d1_sysbp_noninvasive_max','d1_sysbp_noninvasive_min','d1_temp_max','d1_temp_min','h1_diasbp_invasive_max','h1_diasbp_invasive_min','h1_diasbp_max','h1_diasbp_min','h1_diasbp_noninvasive_max','h1_diasbp_noninvasive_min','h1_heartrate_max','h1_heartrate_min','h1_mbp_invasive_max','h1_mbp_invasive_min','h1_mbp_max','h1_mbp_min','h1_mbp_noninvasive_max','h1_mbp_noninvasive_min','h1_resprate_max','h1_resprate_min','h1_spo2_max','h1_spo2_min','h1_sysbp_invasive_max','h1_sysbp_invasive_min','h1_sysbp_max','h1_sysbp_min','h1_sysbp_noninvasive_max','h1_sysbp_noninvasive_min','h1_temp_max','h1_temp_min','d1_albumin_max','d1_albumin_min','d1_bilirubin_max','d1_bilirubin_min','d1_bun_max','d1_bun_min','d1_calcium_max','d1_calcium_min','d1_creatinine_max','d1_creatinine_min','d1_glucose_max','d1_glucose_min','d1_hco3_max','d1_hco3_min','d1_hemaglobin_max','d1_hemaglobin_min','d1_hematocrit_max','d1_hematocrit_min','d1_inr_max','d1_inr_min','d1_lactate_max','d1_lactate_min','d1_platelets_max','d1_platelets_min','d1_potassium_max','d1_potassium_min','d1_sodium_max','d1_sodium_min','d1_wbc_max','d1_wbc_min','h1_albumin_max','h1_albumin_min','h1_bilirubin_max','h1_bilirubin_min','h1_bun_max','h1_bun_min','h1_calcium_max','h1_calcium_min','h1_creatinine_max','h1_creatinine_min','h1_glucose_max','h1_glucose_min','h1_hco3_max','h1_hco3_min','h1_hemaglobin_max','h1_hemaglobin_min','h1_hematocrit_max','h1_hematocrit_min','h1_inr_max','h1_inr_min','h1_lactate_max','h1_lactate_min','h1_platelets_max','h1_platelets_min','h1_potassium_max','h1_potassium_min','h1_sodium_max','h1_sodium_min','h1_wbc_max','h1_wbc_min','d1_arterial_pco2_max','d1_arterial_pco2_min','d1_arterial_ph_max','d1_arterial_ph_min','d1_arterial_po2_max','d1_arterial_po2_min','d1_pao2fio2ratio_max','d1_pao2fio2ratio_min','h1_arterial_pco2_max','h1_arterial_pco2_min','h1_arterial_ph_max','h1_arterial_ph_min','h1_arterial_po2_max','h1_arterial_po2_min','h1_pao2fio2ratio_max','h1_pao2fio2ratio_min','apache_4a_hospital_death_prob','apache_4a_icu_death_prob'],axis =1, inplace = True)"
   ]
  },
  {
   "cell_type": "code",
   "execution_count": 8,
   "metadata": {
    "colab": {
     "base_uri": "https://localhost:8080/"
    },
    "id": "fYONDhPT3NdK",
    "outputId": "e00a7a46-c823-4445-d60f-bbda65d2f82c"
   },
   "outputs": [
    {
     "name": "stdout",
     "output_type": "stream",
     "text": [
      "time: 2.72 ms (started: 2022-12-05 10:20:05 -05:00)\n"
     ]
    }
   ],
   "source": [
    "def analyse_df(df, corr_limit = 0.75):\n",
    "    \"\"\"Analyse any dataframe and print results\n",
    "    * Print df Shape, duplicate rows qnt, memory usage, data types and call DataFrame.describe()\n",
    "    * Check Missing values in each columns, returning qnt. and percentage \n",
    "    * Check Linear Correlation between columns, return Pearson number\n",
    "\n",
    "    Keyword arguments:\n",
    "    df -- Any DataFrame\n",
    "    corr_limit -- Correlation Limit (Pearson) to define if relationship exists (default 0.75)\n",
    "    \"\"\"   \n",
    "\n",
    "    print('General Info:')\n",
    "    print(f'{df.shape[0]} Rows {df.shape[1]} Columns'\n",
    "          f'\\n{df.duplicated().sum()} Duplicated Rows'\n",
    "          f'\\nMemory Usage: {df.memory_usage().sum()/(1024*1024):.2f}Mb')\n",
    "    \n",
    "    # Checking Data Types\n",
    "    int_list, float_list,object_list,bool_list,other_list =[[] for i in range(5)]\n",
    "    for col in df.columns:\n",
    "        if df[col].dtype == 'int64':\n",
    "            int_list.append(col)\n",
    "        elif df[col].dtype == 'float64':\n",
    "            float_list.append(col)\n",
    "        elif df[col].dtype == 'object':\n",
    "            object_list.append(col)\n",
    "        elif df[col].dtype == 'boolean':\n",
    "            bool_list.append(col)\n",
    "        else:\n",
    "            other_list.append(col)\n",
    "            \n",
    "    for type_list,data_type in zip([int_list, float_list,object_list,bool_list,other_list],\n",
    "                                   ['int64','float64','object','boolean','other']):\n",
    "        if len(type_list)>0:\n",
    "            print(f'\\nColumns {data_type}: {type_list}')\n",
    "            \n",
    "    # General statistics\n",
    "    display(df.describe())\n",
    "    \n",
    "    # Checking Missing Values in each columns\n",
    "    print('\\nChecking Missing Values:')\n",
    "    col_with_missing_counter = 0\n",
    "    for col in df.columns:\n",
    "        qnt_missing = df[col].isna().sum()\n",
    "        if qnt_missing > 0:\n",
    "            col_with_missing_counter +=1\n",
    "            print(f'Column \"{col}\" has {qnt_missing} missing values ({qnt_missing/df.shape[0]:.2%})')\n",
    "    if col_with_missing_counter ==0 :\n",
    "        print('Analyzed DataFrame has no missing values')\n",
    "        \n",
    "    # Checking linear correlation between columns\n",
    "    print('\\nChecking Linear Correlation:')\n",
    "    df_corr = df.corr() # Correlation DataFrame\n",
    "    ckecked_list =[] # Ensure that we won't print the same information twice\n",
    "    cols_with_correlation_counter = 0\n",
    "    for col in df_corr.columns:\n",
    "        ckecked_list.append(col)\n",
    "        for i in range(len(df_corr)):\n",
    "            if ((df_corr[col][i] > corr_limit or df_corr[col][i] < -corr_limit) and\n",
    "                (df_corr.index[i] not in ckecked_list)):\n",
    "                cols_with_correlation_counter += 1\n",
    "                print(f'Linear Correlation found between columns '\n",
    "                      f'{df_corr.index[i]} and {col} -> Pearson coef. = {df_corr[col][i]:.2f}')         \n",
    "    if cols_with_correlation_counter == 0:\n",
    "        print('No linear correlation was found')"
   ]
  },
  {
   "cell_type": "code",
   "execution_count": 9,
   "metadata": {
    "colab": {
     "base_uri": "https://localhost:8080/",
     "height": 1000
    },
    "id": "O824E0LN3kzc",
    "outputId": "57d9fb73-2c4e-4810-9425-8d7d4633b02b"
   },
   "outputs": [
    {
     "name": "stdout",
     "output_type": "stream",
     "text": [
      "General Info:\n",
      "12001 Rows 31 Columns\n",
      "0 Duplicated Rows\n",
      "Memory Usage: 2.84Mb\n",
      "\n",
      "Columns int64: ['hospital_death', 'elective_surgery', 'icu_id', 'readmission_status']\n",
      "\n",
      "Columns float64: ['age', 'bmi', 'height', 'pre_icu_los_days', 'weight', 'gcs_eyes_apache', 'gcs_motor_apache', 'gcs_unable_apache', 'gcs_verbal_apache', 'intubated_apache', 'ventilated_apache', 'aids', 'cirrhosis', 'diabetes_mellitus', 'hepatic_failure', 'immunosuppression', 'leukemia', 'lymphoma', 'solid_tumor_with_metastasis']\n",
      "\n",
      "Columns object: ['ethnicity', 'gender', 'hospital_admit_source', 'icu_admit_source', 'icu_stay_type', 'icu_type', 'apache_3j_bodysystem', 'apache_2_bodysystem']\n"
     ]
    },
    {
     "data": {
      "text/html": [
       "<div>\n",
       "<style scoped>\n",
       "    .dataframe tbody tr th:only-of-type {\n",
       "        vertical-align: middle;\n",
       "    }\n",
       "\n",
       "    .dataframe tbody tr th {\n",
       "        vertical-align: top;\n",
       "    }\n",
       "\n",
       "    .dataframe thead th {\n",
       "        text-align: right;\n",
       "    }\n",
       "</style>\n",
       "<table border=\"1\" class=\"dataframe\">\n",
       "  <thead>\n",
       "    <tr style=\"text-align: right;\">\n",
       "      <th></th>\n",
       "      <th>hospital_death</th>\n",
       "      <th>age</th>\n",
       "      <th>bmi</th>\n",
       "      <th>elective_surgery</th>\n",
       "      <th>height</th>\n",
       "      <th>icu_id</th>\n",
       "      <th>pre_icu_los_days</th>\n",
       "      <th>readmission_status</th>\n",
       "      <th>weight</th>\n",
       "      <th>gcs_eyes_apache</th>\n",
       "      <th>...</th>\n",
       "      <th>intubated_apache</th>\n",
       "      <th>ventilated_apache</th>\n",
       "      <th>aids</th>\n",
       "      <th>cirrhosis</th>\n",
       "      <th>diabetes_mellitus</th>\n",
       "      <th>hepatic_failure</th>\n",
       "      <th>immunosuppression</th>\n",
       "      <th>leukemia</th>\n",
       "      <th>lymphoma</th>\n",
       "      <th>solid_tumor_with_metastasis</th>\n",
       "    </tr>\n",
       "  </thead>\n",
       "  <tbody>\n",
       "    <tr>\n",
       "      <th>count</th>\n",
       "      <td>12001.000000</td>\n",
       "      <td>11229.000000</td>\n",
       "      <td>11557.000000</td>\n",
       "      <td>12001.000000</td>\n",
       "      <td>11767.000000</td>\n",
       "      <td>12001.000000</td>\n",
       "      <td>12001.000000</td>\n",
       "      <td>12001.0</td>\n",
       "      <td>11688.000000</td>\n",
       "      <td>11635.000000</td>\n",
       "      <td>...</td>\n",
       "      <td>11891.000000</td>\n",
       "      <td>11891.000000</td>\n",
       "      <td>11891.000000</td>\n",
       "      <td>11891.000000</td>\n",
       "      <td>11891.000000</td>\n",
       "      <td>11891.000000</td>\n",
       "      <td>11891.000000</td>\n",
       "      <td>11891.000000</td>\n",
       "      <td>11891.000000</td>\n",
       "      <td>11891.000000</td>\n",
       "    </tr>\n",
       "    <tr>\n",
       "      <th>mean</th>\n",
       "      <td>0.499958</td>\n",
       "      <td>64.652240</td>\n",
       "      <td>28.661196</td>\n",
       "      <td>0.118657</td>\n",
       "      <td>169.442819</td>\n",
       "      <td>578.406883</td>\n",
       "      <td>1.015810</td>\n",
       "      <td>0.0</td>\n",
       "      <td>82.356521</td>\n",
       "      <td>3.141040</td>\n",
       "      <td>...</td>\n",
       "      <td>0.240854</td>\n",
       "      <td>0.478597</td>\n",
       "      <td>0.000841</td>\n",
       "      <td>0.021445</td>\n",
       "      <td>0.219073</td>\n",
       "      <td>0.017576</td>\n",
       "      <td>0.036078</td>\n",
       "      <td>0.010512</td>\n",
       "      <td>0.007064</td>\n",
       "      <td>0.030443</td>\n",
       "    </tr>\n",
       "    <tr>\n",
       "      <th>std</th>\n",
       "      <td>0.500021</td>\n",
       "      <td>16.413208</td>\n",
       "      <td>8.434800</td>\n",
       "      <td>0.323398</td>\n",
       "      <td>10.752413</td>\n",
       "      <td>220.575366</td>\n",
       "      <td>2.937868</td>\n",
       "      <td>0.0</td>\n",
       "      <td>25.444190</td>\n",
       "      <td>1.186044</td>\n",
       "      <td>...</td>\n",
       "      <td>0.427620</td>\n",
       "      <td>0.499563</td>\n",
       "      <td>0.028989</td>\n",
       "      <td>0.144868</td>\n",
       "      <td>0.413636</td>\n",
       "      <td>0.131411</td>\n",
       "      <td>0.186491</td>\n",
       "      <td>0.101993</td>\n",
       "      <td>0.083755</td>\n",
       "      <td>0.171811</td>\n",
       "    </tr>\n",
       "    <tr>\n",
       "      <th>min</th>\n",
       "      <td>0.000000</td>\n",
       "      <td>16.000000</td>\n",
       "      <td>14.844926</td>\n",
       "      <td>0.000000</td>\n",
       "      <td>137.200000</td>\n",
       "      <td>82.000000</td>\n",
       "      <td>-3.825694</td>\n",
       "      <td>0.0</td>\n",
       "      <td>38.600000</td>\n",
       "      <td>1.000000</td>\n",
       "      <td>...</td>\n",
       "      <td>0.000000</td>\n",
       "      <td>0.000000</td>\n",
       "      <td>0.000000</td>\n",
       "      <td>0.000000</td>\n",
       "      <td>0.000000</td>\n",
       "      <td>0.000000</td>\n",
       "      <td>0.000000</td>\n",
       "      <td>0.000000</td>\n",
       "      <td>0.000000</td>\n",
       "      <td>0.000000</td>\n",
       "    </tr>\n",
       "    <tr>\n",
       "      <th>25%</th>\n",
       "      <td>0.000000</td>\n",
       "      <td>55.000000</td>\n",
       "      <td>22.996985</td>\n",
       "      <td>0.000000</td>\n",
       "      <td>162.500000</td>\n",
       "      <td>498.000000</td>\n",
       "      <td>0.033333</td>\n",
       "      <td>0.0</td>\n",
       "      <td>64.800000</td>\n",
       "      <td>2.000000</td>\n",
       "      <td>...</td>\n",
       "      <td>0.000000</td>\n",
       "      <td>0.000000</td>\n",
       "      <td>0.000000</td>\n",
       "      <td>0.000000</td>\n",
       "      <td>0.000000</td>\n",
       "      <td>0.000000</td>\n",
       "      <td>0.000000</td>\n",
       "      <td>0.000000</td>\n",
       "      <td>0.000000</td>\n",
       "      <td>0.000000</td>\n",
       "    </tr>\n",
       "    <tr>\n",
       "      <th>50%</th>\n",
       "      <td>0.000000</td>\n",
       "      <td>67.000000</td>\n",
       "      <td>27.193231</td>\n",
       "      <td>0.000000</td>\n",
       "      <td>170.000000</td>\n",
       "      <td>609.000000</td>\n",
       "      <td>0.150694</td>\n",
       "      <td>0.0</td>\n",
       "      <td>78.700000</td>\n",
       "      <td>4.000000</td>\n",
       "      <td>...</td>\n",
       "      <td>0.000000</td>\n",
       "      <td>0.000000</td>\n",
       "      <td>0.000000</td>\n",
       "      <td>0.000000</td>\n",
       "      <td>0.000000</td>\n",
       "      <td>0.000000</td>\n",
       "      <td>0.000000</td>\n",
       "      <td>0.000000</td>\n",
       "      <td>0.000000</td>\n",
       "      <td>0.000000</td>\n",
       "    </tr>\n",
       "    <tr>\n",
       "      <th>75%</th>\n",
       "      <td>1.000000</td>\n",
       "      <td>77.000000</td>\n",
       "      <td>32.522735</td>\n",
       "      <td>0.000000</td>\n",
       "      <td>177.800000</td>\n",
       "      <td>772.000000</td>\n",
       "      <td>0.455556</td>\n",
       "      <td>0.0</td>\n",
       "      <td>95.300000</td>\n",
       "      <td>4.000000</td>\n",
       "      <td>...</td>\n",
       "      <td>0.000000</td>\n",
       "      <td>1.000000</td>\n",
       "      <td>0.000000</td>\n",
       "      <td>0.000000</td>\n",
       "      <td>0.000000</td>\n",
       "      <td>0.000000</td>\n",
       "      <td>0.000000</td>\n",
       "      <td>0.000000</td>\n",
       "      <td>0.000000</td>\n",
       "      <td>0.000000</td>\n",
       "    </tr>\n",
       "    <tr>\n",
       "      <th>max</th>\n",
       "      <td>1.000000</td>\n",
       "      <td>89.000000</td>\n",
       "      <td>67.814990</td>\n",
       "      <td>1.000000</td>\n",
       "      <td>195.590000</td>\n",
       "      <td>927.000000</td>\n",
       "      <td>84.367361</td>\n",
       "      <td>0.0</td>\n",
       "      <td>186.000000</td>\n",
       "      <td>4.000000</td>\n",
       "      <td>...</td>\n",
       "      <td>1.000000</td>\n",
       "      <td>1.000000</td>\n",
       "      <td>1.000000</td>\n",
       "      <td>1.000000</td>\n",
       "      <td>1.000000</td>\n",
       "      <td>1.000000</td>\n",
       "      <td>1.000000</td>\n",
       "      <td>1.000000</td>\n",
       "      <td>1.000000</td>\n",
       "      <td>1.000000</td>\n",
       "    </tr>\n",
       "  </tbody>\n",
       "</table>\n",
       "<p>8 rows × 23 columns</p>\n",
       "</div>"
      ],
      "text/plain": [
       "       hospital_death           age           bmi  elective_surgery  \\\n",
       "count    12001.000000  11229.000000  11557.000000      12001.000000   \n",
       "mean         0.499958     64.652240     28.661196          0.118657   \n",
       "std          0.500021     16.413208      8.434800          0.323398   \n",
       "min          0.000000     16.000000     14.844926          0.000000   \n",
       "25%          0.000000     55.000000     22.996985          0.000000   \n",
       "50%          0.000000     67.000000     27.193231          0.000000   \n",
       "75%          1.000000     77.000000     32.522735          0.000000   \n",
       "max          1.000000     89.000000     67.814990          1.000000   \n",
       "\n",
       "             height        icu_id  pre_icu_los_days  readmission_status  \\\n",
       "count  11767.000000  12001.000000      12001.000000             12001.0   \n",
       "mean     169.442819    578.406883          1.015810                 0.0   \n",
       "std       10.752413    220.575366          2.937868                 0.0   \n",
       "min      137.200000     82.000000         -3.825694                 0.0   \n",
       "25%      162.500000    498.000000          0.033333                 0.0   \n",
       "50%      170.000000    609.000000          0.150694                 0.0   \n",
       "75%      177.800000    772.000000          0.455556                 0.0   \n",
       "max      195.590000    927.000000         84.367361                 0.0   \n",
       "\n",
       "             weight  gcs_eyes_apache  ...  intubated_apache  \\\n",
       "count  11688.000000     11635.000000  ...      11891.000000   \n",
       "mean      82.356521         3.141040  ...          0.240854   \n",
       "std       25.444190         1.186044  ...          0.427620   \n",
       "min       38.600000         1.000000  ...          0.000000   \n",
       "25%       64.800000         2.000000  ...          0.000000   \n",
       "50%       78.700000         4.000000  ...          0.000000   \n",
       "75%       95.300000         4.000000  ...          0.000000   \n",
       "max      186.000000         4.000000  ...          1.000000   \n",
       "\n",
       "       ventilated_apache          aids     cirrhosis  diabetes_mellitus  \\\n",
       "count       11891.000000  11891.000000  11891.000000       11891.000000   \n",
       "mean            0.478597      0.000841      0.021445           0.219073   \n",
       "std             0.499563      0.028989      0.144868           0.413636   \n",
       "min             0.000000      0.000000      0.000000           0.000000   \n",
       "25%             0.000000      0.000000      0.000000           0.000000   \n",
       "50%             0.000000      0.000000      0.000000           0.000000   \n",
       "75%             1.000000      0.000000      0.000000           0.000000   \n",
       "max             1.000000      1.000000      1.000000           1.000000   \n",
       "\n",
       "       hepatic_failure  immunosuppression      leukemia      lymphoma  \\\n",
       "count     11891.000000       11891.000000  11891.000000  11891.000000   \n",
       "mean          0.017576           0.036078      0.010512      0.007064   \n",
       "std           0.131411           0.186491      0.101993      0.083755   \n",
       "min           0.000000           0.000000      0.000000      0.000000   \n",
       "25%           0.000000           0.000000      0.000000      0.000000   \n",
       "50%           0.000000           0.000000      0.000000      0.000000   \n",
       "75%           0.000000           0.000000      0.000000      0.000000   \n",
       "max           1.000000           1.000000      1.000000      1.000000   \n",
       "\n",
       "       solid_tumor_with_metastasis  \n",
       "count                 11891.000000  \n",
       "mean                      0.030443  \n",
       "std                       0.171811  \n",
       "min                       0.000000  \n",
       "25%                       0.000000  \n",
       "50%                       0.000000  \n",
       "75%                       0.000000  \n",
       "max                       1.000000  \n",
       "\n",
       "[8 rows x 23 columns]"
      ]
     },
     "metadata": {},
     "output_type": "display_data"
    },
    {
     "name": "stdout",
     "output_type": "stream",
     "text": [
      "\n",
      "Checking Missing Values:\n",
      "Column \"age\" has 772 missing values (6.43%)\n",
      "Column \"bmi\" has 444 missing values (3.70%)\n",
      "Column \"ethnicity\" has 230 missing values (1.92%)\n",
      "Column \"gender\" has 6 missing values (0.05%)\n",
      "Column \"height\" has 234 missing values (1.95%)\n",
      "Column \"hospital_admit_source\" has 2156 missing values (17.97%)\n",
      "Column \"icu_admit_source\" has 11 missing values (0.09%)\n",
      "Column \"weight\" has 313 missing values (2.61%)\n",
      "Column \"gcs_eyes_apache\" has 366 missing values (3.05%)\n",
      "Column \"gcs_motor_apache\" has 366 missing values (3.05%)\n",
      "Column \"gcs_unable_apache\" has 170 missing values (1.42%)\n",
      "Column \"gcs_verbal_apache\" has 366 missing values (3.05%)\n",
      "Column \"intubated_apache\" has 110 missing values (0.92%)\n",
      "Column \"ventilated_apache\" has 110 missing values (0.92%)\n",
      "Column \"aids\" has 110 missing values (0.92%)\n",
      "Column \"cirrhosis\" has 110 missing values (0.92%)\n",
      "Column \"diabetes_mellitus\" has 110 missing values (0.92%)\n",
      "Column \"hepatic_failure\" has 110 missing values (0.92%)\n",
      "Column \"immunosuppression\" has 110 missing values (0.92%)\n",
      "Column \"leukemia\" has 110 missing values (0.92%)\n",
      "Column \"lymphoma\" has 110 missing values (0.92%)\n",
      "Column \"solid_tumor_with_metastasis\" has 110 missing values (0.92%)\n",
      "Column \"apache_3j_bodysystem\" has 218 missing values (1.82%)\n",
      "Column \"apache_2_bodysystem\" has 218 missing values (1.82%)\n",
      "\n",
      "Checking Linear Correlation:\n",
      "Linear Correlation found between columns weight and bmi -> Pearson coef. = 0.89\n",
      "Linear Correlation found between columns gcs_motor_apache and gcs_eyes_apache -> Pearson coef. = 0.85\n",
      "Linear Correlation found between columns gcs_verbal_apache and gcs_eyes_apache -> Pearson coef. = 0.83\n",
      "Linear Correlation found between columns gcs_verbal_apache and gcs_motor_apache -> Pearson coef. = 0.77\n",
      "time: 136 ms (started: 2022-12-05 10:20:05 -05:00)\n"
     ]
    },
    {
     "name": "stderr",
     "output_type": "stream",
     "text": [
      "/var/folders/sm/nxgvg94n5kgbj5lyrcs8lk6w0000gn/T/ipykernel_43819/1137909244.py:52: FutureWarning: The default value of numeric_only in DataFrame.corr is deprecated. In a future version, it will default to False. Select only valid columns or specify the value of numeric_only to silence this warning.\n",
      "  df_corr = df.corr() # Correlation DataFrame\n"
     ]
    }
   ],
   "source": [
    "analyse_df(data)"
   ]
  },
  {
   "cell_type": "code",
   "execution_count": 10,
   "metadata": {
    "colab": {
     "base_uri": "https://localhost:8080/"
    },
    "id": "ieGO_Gqf4r2W",
    "outputId": "4b77f56e-ce10-4a97-be77-daf102535c8f"
   },
   "outputs": [
    {
     "name": "stdout",
     "output_type": "stream",
     "text": [
      "time: 5.26 ms (started: 2022-12-05 10:20:05 -05:00)\n"
     ]
    }
   ],
   "source": [
    "# Drop the following features (reason)\n",
    "# hospital_admit_source (over 20K missing values)\n",
    "data.drop(['hospital_admit_source'],axis =1, inplace = True)"
   ]
  },
  {
   "cell_type": "code",
   "execution_count": 11,
   "metadata": {
    "colab": {
     "base_uri": "https://localhost:8080/"
    },
    "id": "jGACFY9Q40Sm",
    "outputId": "06caae46-58b5-41fa-a3e4-d48774f49ebf"
   },
   "outputs": [
    {
     "name": "stdout",
     "output_type": "stream",
     "text": [
      "time: 3.96 ms (started: 2022-12-05 10:20:05 -05:00)\n"
     ]
    }
   ],
   "source": [
    "# Drop rows where \"pre_icu_los_days\" <0\n",
    "data=data[data.pre_icu_los_days >=0]"
   ]
  },
  {
   "cell_type": "code",
   "execution_count": 12,
   "metadata": {
    "colab": {
     "base_uri": "https://localhost:8080/"
    },
    "id": "TyzvBf0145CW",
    "outputId": "ccab3438-68fa-4f9d-94ff-0fb28853dce3"
   },
   "outputs": [
    {
     "name": "stdout",
     "output_type": "stream",
     "text": [
      "time: 17.1 ms (started: 2022-12-05 10:20:05 -05:00)\n"
     ]
    }
   ],
   "source": [
    "# Drop rows that have 2 or more missing values\n",
    "df = data\n",
    "df = df[df.isnull().sum(axis=1) < 2]"
   ]
  },
  {
   "cell_type": "code",
   "execution_count": 13,
   "metadata": {
    "colab": {
     "base_uri": "https://localhost:8080/"
    },
    "id": "ngeAJFky3-MU",
    "outputId": "69da55c3-fd97-4820-9a94-0114185683a0"
   },
   "outputs": [
    {
     "data": {
      "text/plain": [
       "hospital_death                    2\n",
       "age                              74\n",
       "bmi                            8100\n",
       "elective_surgery                  2\n",
       "ethnicity                         6\n",
       "gender                            2\n",
       "height                          190\n",
       "icu_admit_source                  5\n",
       "icu_id                          204\n",
       "icu_stay_type                     3\n",
       "icu_type                          8\n",
       "pre_icu_los_days               2939\n",
       "readmission_status                1\n",
       "weight                         1633\n",
       "gcs_eyes_apache                   4\n",
       "gcs_motor_apache                  6\n",
       "gcs_unable_apache                 1\n",
       "gcs_verbal_apache                 5\n",
       "intubated_apache                  2\n",
       "ventilated_apache                 2\n",
       "aids                              2\n",
       "cirrhosis                         2\n",
       "diabetes_mellitus                 2\n",
       "hepatic_failure                   2\n",
       "immunosuppression                 2\n",
       "leukemia                          2\n",
       "lymphoma                          2\n",
       "solid_tumor_with_metastasis       2\n",
       "apache_3j_bodysystem             11\n",
       "apache_2_bodysystem              10\n",
       "dtype: int64"
      ]
     },
     "execution_count": 13,
     "metadata": {},
     "output_type": "execute_result"
    },
    {
     "name": "stdout",
     "output_type": "stream",
     "text": [
      "time: 42 ms (started: 2022-12-05 10:20:05 -05:00)\n"
     ]
    }
   ],
   "source": [
    "#Check for features with no variance\n",
    "df.nunique()"
   ]
  },
  {
   "cell_type": "code",
   "execution_count": 14,
   "metadata": {
    "colab": {
     "base_uri": "https://localhost:8080/"
    },
    "id": "vLk-eNrY5OcX",
    "outputId": "3d373c56-0f21-4ae2-8202-92000710927b"
   },
   "outputs": [
    {
     "name": "stdout",
     "output_type": "stream",
     "text": [
      "time: 6.12 ms (started: 2022-12-05 10:20:05 -05:00)\n"
     ]
    }
   ],
   "source": [
    "# Drop feature gcs_unable_apache and readmission_status (all values are the same)\n",
    "df1 = df.copy()\n",
    "df1.drop(['gcs_unable_apache','readmission_status'],axis =1, inplace = True)"
   ]
  },
  {
   "cell_type": "code",
   "execution_count": 15,
   "metadata": {
    "colab": {
     "base_uri": "https://localhost:8080/"
    },
    "id": "OamqprK36drS",
    "outputId": "bc4d6783-70e2-44b6-d5b7-942185e3435c"
   },
   "outputs": [
    {
     "data": {
      "text/plain": [
       "hospital_death                   0\n",
       "age                              0\n",
       "bmi                              0\n",
       "elective_surgery                 0\n",
       "ethnicity                      185\n",
       "gender                           0\n",
       "height                           0\n",
       "icu_admit_source                 6\n",
       "icu_id                           0\n",
       "icu_stay_type                    0\n",
       "icu_type                         0\n",
       "pre_icu_los_days                 0\n",
       "weight                           0\n",
       "gcs_eyes_apache                  0\n",
       "gcs_motor_apache                 0\n",
       "gcs_verbal_apache                0\n",
       "intubated_apache                 0\n",
       "ventilated_apache                0\n",
       "aids                             0\n",
       "cirrhosis                        0\n",
       "diabetes_mellitus                0\n",
       "hepatic_failure                  0\n",
       "immunosuppression                0\n",
       "leukemia                         0\n",
       "lymphoma                         0\n",
       "solid_tumor_with_metastasis      0\n",
       "apache_3j_bodysystem             0\n",
       "apache_2_bodysystem              0\n",
       "dtype: int64"
      ]
     },
     "execution_count": 15,
     "metadata": {},
     "output_type": "execute_result"
    },
    {
     "name": "stdout",
     "output_type": "stream",
     "text": [
      "time: 30.4 ms (started: 2022-12-05 10:20:05 -05:00)\n"
     ]
    }
   ],
   "source": [
    "imputer = SimpleImputer(strategy='mean', missing_values=np.nan)\n",
    "imputer = imputer.fit(df1[['age']])\n",
    "df1[['age']] = imputer.transform(df1[['age']])\n",
    "df1.isnull().sum()"
   ]
  },
  {
   "cell_type": "code",
   "execution_count": 16,
   "metadata": {
    "colab": {
     "base_uri": "https://localhost:8080/"
    },
    "id": "fvvdBuHa6rXb",
    "outputId": "e59f6b90-76fe-46b9-977e-0fe202bfd885"
   },
   "outputs": [
    {
     "data": {
      "text/plain": [
       "hospital_death                 0\n",
       "age                            0\n",
       "bmi                            0\n",
       "elective_surgery               0\n",
       "ethnicity                      0\n",
       "gender                         0\n",
       "height                         0\n",
       "icu_admit_source               0\n",
       "icu_id                         0\n",
       "icu_stay_type                  0\n",
       "icu_type                       0\n",
       "pre_icu_los_days               0\n",
       "weight                         0\n",
       "gcs_eyes_apache                0\n",
       "gcs_motor_apache               0\n",
       "gcs_verbal_apache              0\n",
       "intubated_apache               0\n",
       "ventilated_apache              0\n",
       "aids                           0\n",
       "cirrhosis                      0\n",
       "diabetes_mellitus              0\n",
       "hepatic_failure                0\n",
       "immunosuppression              0\n",
       "leukemia                       0\n",
       "lymphoma                       0\n",
       "solid_tumor_with_metastasis    0\n",
       "apache_3j_bodysystem           0\n",
       "apache_2_bodysystem            0\n",
       "dtype: int64"
      ]
     },
     "execution_count": 16,
     "metadata": {},
     "output_type": "execute_result"
    },
    {
     "name": "stdout",
     "output_type": "stream",
     "text": [
      "time: 26.5 ms (started: 2022-12-05 10:20:05 -05:00)\n"
     ]
    }
   ],
   "source": [
    "imputer = SimpleImputer(strategy='most_frequent', missing_values=np.nan)\n",
    "imputer = imputer.fit(df1[['ethnicity','gender','icu_admit_source']])\n",
    "df1[['ethnicity','gender','icu_admit_source']] = imputer.transform(df[['ethnicity','gender','icu_admit_source']])\n",
    "df1.isnull().sum()"
   ]
  },
  {
   "cell_type": "code",
   "execution_count": 17,
   "metadata": {
    "colab": {
     "base_uri": "https://localhost:8080/"
    },
    "id": "FnNAavyjD43U",
    "outputId": "255fb91a-5ddf-4a26-eb9d-6f1d85e8341e"
   },
   "outputs": [
    {
     "name": "stdout",
     "output_type": "stream",
     "text": [
      "time: 2.61 ms (started: 2022-12-05 10:20:05 -05:00)\n"
     ]
    }
   ],
   "source": [
    "# Column apache_2_bodysystem has values 'Undefined Diagnoses' and 'Undefined diagnoses'.  Change all to 'Undefined diagnoses'\n",
    "df1['apache_2_bodysystem']=df1['apache_2_bodysystem'].replace(['Undefined Diagnoses'],'Undefined diagnoses')"
   ]
  },
  {
   "cell_type": "code",
   "execution_count": 18,
   "metadata": {
    "colab": {
     "base_uri": "https://localhost:8080/"
    },
    "id": "NZpEYTpc7BZM",
    "outputId": "31bfb6d8-7d24-4414-fbed-575ef418e806"
   },
   "outputs": [
    {
     "data": {
      "text/plain": [
       "0    5690\n",
       "1    5420\n",
       "Name: hospital_death, dtype: int64"
      ]
     },
     "execution_count": 18,
     "metadata": {},
     "output_type": "execute_result"
    },
    {
     "name": "stdout",
     "output_type": "stream",
     "text": [
      "time: 3.67 ms (started: 2022-12-05 10:20:05 -05:00)\n"
     ]
    }
   ],
   "source": [
    "df1['hospital_death'].value_counts()"
   ]
  },
  {
   "cell_type": "code",
   "execution_count": 19,
   "metadata": {
    "colab": {
     "base_uri": "https://localhost:8080/",
     "height": 320
    },
    "id": "ehgts3zB7l4l",
    "outputId": "0582858e-e897-47d0-feb0-9244ea5c8838"
   },
   "outputs": [
    {
     "data": {
      "image/png": "[encoded data removed]",
      "text/plain": [
       "<Figure size 432x288 with 1 Axes>"
      ]
     },
     "metadata": {
      "needs_background": "light"
     },
     "output_type": "display_data"
    },
    {
     "data": {
      "text/plain": [
       "<Figure size 432x288 with 0 Axes>"
      ]
     },
     "metadata": {},
     "output_type": "display_data"
    },
    {
     "name": "stdout",
     "output_type": "stream",
     "text": [
      "time: 246 ms (started: 2022-12-05 10:20:05 -05:00)\n"
     ]
    }
   ],
   "source": [
    "sns.countplot(x='hospital_death',data=df,palette='hls')\n",
    "plt.show()\n",
    "plt.savefig('count_plot')"
   ]
  },
  {
   "cell_type": "code",
   "execution_count": 20,
   "metadata": {
    "colab": {
     "base_uri": "https://localhost:8080/"
    },
    "id": "lMjfaTnM7yKv",
    "outputId": "cff44908-5008-4447-e3f7-7d7054bdceef"
   },
   "outputs": [
    {
     "name": "stdout",
     "output_type": "stream",
     "text": [
      "percentage of 'patients did not die'is 51.21512151215122\n",
      "percentage of 'patients died' is 48.784878487848786\n",
      "time: 6.45 ms (started: 2022-12-05 10:20:05 -05:00)\n"
     ]
    }
   ],
   "source": [
    "count_no_died = len(df1[df1['hospital_death']==0])\n",
    "count_died = len(df1[df1['hospital_death']==1])\n",
    "pct_of_no_died = count_no_died/(count_no_died+count_died)\n",
    "print(\"percentage of 'patients did not die'is\", pct_of_no_died*100)\n",
    "pct_of_died = count_died/(count_no_died+count_died)\n",
    "print(\"percentage of 'patients died' is\", pct_of_died*100)"
   ]
  },
  {
   "cell_type": "code",
   "execution_count": 21,
   "metadata": {
    "colab": {
     "base_uri": "https://localhost:8080/",
     "height": 318
    },
    "id": "KcS2sPphFapH",
    "outputId": "546199e8-3132-4229-aefb-79d4e106e501"
   },
   "outputs": [
    {
     "data": {
      "image/png": "[encoded data removed]",
      "text/plain": [
       "<Figure size 432x288 with 1 Axes>"
      ]
     },
     "metadata": {
      "needs_background": "light"
     },
     "output_type": "display_data"
    },
    {
     "name": "stdout",
     "output_type": "stream",
     "text": [
      "time: 345 ms (started: 2022-12-05 10:20:05 -05:00)\n"
     ]
    }
   ],
   "source": [
    "df1.age.hist()\n",
    "plt.title('Histogram of Patient Age')\n",
    "plt.xlabel('Age')\n",
    "plt.ylabel('Frequency')\n",
    "plt.savefig('hist_age')"
   ]
  },
  {
   "cell_type": "code",
   "execution_count": 22,
   "metadata": {
    "colab": {
     "base_uri": "https://localhost:8080/",
     "height": 225
    },
    "id": "JYPiRllx72oO",
    "outputId": "75b3401a-f067-4693-8827-a2a2c7cf801d"
   },
   "outputs": [
    {
     "name": "stderr",
     "output_type": "stream",
     "text": [
      "/var/folders/sm/nxgvg94n5kgbj5lyrcs8lk6w0000gn/T/ipykernel_43819/2519479207.py:1: FutureWarning: The default value of numeric_only in DataFrameGroupBy.mean is deprecated. In a future version, numeric_only will default to False. Either specify numeric_only or select only columns which should be valid for the function.\n",
      "  df1.groupby('hospital_death').mean()\n"
     ]
    },
    {
     "data": {
      "text/html": [
       "<div>\n",
       "<style scoped>\n",
       "    .dataframe tbody tr th:only-of-type {\n",
       "        vertical-align: middle;\n",
       "    }\n",
       "\n",
       "    .dataframe tbody tr th {\n",
       "        vertical-align: top;\n",
       "    }\n",
       "\n",
       "    .dataframe thead th {\n",
       "        text-align: right;\n",
       "    }\n",
       "</style>\n",
       "<table border=\"1\" class=\"dataframe\">\n",
       "  <thead>\n",
       "    <tr style=\"text-align: right;\">\n",
       "      <th></th>\n",
       "      <th>age</th>\n",
       "      <th>bmi</th>\n",
       "      <th>elective_surgery</th>\n",
       "      <th>height</th>\n",
       "      <th>icu_id</th>\n",
       "      <th>pre_icu_los_days</th>\n",
       "      <th>weight</th>\n",
       "      <th>gcs_eyes_apache</th>\n",
       "      <th>gcs_motor_apache</th>\n",
       "      <th>gcs_verbal_apache</th>\n",
       "      <th>intubated_apache</th>\n",
       "      <th>ventilated_apache</th>\n",
       "      <th>aids</th>\n",
       "      <th>cirrhosis</th>\n",
       "      <th>diabetes_mellitus</th>\n",
       "      <th>hepatic_failure</th>\n",
       "      <th>immunosuppression</th>\n",
       "      <th>leukemia</th>\n",
       "      <th>lymphoma</th>\n",
       "      <th>solid_tumor_with_metastasis</th>\n",
       "    </tr>\n",
       "    <tr>\n",
       "      <th>hospital_death</th>\n",
       "      <th></th>\n",
       "      <th></th>\n",
       "      <th></th>\n",
       "      <th></th>\n",
       "      <th></th>\n",
       "      <th></th>\n",
       "      <th></th>\n",
       "      <th></th>\n",
       "      <th></th>\n",
       "      <th></th>\n",
       "      <th></th>\n",
       "      <th></th>\n",
       "      <th></th>\n",
       "      <th></th>\n",
       "      <th></th>\n",
       "      <th></th>\n",
       "      <th></th>\n",
       "      <th></th>\n",
       "      <th></th>\n",
       "      <th></th>\n",
       "    </tr>\n",
       "  </thead>\n",
       "  <tbody>\n",
       "    <tr>\n",
       "      <th>0</th>\n",
       "      <td>60.976740</td>\n",
       "      <td>29.029288</td>\n",
       "      <td>0.173989</td>\n",
       "      <td>170.117587</td>\n",
       "      <td>653.029174</td>\n",
       "      <td>0.718555</td>\n",
       "      <td>84.084285</td>\n",
       "      <td>3.575571</td>\n",
       "      <td>5.600879</td>\n",
       "      <td>4.204921</td>\n",
       "      <td>0.121968</td>\n",
       "      <td>0.289982</td>\n",
       "      <td>0.000351</td>\n",
       "      <td>0.013533</td>\n",
       "      <td>0.240422</td>\n",
       "      <td>0.011072</td>\n",
       "      <td>0.024780</td>\n",
       "      <td>0.005448</td>\n",
       "      <td>0.004921</td>\n",
       "      <td>0.017575</td>\n",
       "    </tr>\n",
       "    <tr>\n",
       "      <th>1</th>\n",
       "      <td>68.436431</td>\n",
       "      <td>28.235569</td>\n",
       "      <td>0.060886</td>\n",
       "      <td>168.811629</td>\n",
       "      <td>512.463653</td>\n",
       "      <td>1.343564</td>\n",
       "      <td>80.496544</td>\n",
       "      <td>2.698339</td>\n",
       "      <td>4.332472</td>\n",
       "      <td>2.811624</td>\n",
       "      <td>0.355720</td>\n",
       "      <td>0.659225</td>\n",
       "      <td>0.001476</td>\n",
       "      <td>0.030812</td>\n",
       "      <td>0.202399</td>\n",
       "      <td>0.025646</td>\n",
       "      <td>0.048708</td>\n",
       "      <td>0.015683</td>\n",
       "      <td>0.009594</td>\n",
       "      <td>0.043358</td>\n",
       "    </tr>\n",
       "  </tbody>\n",
       "</table>\n",
       "</div>"
      ],
      "text/plain": [
       "                      age        bmi  elective_surgery      height  \\\n",
       "hospital_death                                                       \n",
       "0               60.976740  29.029288          0.173989  170.117587   \n",
       "1               68.436431  28.235569          0.060886  168.811629   \n",
       "\n",
       "                    icu_id  pre_icu_los_days     weight  gcs_eyes_apache  \\\n",
       "hospital_death                                                             \n",
       "0               653.029174          0.718555  84.084285         3.575571   \n",
       "1               512.463653          1.343564  80.496544         2.698339   \n",
       "\n",
       "                gcs_motor_apache  gcs_verbal_apache  intubated_apache  \\\n",
       "hospital_death                                                          \n",
       "0                       5.600879           4.204921          0.121968   \n",
       "1                       4.332472           2.811624          0.355720   \n",
       "\n",
       "                ventilated_apache      aids  cirrhosis  diabetes_mellitus  \\\n",
       "hospital_death                                                              \n",
       "0                        0.289982  0.000351   0.013533           0.240422   \n",
       "1                        0.659225  0.001476   0.030812           0.202399   \n",
       "\n",
       "                hepatic_failure  immunosuppression  leukemia  lymphoma  \\\n",
       "hospital_death                                                           \n",
       "0                      0.011072           0.024780  0.005448  0.004921   \n",
       "1                      0.025646           0.048708  0.015683  0.009594   \n",
       "\n",
       "                solid_tumor_with_metastasis  \n",
       "hospital_death                               \n",
       "0                                  0.017575  \n",
       "1                                  0.043358  "
      ]
     },
     "execution_count": 22,
     "metadata": {},
     "output_type": "execute_result"
    },
    {
     "name": "stdout",
     "output_type": "stream",
     "text": [
      "time: 24.8 ms (started: 2022-12-05 10:20:06 -05:00)\n"
     ]
    }
   ],
   "source": [
    "df1.groupby('hospital_death').mean()"
   ]
  },
  {
   "cell_type": "markdown",
   "metadata": {
    "id": "_dhN2Iee8EvH"
   },
   "source": [
    "Observations:\n",
    "\n",
    "*   The average age of a patient that died is ~6 years older than that of one that does not die.\n",
    "*   The 3 gcs scores are all lower for patients that died vs. did not die (the higher the gcs score, (generally) the healthier the patient).\n",
    "*   Patients that died are more likely to have been either intubated or ventilated than patients that did not die.\n",
    "\n",
    "\n",
    "\n",
    "\n"
   ]
  },
  {
   "cell_type": "code",
   "execution_count": 23,
   "metadata": {
    "colab": {
     "base_uri": "https://localhost:8080/",
     "height": 349
    },
    "id": "x5tD3lD4DuuG",
    "outputId": "995c60fd-a9cf-4799-efa1-e152b40cd886"
   },
   "outputs": [
    {
     "data": {
      "text/html": [
       "<div>\n",
       "<style scoped>\n",
       "    .dataframe tbody tr th:only-of-type {\n",
       "        vertical-align: middle;\n",
       "    }\n",
       "\n",
       "    .dataframe tbody tr th {\n",
       "        vertical-align: top;\n",
       "    }\n",
       "\n",
       "    .dataframe thead th {\n",
       "        text-align: right;\n",
       "    }\n",
       "</style>\n",
       "<table border=\"1\" class=\"dataframe\">\n",
       "  <thead>\n",
       "    <tr style=\"text-align: right;\">\n",
       "      <th>hospital_death</th>\n",
       "      <th>0</th>\n",
       "      <th>1</th>\n",
       "    </tr>\n",
       "    <tr>\n",
       "      <th>age</th>\n",
       "      <th></th>\n",
       "      <th></th>\n",
       "    </tr>\n",
       "  </thead>\n",
       "  <tbody>\n",
       "    <tr>\n",
       "      <th>(16.0, 20.0]</th>\n",
       "      <td>95</td>\n",
       "      <td>20</td>\n",
       "    </tr>\n",
       "    <tr>\n",
       "      <th>(20.0, 30.0]</th>\n",
       "      <td>323</td>\n",
       "      <td>78</td>\n",
       "    </tr>\n",
       "    <tr>\n",
       "      <th>(30.0, 40.0]</th>\n",
       "      <td>361</td>\n",
       "      <td>140</td>\n",
       "    </tr>\n",
       "    <tr>\n",
       "      <th>(40.0, 50.0]</th>\n",
       "      <td>548</td>\n",
       "      <td>291</td>\n",
       "    </tr>\n",
       "    <tr>\n",
       "      <th>(50.0, 60.0]</th>\n",
       "      <td>1104</td>\n",
       "      <td>721</td>\n",
       "    </tr>\n",
       "    <tr>\n",
       "      <th>(60.0, 70.0]</th>\n",
       "      <td>1238</td>\n",
       "      <td>1175</td>\n",
       "    </tr>\n",
       "    <tr>\n",
       "      <th>(70.0, 80.0]</th>\n",
       "      <td>1126</td>\n",
       "      <td>1427</td>\n",
       "    </tr>\n",
       "    <tr>\n",
       "      <th>(80.0, inf]</th>\n",
       "      <td>690</td>\n",
       "      <td>1162</td>\n",
       "    </tr>\n",
       "  </tbody>\n",
       "</table>\n",
       "</div>"
      ],
      "text/plain": [
       "hospital_death     0     1\n",
       "age                       \n",
       "(16.0, 20.0]      95    20\n",
       "(20.0, 30.0]     323    78\n",
       "(30.0, 40.0]     361   140\n",
       "(40.0, 50.0]     548   291\n",
       "(50.0, 60.0]    1104   721\n",
       "(60.0, 70.0]    1238  1175\n",
       "(70.0, 80.0]    1126  1427\n",
       "(80.0, inf]      690  1162"
      ]
     },
     "execution_count": 23,
     "metadata": {},
     "output_type": "execute_result"
    },
    {
     "name": "stdout",
     "output_type": "stream",
     "text": [
      "time: 150 ms (started: 2022-12-05 10:20:06 -05:00)\n"
     ]
    }
   ],
   "source": [
    "pd.cut(df1['age'],bins=[16,20,30,40,50,60,70,80,np.inf])\n",
    "age_groups = pd.cut(data['age'], bins=[16,20,30,40,50,60,70,80,np.inf])\n",
    "pd.crosstab(age_groups, df1['hospital_death'])"
   ]
  },
  {
   "cell_type": "code",
   "execution_count": 24,
   "metadata": {
    "colab": {
     "base_uri": "https://localhost:8080/",
     "height": 537
    },
    "id": "Au_mLwKvDm8g",
    "outputId": "8bc43da1-8be2-455d-d81b-7d915fbf3729"
   },
   "outputs": [
    {
     "data": {
      "text/plain": [
       "<AxesSubplot:xlabel='age', ylabel='Density'>"
      ]
     },
     "execution_count": 24,
     "metadata": {},
     "output_type": "execute_result"
    },
    {
     "data": {
      "image/png": "[encoded data removed]",
      "text/plain": [
       "<Figure size 864x576 with 1 Axes>"
      ]
     },
     "metadata": {
      "needs_background": "light"
     },
     "output_type": "display_data"
    },
    {
     "name": "stdout",
     "output_type": "stream",
     "text": [
      "time: 326 ms (started: 2022-12-05 10:20:06 -05:00)\n"
     ]
    }
   ],
   "source": [
    "# Outcome (patient died / patient did not die) density by age\n",
    "plt.figure(figsize=(12,8))\n",
    "sns.kdeplot(data=df1,x='age',hue='hospital_death',fill=True)"
   ]
  },
  {
   "cell_type": "code",
   "execution_count": 25,
   "metadata": {
    "colab": {
     "base_uri": "https://localhost:8080/",
     "height": 414
    },
    "id": "SGRRtP46-Yai",
    "outputId": "36faf6c5-481e-4961-b407-bbebade7d786"
   },
   "outputs": [
    {
     "name": "stderr",
     "output_type": "stream",
     "text": [
      "/var/folders/sm/nxgvg94n5kgbj5lyrcs8lk6w0000gn/T/ipykernel_43819/4272701175.py:1: FutureWarning: The default value of numeric_only in DataFrameGroupBy.mean is deprecated. In a future version, numeric_only will default to False. Either specify numeric_only or select only columns which should be valid for the function.\n",
      "  df1.groupby('ethnicity').mean()\n"
     ]
    },
    {
     "data": {
      "text/html": [
       "<div>\n",
       "<style scoped>\n",
       "    .dataframe tbody tr th:only-of-type {\n",
       "        vertical-align: middle;\n",
       "    }\n",
       "\n",
       "    .dataframe tbody tr th {\n",
       "        vertical-align: top;\n",
       "    }\n",
       "\n",
       "    .dataframe thead th {\n",
       "        text-align: right;\n",
       "    }\n",
       "</style>\n",
       "<table border=\"1\" class=\"dataframe\">\n",
       "  <thead>\n",
       "    <tr style=\"text-align: right;\">\n",
       "      <th></th>\n",
       "      <th>hospital_death</th>\n",
       "      <th>age</th>\n",
       "      <th>bmi</th>\n",
       "      <th>elective_surgery</th>\n",
       "      <th>height</th>\n",
       "      <th>icu_id</th>\n",
       "      <th>pre_icu_los_days</th>\n",
       "      <th>weight</th>\n",
       "      <th>gcs_eyes_apache</th>\n",
       "      <th>gcs_motor_apache</th>\n",
       "      <th>...</th>\n",
       "      <th>intubated_apache</th>\n",
       "      <th>ventilated_apache</th>\n",
       "      <th>aids</th>\n",
       "      <th>cirrhosis</th>\n",
       "      <th>diabetes_mellitus</th>\n",
       "      <th>hepatic_failure</th>\n",
       "      <th>immunosuppression</th>\n",
       "      <th>leukemia</th>\n",
       "      <th>lymphoma</th>\n",
       "      <th>solid_tumor_with_metastasis</th>\n",
       "    </tr>\n",
       "    <tr>\n",
       "      <th>ethnicity</th>\n",
       "      <th></th>\n",
       "      <th></th>\n",
       "      <th></th>\n",
       "      <th></th>\n",
       "      <th></th>\n",
       "      <th></th>\n",
       "      <th></th>\n",
       "      <th></th>\n",
       "      <th></th>\n",
       "      <th></th>\n",
       "      <th></th>\n",
       "      <th></th>\n",
       "      <th></th>\n",
       "      <th></th>\n",
       "      <th></th>\n",
       "      <th></th>\n",
       "      <th></th>\n",
       "      <th></th>\n",
       "      <th></th>\n",
       "      <th></th>\n",
       "      <th></th>\n",
       "    </tr>\n",
       "  </thead>\n",
       "  <tbody>\n",
       "    <tr>\n",
       "      <th>African American</th>\n",
       "      <td>0.488500</td>\n",
       "      <td>58.717731</td>\n",
       "      <td>29.395248</td>\n",
       "      <td>0.081877</td>\n",
       "      <td>170.646983</td>\n",
       "      <td>554.935603</td>\n",
       "      <td>1.287564</td>\n",
       "      <td>85.264719</td>\n",
       "      <td>3.099356</td>\n",
       "      <td>4.878565</td>\n",
       "      <td>...</td>\n",
       "      <td>0.272309</td>\n",
       "      <td>0.471941</td>\n",
       "      <td>0.000000</td>\n",
       "      <td>0.019319</td>\n",
       "      <td>0.258510</td>\n",
       "      <td>0.011960</td>\n",
       "      <td>0.042318</td>\n",
       "      <td>0.011960</td>\n",
       "      <td>0.004600</td>\n",
       "      <td>0.029439</td>\n",
       "    </tr>\n",
       "    <tr>\n",
       "      <th>Asian</th>\n",
       "      <td>0.450617</td>\n",
       "      <td>63.658615</td>\n",
       "      <td>24.817440</td>\n",
       "      <td>0.092593</td>\n",
       "      <td>163.482716</td>\n",
       "      <td>555.901235</td>\n",
       "      <td>0.998645</td>\n",
       "      <td>66.612963</td>\n",
       "      <td>3.314815</td>\n",
       "      <td>5.086420</td>\n",
       "      <td>...</td>\n",
       "      <td>0.166667</td>\n",
       "      <td>0.382716</td>\n",
       "      <td>0.000000</td>\n",
       "      <td>0.037037</td>\n",
       "      <td>0.240741</td>\n",
       "      <td>0.018519</td>\n",
       "      <td>0.024691</td>\n",
       "      <td>0.012346</td>\n",
       "      <td>0.012346</td>\n",
       "      <td>0.030864</td>\n",
       "    </tr>\n",
       "    <tr>\n",
       "      <th>Caucasian</th>\n",
       "      <td>0.473690</td>\n",
       "      <td>65.523410</td>\n",
       "      <td>28.705805</td>\n",
       "      <td>0.127536</td>\n",
       "      <td>169.750429</td>\n",
       "      <td>596.189075</td>\n",
       "      <td>0.966482</td>\n",
       "      <td>82.783697</td>\n",
       "      <td>3.167113</td>\n",
       "      <td>5.022520</td>\n",
       "      <td>...</td>\n",
       "      <td>0.222854</td>\n",
       "      <td>0.466667</td>\n",
       "      <td>0.000892</td>\n",
       "      <td>0.020624</td>\n",
       "      <td>0.212375</td>\n",
       "      <td>0.017168</td>\n",
       "      <td>0.037793</td>\n",
       "      <td>0.010368</td>\n",
       "      <td>0.007804</td>\n",
       "      <td>0.031104</td>\n",
       "    </tr>\n",
       "    <tr>\n",
       "      <th>Hispanic</th>\n",
       "      <td>0.701493</td>\n",
       "      <td>65.559359</td>\n",
       "      <td>27.138621</td>\n",
       "      <td>0.059701</td>\n",
       "      <td>165.377114</td>\n",
       "      <td>392.902985</td>\n",
       "      <td>1.465630</td>\n",
       "      <td>74.121592</td>\n",
       "      <td>3.097015</td>\n",
       "      <td>4.783582</td>\n",
       "      <td>...</td>\n",
       "      <td>0.375622</td>\n",
       "      <td>0.497512</td>\n",
       "      <td>0.002488</td>\n",
       "      <td>0.039801</td>\n",
       "      <td>0.241294</td>\n",
       "      <td>0.047264</td>\n",
       "      <td>0.012438</td>\n",
       "      <td>0.017413</td>\n",
       "      <td>0.004975</td>\n",
       "      <td>0.027363</td>\n",
       "    </tr>\n",
       "    <tr>\n",
       "      <th>Native American</th>\n",
       "      <td>0.623188</td>\n",
       "      <td>57.443709</td>\n",
       "      <td>29.193167</td>\n",
       "      <td>0.101449</td>\n",
       "      <td>169.550435</td>\n",
       "      <td>572.521739</td>\n",
       "      <td>1.229509</td>\n",
       "      <td>84.702319</td>\n",
       "      <td>2.550725</td>\n",
       "      <td>4.231884</td>\n",
       "      <td>...</td>\n",
       "      <td>0.362319</td>\n",
       "      <td>0.550725</td>\n",
       "      <td>0.000000</td>\n",
       "      <td>0.101449</td>\n",
       "      <td>0.391304</td>\n",
       "      <td>0.101449</td>\n",
       "      <td>0.000000</td>\n",
       "      <td>0.000000</td>\n",
       "      <td>0.000000</td>\n",
       "      <td>0.014493</td>\n",
       "    </tr>\n",
       "    <tr>\n",
       "      <th>Other/Unknown</th>\n",
       "      <td>0.576190</td>\n",
       "      <td>61.144703</td>\n",
       "      <td>28.155355</td>\n",
       "      <td>0.097619</td>\n",
       "      <td>166.925476</td>\n",
       "      <td>606.550000</td>\n",
       "      <td>1.109448</td>\n",
       "      <td>78.680238</td>\n",
       "      <td>2.938095</td>\n",
       "      <td>4.659524</td>\n",
       "      <td>...</td>\n",
       "      <td>0.295238</td>\n",
       "      <td>0.533333</td>\n",
       "      <td>0.002381</td>\n",
       "      <td>0.021429</td>\n",
       "      <td>0.276190</td>\n",
       "      <td>0.014286</td>\n",
       "      <td>0.026190</td>\n",
       "      <td>0.002381</td>\n",
       "      <td>0.002381</td>\n",
       "      <td>0.016667</td>\n",
       "    </tr>\n",
       "  </tbody>\n",
       "</table>\n",
       "<p>6 rows × 21 columns</p>\n",
       "</div>"
      ],
      "text/plain": [
       "                  hospital_death        age        bmi  elective_surgery  \\\n",
       "ethnicity                                                                  \n",
       "African American        0.488500  58.717731  29.395248          0.081877   \n",
       "Asian                   0.450617  63.658615  24.817440          0.092593   \n",
       "Caucasian               0.473690  65.523410  28.705805          0.127536   \n",
       "Hispanic                0.701493  65.559359  27.138621          0.059701   \n",
       "Native American         0.623188  57.443709  29.193167          0.101449   \n",
       "Other/Unknown           0.576190  61.144703  28.155355          0.097619   \n",
       "\n",
       "                      height      icu_id  pre_icu_los_days     weight  \\\n",
       "ethnicity                                                               \n",
       "African American  170.646983  554.935603          1.287564  85.264719   \n",
       "Asian             163.482716  555.901235          0.998645  66.612963   \n",
       "Caucasian         169.750429  596.189075          0.966482  82.783697   \n",
       "Hispanic          165.377114  392.902985          1.465630  74.121592   \n",
       "Native American   169.550435  572.521739          1.229509  84.702319   \n",
       "Other/Unknown     166.925476  606.550000          1.109448  78.680238   \n",
       "\n",
       "                  gcs_eyes_apache  gcs_motor_apache  ...  intubated_apache  \\\n",
       "ethnicity                                            ...                     \n",
       "African American         3.099356          4.878565  ...          0.272309   \n",
       "Asian                    3.314815          5.086420  ...          0.166667   \n",
       "Caucasian                3.167113          5.022520  ...          0.222854   \n",
       "Hispanic                 3.097015          4.783582  ...          0.375622   \n",
       "Native American          2.550725          4.231884  ...          0.362319   \n",
       "Other/Unknown            2.938095          4.659524  ...          0.295238   \n",
       "\n",
       "                  ventilated_apache      aids  cirrhosis  diabetes_mellitus  \\\n",
       "ethnicity                                                                     \n",
       "African American           0.471941  0.000000   0.019319           0.258510   \n",
       "Asian                      0.382716  0.000000   0.037037           0.240741   \n",
       "Caucasian                  0.466667  0.000892   0.020624           0.212375   \n",
       "Hispanic                   0.497512  0.002488   0.039801           0.241294   \n",
       "Native American            0.550725  0.000000   0.101449           0.391304   \n",
       "Other/Unknown              0.533333  0.002381   0.021429           0.276190   \n",
       "\n",
       "                  hepatic_failure  immunosuppression  leukemia  lymphoma  \\\n",
       "ethnicity                                                                  \n",
       "African American         0.011960           0.042318  0.011960  0.004600   \n",
       "Asian                    0.018519           0.024691  0.012346  0.012346   \n",
       "Caucasian                0.017168           0.037793  0.010368  0.007804   \n",
       "Hispanic                 0.047264           0.012438  0.017413  0.004975   \n",
       "Native American          0.101449           0.000000  0.000000  0.000000   \n",
       "Other/Unknown            0.014286           0.026190  0.002381  0.002381   \n",
       "\n",
       "                  solid_tumor_with_metastasis  \n",
       "ethnicity                                      \n",
       "African American                     0.029439  \n",
       "Asian                                0.030864  \n",
       "Caucasian                            0.031104  \n",
       "Hispanic                             0.027363  \n",
       "Native American                      0.014493  \n",
       "Other/Unknown                        0.016667  \n",
       "\n",
       "[6 rows x 21 columns]"
      ]
     },
     "execution_count": 25,
     "metadata": {},
     "output_type": "execute_result"
    },
    {
     "name": "stdout",
     "output_type": "stream",
     "text": [
      "time: 35.7 ms (started: 2022-12-05 10:20:06 -05:00)\n"
     ]
    }
   ],
   "source": [
    "df1.groupby('ethnicity').mean()"
   ]
  },
  {
   "cell_type": "markdown",
   "metadata": {
    "id": "HSu7SQJl_PLC"
   },
   "source": [
    "Observations:\n",
    "\n",
    "*   The average age of a patient varies considerably by ethnicity.\n",
    "*   bmi varies considerably by ethnicity.\n"
   ]
  },
  {
   "cell_type": "code",
   "execution_count": 26,
   "metadata": {
    "colab": {
     "base_uri": "https://localhost:8080/",
     "height": 403
    },
    "id": "lvKLJ1T0D6ww",
    "outputId": "34742ac9-f12e-495f-d390-e9a285cf3c1e"
   },
   "outputs": [
    {
     "data": {
      "image/png": "[encoded data removed]",
      "text/plain": [
       "<Figure size 432x288 with 1 Axes>"
      ]
     },
     "metadata": {
      "needs_background": "light"
     },
     "output_type": "display_data"
    },
    {
     "name": "stdout",
     "output_type": "stream",
     "text": [
      "time: 366 ms (started: 2022-12-05 10:20:06 -05:00)\n"
     ]
    }
   ],
   "source": [
    "# Outcome by ethicity\n",
    "%matplotlib inline\n",
    "pd.crosstab(df1.ethnicity ,df1.hospital_death).plot(kind='bar')\n",
    "plt.title('Outcomes by Ethnicity')\n",
    "plt.xlabel('Ethnicity')\n",
    "plt.ylabel('Frequency of Death')\n",
    "plt.savefig('death_ethnicity')"
   ]
  },
  {
   "cell_type": "code",
   "execution_count": 27,
   "metadata": {
    "colab": {
     "base_uri": "https://localhost:8080/",
     "height": 254
    },
    "id": "sHIQokxo_xcE",
    "outputId": "ea2d780a-52c7-4689-dc0c-0b78bccbd80e"
   },
   "outputs": [
    {
     "name": "stderr",
     "output_type": "stream",
     "text": [
      "/var/folders/sm/nxgvg94n5kgbj5lyrcs8lk6w0000gn/T/ipykernel_43819/1301234238.py:1: FutureWarning: The default value of numeric_only in DataFrameGroupBy.mean is deprecated. In a future version, numeric_only will default to False. Either specify numeric_only or select only columns which should be valid for the function.\n",
      "  df1.groupby('gender').mean()\n"
     ]
    },
    {
     "data": {
      "text/html": [
       "<div>\n",
       "<style scoped>\n",
       "    .dataframe tbody tr th:only-of-type {\n",
       "        vertical-align: middle;\n",
       "    }\n",
       "\n",
       "    .dataframe tbody tr th {\n",
       "        vertical-align: top;\n",
       "    }\n",
       "\n",
       "    .dataframe thead th {\n",
       "        text-align: right;\n",
       "    }\n",
       "</style>\n",
       "<table border=\"1\" class=\"dataframe\">\n",
       "  <thead>\n",
       "    <tr style=\"text-align: right;\">\n",
       "      <th></th>\n",
       "      <th>hospital_death</th>\n",
       "      <th>age</th>\n",
       "      <th>bmi</th>\n",
       "      <th>elective_surgery</th>\n",
       "      <th>height</th>\n",
       "      <th>icu_id</th>\n",
       "      <th>pre_icu_los_days</th>\n",
       "      <th>weight</th>\n",
       "      <th>gcs_eyes_apache</th>\n",
       "      <th>gcs_motor_apache</th>\n",
       "      <th>...</th>\n",
       "      <th>intubated_apache</th>\n",
       "      <th>ventilated_apache</th>\n",
       "      <th>aids</th>\n",
       "      <th>cirrhosis</th>\n",
       "      <th>diabetes_mellitus</th>\n",
       "      <th>hepatic_failure</th>\n",
       "      <th>immunosuppression</th>\n",
       "      <th>leukemia</th>\n",
       "      <th>lymphoma</th>\n",
       "      <th>solid_tumor_with_metastasis</th>\n",
       "    </tr>\n",
       "    <tr>\n",
       "      <th>gender</th>\n",
       "      <th></th>\n",
       "      <th></th>\n",
       "      <th></th>\n",
       "      <th></th>\n",
       "      <th></th>\n",
       "      <th></th>\n",
       "      <th></th>\n",
       "      <th></th>\n",
       "      <th></th>\n",
       "      <th></th>\n",
       "      <th></th>\n",
       "      <th></th>\n",
       "      <th></th>\n",
       "      <th></th>\n",
       "      <th></th>\n",
       "      <th></th>\n",
       "      <th></th>\n",
       "      <th></th>\n",
       "      <th></th>\n",
       "      <th></th>\n",
       "      <th></th>\n",
       "    </tr>\n",
       "  </thead>\n",
       "  <tbody>\n",
       "    <tr>\n",
       "      <th>F</th>\n",
       "      <td>0.493432</td>\n",
       "      <td>65.164779</td>\n",
       "      <td>28.97210</td>\n",
       "      <td>0.116505</td>\n",
       "      <td>161.699448</td>\n",
       "      <td>585.299829</td>\n",
       "      <td>1.040397</td>\n",
       "      <td>75.806884</td>\n",
       "      <td>3.133067</td>\n",
       "      <td>4.972587</td>\n",
       "      <td>...</td>\n",
       "      <td>0.222920</td>\n",
       "      <td>0.466591</td>\n",
       "      <td>0.000381</td>\n",
       "      <td>0.017895</td>\n",
       "      <td>0.215115</td>\n",
       "      <td>0.014468</td>\n",
       "      <td>0.037122</td>\n",
       "      <td>0.010280</td>\n",
       "      <td>0.006092</td>\n",
       "      <td>0.030840</td>\n",
       "    </tr>\n",
       "    <tr>\n",
       "      <th>M</th>\n",
       "      <td>0.482841</td>\n",
       "      <td>64.123702</td>\n",
       "      <td>28.34608</td>\n",
       "      <td>0.120881</td>\n",
       "      <td>176.459092</td>\n",
       "      <td>583.696261</td>\n",
       "      <td>1.008279</td>\n",
       "      <td>88.188030</td>\n",
       "      <td>3.160662</td>\n",
       "      <td>4.990610</td>\n",
       "      <td>...</td>\n",
       "      <td>0.247738</td>\n",
       "      <td>0.473280</td>\n",
       "      <td>0.001366</td>\n",
       "      <td>0.025610</td>\n",
       "      <td>0.227932</td>\n",
       "      <td>0.021513</td>\n",
       "      <td>0.035855</td>\n",
       "      <td>0.010586</td>\n",
       "      <td>0.008195</td>\n",
       "      <td>0.029537</td>\n",
       "    </tr>\n",
       "  </tbody>\n",
       "</table>\n",
       "<p>2 rows × 21 columns</p>\n",
       "</div>"
      ],
      "text/plain": [
       "        hospital_death        age       bmi  elective_surgery      height  \\\n",
       "gender                                                                      \n",
       "F             0.493432  65.164779  28.97210          0.116505  161.699448   \n",
       "M             0.482841  64.123702  28.34608          0.120881  176.459092   \n",
       "\n",
       "            icu_id  pre_icu_los_days     weight  gcs_eyes_apache  \\\n",
       "gender                                                             \n",
       "F       585.299829          1.040397  75.806884         3.133067   \n",
       "M       583.696261          1.008279  88.188030         3.160662   \n",
       "\n",
       "        gcs_motor_apache  ...  intubated_apache  ventilated_apache      aids  \\\n",
       "gender                    ...                                                  \n",
       "F               4.972587  ...          0.222920           0.466591  0.000381   \n",
       "M               4.990610  ...          0.247738           0.473280  0.001366   \n",
       "\n",
       "        cirrhosis  diabetes_mellitus  hepatic_failure  immunosuppression  \\\n",
       "gender                                                                     \n",
       "F        0.017895           0.215115         0.014468           0.037122   \n",
       "M        0.025610           0.227932         0.021513           0.035855   \n",
       "\n",
       "        leukemia  lymphoma  solid_tumor_with_metastasis  \n",
       "gender                                                   \n",
       "F       0.010280  0.006092                     0.030840  \n",
       "M       0.010586  0.008195                     0.029537  \n",
       "\n",
       "[2 rows x 21 columns]"
      ]
     },
     "execution_count": 27,
     "metadata": {},
     "output_type": "execute_result"
    },
    {
     "name": "stdout",
     "output_type": "stream",
     "text": [
      "time: 43.3 ms (started: 2022-12-05 10:20:06 -05:00)\n"
     ]
    }
   ],
   "source": [
    "df1.groupby('gender').mean()"
   ]
  },
  {
   "cell_type": "code",
   "execution_count": 28,
   "metadata": {
    "colab": {
     "base_uri": "https://localhost:8080/",
     "height": 225
    },
    "id": "v4zKN1DtDBxC",
    "outputId": "2782e8b5-f395-4c78-ce49-27c2e5e17ad6"
   },
   "outputs": [
    {
     "name": "stderr",
     "output_type": "stream",
     "text": [
      "/var/folders/sm/nxgvg94n5kgbj5lyrcs8lk6w0000gn/T/ipykernel_43819/3093909503.py:1: FutureWarning: The default value of numeric_only in DataFrameGroupBy.mean is deprecated. In a future version, numeric_only will default to False. Either specify numeric_only or select only columns which should be valid for the function.\n",
      "  df1.groupby('elective_surgery').mean()\n"
     ]
    },
    {
     "data": {
      "text/html": [
       "<div>\n",
       "<style scoped>\n",
       "    .dataframe tbody tr th:only-of-type {\n",
       "        vertical-align: middle;\n",
       "    }\n",
       "\n",
       "    .dataframe tbody tr th {\n",
       "        vertical-align: top;\n",
       "    }\n",
       "\n",
       "    .dataframe thead th {\n",
       "        text-align: right;\n",
       "    }\n",
       "</style>\n",
       "<table border=\"1\" class=\"dataframe\">\n",
       "  <thead>\n",
       "    <tr style=\"text-align: right;\">\n",
       "      <th></th>\n",
       "      <th>hospital_death</th>\n",
       "      <th>age</th>\n",
       "      <th>bmi</th>\n",
       "      <th>height</th>\n",
       "      <th>icu_id</th>\n",
       "      <th>pre_icu_los_days</th>\n",
       "      <th>weight</th>\n",
       "      <th>gcs_eyes_apache</th>\n",
       "      <th>gcs_motor_apache</th>\n",
       "      <th>gcs_verbal_apache</th>\n",
       "      <th>intubated_apache</th>\n",
       "      <th>ventilated_apache</th>\n",
       "      <th>aids</th>\n",
       "      <th>cirrhosis</th>\n",
       "      <th>diabetes_mellitus</th>\n",
       "      <th>hepatic_failure</th>\n",
       "      <th>immunosuppression</th>\n",
       "      <th>leukemia</th>\n",
       "      <th>lymphoma</th>\n",
       "      <th>solid_tumor_with_metastasis</th>\n",
       "    </tr>\n",
       "    <tr>\n",
       "      <th>elective_surgery</th>\n",
       "      <th></th>\n",
       "      <th></th>\n",
       "      <th></th>\n",
       "      <th></th>\n",
       "      <th></th>\n",
       "      <th></th>\n",
       "      <th></th>\n",
       "      <th></th>\n",
       "      <th></th>\n",
       "      <th></th>\n",
       "      <th></th>\n",
       "      <th></th>\n",
       "      <th></th>\n",
       "      <th></th>\n",
       "      <th></th>\n",
       "      <th></th>\n",
       "      <th></th>\n",
       "      <th></th>\n",
       "      <th></th>\n",
       "      <th></th>\n",
       "    </tr>\n",
       "  </thead>\n",
       "  <tbody>\n",
       "    <tr>\n",
       "      <th>0</th>\n",
       "      <td>0.519918</td>\n",
       "      <td>64.452228</td>\n",
       "      <td>28.593572</td>\n",
       "      <td>169.432187</td>\n",
       "      <td>581.156691</td>\n",
       "      <td>0.942359</td>\n",
       "      <td>82.155416</td>\n",
       "      <td>3.110623</td>\n",
       "      <td>4.925026</td>\n",
       "      <td>3.468335</td>\n",
       "      <td>0.223902</td>\n",
       "      <td>0.457406</td>\n",
       "      <td>0.001021</td>\n",
       "      <td>0.024106</td>\n",
       "      <td>0.221757</td>\n",
       "      <td>0.019714</td>\n",
       "      <td>0.038407</td>\n",
       "      <td>0.011645</td>\n",
       "      <td>0.007559</td>\n",
       "      <td>0.030439</td>\n",
       "    </tr>\n",
       "    <tr>\n",
       "      <th>1</th>\n",
       "      <td>0.250000</td>\n",
       "      <td>65.830149</td>\n",
       "      <td>29.001794</td>\n",
       "      <td>169.838629</td>\n",
       "      <td>608.912879</td>\n",
       "      <td>1.625001</td>\n",
       "      <td>83.658583</td>\n",
       "      <td>3.421970</td>\n",
       "      <td>5.405303</td>\n",
       "      <td>3.946970</td>\n",
       "      <td>0.325758</td>\n",
       "      <td>0.564394</td>\n",
       "      <td>0.000000</td>\n",
       "      <td>0.006061</td>\n",
       "      <td>0.222727</td>\n",
       "      <td>0.006818</td>\n",
       "      <td>0.021970</td>\n",
       "      <td>0.001515</td>\n",
       "      <td>0.004545</td>\n",
       "      <td>0.028030</td>\n",
       "    </tr>\n",
       "  </tbody>\n",
       "</table>\n",
       "</div>"
      ],
      "text/plain": [
       "                  hospital_death        age        bmi      height  \\\n",
       "elective_surgery                                                     \n",
       "0                       0.519918  64.452228  28.593572  169.432187   \n",
       "1                       0.250000  65.830149  29.001794  169.838629   \n",
       "\n",
       "                      icu_id  pre_icu_los_days     weight  gcs_eyes_apache  \\\n",
       "elective_surgery                                                             \n",
       "0                 581.156691          0.942359  82.155416         3.110623   \n",
       "1                 608.912879          1.625001  83.658583         3.421970   \n",
       "\n",
       "                  gcs_motor_apache  gcs_verbal_apache  intubated_apache  \\\n",
       "elective_surgery                                                          \n",
       "0                         4.925026           3.468335          0.223902   \n",
       "1                         5.405303           3.946970          0.325758   \n",
       "\n",
       "                  ventilated_apache      aids  cirrhosis  diabetes_mellitus  \\\n",
       "elective_surgery                                                              \n",
       "0                          0.457406  0.001021   0.024106           0.221757   \n",
       "1                          0.564394  0.000000   0.006061           0.222727   \n",
       "\n",
       "                  hepatic_failure  immunosuppression  leukemia  lymphoma  \\\n",
       "elective_surgery                                                           \n",
       "0                        0.019714           0.038407  0.011645  0.007559   \n",
       "1                        0.006818           0.021970  0.001515  0.004545   \n",
       "\n",
       "                  solid_tumor_with_metastasis  \n",
       "elective_surgery                               \n",
       "0                                    0.030439  \n",
       "1                                    0.028030  "
      ]
     },
     "execution_count": 28,
     "metadata": {},
     "output_type": "execute_result"
    },
    {
     "name": "stdout",
     "output_type": "stream",
     "text": [
      "time: 33.1 ms (started: 2022-12-05 10:20:07 -05:00)\n"
     ]
    }
   ],
   "source": [
    "df1.groupby('elective_surgery').mean()"
   ]
  },
  {
   "cell_type": "code",
   "execution_count": 29,
   "metadata": {
    "colab": {
     "base_uri": "https://localhost:8080/",
     "height": 315
    },
    "id": "YJ4DbTHeDc9C",
    "outputId": "33a4b999-ad77-479a-8d8d-b0836a09ae42"
   },
   "outputs": [
    {
     "data": {
      "image/png": "[encoded data removed]",
      "text/plain": [
       "<Figure size 432x288 with 1 Axes>"
      ]
     },
     "metadata": {
      "needs_background": "light"
     },
     "output_type": "display_data"
    },
    {
     "name": "stdout",
     "output_type": "stream",
     "text": [
      "time: 262 ms (started: 2022-12-05 10:20:07 -05:00)\n"
     ]
    }
   ],
   "source": [
    "# Outcome by elective surgery\n",
    "%matplotlib inline\n",
    "pd.crosstab(df1.elective_surgery ,df1.hospital_death).plot(kind='bar')\n",
    "plt.title('Outcomes if/if not Elective Surgery')\n",
    "plt.xlabel('Elective Surgery')\n",
    "plt.ylabel('Frequency of Death')\n",
    "plt.savefig('outcome_elective_surgery')"
   ]
  },
  {
   "cell_type": "code",
   "execution_count": 30,
   "metadata": {
    "colab": {
     "base_uri": "https://localhost:8080/",
     "height": 325
    },
    "id": "UILoCQXiE5C1",
    "outputId": "856609bd-e426-4b2e-ce46-48a61ded1035"
   },
   "outputs": [
    {
     "data": {
      "image/png": "[encoded data removed]",
      "text/plain": [
       "<Figure size 432x288 with 1 Axes>"
      ]
     },
     "metadata": {
      "needs_background": "light"
     },
     "output_type": "display_data"
    },
    {
     "name": "stdout",
     "output_type": "stream",
     "text": [
      "time: 322 ms (started: 2022-12-05 10:20:07 -05:00)\n"
     ]
    }
   ],
   "source": [
    "# Outcome if ventilated\n",
    "%matplotlib inline\n",
    "pd.crosstab(df1.ventilated_apache ,df1.hospital_death).plot(kind='bar')\n",
    "plt.title('Outcomes if/if not Ventilated')\n",
    "plt.xlabel('Ventilated')\n",
    "plt.ylabel('Frequency of Death')\n",
    "plt.savefig('outcome_ventilated')"
   ]
  },
  {
   "cell_type": "code",
   "execution_count": 31,
   "metadata": {
    "colab": {
     "base_uri": "https://localhost:8080/",
     "height": 223
    },
    "id": "04KwWs77I_20",
    "outputId": "7074dfae-f6a4-4509-e383-cf9d2649c8e8"
   },
   "outputs": [
    {
     "data": {
      "text/html": [
       "<div>\n",
       "<style scoped>\n",
       "    .dataframe tbody tr th:only-of-type {\n",
       "        vertical-align: middle;\n",
       "    }\n",
       "\n",
       "    .dataframe tbody tr th {\n",
       "        vertical-align: top;\n",
       "    }\n",
       "\n",
       "    .dataframe thead th {\n",
       "        text-align: right;\n",
       "    }\n",
       "</style>\n",
       "<table border=\"1\" class=\"dataframe\">\n",
       "  <thead>\n",
       "    <tr style=\"text-align: right;\">\n",
       "      <th></th>\n",
       "      <th>hospital_death</th>\n",
       "      <th>age</th>\n",
       "      <th>bmi</th>\n",
       "      <th>height</th>\n",
       "      <th>pre_icu_los_days</th>\n",
       "      <th>weight</th>\n",
       "    </tr>\n",
       "  </thead>\n",
       "  <tbody>\n",
       "    <tr>\n",
       "      <th>0</th>\n",
       "      <td>1</td>\n",
       "      <td>62.000000</td>\n",
       "      <td>50.443888</td>\n",
       "      <td>165.1</td>\n",
       "      <td>0.000000</td>\n",
       "      <td>137.50</td>\n",
       "    </tr>\n",
       "    <tr>\n",
       "      <th>2</th>\n",
       "      <td>1</td>\n",
       "      <td>66.000000</td>\n",
       "      <td>37.640312</td>\n",
       "      <td>165.1</td>\n",
       "      <td>4.966667</td>\n",
       "      <td>102.60</td>\n",
       "    </tr>\n",
       "    <tr>\n",
       "      <th>3</th>\n",
       "      <td>1</td>\n",
       "      <td>64.615941</td>\n",
       "      <td>22.714002</td>\n",
       "      <td>154.9</td>\n",
       "      <td>0.006250</td>\n",
       "      <td>54.50</td>\n",
       "    </tr>\n",
       "    <tr>\n",
       "      <th>4</th>\n",
       "      <td>1</td>\n",
       "      <td>83.000000</td>\n",
       "      <td>34.343517</td>\n",
       "      <td>162.6</td>\n",
       "      <td>0.006944</td>\n",
       "      <td>90.80</td>\n",
       "    </tr>\n",
       "    <tr>\n",
       "      <th>5</th>\n",
       "      <td>1</td>\n",
       "      <td>82.000000</td>\n",
       "      <td>21.579839</td>\n",
       "      <td>177.8</td>\n",
       "      <td>0.222222</td>\n",
       "      <td>68.22</td>\n",
       "    </tr>\n",
       "  </tbody>\n",
       "</table>\n",
       "</div>"
      ],
      "text/plain": [
       "   hospital_death        age        bmi  height  pre_icu_los_days  weight\n",
       "0               1  62.000000  50.443888   165.1          0.000000  137.50\n",
       "2               1  66.000000  37.640312   165.1          4.966667  102.60\n",
       "3               1  64.615941  22.714002   154.9          0.006250   54.50\n",
       "4               1  83.000000  34.343517   162.6          0.006944   90.80\n",
       "5               1  82.000000  21.579839   177.8          0.222222   68.22"
      ]
     },
     "execution_count": 31,
     "metadata": {},
     "output_type": "execute_result"
    },
    {
     "name": "stdout",
     "output_type": "stream",
     "text": [
      "time: 8.73 ms (started: 2022-12-05 10:20:07 -05:00)\n"
     ]
    }
   ],
   "source": [
    "dfc=df1[['hospital_death','age','bmi','height','pre_icu_los_days','weight']]\n",
    "dfc.head()"
   ]
  },
  {
   "cell_type": "markdown",
   "metadata": {
    "id": "pD6HKHJdOQH1"
   },
   "source": [
    "Feature Selection I - Continuous Variables"
   ]
  },
  {
   "cell_type": "code",
   "execution_count": 32,
   "metadata": {
    "colab": {
     "base_uri": "https://localhost:8080/",
     "height": 616
    },
    "id": "-Xai-QfyKV2c",
    "outputId": "187db78d-7472-4df8-a40b-a7792ef6d337"
   },
   "outputs": [
    {
     "data": {
      "image/png": "[encoded data removed]",
      "text/plain": [
       "<Figure size 864x720 with 2 Axes>"
      ]
     },
     "metadata": {
      "needs_background": "light"
     },
     "output_type": "display_data"
    },
    {
     "name": "stdout",
     "output_type": "stream",
     "text": [
      "time: 365 ms (started: 2022-12-05 10:20:07 -05:00)\n"
     ]
    }
   ],
   "source": [
    "#Using Pearson Correlation\n",
    "plt.figure(figsize=(12,10))\n",
    "cor = dfc.corr()\n",
    "sns.heatmap(cor, annot=True, cmap=plt.cm.Reds)\n",
    "plt.show()"
   ]
  },
  {
   "cell_type": "code",
   "execution_count": 33,
   "metadata": {
    "colab": {
     "base_uri": "https://localhost:8080/"
    },
    "id": "MVLhHl9GNwuW",
    "outputId": "7e196665-6555-4560-b823-0b98e40deaa2"
   },
   "outputs": [
    {
     "data": {
      "text/plain": [
       "hospital_death      1.000000\n",
       "age                 0.233602\n",
       "pre_icu_los_days    0.106043\n",
       "weight              0.070627\n",
       "height              0.060727\n",
       "bmi                 0.047101\n",
       "Name: hospital_death, dtype: float64"
      ]
     },
     "execution_count": 33,
     "metadata": {},
     "output_type": "execute_result"
    },
    {
     "name": "stdout",
     "output_type": "stream",
     "text": [
      "time: 5.87 ms (started: 2022-12-05 10:20:08 -05:00)\n"
     ]
    }
   ],
   "source": [
    "# List quantitative  features in descending order of correlation (absolute value) - note gcs_... are ordinal\n",
    "dfc[dfc.columns[0:]].corr().abs()['hospital_death'][:].sort_values(ascending=False)"
   ]
  },
  {
   "cell_type": "code",
   "execution_count": 34,
   "metadata": {
    "colab": {
     "base_uri": "https://localhost:8080/"
    },
    "id": "DueR4uu1Ki7w",
    "outputId": "657560f6-eede-4a77-e465-0bba89038b36"
   },
   "outputs": [
    {
     "data": {
      "text/plain": [
       "hospital_death    1.0\n",
       "Name: hospital_death, dtype: float64"
      ]
     },
     "execution_count": 34,
     "metadata": {},
     "output_type": "execute_result"
    },
    {
     "name": "stdout",
     "output_type": "stream",
     "text": [
      "time: 3.87 ms (started: 2022-12-05 10:20:08 -05:00)\n"
     ]
    }
   ],
   "source": [
    "#Correlation with output variable\n",
    "cor_target = abs(cor['hospital_death'])\n",
    "#Selecting highly correlated features\n",
    "relevant_features = cor_target[cor_target>0.5]\n",
    "relevant_features"
   ]
  },
  {
   "cell_type": "markdown",
   "metadata": {
    "id": "Msn4TQFKLNcC"
   },
   "source": [
    "None of the continuous features are even moderately correlated with the target variable (hospital_death). However, we will keep most of them in the model for now. "
   ]
  },
  {
   "cell_type": "code",
   "execution_count": 35,
   "metadata": {
    "colab": {
     "base_uri": "https://localhost:8080/"
    },
    "id": "pnC3cUkCK6Fg",
    "outputId": "a28e06a4-9c62-438e-9118-c19ad8c4fbff"
   },
   "outputs": [
    {
     "name": "stdout",
     "output_type": "stream",
     "text": [
      "          weight       bmi\n",
      "weight  1.000000  0.888932\n",
      "bmi     0.888932  1.000000\n",
      "time: 4.55 ms (started: 2022-12-05 10:20:08 -05:00)\n"
     ]
    }
   ],
   "source": [
    "print(dfc[['weight','bmi']].corr())"
   ]
  },
  {
   "cell_type": "markdown",
   "metadata": {
    "id": "Y-YogCeDMigF"
   },
   "source": [
    "bmi is based on weight and height.  bmi and weight are highly correlated.  Weight is more highly correlated with the target variable, so we will drop bmi from the features. Height has a very weak/no correlation (-0.02) with hospital_death, so it will also be dropped from the features."
   ]
  },
  {
   "cell_type": "code",
   "execution_count": 36,
   "metadata": {
    "colab": {
     "base_uri": "https://localhost:8080/"
    },
    "id": "SO5fzbxHPXsx",
    "outputId": "e8b1a1df-c34b-464b-c481-0262d603cc5e"
   },
   "outputs": [
    {
     "name": "stdout",
     "output_type": "stream",
     "text": [
      "time: 2.2 ms (started: 2022-12-05 10:20:08 -05:00)\n"
     ]
    }
   ],
   "source": [
    "# Drop features bmi and height\n",
    "df1.drop(['bmi','height'],axis =1, inplace = True)"
   ]
  },
  {
   "cell_type": "markdown",
   "metadata": {
    "id": "eU5VlGPtOaCW"
   },
   "source": [
    "Feature Selection II - Ordinal and Categorical Variables"
   ]
  },
  {
   "cell_type": "code",
   "execution_count": 37,
   "metadata": {
    "colab": {
     "base_uri": "https://localhost:8080/"
    },
    "id": "eP6bo0n1OHP9",
    "outputId": "800ba7a7-2cc7-45cc-a047-95ad8589026c"
   },
   "outputs": [
    {
     "name": "stdout",
     "output_type": "stream",
     "text": [
      "time: 5.09 ms (started: 2022-12-05 10:20:08 -05:00)\n"
     ]
    }
   ],
   "source": [
    "x=df1[['elective_surgery', 'ethnicity', 'gender',\n",
    "       'icu_admit_source', 'icu_stay_type', 'icu_type', \n",
    "       'gcs_eyes_apache', 'gcs_motor_apache', 'gcs_verbal_apache',\n",
    "       'intubated_apache', 'ventilated_apache', 'aids', 'cirrhosis',\n",
    "       'diabetes_mellitus', 'hepatic_failure', 'immunosuppression', 'leukemia',\n",
    "       'lymphoma', 'solid_tumor_with_metastasis', 'apache_3j_bodysystem',\n",
    "       'apache_2_bodysystem']]\n",
    "y=df1[['hospital_death']]\n"
   ]
  },
  {
   "cell_type": "code",
   "execution_count": 38,
   "metadata": {
    "colab": {
     "base_uri": "https://localhost:8080/"
    },
    "id": "ksEowZLOABLf",
    "outputId": "8044db18-700e-4264-d16d-c8a43764638e"
   },
   "outputs": [
    {
     "name": "stdout",
     "output_type": "stream",
     "text": [
      "time: 39.2 ms (started: 2022-12-05 10:20:08 -05:00)\n"
     ]
    }
   ],
   "source": [
    "oe=OrdinalEncoder()\n",
    "oe.fit(x)\n",
    "xen=oe.transform(x)"
   ]
  },
  {
   "cell_type": "code",
   "execution_count": 39,
   "metadata": {
    "colab": {
     "base_uri": "https://localhost:8080/"
    },
    "id": "aQqEG0rPBWkc",
    "outputId": "6cbc9f3f-f948-40dd-c997-02ff9ce3e8ab"
   },
   "outputs": [
    {
     "name": "stdout",
     "output_type": "stream",
     "text": [
      "time: 479 µs (started: 2022-12-05 10:20:08 -05:00)\n"
     ]
    }
   ],
   "source": [
    "y=y.values"
   ]
  },
  {
   "cell_type": "code",
   "execution_count": 40,
   "metadata": {
    "colab": {
     "base_uri": "https://localhost:8080/"
    },
    "id": "dTvA8XqnGlV-",
    "outputId": "229c4d01-ba04-4b50-ce85-1d0f38c51511"
   },
   "outputs": [
    {
     "data": {
      "text/plain": [
       "(array([2.98876914e+02, 8.97310895e+00, 5.87861921e-01, 1.76033176e+01,\n",
       "        1.14028253e+02, 7.63458222e+00, 9.94648752e+02, 1.12151084e+03,\n",
       "        2.13397275e+03, 6.42667788e+02, 8.05035969e+02, 3.89983852e+00,\n",
       "        3.77375552e+01, 1.80881239e+01, 3.24264830e+01, 4.35988995e+01,\n",
       "        2.78475510e+01, 8.41873748e+00, 6.11986394e+01, 3.89518477e+02,\n",
       "        3.44292003e+02]),\n",
       " array([5.78702694e-067, 2.73982000e-003, 4.43247094e-001, 2.72113219e-005,\n",
       "        1.28464945e-026, 5.72596469e-003, 2.61479383e-218, 6.97699149e-246,\n",
       "        0.00000000e+000, 8.78489560e-142, 4.33665612e-177, 4.82907490e-002,\n",
       "        8.09313752e-010, 2.10912845e-005, 1.23787945e-008, 4.03065638e-011,\n",
       "        1.31260106e-007, 3.71373584e-003, 5.15971750e-015, 1.05367211e-086,\n",
       "        7.41593087e-077]))"
      ]
     },
     "execution_count": 40,
     "metadata": {},
     "output_type": "execute_result"
    },
    {
     "name": "stdout",
     "output_type": "stream",
     "text": [
      "time: 15.4 ms (started: 2022-12-05 10:20:08 -05:00)\n"
     ]
    }
   ],
   "source": [
    "f_score=chi2(xen,y)   #returns f score and p value \n",
    "f_score"
   ]
  },
  {
   "cell_type": "code",
   "execution_count": 41,
   "metadata": {
    "colab": {
     "base_uri": "https://localhost:8080/"
    },
    "id": "Y4Y04Y5zG-ck",
    "outputId": "1f14dec9-7249-4687-89ae-f8c4cc3aa701"
   },
   "outputs": [
    {
     "name": "stdout",
     "output_type": "stream",
     "text": [
      "time: 1.73 ms (started: 2022-12-05 10:20:08 -05:00)\n"
     ]
    }
   ],
   "source": [
    "# printing p values for each categorical features\n",
    "p_value=pd.Series(f_score[1],index=x.columns)\n",
    "p_value.sort_values(ascending=True,inplace=True)\n"
   ]
  },
  {
   "cell_type": "code",
   "execution_count": 42,
   "metadata": {
    "colab": {
     "base_uri": "https://localhost:8080/",
     "height": 473
    },
    "id": "wr8jePiYG0bA",
    "outputId": "6ad08951-b06c-42e2-bd3e-e2e893464aba"
   },
   "outputs": [
    {
     "data": {
      "image/png": "[encoded data removed]",
      "text/plain": [
       "<Figure size 432x288 with 1 Axes>"
      ]
     },
     "metadata": {
      "needs_background": "light"
     },
     "output_type": "display_data"
    },
    {
     "name": "stdout",
     "output_type": "stream",
     "text": [
      "time: 275 ms (started: 2022-12-05 10:20:08 -05:00)\n"
     ]
    }
   ],
   "source": [
    "p_value.plot(kind=\"bar\")\n",
    "plt.xlabel(\"Features\",fontsize=20)\n",
    "plt.ylabel(\"p_values\",fontsize=20)\n",
    "plt.title(\"chi squared test base on p value\")\n",
    "plt.show()"
   ]
  },
  {
   "cell_type": "markdown",
   "metadata": {
    "id": "leS8bHG2N5Kf"
   },
   "source": [
    "Observation:\n",
    "\n",
    "The p-values of all the categorical/ordinal features are less than 0.5"
   ]
  },
  {
   "cell_type": "code",
   "execution_count": 43,
   "metadata": {
    "colab": {
     "base_uri": "https://localhost:8080/"
    },
    "id": "_7jt0ByXLNyD",
    "outputId": "1d2711d1-cae7-40a4-f646-b9e72d49a723"
   },
   "outputs": [
    {
     "name": "stdout",
     "output_type": "stream",
     "text": [
      "time: 7.08 ms (started: 2022-12-05 10:20:08 -05:00)\n"
     ]
    }
   ],
   "source": [
    "fs = SelectKBest(score_func=chi2, k='all')\n",
    "fs.fit(xen, y)\n",
    "xen_fs = fs.transform(xen)"
   ]
  },
  {
   "cell_type": "code",
   "execution_count": 44,
   "metadata": {
    "colab": {
     "base_uri": "https://localhost:8080/",
     "height": 650
    },
    "id": "xEUuyFOuLjf9",
    "outputId": "678346c3-1e8a-4f35-8af3-1fe700de6f73"
   },
   "outputs": [
    {
     "name": "stdout",
     "output_type": "stream",
     "text": [
      "Feature 0: 298.876914\n",
      "Feature 1: 8.973109\n",
      "Feature 2: 0.587862\n",
      "Feature 3: 17.603318\n",
      "Feature 4: 114.028253\n",
      "Feature 5: 7.634582\n",
      "Feature 6: 994.648752\n",
      "Feature 7: 1121.510836\n",
      "Feature 8: 2133.972751\n",
      "Feature 9: 642.667788\n",
      "Feature 10: 805.035969\n",
      "Feature 11: 3.899839\n",
      "Feature 12: 37.737555\n",
      "Feature 13: 18.088124\n",
      "Feature 14: 32.426483\n",
      "Feature 15: 43.598900\n",
      "Feature 16: 27.847551\n",
      "Feature 17: 8.418737\n",
      "Feature 18: 61.198639\n",
      "Feature 19: 389.518477\n",
      "Feature 20: 344.292003\n"
     ]
    },
    {
     "data": {
      "image/png": "[encoded data removed]",
      "text/plain": [
       "<Figure size 432x288 with 1 Axes>"
      ]
     },
     "metadata": {
      "needs_background": "light"
     },
     "output_type": "display_data"
    },
    {
     "name": "stdout",
     "output_type": "stream",
     "text": [
      "time: 169 ms (started: 2022-12-05 10:20:08 -05:00)\n"
     ]
    }
   ],
   "source": [
    "for i in range(len(fs.scores_)):\n",
    "\tprint('Feature %d: %f' % (i, fs.scores_[i]))\n",
    "# plot the scores\n",
    "plt.bar([i for i in range(len(fs.scores_))], fs.scores_)\n",
    "plt.show()"
   ]
  },
  {
   "cell_type": "code",
   "execution_count": 45,
   "metadata": {
    "colab": {
     "base_uri": "https://localhost:8080/"
    },
    "id": "dk62gqC2Omjm",
    "outputId": "65a489c1-07cf-4889-b8ed-cdcb5bb6016c"
   },
   "outputs": [
    {
     "name": "stdout",
     "output_type": "stream",
     "text": [
      "time: 1.35 ms (started: 2022-12-05 10:20:08 -05:00)\n"
     ]
    }
   ],
   "source": [
    "xcols = x.columns\n",
    "xcols\n",
    "xen_df=pd.DataFrame(xen, columns=[['elective_surgery', 'ethnicity', 'gender',\n",
    "       'icu_admit_source', 'icu_stay_type', 'icu_type', \n",
    "       'gcs_eyes_apache', 'gcs_motor_apache', 'gcs_verbal_apache',\n",
    "       'intubated_apache', 'ventilated_apache', 'aids', 'cirrhosis',\n",
    "       'diabetes_mellitus', 'hepatic_failure', 'immunosuppression', 'leukemia',\n",
    "       'lymphoma', 'solid_tumor_with_metastasis', 'apache_3j_bodysystem',\n",
    "       'apache_2_bodysystem']])\n"
   ]
  },
  {
   "cell_type": "markdown",
   "metadata": {
    "id": "cdjqb4FRThC8"
   },
   "source": [
    "Categorical correlation with hospital_death\n",
    "\n",
    "The features with the 10 highest chi_squared scores are:\n",
    "\n",
    "1. gcs_verbal_apache: 3973.680761\n",
    "2. ventilated_apache: 2917.871559\n",
    "3. gcs_motor_apache: 2443.454158\n",
    "4. intubated_apache: 2141.203429\n",
    "5. gcs_eyes_apache: 2072.880062\n",
    "6. apache_3j_bodysystem: 956.178417\n",
    "7. apache_2_bodysystem: 647.666241\n",
    "8. elective_surgery: 574.005266\n",
    "9. solid_tumor_with_metastasis: 209.232368\n",
    "10. immunosuppression: 163.490341\n",
    "\n",
    "The features with the 11 lowest chi_squared scores are:\n",
    "1. ethnicity: 0.490519\n",
    "2. gender: 1.727071\n",
    "3. aids: 2.475031\n",
    "4. diabetes_melitus: 13.972007 \n",
    "5. icu_stay_type: 15.214560\n",
    "6. icu_type: 16.920213\n",
    "7. lymphoma: 30.305036\n",
    "8. icu_admit_source: 59.119011\n",
    "9. leukemia: 80.127508\n",
    "10. hepatic_failure: 135.630778\n",
    "11. cirrhosis: 142.892650\n",
    "\n",
    "\n"
   ]
  },
  {
   "cell_type": "code",
   "execution_count": 46,
   "metadata": {
    "colab": {
     "base_uri": "https://localhost:8080/"
    },
    "id": "xqWTHAA_lL51",
    "outputId": "ef2748ce-0741-49a0-fa26-dcafffbbc0b7"
   },
   "outputs": [
    {
     "name": "stdout",
     "output_type": "stream",
     "text": [
      "time: 675 µs (started: 2022-12-05 10:20:08 -05:00)\n"
     ]
    }
   ],
   "source": [
    "df_cat_v1=x"
   ]
  },
  {
   "cell_type": "code",
   "execution_count": 47,
   "metadata": {
    "colab": {
     "base_uri": "https://localhost:8080/"
    },
    "id": "yDm-J2Kalqoc",
    "outputId": "cba333f8-1da4-4073-e7bb-305f5f393ded"
   },
   "outputs": [
    {
     "name": "stdout",
     "output_type": "stream",
     "text": [
      "<class 'pandas.core.frame.DataFrame'>\n",
      "Int64Index: 11110 entries, 0 to 12000\n",
      "Data columns (total 21 columns):\n",
      " #   Column                       Non-Null Count  Dtype  \n",
      "---  ------                       --------------  -----  \n",
      " 0   elective_surgery             11110 non-null  int64  \n",
      " 1   ethnicity                    11110 non-null  object \n",
      " 2   gender                       11110 non-null  object \n",
      " 3   icu_admit_source             11110 non-null  object \n",
      " 4   icu_stay_type                11110 non-null  object \n",
      " 5   icu_type                     11110 non-null  object \n",
      " 6   gcs_eyes_apache              11110 non-null  float64\n",
      " 7   gcs_motor_apache             11110 non-null  float64\n",
      " 8   gcs_verbal_apache            11110 non-null  float64\n",
      " 9   intubated_apache             11110 non-null  float64\n",
      " 10  ventilated_apache            11110 non-null  float64\n",
      " 11  aids                         11110 non-null  float64\n",
      " 12  cirrhosis                    11110 non-null  float64\n",
      " 13  diabetes_mellitus            11110 non-null  float64\n",
      " 14  hepatic_failure              11110 non-null  float64\n",
      " 15  immunosuppression            11110 non-null  float64\n",
      " 16  leukemia                     11110 non-null  float64\n",
      " 17  lymphoma                     11110 non-null  float64\n",
      " 18  solid_tumor_with_metastasis  11110 non-null  float64\n",
      " 19  apache_3j_bodysystem         11110 non-null  object \n",
      " 20  apache_2_bodysystem          11110 non-null  object \n",
      "dtypes: float64(13), int64(1), object(7)\n",
      "memory usage: 1.9+ MB\n",
      "time: 24.9 ms (started: 2022-12-05 10:20:08 -05:00)\n"
     ]
    }
   ],
   "source": [
    "df_cat_v1.info()"
   ]
  },
  {
   "cell_type": "code",
   "execution_count": 48,
   "metadata": {
    "colab": {
     "base_uri": "https://localhost:8080/",
     "height": 694
    },
    "id": "Ai1d-HLBQSaF",
    "outputId": "5767fd26-4cc5-4be9-c822-00c86b9e68b2"
   },
   "outputs": [
    {
     "name": "stdout",
     "output_type": "stream",
     "text": [
      "General Info:\n",
      "11110 Rows 26 Columns\n",
      "0 Duplicated Rows\n",
      "Memory Usage: 2.29Mb\n",
      "\n",
      "Columns int64: ['hospital_death', 'elective_surgery', 'icu_id']\n",
      "\n",
      "Columns float64: ['age', 'pre_icu_los_days', 'weight', 'gcs_eyes_apache', 'gcs_motor_apache', 'gcs_verbal_apache', 'intubated_apache', 'ventilated_apache', 'aids', 'cirrhosis', 'diabetes_mellitus', 'hepatic_failure', 'immunosuppression', 'leukemia', 'lymphoma', 'solid_tumor_with_metastasis']\n",
      "\n",
      "Columns object: ['ethnicity', 'gender', 'icu_admit_source', 'icu_stay_type', 'icu_type', 'apache_3j_bodysystem', 'apache_2_bodysystem']\n"
     ]
    },
    {
     "data": {
      "text/html": [
       "<div>\n",
       "<style scoped>\n",
       "    .dataframe tbody tr th:only-of-type {\n",
       "        vertical-align: middle;\n",
       "    }\n",
       "\n",
       "    .dataframe tbody tr th {\n",
       "        vertical-align: top;\n",
       "    }\n",
       "\n",
       "    .dataframe thead th {\n",
       "        text-align: right;\n",
       "    }\n",
       "</style>\n",
       "<table border=\"1\" class=\"dataframe\">\n",
       "  <thead>\n",
       "    <tr style=\"text-align: right;\">\n",
       "      <th></th>\n",
       "      <th>hospital_death</th>\n",
       "      <th>age</th>\n",
       "      <th>elective_surgery</th>\n",
       "      <th>icu_id</th>\n",
       "      <th>pre_icu_los_days</th>\n",
       "      <th>weight</th>\n",
       "      <th>gcs_eyes_apache</th>\n",
       "      <th>gcs_motor_apache</th>\n",
       "      <th>gcs_verbal_apache</th>\n",
       "      <th>intubated_apache</th>\n",
       "      <th>ventilated_apache</th>\n",
       "      <th>aids</th>\n",
       "      <th>cirrhosis</th>\n",
       "      <th>diabetes_mellitus</th>\n",
       "      <th>hepatic_failure</th>\n",
       "      <th>immunosuppression</th>\n",
       "      <th>leukemia</th>\n",
       "      <th>lymphoma</th>\n",
       "      <th>solid_tumor_with_metastasis</th>\n",
       "    </tr>\n",
       "  </thead>\n",
       "  <tbody>\n",
       "    <tr>\n",
       "      <th>count</th>\n",
       "      <td>11110.000000</td>\n",
       "      <td>11110.000000</td>\n",
       "      <td>11110.000000</td>\n",
       "      <td>11110.000000</td>\n",
       "      <td>11110.000000</td>\n",
       "      <td>11110.000000</td>\n",
       "      <td>11110.000000</td>\n",
       "      <td>11110.000000</td>\n",
       "      <td>11110.000000</td>\n",
       "      <td>11110.000000</td>\n",
       "      <td>11110.000000</td>\n",
       "      <td>11110.000000</td>\n",
       "      <td>11110.000000</td>\n",
       "      <td>11110.000000</td>\n",
       "      <td>11110.000000</td>\n",
       "      <td>11110.000000</td>\n",
       "      <td>11110.000000</td>\n",
       "      <td>11110.000000</td>\n",
       "      <td>11110.000000</td>\n",
       "    </tr>\n",
       "    <tr>\n",
       "      <th>mean</th>\n",
       "      <td>0.487849</td>\n",
       "      <td>64.615941</td>\n",
       "      <td>0.118812</td>\n",
       "      <td>584.454455</td>\n",
       "      <td>1.023465</td>\n",
       "      <td>82.334010</td>\n",
       "      <td>3.147615</td>\n",
       "      <td>4.982088</td>\n",
       "      <td>3.525203</td>\n",
       "      <td>0.236004</td>\n",
       "      <td>0.470117</td>\n",
       "      <td>0.000900</td>\n",
       "      <td>0.021962</td>\n",
       "      <td>0.221872</td>\n",
       "      <td>0.018182</td>\n",
       "      <td>0.036454</td>\n",
       "      <td>0.010441</td>\n",
       "      <td>0.007201</td>\n",
       "      <td>0.030153</td>\n",
       "    </tr>\n",
       "    <tr>\n",
       "      <th>std</th>\n",
       "      <td>0.499875</td>\n",
       "      <td>15.962678</td>\n",
       "      <td>0.323582</td>\n",
       "      <td>215.600197</td>\n",
       "      <td>2.946232</td>\n",
       "      <td>25.392996</td>\n",
       "      <td>1.180829</td>\n",
       "      <td>1.754575</td>\n",
       "      <td>1.763454</td>\n",
       "      <td>0.424644</td>\n",
       "      <td>0.499129</td>\n",
       "      <td>0.029989</td>\n",
       "      <td>0.146567</td>\n",
       "      <td>0.415524</td>\n",
       "      <td>0.133615</td>\n",
       "      <td>0.187424</td>\n",
       "      <td>0.101651</td>\n",
       "      <td>0.084555</td>\n",
       "      <td>0.171016</td>\n",
       "    </tr>\n",
       "    <tr>\n",
       "      <th>min</th>\n",
       "      <td>0.000000</td>\n",
       "      <td>16.000000</td>\n",
       "      <td>0.000000</td>\n",
       "      <td>82.000000</td>\n",
       "      <td>0.000000</td>\n",
       "      <td>38.600000</td>\n",
       "      <td>1.000000</td>\n",
       "      <td>1.000000</td>\n",
       "      <td>1.000000</td>\n",
       "      <td>0.000000</td>\n",
       "      <td>0.000000</td>\n",
       "      <td>0.000000</td>\n",
       "      <td>0.000000</td>\n",
       "      <td>0.000000</td>\n",
       "      <td>0.000000</td>\n",
       "      <td>0.000000</td>\n",
       "      <td>0.000000</td>\n",
       "      <td>0.000000</td>\n",
       "      <td>0.000000</td>\n",
       "    </tr>\n",
       "    <tr>\n",
       "      <th>25%</th>\n",
       "      <td>0.000000</td>\n",
       "      <td>56.000000</td>\n",
       "      <td>0.000000</td>\n",
       "      <td>504.000000</td>\n",
       "      <td>0.036806</td>\n",
       "      <td>64.900000</td>\n",
       "      <td>2.000000</td>\n",
       "      <td>5.000000</td>\n",
       "      <td>1.000000</td>\n",
       "      <td>0.000000</td>\n",
       "      <td>0.000000</td>\n",
       "      <td>0.000000</td>\n",
       "      <td>0.000000</td>\n",
       "      <td>0.000000</td>\n",
       "      <td>0.000000</td>\n",
       "      <td>0.000000</td>\n",
       "      <td>0.000000</td>\n",
       "      <td>0.000000</td>\n",
       "      <td>0.000000</td>\n",
       "    </tr>\n",
       "    <tr>\n",
       "      <th>50%</th>\n",
       "      <td>0.000000</td>\n",
       "      <td>66.000000</td>\n",
       "      <td>0.000000</td>\n",
       "      <td>611.000000</td>\n",
       "      <td>0.155556</td>\n",
       "      <td>78.700000</td>\n",
       "      <td>4.000000</td>\n",
       "      <td>6.000000</td>\n",
       "      <td>5.000000</td>\n",
       "      <td>0.000000</td>\n",
       "      <td>0.000000</td>\n",
       "      <td>0.000000</td>\n",
       "      <td>0.000000</td>\n",
       "      <td>0.000000</td>\n",
       "      <td>0.000000</td>\n",
       "      <td>0.000000</td>\n",
       "      <td>0.000000</td>\n",
       "      <td>0.000000</td>\n",
       "      <td>0.000000</td>\n",
       "    </tr>\n",
       "    <tr>\n",
       "      <th>75%</th>\n",
       "      <td>1.000000</td>\n",
       "      <td>77.000000</td>\n",
       "      <td>0.000000</td>\n",
       "      <td>772.000000</td>\n",
       "      <td>0.460417</td>\n",
       "      <td>95.300000</td>\n",
       "      <td>4.000000</td>\n",
       "      <td>6.000000</td>\n",
       "      <td>5.000000</td>\n",
       "      <td>0.000000</td>\n",
       "      <td>1.000000</td>\n",
       "      <td>0.000000</td>\n",
       "      <td>0.000000</td>\n",
       "      <td>0.000000</td>\n",
       "      <td>0.000000</td>\n",
       "      <td>0.000000</td>\n",
       "      <td>0.000000</td>\n",
       "      <td>0.000000</td>\n",
       "      <td>0.000000</td>\n",
       "    </tr>\n",
       "    <tr>\n",
       "      <th>max</th>\n",
       "      <td>1.000000</td>\n",
       "      <td>89.000000</td>\n",
       "      <td>1.000000</td>\n",
       "      <td>927.000000</td>\n",
       "      <td>84.367361</td>\n",
       "      <td>186.000000</td>\n",
       "      <td>4.000000</td>\n",
       "      <td>6.000000</td>\n",
       "      <td>5.000000</td>\n",
       "      <td>1.000000</td>\n",
       "      <td>1.000000</td>\n",
       "      <td>1.000000</td>\n",
       "      <td>1.000000</td>\n",
       "      <td>1.000000</td>\n",
       "      <td>1.000000</td>\n",
       "      <td>1.000000</td>\n",
       "      <td>1.000000</td>\n",
       "      <td>1.000000</td>\n",
       "      <td>1.000000</td>\n",
       "    </tr>\n",
       "  </tbody>\n",
       "</table>\n",
       "</div>"
      ],
      "text/plain": [
       "       hospital_death           age  elective_surgery        icu_id  \\\n",
       "count    11110.000000  11110.000000      11110.000000  11110.000000   \n",
       "mean         0.487849     64.615941          0.118812    584.454455   \n",
       "std          0.499875     15.962678          0.323582    215.600197   \n",
       "min          0.000000     16.000000          0.000000     82.000000   \n",
       "25%          0.000000     56.000000          0.000000    504.000000   \n",
       "50%          0.000000     66.000000          0.000000    611.000000   \n",
       "75%          1.000000     77.000000          0.000000    772.000000   \n",
       "max          1.000000     89.000000          1.000000    927.000000   \n",
       "\n",
       "       pre_icu_los_days        weight  gcs_eyes_apache  gcs_motor_apache  \\\n",
       "count      11110.000000  11110.000000     11110.000000      11110.000000   \n",
       "mean           1.023465     82.334010         3.147615          4.982088   \n",
       "std            2.946232     25.392996         1.180829          1.754575   \n",
       "min            0.000000     38.600000         1.000000          1.000000   \n",
       "25%            0.036806     64.900000         2.000000          5.000000   \n",
       "50%            0.155556     78.700000         4.000000          6.000000   \n",
       "75%            0.460417     95.300000         4.000000          6.000000   \n",
       "max           84.367361    186.000000         4.000000          6.000000   \n",
       "\n",
       "       gcs_verbal_apache  intubated_apache  ventilated_apache          aids  \\\n",
       "count       11110.000000      11110.000000       11110.000000  11110.000000   \n",
       "mean            3.525203          0.236004           0.470117      0.000900   \n",
       "std             1.763454          0.424644           0.499129      0.029989   \n",
       "min             1.000000          0.000000           0.000000      0.000000   \n",
       "25%             1.000000          0.000000           0.000000      0.000000   \n",
       "50%             5.000000          0.000000           0.000000      0.000000   \n",
       "75%             5.000000          0.000000           1.000000      0.000000   \n",
       "max             5.000000          1.000000           1.000000      1.000000   \n",
       "\n",
       "          cirrhosis  diabetes_mellitus  hepatic_failure  immunosuppression  \\\n",
       "count  11110.000000       11110.000000     11110.000000       11110.000000   \n",
       "mean       0.021962           0.221872         0.018182           0.036454   \n",
       "std        0.146567           0.415524         0.133615           0.187424   \n",
       "min        0.000000           0.000000         0.000000           0.000000   \n",
       "25%        0.000000           0.000000         0.000000           0.000000   \n",
       "50%        0.000000           0.000000         0.000000           0.000000   \n",
       "75%        0.000000           0.000000         0.000000           0.000000   \n",
       "max        1.000000           1.000000         1.000000           1.000000   \n",
       "\n",
       "           leukemia      lymphoma  solid_tumor_with_metastasis  \n",
       "count  11110.000000  11110.000000                 11110.000000  \n",
       "mean       0.010441      0.007201                     0.030153  \n",
       "std        0.101651      0.084555                     0.171016  \n",
       "min        0.000000      0.000000                     0.000000  \n",
       "25%        0.000000      0.000000                     0.000000  \n",
       "50%        0.000000      0.000000                     0.000000  \n",
       "75%        0.000000      0.000000                     0.000000  \n",
       "max        1.000000      1.000000                     1.000000  "
      ]
     },
     "metadata": {},
     "output_type": "display_data"
    },
    {
     "name": "stdout",
     "output_type": "stream",
     "text": [
      "\n",
      "Checking Missing Values:\n",
      "Analyzed DataFrame has no missing values\n",
      "\n",
      "Checking Linear Correlation:\n",
      "Linear Correlation found between columns gcs_motor_apache and gcs_eyes_apache -> Pearson coef. = 0.85\n",
      "Linear Correlation found between columns gcs_verbal_apache and gcs_eyes_apache -> Pearson coef. = 0.83\n",
      "Linear Correlation found between columns gcs_verbal_apache and gcs_motor_apache -> Pearson coef. = 0.76\n",
      "time: 124 ms (started: 2022-12-05 10:20:08 -05:00)\n"
     ]
    },
    {
     "name": "stderr",
     "output_type": "stream",
     "text": [
      "/var/folders/sm/nxgvg94n5kgbj5lyrcs8lk6w0000gn/T/ipykernel_43819/1137909244.py:52: FutureWarning: The default value of numeric_only in DataFrame.corr is deprecated. In a future version, it will default to False. Select only valid columns or specify the value of numeric_only to silence this warning.\n",
      "  df_corr = df.corr() # Correlation DataFrame\n"
     ]
    }
   ],
   "source": [
    "#Review df1 dataframe before proceeding with removing features\n",
    "\n",
    "analyse_df(df1)"
   ]
  },
  {
   "cell_type": "markdown",
   "metadata": {
    "id": "e61e5JFZaAmi"
   },
   "source": [
    "We will exclude the features with the 11 lowest chi-squared scores from the model.  We will also remove gcs_eyes_apache as it highly correlated with both gcs_motor_apache and gcs_verbal_apache"
   ]
  },
  {
   "cell_type": "code",
   "execution_count": 49,
   "metadata": {
    "colab": {
     "base_uri": "https://localhost:8080/"
    },
    "id": "ROhPQdVqgqMB",
    "outputId": "a893688c-d3f3-4c8c-9eeb-26de32c24dde"
   },
   "outputs": [
    {
     "name": "stdout",
     "output_type": "stream",
     "text": [
      "<class 'pandas.core.frame.DataFrame'>\n",
      "Int64Index: 11110 entries, 0 to 12000\n",
      "Data columns (total 26 columns):\n",
      " #   Column                       Non-Null Count  Dtype  \n",
      "---  ------                       --------------  -----  \n",
      " 0   hospital_death               11110 non-null  int64  \n",
      " 1   age                          11110 non-null  float64\n",
      " 2   elective_surgery             11110 non-null  int64  \n",
      " 3   ethnicity                    11110 non-null  object \n",
      " 4   gender                       11110 non-null  object \n",
      " 5   icu_admit_source             11110 non-null  object \n",
      " 6   icu_id                       11110 non-null  int64  \n",
      " 7   icu_stay_type                11110 non-null  object \n",
      " 8   icu_type                     11110 non-null  object \n",
      " 9   pre_icu_los_days             11110 non-null  float64\n",
      " 10  weight                       11110 non-null  float64\n",
      " 11  gcs_eyes_apache              11110 non-null  float64\n",
      " 12  gcs_motor_apache             11110 non-null  float64\n",
      " 13  gcs_verbal_apache            11110 non-null  float64\n",
      " 14  intubated_apache             11110 non-null  float64\n",
      " 15  ventilated_apache            11110 non-null  float64\n",
      " 16  aids                         11110 non-null  float64\n",
      " 17  cirrhosis                    11110 non-null  float64\n",
      " 18  diabetes_mellitus            11110 non-null  float64\n",
      " 19  hepatic_failure              11110 non-null  float64\n",
      " 20  immunosuppression            11110 non-null  float64\n",
      " 21  leukemia                     11110 non-null  float64\n",
      " 22  lymphoma                     11110 non-null  float64\n",
      " 23  solid_tumor_with_metastasis  11110 non-null  float64\n",
      " 24  apache_3j_bodysystem         11110 non-null  object \n",
      " 25  apache_2_bodysystem          11110 non-null  object \n",
      "dtypes: float64(16), int64(3), object(7)\n",
      "memory usage: 2.3+ MB\n",
      "time: 24.7 ms (started: 2022-12-05 10:20:08 -05:00)\n"
     ]
    }
   ],
   "source": [
    "df1.info()"
   ]
  },
  {
   "cell_type": "code",
   "execution_count": 50,
   "metadata": {
    "colab": {
     "base_uri": "https://localhost:8080/"
    },
    "id": "0J9ramyNahbh",
    "outputId": "0015efd0-b4bb-462b-9d0b-414e00c1fde3"
   },
   "outputs": [
    {
     "name": "stdout",
     "output_type": "stream",
     "text": [
      "time: 2.6 ms (started: 2022-12-05 10:20:08 -05:00)\n"
     ]
    }
   ],
   "source": [
    "# Create new dataset with features to be kept\n",
    "\n",
    "dfnc=df1[['age','elective_surgery','pre_icu_los_days','weight','gcs_motor_apache','gcs_verbal_apache','intubated_apache','ventilated_apache','apache_3j_bodysystem','apache_2_bodysystem','solid_tumor_with_metastasis','immunosuppression','hospital_death']]"
   ]
  },
  {
   "cell_type": "code",
   "execution_count": 51,
   "metadata": {
    "colab": {
     "base_uri": "https://localhost:8080/"
    },
    "id": "hKiWNqkkiMcb",
    "outputId": "6b5d64aa-1ce6-4575-9c7b-ab4cbd7f2354"
   },
   "outputs": [
    {
     "name": "stdout",
     "output_type": "stream",
     "text": [
      "<class 'pandas.core.frame.DataFrame'>\n",
      "Int64Index: 11110 entries, 0 to 12000\n",
      "Data columns (total 13 columns):\n",
      " #   Column                       Non-Null Count  Dtype  \n",
      "---  ------                       --------------  -----  \n",
      " 0   age                          11110 non-null  float64\n",
      " 1   elective_surgery             11110 non-null  int64  \n",
      " 2   pre_icu_los_days             11110 non-null  float64\n",
      " 3   weight                       11110 non-null  float64\n",
      " 4   gcs_motor_apache             11110 non-null  float64\n",
      " 5   gcs_verbal_apache            11110 non-null  float64\n",
      " 6   intubated_apache             11110 non-null  float64\n",
      " 7   ventilated_apache            11110 non-null  float64\n",
      " 8   apache_3j_bodysystem         11110 non-null  object \n",
      " 9   apache_2_bodysystem          11110 non-null  object \n",
      " 10  solid_tumor_with_metastasis  11110 non-null  float64\n",
      " 11  immunosuppression            11110 non-null  float64\n",
      " 12  hospital_death               11110 non-null  int64  \n",
      "dtypes: float64(9), int64(2), object(2)\n",
      "memory usage: 1.2+ MB\n",
      "time: 13.8 ms (started: 2022-12-05 10:20:08 -05:00)\n"
     ]
    }
   ],
   "source": [
    "dfnc.info()"
   ]
  },
  {
   "cell_type": "code",
   "execution_count": 52,
   "metadata": {
    "colab": {
     "base_uri": "https://localhost:8080/",
     "height": 267
    },
    "id": "i6DCkPQ1jI0-",
    "outputId": "238bdd75-f6d4-47f2-8f8a-8f929fb47fc6"
   },
   "outputs": [
    {
     "data": {
      "text/html": [
       "<div>\n",
       "<style scoped>\n",
       "    .dataframe tbody tr th:only-of-type {\n",
       "        vertical-align: middle;\n",
       "    }\n",
       "\n",
       "    .dataframe tbody tr th {\n",
       "        vertical-align: top;\n",
       "    }\n",
       "\n",
       "    .dataframe thead th {\n",
       "        text-align: right;\n",
       "    }\n",
       "</style>\n",
       "<table border=\"1\" class=\"dataframe\">\n",
       "  <thead>\n",
       "    <tr style=\"text-align: right;\">\n",
       "      <th></th>\n",
       "      <th>age</th>\n",
       "      <th>elective_surgery</th>\n",
       "      <th>pre_icu_los_days</th>\n",
       "      <th>weight</th>\n",
       "      <th>gcs_motor_apache</th>\n",
       "      <th>gcs_verbal_apache</th>\n",
       "      <th>intubated_apache</th>\n",
       "      <th>ventilated_apache</th>\n",
       "      <th>apache_3j_bodysystem</th>\n",
       "      <th>apache_2_bodysystem</th>\n",
       "      <th>solid_tumor_with_metastasis</th>\n",
       "      <th>immunosuppression</th>\n",
       "      <th>hospital_death</th>\n",
       "    </tr>\n",
       "  </thead>\n",
       "  <tbody>\n",
       "    <tr>\n",
       "      <th>0</th>\n",
       "      <td>62.000000</td>\n",
       "      <td>0</td>\n",
       "      <td>0.000000</td>\n",
       "      <td>137.50</td>\n",
       "      <td>6.0</td>\n",
       "      <td>5.0</td>\n",
       "      <td>0.0</td>\n",
       "      <td>0.0</td>\n",
       "      <td>Sepsis</td>\n",
       "      <td>Cardiovascular</td>\n",
       "      <td>0.0</td>\n",
       "      <td>0.0</td>\n",
       "      <td>1</td>\n",
       "    </tr>\n",
       "    <tr>\n",
       "      <th>2</th>\n",
       "      <td>66.000000</td>\n",
       "      <td>0</td>\n",
       "      <td>4.966667</td>\n",
       "      <td>102.60</td>\n",
       "      <td>6.0</td>\n",
       "      <td>5.0</td>\n",
       "      <td>0.0</td>\n",
       "      <td>0.0</td>\n",
       "      <td>Cardiovascular</td>\n",
       "      <td>Cardiovascular</td>\n",
       "      <td>0.0</td>\n",
       "      <td>0.0</td>\n",
       "      <td>1</td>\n",
       "    </tr>\n",
       "    <tr>\n",
       "      <th>3</th>\n",
       "      <td>64.615941</td>\n",
       "      <td>0</td>\n",
       "      <td>0.006250</td>\n",
       "      <td>54.50</td>\n",
       "      <td>3.0</td>\n",
       "      <td>1.0</td>\n",
       "      <td>0.0</td>\n",
       "      <td>1.0</td>\n",
       "      <td>Sepsis</td>\n",
       "      <td>Cardiovascular</td>\n",
       "      <td>0.0</td>\n",
       "      <td>0.0</td>\n",
       "      <td>1</td>\n",
       "    </tr>\n",
       "    <tr>\n",
       "      <th>4</th>\n",
       "      <td>83.000000</td>\n",
       "      <td>0</td>\n",
       "      <td>0.006944</td>\n",
       "      <td>90.80</td>\n",
       "      <td>6.0</td>\n",
       "      <td>5.0</td>\n",
       "      <td>0.0</td>\n",
       "      <td>0.0</td>\n",
       "      <td>Cardiovascular</td>\n",
       "      <td>Cardiovascular</td>\n",
       "      <td>0.0</td>\n",
       "      <td>0.0</td>\n",
       "      <td>1</td>\n",
       "    </tr>\n",
       "    <tr>\n",
       "      <th>5</th>\n",
       "      <td>82.000000</td>\n",
       "      <td>0</td>\n",
       "      <td>0.222222</td>\n",
       "      <td>68.22</td>\n",
       "      <td>6.0</td>\n",
       "      <td>2.0</td>\n",
       "      <td>1.0</td>\n",
       "      <td>1.0</td>\n",
       "      <td>Neurological</td>\n",
       "      <td>Neurologic</td>\n",
       "      <td>0.0</td>\n",
       "      <td>0.0</td>\n",
       "      <td>1</td>\n",
       "    </tr>\n",
       "  </tbody>\n",
       "</table>\n",
       "</div>"
      ],
      "text/plain": [
       "         age  elective_surgery  pre_icu_los_days  weight  gcs_motor_apache  \\\n",
       "0  62.000000                 0          0.000000  137.50               6.0   \n",
       "2  66.000000                 0          4.966667  102.60               6.0   \n",
       "3  64.615941                 0          0.006250   54.50               3.0   \n",
       "4  83.000000                 0          0.006944   90.80               6.0   \n",
       "5  82.000000                 0          0.222222   68.22               6.0   \n",
       "\n",
       "   gcs_verbal_apache  intubated_apache  ventilated_apache  \\\n",
       "0                5.0               0.0                0.0   \n",
       "2                5.0               0.0                0.0   \n",
       "3                1.0               0.0                1.0   \n",
       "4                5.0               0.0                0.0   \n",
       "5                2.0               1.0                1.0   \n",
       "\n",
       "  apache_3j_bodysystem apache_2_bodysystem  solid_tumor_with_metastasis  \\\n",
       "0               Sepsis      Cardiovascular                          0.0   \n",
       "2       Cardiovascular      Cardiovascular                          0.0   \n",
       "3               Sepsis      Cardiovascular                          0.0   \n",
       "4       Cardiovascular      Cardiovascular                          0.0   \n",
       "5         Neurological          Neurologic                          0.0   \n",
       "\n",
       "   immunosuppression  hospital_death  \n",
       "0                0.0               1  \n",
       "2                0.0               1  \n",
       "3                0.0               1  \n",
       "4                0.0               1  \n",
       "5                0.0               1  "
      ]
     },
     "execution_count": 52,
     "metadata": {},
     "output_type": "execute_result"
    },
    {
     "name": "stdout",
     "output_type": "stream",
     "text": [
      "time: 15.2 ms (started: 2022-12-05 10:20:08 -05:00)\n"
     ]
    }
   ],
   "source": [
    "dfnc.head()"
   ]
  },
  {
   "cell_type": "code",
   "execution_count": 53,
   "metadata": {
    "colab": {
     "base_uri": "https://localhost:8080/"
    },
    "id": "tsCxO5JPaHHw",
    "outputId": "851119f7-6d7c-4330-d4df-b416e5293b6b"
   },
   "outputs": [
    {
     "data": {
      "text/plain": [
       "Index(['age', 'elective_surgery', 'pre_icu_los_days', 'weight',\n",
       "       'gcs_motor_apache', 'gcs_verbal_apache', 'intubated_apache',\n",
       "       'ventilated_apache', 'apache_3j_bodysystem', 'apache_2_bodysystem',\n",
       "       'solid_tumor_with_metastasis', 'immunosuppression', 'hospital_death'],\n",
       "      dtype='object')"
      ]
     },
     "execution_count": 53,
     "metadata": {},
     "output_type": "execute_result"
    },
    {
     "name": "stdout",
     "output_type": "stream",
     "text": [
      "time: 3.15 ms (started: 2022-12-05 10:20:08 -05:00)\n"
     ]
    }
   ],
   "source": [
    "dfnc.columns"
   ]
  },
  {
   "cell_type": "code",
   "execution_count": 54,
   "metadata": {
    "colab": {
     "base_uri": "https://localhost:8080/",
     "height": 334
    },
    "id": "e1j-npTja9xn",
    "outputId": "d2121ec5-eae1-4116-b04d-c37dcec363c6"
   },
   "outputs": [
    {
     "data": {
      "text/html": [
       "<div>\n",
       "<style scoped>\n",
       "    .dataframe tbody tr th:only-of-type {\n",
       "        vertical-align: middle;\n",
       "    }\n",
       "\n",
       "    .dataframe tbody tr th {\n",
       "        vertical-align: top;\n",
       "    }\n",
       "\n",
       "    .dataframe thead th {\n",
       "        text-align: right;\n",
       "    }\n",
       "</style>\n",
       "<table border=\"1\" class=\"dataframe\">\n",
       "  <thead>\n",
       "    <tr style=\"text-align: right;\">\n",
       "      <th></th>\n",
       "      <th>age</th>\n",
       "      <th>elective_surgery</th>\n",
       "      <th>pre_icu_los_days</th>\n",
       "      <th>weight</th>\n",
       "      <th>intubated_apache</th>\n",
       "      <th>ventilated_apache</th>\n",
       "      <th>solid_tumor_with_metastasis</th>\n",
       "      <th>immunosuppression</th>\n",
       "      <th>hospital_death</th>\n",
       "      <th>gcs_motor_apache_1.0</th>\n",
       "      <th>...</th>\n",
       "      <th>apache_3j_bodysystem_Trauma</th>\n",
       "      <th>apache_2_bodysystem_Cardiovascular</th>\n",
       "      <th>apache_2_bodysystem_Gastrointestinal</th>\n",
       "      <th>apache_2_bodysystem_Haematologic</th>\n",
       "      <th>apache_2_bodysystem_Metabolic</th>\n",
       "      <th>apache_2_bodysystem_Neurologic</th>\n",
       "      <th>apache_2_bodysystem_Renal/Genitourinary</th>\n",
       "      <th>apache_2_bodysystem_Respiratory</th>\n",
       "      <th>apache_2_bodysystem_Trauma</th>\n",
       "      <th>apache_2_bodysystem_Undefined diagnoses</th>\n",
       "    </tr>\n",
       "  </thead>\n",
       "  <tbody>\n",
       "    <tr>\n",
       "      <th>0</th>\n",
       "      <td>62.000000</td>\n",
       "      <td>0</td>\n",
       "      <td>0.000000</td>\n",
       "      <td>137.50</td>\n",
       "      <td>0.0</td>\n",
       "      <td>0.0</td>\n",
       "      <td>0.0</td>\n",
       "      <td>0.0</td>\n",
       "      <td>1</td>\n",
       "      <td>0</td>\n",
       "      <td>...</td>\n",
       "      <td>0</td>\n",
       "      <td>1</td>\n",
       "      <td>0</td>\n",
       "      <td>0</td>\n",
       "      <td>0</td>\n",
       "      <td>0</td>\n",
       "      <td>0</td>\n",
       "      <td>0</td>\n",
       "      <td>0</td>\n",
       "      <td>0</td>\n",
       "    </tr>\n",
       "    <tr>\n",
       "      <th>2</th>\n",
       "      <td>66.000000</td>\n",
       "      <td>0</td>\n",
       "      <td>4.966667</td>\n",
       "      <td>102.60</td>\n",
       "      <td>0.0</td>\n",
       "      <td>0.0</td>\n",
       "      <td>0.0</td>\n",
       "      <td>0.0</td>\n",
       "      <td>1</td>\n",
       "      <td>0</td>\n",
       "      <td>...</td>\n",
       "      <td>0</td>\n",
       "      <td>1</td>\n",
       "      <td>0</td>\n",
       "      <td>0</td>\n",
       "      <td>0</td>\n",
       "      <td>0</td>\n",
       "      <td>0</td>\n",
       "      <td>0</td>\n",
       "      <td>0</td>\n",
       "      <td>0</td>\n",
       "    </tr>\n",
       "    <tr>\n",
       "      <th>3</th>\n",
       "      <td>64.615941</td>\n",
       "      <td>0</td>\n",
       "      <td>0.006250</td>\n",
       "      <td>54.50</td>\n",
       "      <td>0.0</td>\n",
       "      <td>1.0</td>\n",
       "      <td>0.0</td>\n",
       "      <td>0.0</td>\n",
       "      <td>1</td>\n",
       "      <td>0</td>\n",
       "      <td>...</td>\n",
       "      <td>0</td>\n",
       "      <td>1</td>\n",
       "      <td>0</td>\n",
       "      <td>0</td>\n",
       "      <td>0</td>\n",
       "      <td>0</td>\n",
       "      <td>0</td>\n",
       "      <td>0</td>\n",
       "      <td>0</td>\n",
       "      <td>0</td>\n",
       "    </tr>\n",
       "    <tr>\n",
       "      <th>4</th>\n",
       "      <td>83.000000</td>\n",
       "      <td>0</td>\n",
       "      <td>0.006944</td>\n",
       "      <td>90.80</td>\n",
       "      <td>0.0</td>\n",
       "      <td>0.0</td>\n",
       "      <td>0.0</td>\n",
       "      <td>0.0</td>\n",
       "      <td>1</td>\n",
       "      <td>0</td>\n",
       "      <td>...</td>\n",
       "      <td>0</td>\n",
       "      <td>1</td>\n",
       "      <td>0</td>\n",
       "      <td>0</td>\n",
       "      <td>0</td>\n",
       "      <td>0</td>\n",
       "      <td>0</td>\n",
       "      <td>0</td>\n",
       "      <td>0</td>\n",
       "      <td>0</td>\n",
       "    </tr>\n",
       "    <tr>\n",
       "      <th>5</th>\n",
       "      <td>82.000000</td>\n",
       "      <td>0</td>\n",
       "      <td>0.222222</td>\n",
       "      <td>68.22</td>\n",
       "      <td>1.0</td>\n",
       "      <td>1.0</td>\n",
       "      <td>0.0</td>\n",
       "      <td>0.0</td>\n",
       "      <td>1</td>\n",
       "      <td>0</td>\n",
       "      <td>...</td>\n",
       "      <td>0</td>\n",
       "      <td>0</td>\n",
       "      <td>0</td>\n",
       "      <td>0</td>\n",
       "      <td>0</td>\n",
       "      <td>1</td>\n",
       "      <td>0</td>\n",
       "      <td>0</td>\n",
       "      <td>0</td>\n",
       "      <td>0</td>\n",
       "    </tr>\n",
       "  </tbody>\n",
       "</table>\n",
       "<p>5 rows × 40 columns</p>\n",
       "</div>"
      ],
      "text/plain": [
       "         age  elective_surgery  pre_icu_los_days  weight  intubated_apache  \\\n",
       "0  62.000000                 0          0.000000  137.50               0.0   \n",
       "2  66.000000                 0          4.966667  102.60               0.0   \n",
       "3  64.615941                 0          0.006250   54.50               0.0   \n",
       "4  83.000000                 0          0.006944   90.80               0.0   \n",
       "5  82.000000                 0          0.222222   68.22               1.0   \n",
       "\n",
       "   ventilated_apache  solid_tumor_with_metastasis  immunosuppression  \\\n",
       "0                0.0                          0.0                0.0   \n",
       "2                0.0                          0.0                0.0   \n",
       "3                1.0                          0.0                0.0   \n",
       "4                0.0                          0.0                0.0   \n",
       "5                1.0                          0.0                0.0   \n",
       "\n",
       "   hospital_death  gcs_motor_apache_1.0  ...  apache_3j_bodysystem_Trauma  \\\n",
       "0               1                     0  ...                            0   \n",
       "2               1                     0  ...                            0   \n",
       "3               1                     0  ...                            0   \n",
       "4               1                     0  ...                            0   \n",
       "5               1                     0  ...                            0   \n",
       "\n",
       "   apache_2_bodysystem_Cardiovascular  apache_2_bodysystem_Gastrointestinal  \\\n",
       "0                                   1                                     0   \n",
       "2                                   1                                     0   \n",
       "3                                   1                                     0   \n",
       "4                                   1                                     0   \n",
       "5                                   0                                     0   \n",
       "\n",
       "   apache_2_bodysystem_Haematologic  apache_2_bodysystem_Metabolic  \\\n",
       "0                                 0                              0   \n",
       "2                                 0                              0   \n",
       "3                                 0                              0   \n",
       "4                                 0                              0   \n",
       "5                                 0                              0   \n",
       "\n",
       "   apache_2_bodysystem_Neurologic  apache_2_bodysystem_Renal/Genitourinary  \\\n",
       "0                               0                                        0   \n",
       "2                               0                                        0   \n",
       "3                               0                                        0   \n",
       "4                               0                                        0   \n",
       "5                               1                                        0   \n",
       "\n",
       "   apache_2_bodysystem_Respiratory  apache_2_bodysystem_Trauma  \\\n",
       "0                                0                           0   \n",
       "2                                0                           0   \n",
       "3                                0                           0   \n",
       "4                                0                           0   \n",
       "5                                0                           0   \n",
       "\n",
       "   apache_2_bodysystem_Undefined diagnoses  \n",
       "0                                        0  \n",
       "2                                        0  \n",
       "3                                        0  \n",
       "4                                        0  \n",
       "5                                        0  \n",
       "\n",
       "[5 rows x 40 columns]"
      ]
     },
     "execution_count": 54,
     "metadata": {},
     "output_type": "execute_result"
    },
    {
     "name": "stdout",
     "output_type": "stream",
     "text": [
      "time: 28.2 ms (started: 2022-12-05 10:20:08 -05:00)\n"
     ]
    }
   ],
   "source": [
    "#Convert categorical variable into dummy/indicator variables\n",
    "\n",
    "cat_cols=['gcs_motor_apache', 'gcs_verbal_apache',  'apache_3j_bodysystem', 'apache_2_bodysystem']\n",
    "\n",
    "\n",
    "# Create a copy of the data frame in memory with a different name\n",
    "df3=dfnc.copy()\n",
    "#convert only categorical variables/features to dummy/one-hot features\n",
    "df3 = pd.get_dummies(dfnc, columns=cat_cols, prefix = cat_cols)\n",
    "df3.head()"
   ]
  },
  {
   "cell_type": "code",
   "execution_count": 55,
   "metadata": {
    "colab": {
     "base_uri": "https://localhost:8080/"
    },
    "id": "iTGMryXBpTZa",
    "outputId": "61539b1b-a411-48ce-f589-2c628d06d201"
   },
   "outputs": [
    {
     "data": {
      "text/plain": [
       "((11110, 39), (11110,))"
      ]
     },
     "execution_count": 55,
     "metadata": {},
     "output_type": "execute_result"
    },
    {
     "name": "stdout",
     "output_type": "stream",
     "text": [
      "time: 5.38 ms (started: 2022-12-05 10:20:08 -05:00)\n"
     ]
    }
   ],
   "source": [
    "X=df3.drop('hospital_death', axis=1)\n",
    "y=df3['hospital_death']\n",
    "X.shape, y.shape\n"
   ]
  },
  {
   "cell_type": "code",
   "execution_count": 56,
   "metadata": {
    "colab": {
     "base_uri": "https://localhost:8080/",
     "height": 491
    },
    "id": "BhZZyD1jpu47",
    "outputId": "853de384-cdc9-4ab0-a733-76cd9dbe4bd1"
   },
   "outputs": [
    {
     "data": {
      "text/html": [
       "<div>\n",
       "<style scoped>\n",
       "    .dataframe tbody tr th:only-of-type {\n",
       "        vertical-align: middle;\n",
       "    }\n",
       "\n",
       "    .dataframe tbody tr th {\n",
       "        vertical-align: top;\n",
       "    }\n",
       "\n",
       "    .dataframe thead th {\n",
       "        text-align: right;\n",
       "    }\n",
       "</style>\n",
       "<table border=\"1\" class=\"dataframe\">\n",
       "  <thead>\n",
       "    <tr style=\"text-align: right;\">\n",
       "      <th></th>\n",
       "      <th>age</th>\n",
       "      <th>elective_surgery</th>\n",
       "      <th>pre_icu_los_days</th>\n",
       "      <th>weight</th>\n",
       "      <th>intubated_apache</th>\n",
       "      <th>ventilated_apache</th>\n",
       "      <th>solid_tumor_with_metastasis</th>\n",
       "      <th>immunosuppression</th>\n",
       "      <th>gcs_motor_apache_1.0</th>\n",
       "      <th>gcs_motor_apache_2.0</th>\n",
       "      <th>...</th>\n",
       "      <th>apache_3j_bodysystem_Trauma</th>\n",
       "      <th>apache_2_bodysystem_Cardiovascular</th>\n",
       "      <th>apache_2_bodysystem_Gastrointestinal</th>\n",
       "      <th>apache_2_bodysystem_Haematologic</th>\n",
       "      <th>apache_2_bodysystem_Metabolic</th>\n",
       "      <th>apache_2_bodysystem_Neurologic</th>\n",
       "      <th>apache_2_bodysystem_Renal/Genitourinary</th>\n",
       "      <th>apache_2_bodysystem_Respiratory</th>\n",
       "      <th>apache_2_bodysystem_Trauma</th>\n",
       "      <th>apache_2_bodysystem_Undefined diagnoses</th>\n",
       "    </tr>\n",
       "  </thead>\n",
       "  <tbody>\n",
       "    <tr>\n",
       "      <th>0</th>\n",
       "      <td>-0.163886</td>\n",
       "      <td>0</td>\n",
       "      <td>-0.347396</td>\n",
       "      <td>2.172586</td>\n",
       "      <td>0.0</td>\n",
       "      <td>0.0</td>\n",
       "      <td>0.0</td>\n",
       "      <td>0.0</td>\n",
       "      <td>0</td>\n",
       "      <td>0</td>\n",
       "      <td>...</td>\n",
       "      <td>0</td>\n",
       "      <td>1</td>\n",
       "      <td>0</td>\n",
       "      <td>0</td>\n",
       "      <td>0</td>\n",
       "      <td>0</td>\n",
       "      <td>0</td>\n",
       "      <td>0</td>\n",
       "      <td>0</td>\n",
       "      <td>0</td>\n",
       "    </tr>\n",
       "    <tr>\n",
       "      <th>2</th>\n",
       "      <td>0.086710</td>\n",
       "      <td>0</td>\n",
       "      <td>1.338448</td>\n",
       "      <td>0.798130</td>\n",
       "      <td>0.0</td>\n",
       "      <td>0.0</td>\n",
       "      <td>0.0</td>\n",
       "      <td>0.0</td>\n",
       "      <td>0</td>\n",
       "      <td>0</td>\n",
       "      <td>...</td>\n",
       "      <td>0</td>\n",
       "      <td>1</td>\n",
       "      <td>0</td>\n",
       "      <td>0</td>\n",
       "      <td>0</td>\n",
       "      <td>0</td>\n",
       "      <td>0</td>\n",
       "      <td>0</td>\n",
       "      <td>0</td>\n",
       "      <td>0</td>\n",
       "    </tr>\n",
       "    <tr>\n",
       "      <th>3</th>\n",
       "      <td>0.000000</td>\n",
       "      <td>0</td>\n",
       "      <td>-0.345275</td>\n",
       "      <td>-1.096179</td>\n",
       "      <td>0.0</td>\n",
       "      <td>1.0</td>\n",
       "      <td>0.0</td>\n",
       "      <td>0.0</td>\n",
       "      <td>0</td>\n",
       "      <td>0</td>\n",
       "      <td>...</td>\n",
       "      <td>0</td>\n",
       "      <td>1</td>\n",
       "      <td>0</td>\n",
       "      <td>0</td>\n",
       "      <td>0</td>\n",
       "      <td>0</td>\n",
       "      <td>0</td>\n",
       "      <td>0</td>\n",
       "      <td>0</td>\n",
       "      <td>0</td>\n",
       "    </tr>\n",
       "    <tr>\n",
       "      <th>4</th>\n",
       "      <td>1.151742</td>\n",
       "      <td>0</td>\n",
       "      <td>-0.345039</td>\n",
       "      <td>0.333414</td>\n",
       "      <td>0.0</td>\n",
       "      <td>0.0</td>\n",
       "      <td>0.0</td>\n",
       "      <td>0.0</td>\n",
       "      <td>0</td>\n",
       "      <td>0</td>\n",
       "      <td>...</td>\n",
       "      <td>0</td>\n",
       "      <td>1</td>\n",
       "      <td>0</td>\n",
       "      <td>0</td>\n",
       "      <td>0</td>\n",
       "      <td>0</td>\n",
       "      <td>0</td>\n",
       "      <td>0</td>\n",
       "      <td>0</td>\n",
       "      <td>0</td>\n",
       "    </tr>\n",
       "    <tr>\n",
       "      <th>5</th>\n",
       "      <td>1.089093</td>\n",
       "      <td>0</td>\n",
       "      <td>-0.271967</td>\n",
       "      <td>-0.555848</td>\n",
       "      <td>1.0</td>\n",
       "      <td>1.0</td>\n",
       "      <td>0.0</td>\n",
       "      <td>0.0</td>\n",
       "      <td>0</td>\n",
       "      <td>0</td>\n",
       "      <td>...</td>\n",
       "      <td>0</td>\n",
       "      <td>0</td>\n",
       "      <td>0</td>\n",
       "      <td>0</td>\n",
       "      <td>0</td>\n",
       "      <td>1</td>\n",
       "      <td>0</td>\n",
       "      <td>0</td>\n",
       "      <td>0</td>\n",
       "      <td>0</td>\n",
       "    </tr>\n",
       "    <tr>\n",
       "      <th>6</th>\n",
       "      <td>0.337306</td>\n",
       "      <td>0</td>\n",
       "      <td>-0.291296</td>\n",
       "      <td>-1.115870</td>\n",
       "      <td>1.0</td>\n",
       "      <td>1.0</td>\n",
       "      <td>0.0</td>\n",
       "      <td>0.0</td>\n",
       "      <td>1</td>\n",
       "      <td>0</td>\n",
       "      <td>...</td>\n",
       "      <td>0</td>\n",
       "      <td>1</td>\n",
       "      <td>0</td>\n",
       "      <td>0</td>\n",
       "      <td>0</td>\n",
       "      <td>0</td>\n",
       "      <td>0</td>\n",
       "      <td>0</td>\n",
       "      <td>0</td>\n",
       "      <td>0</td>\n",
       "    </tr>\n",
       "    <tr>\n",
       "      <th>7</th>\n",
       "      <td>-0.163886</td>\n",
       "      <td>0</td>\n",
       "      <td>-0.325475</td>\n",
       "      <td>-0.202191</td>\n",
       "      <td>0.0</td>\n",
       "      <td>1.0</td>\n",
       "      <td>0.0</td>\n",
       "      <td>0.0</td>\n",
       "      <td>1</td>\n",
       "      <td>0</td>\n",
       "      <td>...</td>\n",
       "      <td>0</td>\n",
       "      <td>1</td>\n",
       "      <td>0</td>\n",
       "      <td>0</td>\n",
       "      <td>0</td>\n",
       "      <td>0</td>\n",
       "      <td>0</td>\n",
       "      <td>0</td>\n",
       "      <td>0</td>\n",
       "      <td>0</td>\n",
       "    </tr>\n",
       "    <tr>\n",
       "      <th>10</th>\n",
       "      <td>-1.103620</td>\n",
       "      <td>0</td>\n",
       "      <td>-0.321703</td>\n",
       "      <td>-0.918957</td>\n",
       "      <td>1.0</td>\n",
       "      <td>1.0</td>\n",
       "      <td>0.0</td>\n",
       "      <td>0.0</td>\n",
       "      <td>1</td>\n",
       "      <td>0</td>\n",
       "      <td>...</td>\n",
       "      <td>0</td>\n",
       "      <td>1</td>\n",
       "      <td>0</td>\n",
       "      <td>0</td>\n",
       "      <td>0</td>\n",
       "      <td>0</td>\n",
       "      <td>0</td>\n",
       "      <td>0</td>\n",
       "      <td>0</td>\n",
       "      <td>0</td>\n",
       "    </tr>\n",
       "    <tr>\n",
       "      <th>11</th>\n",
       "      <td>1.026444</td>\n",
       "      <td>0</td>\n",
       "      <td>-0.347396</td>\n",
       "      <td>-1.722364</td>\n",
       "      <td>0.0</td>\n",
       "      <td>0.0</td>\n",
       "      <td>0.0</td>\n",
       "      <td>0.0</td>\n",
       "      <td>0</td>\n",
       "      <td>0</td>\n",
       "      <td>...</td>\n",
       "      <td>1</td>\n",
       "      <td>0</td>\n",
       "      <td>0</td>\n",
       "      <td>0</td>\n",
       "      <td>0</td>\n",
       "      <td>0</td>\n",
       "      <td>0</td>\n",
       "      <td>0</td>\n",
       "      <td>1</td>\n",
       "      <td>0</td>\n",
       "    </tr>\n",
       "    <tr>\n",
       "      <th>12</th>\n",
       "      <td>-1.918057</td>\n",
       "      <td>0</td>\n",
       "      <td>-0.344096</td>\n",
       "      <td>0.553957</td>\n",
       "      <td>0.0</td>\n",
       "      <td>1.0</td>\n",
       "      <td>0.0</td>\n",
       "      <td>0.0</td>\n",
       "      <td>1</td>\n",
       "      <td>0</td>\n",
       "      <td>...</td>\n",
       "      <td>0</td>\n",
       "      <td>1</td>\n",
       "      <td>0</td>\n",
       "      <td>0</td>\n",
       "      <td>0</td>\n",
       "      <td>0</td>\n",
       "      <td>0</td>\n",
       "      <td>0</td>\n",
       "      <td>0</td>\n",
       "      <td>0</td>\n",
       "    </tr>\n",
       "  </tbody>\n",
       "</table>\n",
       "<p>10 rows × 39 columns</p>\n",
       "</div>"
      ],
      "text/plain": [
       "         age  elective_surgery  pre_icu_los_days    weight  intubated_apache  \\\n",
       "0  -0.163886                 0         -0.347396  2.172586               0.0   \n",
       "2   0.086710                 0          1.338448  0.798130               0.0   \n",
       "3   0.000000                 0         -0.345275 -1.096179               0.0   \n",
       "4   1.151742                 0         -0.345039  0.333414               0.0   \n",
       "5   1.089093                 0         -0.271967 -0.555848               1.0   \n",
       "6   0.337306                 0         -0.291296 -1.115870               1.0   \n",
       "7  -0.163886                 0         -0.325475 -0.202191               0.0   \n",
       "10 -1.103620                 0         -0.321703 -0.918957               1.0   \n",
       "11  1.026444                 0         -0.347396 -1.722364               0.0   \n",
       "12 -1.918057                 0         -0.344096  0.553957               0.0   \n",
       "\n",
       "    ventilated_apache  solid_tumor_with_metastasis  immunosuppression  \\\n",
       "0                 0.0                          0.0                0.0   \n",
       "2                 0.0                          0.0                0.0   \n",
       "3                 1.0                          0.0                0.0   \n",
       "4                 0.0                          0.0                0.0   \n",
       "5                 1.0                          0.0                0.0   \n",
       "6                 1.0                          0.0                0.0   \n",
       "7                 1.0                          0.0                0.0   \n",
       "10                1.0                          0.0                0.0   \n",
       "11                0.0                          0.0                0.0   \n",
       "12                1.0                          0.0                0.0   \n",
       "\n",
       "    gcs_motor_apache_1.0  gcs_motor_apache_2.0  ...  \\\n",
       "0                      0                     0  ...   \n",
       "2                      0                     0  ...   \n",
       "3                      0                     0  ...   \n",
       "4                      0                     0  ...   \n",
       "5                      0                     0  ...   \n",
       "6                      1                     0  ...   \n",
       "7                      1                     0  ...   \n",
       "10                     1                     0  ...   \n",
       "11                     0                     0  ...   \n",
       "12                     1                     0  ...   \n",
       "\n",
       "    apache_3j_bodysystem_Trauma  apache_2_bodysystem_Cardiovascular  \\\n",
       "0                             0                                   1   \n",
       "2                             0                                   1   \n",
       "3                             0                                   1   \n",
       "4                             0                                   1   \n",
       "5                             0                                   0   \n",
       "6                             0                                   1   \n",
       "7                             0                                   1   \n",
       "10                            0                                   1   \n",
       "11                            1                                   0   \n",
       "12                            0                                   1   \n",
       "\n",
       "    apache_2_bodysystem_Gastrointestinal  apache_2_bodysystem_Haematologic  \\\n",
       "0                                      0                                 0   \n",
       "2                                      0                                 0   \n",
       "3                                      0                                 0   \n",
       "4                                      0                                 0   \n",
       "5                                      0                                 0   \n",
       "6                                      0                                 0   \n",
       "7                                      0                                 0   \n",
       "10                                     0                                 0   \n",
       "11                                     0                                 0   \n",
       "12                                     0                                 0   \n",
       "\n",
       "    apache_2_bodysystem_Metabolic  apache_2_bodysystem_Neurologic  \\\n",
       "0                               0                               0   \n",
       "2                               0                               0   \n",
       "3                               0                               0   \n",
       "4                               0                               0   \n",
       "5                               0                               1   \n",
       "6                               0                               0   \n",
       "7                               0                               0   \n",
       "10                              0                               0   \n",
       "11                              0                               0   \n",
       "12                              0                               0   \n",
       "\n",
       "    apache_2_bodysystem_Renal/Genitourinary  apache_2_bodysystem_Respiratory  \\\n",
       "0                                         0                                0   \n",
       "2                                         0                                0   \n",
       "3                                         0                                0   \n",
       "4                                         0                                0   \n",
       "5                                         0                                0   \n",
       "6                                         0                                0   \n",
       "7                                         0                                0   \n",
       "10                                        0                                0   \n",
       "11                                        0                                0   \n",
       "12                                        0                                0   \n",
       "\n",
       "    apache_2_bodysystem_Trauma  apache_2_bodysystem_Undefined diagnoses  \n",
       "0                            0                                        0  \n",
       "2                            0                                        0  \n",
       "3                            0                                        0  \n",
       "4                            0                                        0  \n",
       "5                            0                                        0  \n",
       "6                            0                                        0  \n",
       "7                            0                                        0  \n",
       "10                           0                                        0  \n",
       "11                           1                                        0  \n",
       "12                           0                                        0  \n",
       "\n",
       "[10 rows x 39 columns]"
      ]
     },
     "execution_count": 56,
     "metadata": {},
     "output_type": "execute_result"
    },
    {
     "name": "stdout",
     "output_type": "stream",
     "text": [
      "time: 33.4 ms (started: 2022-12-05 10:20:09 -05:00)\n"
     ]
    }
   ],
   "source": [
    "#Scale the numeric features\n",
    "\n",
    "con_vars=['age','pre_icu_los_days','weight']\n",
    "object= StandardScaler()\n",
    "X[con_vars] = object.fit_transform(X[con_vars])\n",
    "X.head(10)"
   ]
  },
  {
   "cell_type": "code",
   "execution_count": 57,
   "metadata": {
    "colab": {
     "base_uri": "https://localhost:8080/"
    },
    "id": "FyyjEQyqtncJ",
    "outputId": "6085cf5f-15f5-4b62-a5dd-8f2863e5ad7c"
   },
   "outputs": [
    {
     "data": {
      "text/plain": [
       "0    5690\n",
       "1    5420\n",
       "Name: hospital_death, dtype: int64"
      ]
     },
     "execution_count": 57,
     "metadata": {},
     "output_type": "execute_result"
    },
    {
     "name": "stdout",
     "output_type": "stream",
     "text": [
      "time: 4.09 ms (started: 2022-12-05 10:20:09 -05:00)\n"
     ]
    }
   ],
   "source": [
    "# Revisit class imbalance\n",
    "\n",
    "df3['hospital_death'].value_counts()"
   ]
  },
  {
   "cell_type": "code",
   "execution_count": 58,
   "metadata": {
    "colab": {
     "base_uri": "https://localhost:8080/",
     "height": 52
    },
    "id": "CJYKaiilYmBk",
    "outputId": "f8818391-0ae4-4e6b-b5c1-5f9db6765e29"
   },
   "outputs": [
    {
     "data": {
      "text/plain": [
       "'\\n# Apply SMOTE (Synthetic Minority Oversampling Technique)\\n# Borderline SMOTE uses a Support Vector Machine model (SVM) to calculate the \\n# decision boundary, compared to the K nearest neighbours (KNN) model used in regular SMOTE.\\n\\noversampled = BorderlineSMOTE(random_state=0)\\nX_train_smote, y_train_smote = oversampled.fit_resample(X, y)\\n'"
      ]
     },
     "execution_count": 58,
     "metadata": {},
     "output_type": "execute_result"
    },
    {
     "name": "stdout",
     "output_type": "stream",
     "text": [
      "time: 3.81 ms (started: 2022-12-05 10:20:09 -05:00)\n"
     ]
    }
   ],
   "source": [
    "'''\n",
    "# Apply SMOTE (Synthetic Minority Oversampling Technique)\n",
    "# Borderline SMOTE uses a Support Vector Machine model (SVM) to calculate the \n",
    "# decision boundary, compared to the K nearest neighbours (KNN) model used in regular SMOTE.\n",
    "\n",
    "oversampled = BorderlineSMOTE(random_state=0)\n",
    "X_train_smote, y_train_smote = oversampled.fit_resample(X, y)\n",
    "'''"
   ]
  },
  {
   "cell_type": "code",
   "execution_count": 59,
   "metadata": {
    "colab": {
     "base_uri": "https://localhost:8080/"
    },
    "id": "daZa7PK2YhWv",
    "outputId": "a4e85d4d-ec9c-426d-f947-fe45213410cd"
   },
   "outputs": [
    {
     "name": "stdout",
     "output_type": "stream",
     "text": [
      "time: 288 µs (started: 2022-12-05 10:20:09 -05:00)\n"
     ]
    }
   ],
   "source": [
    "# y_train_smote.value_counts()"
   ]
  },
  {
   "cell_type": "code",
   "execution_count": 60,
   "metadata": {
    "colab": {
     "base_uri": "https://localhost:8080/"
    },
    "id": "R_W-0nQqZdIp",
    "outputId": "1dc11228-faab-4d9a-9f18-cb53cca4f972"
   },
   "outputs": [
    {
     "name": "stdout",
     "output_type": "stream",
     "text": [
      "time: 332 µs (started: 2022-12-05 10:20:09 -05:00)\n"
     ]
    }
   ],
   "source": [
    "# X=X_train_smote\n",
    "# y=y_train_smote"
   ]
  },
  {
   "cell_type": "code",
   "execution_count": 61,
   "metadata": {
    "colab": {
     "base_uri": "https://localhost:8080/"
    },
    "id": "FF0uL9Y1qD5-",
    "outputId": "56459210-e5e9-468a-e3f0-0a5d6869573b"
   },
   "outputs": [
    {
     "name": "stdout",
     "output_type": "stream",
     "text": [
      "Num Features Before: 39\n",
      "Num Features After: 23\n",
      "time: 7min 4s (started: 2022-12-05 10:20:09 -05:00)\n"
     ]
    }
   ],
   "source": [
    "# Feature selection using Recursive Feature Elimination with Cross Validation and Random Forest estimator  \n",
    "# create a random forest model\n",
    "rf = RandomForestClassifier(random_state=42)\n",
    "\n",
    "# Recursively eliminate features with cross validation\n",
    "rfecv = RFECV(estimator=rf, cv=10, scoring='roc_auc')\n",
    "rfecv.fit(X, y)\n",
    "X_new = rfecv.transform(X)\n",
    "print(\"Num Features Before:\", X.shape[1])\n",
    "print(\"Num Features After:\", X_new.shape[1])"
   ]
  },
  {
   "cell_type": "code",
   "execution_count": 62,
   "metadata": {
    "colab": {
     "base_uri": "https://localhost:8080/",
     "height": 1000
    },
    "id": "JH1KO9bVo9pP",
    "outputId": "be90df0f-5b86-495a-f7cc-d6105c36ddbd"
   },
   "outputs": [
    {
     "data": {
      "text/html": [
       "<div>\n",
       "<style scoped>\n",
       "    .dataframe tbody tr th:only-of-type {\n",
       "        vertical-align: middle;\n",
       "    }\n",
       "\n",
       "    .dataframe tbody tr th {\n",
       "        vertical-align: top;\n",
       "    }\n",
       "\n",
       "    .dataframe thead th {\n",
       "        text-align: right;\n",
       "    }\n",
       "</style>\n",
       "<table border=\"1\" class=\"dataframe\">\n",
       "  <thead>\n",
       "    <tr style=\"text-align: right;\">\n",
       "      <th></th>\n",
       "      <th>columns</th>\n",
       "      <th>Kept</th>\n",
       "    </tr>\n",
       "  </thead>\n",
       "  <tbody>\n",
       "    <tr>\n",
       "      <th>0</th>\n",
       "      <td>age</td>\n",
       "      <td>True</td>\n",
       "    </tr>\n",
       "    <tr>\n",
       "      <th>1</th>\n",
       "      <td>elective_surgery</td>\n",
       "      <td>True</td>\n",
       "    </tr>\n",
       "    <tr>\n",
       "      <th>2</th>\n",
       "      <td>pre_icu_los_days</td>\n",
       "      <td>True</td>\n",
       "    </tr>\n",
       "    <tr>\n",
       "      <th>3</th>\n",
       "      <td>weight</td>\n",
       "      <td>True</td>\n",
       "    </tr>\n",
       "    <tr>\n",
       "      <th>4</th>\n",
       "      <td>intubated_apache</td>\n",
       "      <td>True</td>\n",
       "    </tr>\n",
       "    <tr>\n",
       "      <th>5</th>\n",
       "      <td>ventilated_apache</td>\n",
       "      <td>True</td>\n",
       "    </tr>\n",
       "    <tr>\n",
       "      <th>6</th>\n",
       "      <td>solid_tumor_with_metastasis</td>\n",
       "      <td>True</td>\n",
       "    </tr>\n",
       "    <tr>\n",
       "      <th>7</th>\n",
       "      <td>immunosuppression</td>\n",
       "      <td>True</td>\n",
       "    </tr>\n",
       "    <tr>\n",
       "      <th>8</th>\n",
       "      <td>gcs_motor_apache_1.0</td>\n",
       "      <td>True</td>\n",
       "    </tr>\n",
       "    <tr>\n",
       "      <th>9</th>\n",
       "      <td>gcs_motor_apache_2.0</td>\n",
       "      <td>False</td>\n",
       "    </tr>\n",
       "    <tr>\n",
       "      <th>10</th>\n",
       "      <td>gcs_motor_apache_3.0</td>\n",
       "      <td>False</td>\n",
       "    </tr>\n",
       "    <tr>\n",
       "      <th>11</th>\n",
       "      <td>gcs_motor_apache_4.0</td>\n",
       "      <td>False</td>\n",
       "    </tr>\n",
       "    <tr>\n",
       "      <th>12</th>\n",
       "      <td>gcs_motor_apache_5.0</td>\n",
       "      <td>True</td>\n",
       "    </tr>\n",
       "    <tr>\n",
       "      <th>13</th>\n",
       "      <td>gcs_motor_apache_6.0</td>\n",
       "      <td>True</td>\n",
       "    </tr>\n",
       "    <tr>\n",
       "      <th>14</th>\n",
       "      <td>gcs_verbal_apache_1.0</td>\n",
       "      <td>True</td>\n",
       "    </tr>\n",
       "    <tr>\n",
       "      <th>15</th>\n",
       "      <td>gcs_verbal_apache_2.0</td>\n",
       "      <td>False</td>\n",
       "    </tr>\n",
       "    <tr>\n",
       "      <th>16</th>\n",
       "      <td>gcs_verbal_apache_3.0</td>\n",
       "      <td>False</td>\n",
       "    </tr>\n",
       "    <tr>\n",
       "      <th>17</th>\n",
       "      <td>gcs_verbal_apache_4.0</td>\n",
       "      <td>True</td>\n",
       "    </tr>\n",
       "    <tr>\n",
       "      <th>18</th>\n",
       "      <td>gcs_verbal_apache_5.0</td>\n",
       "      <td>True</td>\n",
       "    </tr>\n",
       "    <tr>\n",
       "      <th>19</th>\n",
       "      <td>apache_3j_bodysystem_Cardiovascular</td>\n",
       "      <td>True</td>\n",
       "    </tr>\n",
       "    <tr>\n",
       "      <th>20</th>\n",
       "      <td>apache_3j_bodysystem_Gastrointestinal</td>\n",
       "      <td>False</td>\n",
       "    </tr>\n",
       "    <tr>\n",
       "      <th>21</th>\n",
       "      <td>apache_3j_bodysystem_Genitourinary</td>\n",
       "      <td>False</td>\n",
       "    </tr>\n",
       "    <tr>\n",
       "      <th>22</th>\n",
       "      <td>apache_3j_bodysystem_Gynecological</td>\n",
       "      <td>False</td>\n",
       "    </tr>\n",
       "    <tr>\n",
       "      <th>23</th>\n",
       "      <td>apache_3j_bodysystem_Hematological</td>\n",
       "      <td>False</td>\n",
       "    </tr>\n",
       "    <tr>\n",
       "      <th>24</th>\n",
       "      <td>apache_3j_bodysystem_Metabolic</td>\n",
       "      <td>True</td>\n",
       "    </tr>\n",
       "    <tr>\n",
       "      <th>25</th>\n",
       "      <td>apache_3j_bodysystem_Musculoskeletal/Skin</td>\n",
       "      <td>False</td>\n",
       "    </tr>\n",
       "    <tr>\n",
       "      <th>26</th>\n",
       "      <td>apache_3j_bodysystem_Neurological</td>\n",
       "      <td>False</td>\n",
       "    </tr>\n",
       "    <tr>\n",
       "      <th>27</th>\n",
       "      <td>apache_3j_bodysystem_Respiratory</td>\n",
       "      <td>True</td>\n",
       "    </tr>\n",
       "    <tr>\n",
       "      <th>28</th>\n",
       "      <td>apache_3j_bodysystem_Sepsis</td>\n",
       "      <td>True</td>\n",
       "    </tr>\n",
       "    <tr>\n",
       "      <th>29</th>\n",
       "      <td>apache_3j_bodysystem_Trauma</td>\n",
       "      <td>False</td>\n",
       "    </tr>\n",
       "    <tr>\n",
       "      <th>30</th>\n",
       "      <td>apache_2_bodysystem_Cardiovascular</td>\n",
       "      <td>True</td>\n",
       "    </tr>\n",
       "    <tr>\n",
       "      <th>31</th>\n",
       "      <td>apache_2_bodysystem_Gastrointestinal</td>\n",
       "      <td>True</td>\n",
       "    </tr>\n",
       "    <tr>\n",
       "      <th>32</th>\n",
       "      <td>apache_2_bodysystem_Haematologic</td>\n",
       "      <td>False</td>\n",
       "    </tr>\n",
       "    <tr>\n",
       "      <th>33</th>\n",
       "      <td>apache_2_bodysystem_Metabolic</td>\n",
       "      <td>True</td>\n",
       "    </tr>\n",
       "    <tr>\n",
       "      <th>34</th>\n",
       "      <td>apache_2_bodysystem_Neurologic</td>\n",
       "      <td>True</td>\n",
       "    </tr>\n",
       "    <tr>\n",
       "      <th>35</th>\n",
       "      <td>apache_2_bodysystem_Renal/Genitourinary</td>\n",
       "      <td>False</td>\n",
       "    </tr>\n",
       "    <tr>\n",
       "      <th>36</th>\n",
       "      <td>apache_2_bodysystem_Respiratory</td>\n",
       "      <td>False</td>\n",
       "    </tr>\n",
       "    <tr>\n",
       "      <th>37</th>\n",
       "      <td>apache_2_bodysystem_Trauma</td>\n",
       "      <td>False</td>\n",
       "    </tr>\n",
       "    <tr>\n",
       "      <th>38</th>\n",
       "      <td>apache_2_bodysystem_Undefined diagnoses</td>\n",
       "      <td>True</td>\n",
       "    </tr>\n",
       "  </tbody>\n",
       "</table>\n",
       "</div>"
      ],
      "text/plain": [
       "                                      columns   Kept\n",
       "0                                         age   True\n",
       "1                            elective_surgery   True\n",
       "2                            pre_icu_los_days   True\n",
       "3                                      weight   True\n",
       "4                            intubated_apache   True\n",
       "5                           ventilated_apache   True\n",
       "6                 solid_tumor_with_metastasis   True\n",
       "7                           immunosuppression   True\n",
       "8                        gcs_motor_apache_1.0   True\n",
       "9                        gcs_motor_apache_2.0  False\n",
       "10                       gcs_motor_apache_3.0  False\n",
       "11                       gcs_motor_apache_4.0  False\n",
       "12                       gcs_motor_apache_5.0   True\n",
       "13                       gcs_motor_apache_6.0   True\n",
       "14                      gcs_verbal_apache_1.0   True\n",
       "15                      gcs_verbal_apache_2.0  False\n",
       "16                      gcs_verbal_apache_3.0  False\n",
       "17                      gcs_verbal_apache_4.0   True\n",
       "18                      gcs_verbal_apache_5.0   True\n",
       "19        apache_3j_bodysystem_Cardiovascular   True\n",
       "20      apache_3j_bodysystem_Gastrointestinal  False\n",
       "21         apache_3j_bodysystem_Genitourinary  False\n",
       "22         apache_3j_bodysystem_Gynecological  False\n",
       "23         apache_3j_bodysystem_Hematological  False\n",
       "24             apache_3j_bodysystem_Metabolic   True\n",
       "25  apache_3j_bodysystem_Musculoskeletal/Skin  False\n",
       "26          apache_3j_bodysystem_Neurological  False\n",
       "27           apache_3j_bodysystem_Respiratory   True\n",
       "28                apache_3j_bodysystem_Sepsis   True\n",
       "29                apache_3j_bodysystem_Trauma  False\n",
       "30         apache_2_bodysystem_Cardiovascular   True\n",
       "31       apache_2_bodysystem_Gastrointestinal   True\n",
       "32           apache_2_bodysystem_Haematologic  False\n",
       "33              apache_2_bodysystem_Metabolic   True\n",
       "34             apache_2_bodysystem_Neurologic   True\n",
       "35    apache_2_bodysystem_Renal/Genitourinary  False\n",
       "36            apache_2_bodysystem_Respiratory  False\n",
       "37                 apache_2_bodysystem_Trauma  False\n",
       "38    apache_2_bodysystem_Undefined diagnoses   True"
      ]
     },
     "execution_count": 62,
     "metadata": {},
     "output_type": "execute_result"
    },
    {
     "name": "stdout",
     "output_type": "stream",
     "text": [
      "time: 6.3 ms (started: 2022-12-05 10:27:13 -05:00)\n"
     ]
    }
   ],
   "source": [
    "features_kept = pd.DataFrame({'columns': X.columns,'Kept': rfecv.support_})\n",
    "features_kept"
   ]
  },
  {
   "cell_type": "code",
   "execution_count": 63,
   "metadata": {
    "colab": {
     "base_uri": "https://localhost:8080/"
    },
    "id": "s0VQwYTPptEH",
    "outputId": "de122628-15d8-4b07-d917-cb928b2f48cf"
   },
   "outputs": [
    {
     "name": "stdout",
     "output_type": "stream",
     "text": [
      "<class 'pandas.core.frame.DataFrame'>\n",
      "Int64Index: 11110 entries, 0 to 12000\n",
      "Data columns (total 23 columns):\n",
      " #   Column                                   Non-Null Count  Dtype  \n",
      "---  ------                                   --------------  -----  \n",
      " 0   age                                      11110 non-null  float64\n",
      " 1   elective_surgery                         11110 non-null  int64  \n",
      " 2   pre_icu_los_days                         11110 non-null  float64\n",
      " 3   weight                                   11110 non-null  float64\n",
      " 4   intubated_apache                         11110 non-null  float64\n",
      " 5   ventilated_apache                        11110 non-null  float64\n",
      " 6   solid_tumor_with_metastasis              11110 non-null  float64\n",
      " 7   immunosuppression                        11110 non-null  float64\n",
      " 8   gcs_motor_apache_1.0                     11110 non-null  uint8  \n",
      " 9   gcs_motor_apache_5.0                     11110 non-null  uint8  \n",
      " 10  gcs_motor_apache_6.0                     11110 non-null  uint8  \n",
      " 11  gcs_verbal_apache_1.0                    11110 non-null  uint8  \n",
      " 12  gcs_verbal_apache_4.0                    11110 non-null  uint8  \n",
      " 13  gcs_verbal_apache_5.0                    11110 non-null  uint8  \n",
      " 14  apache_3j_bodysystem_Cardiovascular      11110 non-null  uint8  \n",
      " 15  apache_3j_bodysystem_Metabolic           11110 non-null  uint8  \n",
      " 16  apache_3j_bodysystem_Respiratory         11110 non-null  uint8  \n",
      " 17  apache_3j_bodysystem_Sepsis              11110 non-null  uint8  \n",
      " 18  apache_2_bodysystem_Cardiovascular       11110 non-null  uint8  \n",
      " 19  apache_2_bodysystem_Gastrointestinal     11110 non-null  uint8  \n",
      " 20  apache_2_bodysystem_Metabolic            11110 non-null  uint8  \n",
      " 21  apache_2_bodysystem_Neurologic           11110 non-null  uint8  \n",
      " 22  apache_2_bodysystem_Undefined diagnoses  11110 non-null  uint8  \n",
      "dtypes: float64(7), int64(1), uint8(15)\n",
      "memory usage: 943.9 KB\n",
      "time: 15 ms (started: 2022-12-05 10:27:13 -05:00)\n"
     ]
    }
   ],
   "source": [
    "#List the features to keep for model\n",
    "X_new_df = X.iloc[:, rfecv.support_]\n",
    "X_new_df.info()"
   ]
  },
  {
   "cell_type": "code",
   "execution_count": 64,
   "metadata": {
    "colab": {
     "base_uri": "https://localhost:8080/",
     "height": 334
    },
    "id": "oOdz6OEoq3CM",
    "outputId": "f2b7c7b5-baac-4d49-a399-bf02c43e68b8"
   },
   "outputs": [
    {
     "data": {
      "text/html": [
       "<div>\n",
       "<style scoped>\n",
       "    .dataframe tbody tr th:only-of-type {\n",
       "        vertical-align: middle;\n",
       "    }\n",
       "\n",
       "    .dataframe tbody tr th {\n",
       "        vertical-align: top;\n",
       "    }\n",
       "\n",
       "    .dataframe thead th {\n",
       "        text-align: right;\n",
       "    }\n",
       "</style>\n",
       "<table border=\"1\" class=\"dataframe\">\n",
       "  <thead>\n",
       "    <tr style=\"text-align: right;\">\n",
       "      <th></th>\n",
       "      <th>age</th>\n",
       "      <th>elective_surgery</th>\n",
       "      <th>pre_icu_los_days</th>\n",
       "      <th>weight</th>\n",
       "      <th>intubated_apache</th>\n",
       "      <th>ventilated_apache</th>\n",
       "      <th>solid_tumor_with_metastasis</th>\n",
       "      <th>immunosuppression</th>\n",
       "      <th>gcs_motor_apache_1.0</th>\n",
       "      <th>gcs_motor_apache_5.0</th>\n",
       "      <th>...</th>\n",
       "      <th>gcs_verbal_apache_5.0</th>\n",
       "      <th>apache_3j_bodysystem_Cardiovascular</th>\n",
       "      <th>apache_3j_bodysystem_Metabolic</th>\n",
       "      <th>apache_3j_bodysystem_Respiratory</th>\n",
       "      <th>apache_3j_bodysystem_Sepsis</th>\n",
       "      <th>apache_2_bodysystem_Cardiovascular</th>\n",
       "      <th>apache_2_bodysystem_Gastrointestinal</th>\n",
       "      <th>apache_2_bodysystem_Metabolic</th>\n",
       "      <th>apache_2_bodysystem_Neurologic</th>\n",
       "      <th>apache_2_bodysystem_Undefined diagnoses</th>\n",
       "    </tr>\n",
       "  </thead>\n",
       "  <tbody>\n",
       "    <tr>\n",
       "      <th>0</th>\n",
       "      <td>-0.163886</td>\n",
       "      <td>0</td>\n",
       "      <td>-0.347396</td>\n",
       "      <td>2.172586</td>\n",
       "      <td>0.0</td>\n",
       "      <td>0.0</td>\n",
       "      <td>0.0</td>\n",
       "      <td>0.0</td>\n",
       "      <td>0</td>\n",
       "      <td>0</td>\n",
       "      <td>...</td>\n",
       "      <td>1</td>\n",
       "      <td>0</td>\n",
       "      <td>0</td>\n",
       "      <td>0</td>\n",
       "      <td>1</td>\n",
       "      <td>1</td>\n",
       "      <td>0</td>\n",
       "      <td>0</td>\n",
       "      <td>0</td>\n",
       "      <td>0</td>\n",
       "    </tr>\n",
       "    <tr>\n",
       "      <th>2</th>\n",
       "      <td>0.086710</td>\n",
       "      <td>0</td>\n",
       "      <td>1.338448</td>\n",
       "      <td>0.798130</td>\n",
       "      <td>0.0</td>\n",
       "      <td>0.0</td>\n",
       "      <td>0.0</td>\n",
       "      <td>0.0</td>\n",
       "      <td>0</td>\n",
       "      <td>0</td>\n",
       "      <td>...</td>\n",
       "      <td>1</td>\n",
       "      <td>1</td>\n",
       "      <td>0</td>\n",
       "      <td>0</td>\n",
       "      <td>0</td>\n",
       "      <td>1</td>\n",
       "      <td>0</td>\n",
       "      <td>0</td>\n",
       "      <td>0</td>\n",
       "      <td>0</td>\n",
       "    </tr>\n",
       "    <tr>\n",
       "      <th>3</th>\n",
       "      <td>0.000000</td>\n",
       "      <td>0</td>\n",
       "      <td>-0.345275</td>\n",
       "      <td>-1.096179</td>\n",
       "      <td>0.0</td>\n",
       "      <td>1.0</td>\n",
       "      <td>0.0</td>\n",
       "      <td>0.0</td>\n",
       "      <td>0</td>\n",
       "      <td>0</td>\n",
       "      <td>...</td>\n",
       "      <td>0</td>\n",
       "      <td>0</td>\n",
       "      <td>0</td>\n",
       "      <td>0</td>\n",
       "      <td>1</td>\n",
       "      <td>1</td>\n",
       "      <td>0</td>\n",
       "      <td>0</td>\n",
       "      <td>0</td>\n",
       "      <td>0</td>\n",
       "    </tr>\n",
       "    <tr>\n",
       "      <th>4</th>\n",
       "      <td>1.151742</td>\n",
       "      <td>0</td>\n",
       "      <td>-0.345039</td>\n",
       "      <td>0.333414</td>\n",
       "      <td>0.0</td>\n",
       "      <td>0.0</td>\n",
       "      <td>0.0</td>\n",
       "      <td>0.0</td>\n",
       "      <td>0</td>\n",
       "      <td>0</td>\n",
       "      <td>...</td>\n",
       "      <td>1</td>\n",
       "      <td>1</td>\n",
       "      <td>0</td>\n",
       "      <td>0</td>\n",
       "      <td>0</td>\n",
       "      <td>1</td>\n",
       "      <td>0</td>\n",
       "      <td>0</td>\n",
       "      <td>0</td>\n",
       "      <td>0</td>\n",
       "    </tr>\n",
       "    <tr>\n",
       "      <th>5</th>\n",
       "      <td>1.089093</td>\n",
       "      <td>0</td>\n",
       "      <td>-0.271967</td>\n",
       "      <td>-0.555848</td>\n",
       "      <td>1.0</td>\n",
       "      <td>1.0</td>\n",
       "      <td>0.0</td>\n",
       "      <td>0.0</td>\n",
       "      <td>0</td>\n",
       "      <td>0</td>\n",
       "      <td>...</td>\n",
       "      <td>0</td>\n",
       "      <td>0</td>\n",
       "      <td>0</td>\n",
       "      <td>0</td>\n",
       "      <td>0</td>\n",
       "      <td>0</td>\n",
       "      <td>0</td>\n",
       "      <td>0</td>\n",
       "      <td>1</td>\n",
       "      <td>0</td>\n",
       "    </tr>\n",
       "  </tbody>\n",
       "</table>\n",
       "<p>5 rows × 23 columns</p>\n",
       "</div>"
      ],
      "text/plain": [
       "        age  elective_surgery  pre_icu_los_days    weight  intubated_apache  \\\n",
       "0 -0.163886                 0         -0.347396  2.172586               0.0   \n",
       "2  0.086710                 0          1.338448  0.798130               0.0   \n",
       "3  0.000000                 0         -0.345275 -1.096179               0.0   \n",
       "4  1.151742                 0         -0.345039  0.333414               0.0   \n",
       "5  1.089093                 0         -0.271967 -0.555848               1.0   \n",
       "\n",
       "   ventilated_apache  solid_tumor_with_metastasis  immunosuppression  \\\n",
       "0                0.0                          0.0                0.0   \n",
       "2                0.0                          0.0                0.0   \n",
       "3                1.0                          0.0                0.0   \n",
       "4                0.0                          0.0                0.0   \n",
       "5                1.0                          0.0                0.0   \n",
       "\n",
       "   gcs_motor_apache_1.0  gcs_motor_apache_5.0  ...  gcs_verbal_apache_5.0  \\\n",
       "0                     0                     0  ...                      1   \n",
       "2                     0                     0  ...                      1   \n",
       "3                     0                     0  ...                      0   \n",
       "4                     0                     0  ...                      1   \n",
       "5                     0                     0  ...                      0   \n",
       "\n",
       "   apache_3j_bodysystem_Cardiovascular  apache_3j_bodysystem_Metabolic  \\\n",
       "0                                    0                               0   \n",
       "2                                    1                               0   \n",
       "3                                    0                               0   \n",
       "4                                    1                               0   \n",
       "5                                    0                               0   \n",
       "\n",
       "   apache_3j_bodysystem_Respiratory  apache_3j_bodysystem_Sepsis  \\\n",
       "0                                 0                            1   \n",
       "2                                 0                            0   \n",
       "3                                 0                            1   \n",
       "4                                 0                            0   \n",
       "5                                 0                            0   \n",
       "\n",
       "   apache_2_bodysystem_Cardiovascular  apache_2_bodysystem_Gastrointestinal  \\\n",
       "0                                   1                                     0   \n",
       "2                                   1                                     0   \n",
       "3                                   1                                     0   \n",
       "4                                   1                                     0   \n",
       "5                                   0                                     0   \n",
       "\n",
       "   apache_2_bodysystem_Metabolic  apache_2_bodysystem_Neurologic  \\\n",
       "0                              0                               0   \n",
       "2                              0                               0   \n",
       "3                              0                               0   \n",
       "4                              0                               0   \n",
       "5                              0                               1   \n",
       "\n",
       "   apache_2_bodysystem_Undefined diagnoses  \n",
       "0                                        0  \n",
       "2                                        0  \n",
       "3                                        0  \n",
       "4                                        0  \n",
       "5                                        0  \n",
       "\n",
       "[5 rows x 23 columns]"
      ]
     },
     "execution_count": 64,
     "metadata": {},
     "output_type": "execute_result"
    },
    {
     "name": "stdout",
     "output_type": "stream",
     "text": [
      "time: 30.5 ms (started: 2022-12-05 10:27:13 -05:00)\n"
     ]
    }
   ],
   "source": [
    "X_new_df = X.iloc[:, rfecv.support_]\n",
    "X_new_df.head()"
   ]
  },
  {
   "cell_type": "code",
   "execution_count": 65,
   "metadata": {
    "colab": {
     "base_uri": "https://localhost:8080/"
    },
    "id": "Bx0yEpZDFUks",
    "outputId": "b2679b98-ea2c-4efd-8117-07c0e476166d"
   },
   "outputs": [
    {
     "data": {
      "text/plain": [
       "Index(['age', 'elective_surgery', 'pre_icu_los_days', 'weight',\n",
       "       'intubated_apache', 'ventilated_apache', 'solid_tumor_with_metastasis',\n",
       "       'immunosuppression', 'gcs_motor_apache_1.0', 'gcs_motor_apache_5.0',\n",
       "       'gcs_motor_apache_6.0', 'gcs_verbal_apache_1.0',\n",
       "       'gcs_verbal_apache_4.0', 'gcs_verbal_apache_5.0',\n",
       "       'apache_3j_bodysystem_Cardiovascular', 'apache_3j_bodysystem_Metabolic',\n",
       "       'apache_3j_bodysystem_Respiratory', 'apache_3j_bodysystem_Sepsis',\n",
       "       'apache_2_bodysystem_Cardiovascular',\n",
       "       'apache_2_bodysystem_Gastrointestinal', 'apache_2_bodysystem_Metabolic',\n",
       "       'apache_2_bodysystem_Neurologic',\n",
       "       'apache_2_bodysystem_Undefined diagnoses'],\n",
       "      dtype='object')"
      ]
     },
     "execution_count": 65,
     "metadata": {},
     "output_type": "execute_result"
    },
    {
     "name": "stdout",
     "output_type": "stream",
     "text": [
      "time: 5.19 ms (started: 2022-12-05 10:27:13 -05:00)\n"
     ]
    }
   ],
   "source": [
    "X_new_df.columns"
   ]
  },
  {
   "cell_type": "code",
   "execution_count": 66,
   "metadata": {
    "colab": {
     "base_uri": "https://localhost:8080/"
    },
    "id": "fbyftYWHrAQe",
    "outputId": "57f0b0bc-97c8-42ea-f5ec-24c3c53421ee"
   },
   "outputs": [
    {
     "data": {
      "text/plain": [
       "array([ 1,  1,  1,  1,  1,  1,  1,  1,  1, 14, 12,  4,  1,  1,  1,  9,  6,\n",
       "        1,  1,  1,  5, 11, 17, 16,  1, 15,  7,  1,  1, 10,  1,  1, 13,  1,\n",
       "        1,  8,  2,  3,  1])"
      ]
     },
     "execution_count": 66,
     "metadata": {},
     "output_type": "execute_result"
    },
    {
     "name": "stdout",
     "output_type": "stream",
     "text": [
      "time: 7.64 ms (started: 2022-12-05 10:27:13 -05:00)\n"
     ]
    }
   ],
   "source": [
    "rfecv.ranking_"
   ]
  },
  {
   "cell_type": "code",
   "execution_count": 67,
   "metadata": {
    "colab": {
     "base_uri": "https://localhost:8080/"
    },
    "id": "GmmugWlvrE7s",
    "outputId": "332bb57b-ea03-4a5a-9017-2c02a92062f0"
   },
   "outputs": [
    {
     "name": "stdout",
     "output_type": "stream",
     "text": [
      "Optimum number of features: 23\n",
      "time: 460 µs (started: 2022-12-05 10:27:13 -05:00)\n"
     ]
    }
   ],
   "source": [
    "print(\"Optimum number of features: %d\" % rfecv.n_features_)"
   ]
  },
  {
   "cell_type": "code",
   "execution_count": 68,
   "metadata": {
    "colab": {
     "base_uri": "https://localhost:8080/",
     "height": 462
    },
    "id": "xRFZhcqcrE9x",
    "outputId": "ea48d11d-a54e-49ab-acc1-49b8ef9be4c7"
   },
   "outputs": [
    {
     "name": "stderr",
     "output_type": "stream",
     "text": [
      "/usr/local/lib/python3.9/site-packages/sklearn/utils/deprecation.py:103: FutureWarning: The `grid_scores_` attribute is deprecated in version 1.0 in favor of `cv_results_` and will be removed in version 1.2.\n",
      "  warnings.warn(msg, category=FutureWarning)\n"
     ]
    },
    {
     "data": {
      "image/png": "[encoded data removed]",
      "text/plain": [
       "<Figure size 1152x432 with 1 Axes>"
      ]
     },
     "metadata": {
      "needs_background": "light"
     },
     "output_type": "display_data"
    },
    {
     "name": "stdout",
     "output_type": "stream",
     "text": [
      "time: 257 ms (started: 2022-12-05 10:27:13 -05:00)\n"
     ]
    }
   ],
   "source": [
    "plt.figure( figsize=(16, 6))\n",
    "plt.title('Total features selected versus AUROC')\n",
    "plt.xlabel('Total features selected')\n",
    "plt.ylabel('Model AUROC')\n",
    "plt.plot(range(1, len(rfecv.grid_scores_) + 1), rfecv.grid_scores_)\n",
    "plt.show()\n"
   ]
  },
  {
   "cell_type": "code",
   "execution_count": 69,
   "metadata": {
    "colab": {
     "base_uri": "https://localhost:8080/"
    },
    "id": "U1Y7X-p29oEb",
    "outputId": "f017dd04-8a39-4489-e9eb-7d29af542836"
   },
   "outputs": [
    {
     "name": "stdout",
     "output_type": "stream",
     "text": [
      "Optimization terminated successfully.\n",
      "         Current function value: 0.502417\n",
      "         Iterations 6\n",
      "                                                           Results: Logit\n",
      "====================================================================================================================================\n",
      "Model:                                     Logit                                  Pseudo R-squared:                       0.275     \n",
      "Dependent Variable:                        hospital_death                         AIC:                                    11207.7013\n",
      "Date:                                      2022-12-05 10:27                       BIC:                                    11368.6445\n",
      "No. Observations:                          11110                                  Log-Likelihood:                         -5581.9   \n",
      "Df Model:                                  21                                     LL-Null:                                -7697.6   \n",
      "Df Residuals:                              11088                                  LLR p-value:                            0.0000    \n",
      "Converged:                                 1.0000                                 Scale:                                  1.0000    \n",
      "No. Iterations:                            6.0000                                                                                   \n",
      "------------------------------------------------------------------------------------------------------------------------------------\n",
      "                                         Coef.         Std.Err.          z     P>|z|           [0.025                 0.975]        \n",
      "------------------------------------------------------------------------------------------------------------------------------------\n",
      "age                                      0.5290                0.0410  12.9116 0.0000                  0.4487                 0.6093\n",
      "elective_surgery                        -1.2590                0.0770 -16.3447 0.0000                 -1.4100                -1.1080\n",
      "pre_icu_los_days                         0.3386                0.0321  10.5450 0.0000                  0.2757                 0.4016\n",
      "weight                                  -0.1021                0.0230  -4.4411 0.0000                 -0.1472                -0.0571\n",
      "intubated_apache                         0.4946                0.0714   6.9218 0.0000                  0.3545                 0.6346\n",
      "ventilated_apache                        0.9032                0.0624  14.4729 0.0000                  0.7809                 1.0255\n",
      "solid_tumor_with_metastasis              0.9297                0.1464   6.3503 0.0000                  0.6427                 1.2166\n",
      "immunosuppression                        0.5201                0.1279   4.0661 0.0000                  0.2694                 0.7708\n",
      "gcs_motor_apache_1.0                     0.8294                0.1020   8.1282 0.0000                  0.6294                 1.0294\n",
      "gcs_motor_apache_5.0                    -0.2747                   nan      nan    nan                     nan                    nan\n",
      "gcs_motor_apache_6.0                    -0.6685                   nan      nan    nan                     nan                    nan\n",
      "gcs_verbal_apache_1.0                   -0.1191                0.1043  -1.1417 0.2536                 -0.3236                 0.0854\n",
      "gcs_verbal_apache_4.0                   -0.1249                0.1278  -0.9780 0.3281                 -0.3753                 0.1255\n",
      "gcs_verbal_apache_5.0                   -0.7115                0.1021  -6.9704 0.0000                 -0.9116                -0.5114\n",
      "apache_3j_bodysystem_Cardiovascular     -2.2126                0.4625  -4.7840 0.0000                 -3.1191                -1.3061\n",
      "apache_3j_bodysystem_Metabolic          -0.5244 6034131935966236.0000  -0.0000 1.0000 -11826681272456774.0000 11826681272456774.0000\n",
      "apache_3j_bodysystem_Respiratory         0.3072                0.0365   8.4104 0.0000                  0.2356                 0.3788\n",
      "apache_3j_bodysystem_Sepsis             -1.4542                0.4676  -3.1100 0.0019                 -2.3706                -0.5378\n",
      "apache_2_bodysystem_Cardiovascular       2.4510                0.3376   7.2602 0.0000                  1.7894                 3.1127\n",
      "apache_2_bodysystem_Gastrointestinal     0.5326                0.0465  11.4631 0.0000                  0.4416                 0.6237\n",
      "apache_2_bodysystem_Metabolic           -0.5244 6034131935966235.0000  -0.0000 1.0000 -11826681272456772.0000 11826681272456772.0000\n",
      "apache_2_bodysystem_Neurologic           0.1476                   nan      nan    nan                     nan                    nan\n",
      "apache_2_bodysystem_Undefined diagnoses  0.4061                0.2594   1.5653 0.1175                 -0.1024                 0.9145\n",
      "====================================================================================================================================\n",
      "\n",
      "time: 81.8 ms (started: 2022-12-05 10:27:13 -05:00)\n"
     ]
    }
   ],
   "source": [
    "logit_model=sm.Logit(y,X_new_df)\n",
    "result=logit_model.fit()\n",
    "print(result.summary2())"
   ]
  },
  {
   "cell_type": "code",
   "execution_count": 70,
   "metadata": {
    "colab": {
     "base_uri": "https://localhost:8080/"
    },
    "id": "TvXovV_GBjJB",
    "outputId": "a6d43b52-a5ec-477d-b8be-1222befa3414"
   },
   "outputs": [
    {
     "data": {
      "text/plain": [
       "Index(['age', 'elective_surgery', 'pre_icu_los_days', 'weight',\n",
       "       'intubated_apache', 'ventilated_apache', 'solid_tumor_with_metastasis',\n",
       "       'immunosuppression', 'gcs_motor_apache_1.0', 'gcs_motor_apache_5.0',\n",
       "       'gcs_motor_apache_6.0', 'gcs_verbal_apache_1.0',\n",
       "       'gcs_verbal_apache_4.0', 'gcs_verbal_apache_5.0',\n",
       "       'apache_3j_bodysystem_Cardiovascular', 'apache_3j_bodysystem_Metabolic',\n",
       "       'apache_3j_bodysystem_Respiratory', 'apache_3j_bodysystem_Sepsis',\n",
       "       'apache_2_bodysystem_Cardiovascular',\n",
       "       'apache_2_bodysystem_Gastrointestinal', 'apache_2_bodysystem_Metabolic',\n",
       "       'apache_2_bodysystem_Neurologic',\n",
       "       'apache_2_bodysystem_Undefined diagnoses'],\n",
       "      dtype='object')"
      ]
     },
     "execution_count": 70,
     "metadata": {},
     "output_type": "execute_result"
    },
    {
     "name": "stdout",
     "output_type": "stream",
     "text": [
      "time: 3.12 ms (started: 2022-12-05 10:27:14 -05:00)\n"
     ]
    }
   ],
   "source": [
    "X_new_df.columns"
   ]
  },
  {
   "cell_type": "code",
   "execution_count": 71,
   "metadata": {
    "colab": {
     "base_uri": "https://localhost:8080/"
    },
    "id": "1PQNFD7-BuU5",
    "outputId": "7868f363-55a3-4246-e8ec-88e03f292559"
   },
   "outputs": [
    {
     "name": "stdout",
     "output_type": "stream",
     "text": [
      "time: 461 µs (started: 2022-12-05 10:27:14 -05:00)\n"
     ]
    }
   ],
   "source": [
    " X2_df=X_new_df"
   ]
  },
  {
   "cell_type": "markdown",
   "metadata": {
    "id": "ZYwzLKVf-u7r"
   },
   "source": [
    "Logistic Regresssion with Stratified K-Fold CV"
   ]
  },
  {
   "cell_type": "code",
   "execution_count": 72,
   "metadata": {
    "colab": {
     "base_uri": "https://localhost:8080/",
     "height": 607
    },
    "id": "4VOH1DGh_ERU",
    "outputId": "9478d6d4-f20c-4bd2-f4da-aae68066155f"
   },
   "outputs": [
    {
     "name": "stdout",
     "output_type": "stream",
     "text": [
      "[0.83349114 0.81889636 0.82965519 0.85059242 0.8331377  0.81695731\n",
      " 0.83498596 0.86229483 0.83618247 0.82226863]\n",
      "AUROC: 0.834 (0.013)\n",
      "Confusion Matrix: \n"
     ]
    },
    {
     "data": {
      "image/png": "[encoded data removed]",
      "text/plain": [
       "<Figure size 648x648 with 2 Axes>"
      ]
     },
     "metadata": {
      "needs_background": "light"
     },
     "output_type": "display_data"
    },
    {
     "name": "stdout",
     "output_type": "stream",
     "text": [
      "time: 4.08 s (started: 2022-12-05 10:27:14 -05:00)\n"
     ]
    }
   ],
   "source": [
    "logR = LogisticRegression(solver='liblinear')\n",
    "lscore = cross_val_score(logR, X2_df, y, scoring='roc_auc', cv=10, n_jobs=-1) \n",
    "print(lscore)\n",
    "print('AUROC: %.3f (%.3f)' % (lscore.mean(), lscore.std()))\n",
    "y_predl = cross_val_predict(logR, X2_df, y, cv=10)\n",
    "#Confusion Matrix\n",
    "conf_mat = confusion_matrix(y, y_predl)\n",
    "print('Confusion Matrix: ')\n",
    "lrmean = round(lscore.mean(),3)\n",
    "lrstd = round(lscore.std(),3)\n",
    "plt.figure(figsize=(9,9))\n",
    "sns.heatmap(conf_mat, annot=True, fmt=\".3f\", linewidths=.5, square = True, cmap = 'Blues_r');\n",
    "plt.ylabel('Actual label');\n",
    "plt.xlabel('Predicted label');\n",
    "all_sample_title = 'AUROC: {0}'.format(lrmean)\n",
    "plt.title(all_sample_title, size = 15);"
   ]
  },
  {
   "cell_type": "code",
   "execution_count": 73,
   "metadata": {
    "colab": {
     "base_uri": "https://localhost:8080/"
    },
    "id": "uJRlrykloeAd",
    "outputId": "cf3bbe15-87cb-4af7-997e-973e3df92628"
   },
   "outputs": [
    {
     "name": "stdout",
     "output_type": "stream",
     "text": [
      "              precision    recall  f1-score   support\n",
      "\n",
      "           0       0.75      0.78      0.76      5690\n",
      "           1       0.76      0.73      0.74      5420\n",
      "\n",
      "    accuracy                           0.75     11110\n",
      "   macro avg       0.75      0.75      0.75     11110\n",
      "weighted avg       0.75      0.75      0.75     11110\n",
      "\n",
      "time: 19.9 ms (started: 2022-12-05 10:27:18 -05:00)\n"
     ]
    }
   ],
   "source": [
    "print(classification_report(y, y_predl))"
   ]
  },
  {
   "cell_type": "code",
   "execution_count": 74,
   "metadata": {
    "colab": {
     "base_uri": "https://localhost:8080/"
    },
    "id": "NVfnKCV9Dgh-",
    "outputId": "b23bdf77-dfe4-4fb7-fd76-facdf24713d9"
   },
   "outputs": [
    {
     "name": "stdout",
     "output_type": "stream",
     "text": [
      "Optimization terminated successfully.\n",
      "         Current function value: 0.502417\n",
      "         Iterations 6\n",
      "                                                           Results: Logit\n",
      "====================================================================================================================================\n",
      "Model:                                     Logit                                  Pseudo R-squared:                       0.275     \n",
      "Dependent Variable:                        hospital_death                         AIC:                                    11207.7013\n",
      "Date:                                      2022-12-05 10:27                       BIC:                                    11368.6445\n",
      "No. Observations:                          11110                                  Log-Likelihood:                         -5581.9   \n",
      "Df Model:                                  21                                     LL-Null:                                -7697.6   \n",
      "Df Residuals:                              11088                                  LLR p-value:                            0.0000    \n",
      "Converged:                                 1.0000                                 Scale:                                  1.0000    \n",
      "No. Iterations:                            6.0000                                                                                   \n",
      "------------------------------------------------------------------------------------------------------------------------------------\n",
      "                                         Coef.         Std.Err.          z     P>|z|           [0.025                 0.975]        \n",
      "------------------------------------------------------------------------------------------------------------------------------------\n",
      "age                                      0.5290                0.0410  12.9116 0.0000                  0.4487                 0.6093\n",
      "elective_surgery                        -1.2590                0.0770 -16.3447 0.0000                 -1.4100                -1.1080\n",
      "pre_icu_los_days                         0.3386                0.0321  10.5450 0.0000                  0.2757                 0.4016\n",
      "weight                                  -0.1021                0.0230  -4.4411 0.0000                 -0.1472                -0.0571\n",
      "intubated_apache                         0.4946                0.0714   6.9218 0.0000                  0.3545                 0.6346\n",
      "ventilated_apache                        0.9032                0.0624  14.4729 0.0000                  0.7809                 1.0255\n",
      "solid_tumor_with_metastasis              0.9297                0.1464   6.3503 0.0000                  0.6427                 1.2166\n",
      "immunosuppression                        0.5201                0.1279   4.0661 0.0000                  0.2694                 0.7708\n",
      "gcs_motor_apache_1.0                     0.8294                0.1020   8.1282 0.0000                  0.6294                 1.0294\n",
      "gcs_motor_apache_5.0                    -0.2747                   nan      nan    nan                     nan                    nan\n",
      "gcs_motor_apache_6.0                    -0.6685                   nan      nan    nan                     nan                    nan\n",
      "gcs_verbal_apache_1.0                   -0.1191                0.1043  -1.1417 0.2536                 -0.3236                 0.0854\n",
      "gcs_verbal_apache_4.0                   -0.1249                0.1278  -0.9780 0.3281                 -0.3753                 0.1255\n",
      "gcs_verbal_apache_5.0                   -0.7115                0.1021  -6.9704 0.0000                 -0.9116                -0.5114\n",
      "apache_3j_bodysystem_Cardiovascular     -2.2126                0.4625  -4.7840 0.0000                 -3.1191                -1.3061\n",
      "apache_3j_bodysystem_Metabolic          -0.5244 6034131935966236.0000  -0.0000 1.0000 -11826681272456774.0000 11826681272456774.0000\n",
      "apache_3j_bodysystem_Respiratory         0.3072                0.0365   8.4104 0.0000                  0.2356                 0.3788\n",
      "apache_3j_bodysystem_Sepsis             -1.4542                0.4676  -3.1100 0.0019                 -2.3706                -0.5378\n",
      "apache_2_bodysystem_Cardiovascular       2.4510                0.3376   7.2602 0.0000                  1.7894                 3.1127\n",
      "apache_2_bodysystem_Gastrointestinal     0.5326                0.0465  11.4631 0.0000                  0.4416                 0.6237\n",
      "apache_2_bodysystem_Metabolic           -0.5244 6034131935966235.0000  -0.0000 1.0000 -11826681272456772.0000 11826681272456772.0000\n",
      "apache_2_bodysystem_Neurologic           0.1476                   nan      nan    nan                     nan                    nan\n",
      "apache_2_bodysystem_Undefined diagnoses  0.4061                0.2594   1.5653 0.1175                 -0.1024                 0.9145\n",
      "====================================================================================================================================\n",
      "\n",
      "time: 80.7 ms (started: 2022-12-05 10:27:18 -05:00)\n"
     ]
    }
   ],
   "source": [
    "logit_model=sm.Logit(y,X2_df)\n",
    "result=logit_model.fit()\n",
    "print(result.summary2())"
   ]
  },
  {
   "cell_type": "code",
   "execution_count": 75,
   "metadata": {
    "colab": {
     "base_uri": "https://localhost:8080/"
    },
    "id": "novJ8WYgE_0H",
    "outputId": "d8465f98-dcb5-4ffb-bfb0-92d39772fbff"
   },
   "outputs": [
    {
     "data": {
      "text/plain": [
       "0.8352171868818863"
      ]
     },
     "execution_count": 75,
     "metadata": {},
     "output_type": "execute_result"
    },
    {
     "name": "stdout",
     "output_type": "stream",
     "text": [
      "time: 1.69 s (started: 2022-12-05 10:27:18 -05:00)\n"
     ]
    }
   ],
   "source": [
    "clf = LogisticRegressionCV(cv=10, max_iter=10000, random_state=27, scoring='roc_auc').fit(X2_df, y)\n",
    "clf.score(X2_df, y)"
   ]
  },
  {
   "cell_type": "code",
   "execution_count": 76,
   "metadata": {
    "colab": {
     "base_uri": "https://localhost:8080/"
    },
    "id": "mf2loqlBhyGT",
    "outputId": "e67055ac-44ef-462a-a46e-4d76f20242f3"
   },
   "outputs": [
    {
     "name": "stdout",
     "output_type": "stream",
     "text": [
      "time: 424 ms (started: 2022-12-05 10:27:19 -05:00)\n"
     ]
    }
   ],
   "source": [
    "crossval_scores = cross_val_score(LogisticRegression(max_iter=1000), X2_df, y, scoring='roc_auc', cv=10)"
   ]
  },
  {
   "cell_type": "code",
   "execution_count": 77,
   "metadata": {
    "colab": {
     "base_uri": "https://localhost:8080/"
    },
    "id": "3T_nQdgpiEgM",
    "outputId": "d7e14b13-6a2c-476c-a1e3-ae3706e6255c"
   },
   "outputs": [
    {
     "data": {
      "text/plain": [
       "0.8338458744868644"
      ]
     },
     "execution_count": 77,
     "metadata": {},
     "output_type": "execute_result"
    },
    {
     "name": "stdout",
     "output_type": "stream",
     "text": [
      "time: 2.41 ms (started: 2022-12-05 10:27:20 -05:00)\n"
     ]
    }
   ],
   "source": [
    "crossval_scores.mean()"
   ]
  },
  {
   "cell_type": "code",
   "execution_count": 78,
   "metadata": {
    "colab": {
     "base_uri": "https://localhost:8080/",
     "height": 380
    },
    "id": "9KVCTmwEbR9d",
    "outputId": "65f94625-300b-4d73-f70c-21b0b2be1d67"
   },
   "outputs": [
    {
     "data": {
      "text/html": [
       "<div>\n",
       "<style scoped>\n",
       "    .dataframe tbody tr th:only-of-type {\n",
       "        vertical-align: middle;\n",
       "    }\n",
       "\n",
       "    .dataframe tbody tr th {\n",
       "        vertical-align: top;\n",
       "    }\n",
       "\n",
       "    .dataframe thead th {\n",
       "        text-align: right;\n",
       "    }\n",
       "</style>\n",
       "<table border=\"1\" class=\"dataframe\">\n",
       "  <thead>\n",
       "    <tr style=\"text-align: right;\">\n",
       "      <th></th>\n",
       "      <th>0</th>\n",
       "      <th>1</th>\n",
       "    </tr>\n",
       "  </thead>\n",
       "  <tbody>\n",
       "    <tr>\n",
       "      <th>0</th>\n",
       "      <td>0.691278</td>\n",
       "      <td>0.308722</td>\n",
       "    </tr>\n",
       "    <tr>\n",
       "      <th>1</th>\n",
       "      <td>0.673008</td>\n",
       "      <td>0.326992</td>\n",
       "    </tr>\n",
       "    <tr>\n",
       "      <th>2</th>\n",
       "      <td>0.141755</td>\n",
       "      <td>0.858245</td>\n",
       "    </tr>\n",
       "    <tr>\n",
       "      <th>3</th>\n",
       "      <td>0.664261</td>\n",
       "      <td>0.335739</td>\n",
       "    </tr>\n",
       "    <tr>\n",
       "      <th>4</th>\n",
       "      <td>0.191516</td>\n",
       "      <td>0.808484</td>\n",
       "    </tr>\n",
       "    <tr>\n",
       "      <th>5</th>\n",
       "      <td>0.074057</td>\n",
       "      <td>0.925943</td>\n",
       "    </tr>\n",
       "    <tr>\n",
       "      <th>6</th>\n",
       "      <td>0.158970</td>\n",
       "      <td>0.841030</td>\n",
       "    </tr>\n",
       "    <tr>\n",
       "      <th>7</th>\n",
       "      <td>0.150112</td>\n",
       "      <td>0.849888</td>\n",
       "    </tr>\n",
       "    <tr>\n",
       "      <th>8</th>\n",
       "      <td>0.535078</td>\n",
       "      <td>0.464922</td>\n",
       "    </tr>\n",
       "    <tr>\n",
       "      <th>9</th>\n",
       "      <td>0.341794</td>\n",
       "      <td>0.658206</td>\n",
       "    </tr>\n",
       "  </tbody>\n",
       "</table>\n",
       "</div>"
      ],
      "text/plain": [
       "          0         1\n",
       "0  0.691278  0.308722\n",
       "1  0.673008  0.326992\n",
       "2  0.141755  0.858245\n",
       "3  0.664261  0.335739\n",
       "4  0.191516  0.808484\n",
       "5  0.074057  0.925943\n",
       "6  0.158970  0.841030\n",
       "7  0.150112  0.849888\n",
       "8  0.535078  0.464922\n",
       "9  0.341794  0.658206"
      ]
     },
     "execution_count": 78,
     "metadata": {},
     "output_type": "execute_result"
    },
    {
     "name": "stdout",
     "output_type": "stream",
     "text": [
      "time: 10.1 ms (started: 2022-12-05 10:27:20 -05:00)\n"
     ]
    }
   ],
   "source": [
    "phd=clf.predict_proba(X2_df)\n",
    "s=pd.DataFrame(phd)\n",
    "s.head(10)"
   ]
  },
  {
   "cell_type": "code",
   "execution_count": 79,
   "metadata": {
    "colab": {
     "base_uri": "https://localhost:8080/"
    },
    "id": "_q4HQz64geo8",
    "outputId": "3aff1648-54ee-4fe6-9f5f-e332acae42fa"
   },
   "outputs": [
    {
     "name": "stdout",
     "output_type": "stream",
     "text": [
      "AUROC of logistic regression classifier on test set: 0.84\n",
      "time: 11.9 ms (started: 2022-12-05 10:27:20 -05:00)\n"
     ]
    }
   ],
   "source": [
    "y_pred = clf.predict(X2_df)\n",
    "print('AUROC of logistic regression classifier on test set: {:.2f}'.format(clf.score(X2_df, y)))\n"
   ]
  },
  {
   "cell_type": "code",
   "execution_count": 80,
   "metadata": {
    "colab": {
     "base_uri": "https://localhost:8080/",
     "height": 318
    },
    "id": "Pg80BWVjoQh3",
    "outputId": "05895a15-9ecb-40b3-f700-33e5b38d169c"
   },
   "outputs": [
    {
     "data": {
      "image/png": "[encoded data removed]",
      "text/plain": [
       "<Figure size 432x288 with 1 Axes>"
      ]
     },
     "metadata": {
      "needs_background": "light"
     },
     "output_type": "display_data"
    },
    {
     "name": "stdout",
     "output_type": "stream",
     "text": [
      "time: 234 ms (started: 2022-12-05 10:27:20 -05:00)\n"
     ]
    }
   ],
   "source": [
    "logit_roc_auc = roc_auc_score(y, clf.predict(X2_df))\n",
    "fpr, tpr, thresholds = roc_curve(y, clf.predict_proba(X2_df)[:,1])\n",
    "plt.figure()\n",
    "plt.plot(fpr, tpr, label='Logistic Regression (area = %0.2f)' % logit_roc_auc)\n",
    "plt.plot([0, 1], [0, 1],'r--')\n",
    "plt.xlim([0.0, 1.0])\n",
    "plt.ylim([0.0, 1.05])\n",
    "plt.xlabel('False Positive Rate')\n",
    "plt.ylabel('True Positive Rate')\n",
    "plt.title('Receiver operating characteristic')\n",
    "plt.legend(loc=\"lower right\")\n",
    "plt.savefig('Log_ROC')\n",
    "plt.show()"
   ]
  },
  {
   "cell_type": "code",
   "execution_count": 81,
   "metadata": {
    "colab": {
     "base_uri": "https://localhost:8080/"
    },
    "id": "SSgJrtfMjcD3",
    "outputId": "8010d44c-2706-420c-8ba1-4ab31b064d36"
   },
   "outputs": [
    {
     "name": "stdout",
     "output_type": "stream",
     "text": [
      "time: 377 µs (started: 2022-12-05 10:27:20 -05:00)\n"
     ]
    }
   ],
   "source": [
    "cv = StratifiedKFold(n_splits=10,shuffle=False)"
   ]
  },
  {
   "cell_type": "markdown",
   "metadata": {
    "id": "zEfaUKPg-njU"
   },
   "source": [
    "Gaussian Naive Bayes with Stratified K-Fold CV"
   ]
  },
  {
   "cell_type": "code",
   "execution_count": 82,
   "metadata": {
    "colab": {
     "base_uri": "https://localhost:8080/",
     "height": 607
    },
    "id": "Dim49lii7T4H",
    "outputId": "e70ea657-8491-431b-e75b-ffe4cc981d0e"
   },
   "outputs": [
    {
     "name": "stdout",
     "output_type": "stream",
     "text": [
      "[0.81843267 0.79487545 0.80176914 0.81659252 0.79596495 0.79757002\n",
      " 0.80131194 0.83556314 0.80721016 0.79207388]\n",
      "AUROC: 0.806 (0.013)\n",
      "Confusion Matrix: \n"
     ]
    },
    {
     "data": {
      "image/png": "[encoded data removed]",
      "text/plain": [
       "<Figure size 648x648 with 2 Axes>"
      ]
     },
     "metadata": {
      "needs_background": "light"
     },
     "output_type": "display_data"
    },
    {
     "name": "stdout",
     "output_type": "stream",
     "text": [
      "time: 361 ms (started: 2022-12-05 10:27:20 -05:00)\n"
     ]
    }
   ],
   "source": [
    "naiveB = GaussianNB()\n",
    "score = cross_val_score(naiveB, X2_df, y, scoring='roc_auc', cv=10, n_jobs=-1) \n",
    "print(score)\n",
    "print('AUROC: %.3f (%.3f)' % (score.mean(), score.std()))\n",
    "y_predn = cross_val_predict(naiveB, X2_df, y, cv=10)\n",
    "#Confusion Matrix\n",
    "conf_mat = confusion_matrix(y, y_predn)\n",
    "print('Confusion Matrix: ')\n",
    "nbmean = round(score.mean(),3)\n",
    "nbstd = round(score.std(),3)\n",
    "plt.figure(figsize=(9,9))\n",
    "sns.heatmap(conf_mat, annot=True, fmt=\".3f\", linewidths=.5, square = True, cmap = 'Blues_r');\n",
    "plt.ylabel('Actual label');\n",
    "plt.xlabel('Predicted label');\n",
    "all_sample_title = 'AUROC: {0}'.format(nbmean)\n",
    "plt.title(all_sample_title, size = 15);"
   ]
  },
  {
   "cell_type": "code",
   "execution_count": 83,
   "metadata": {
    "colab": {
     "base_uri": "https://localhost:8080/"
    },
    "id": "Te1Q0Hm7g0Eb",
    "outputId": "d1f7c47c-f995-49ba-97af-c3593ead19d1"
   },
   "outputs": [
    {
     "name": "stdout",
     "output_type": "stream",
     "text": [
      "time: 564 µs (started: 2022-12-05 10:27:21 -05:00)\n"
     ]
    }
   ],
   "source": [
    "gnb2 = GaussianNB()\n",
    "cv = StratifiedKFold(n_splits=10,shuffle=False)"
   ]
  },
  {
   "cell_type": "code",
   "execution_count": 84,
   "metadata": {
    "colab": {
     "base_uri": "https://localhost:8080/"
    },
    "id": "SumjlYB_-Cbj",
    "outputId": "23f7b1a8-e0a7-4121-9a1a-2cbb11c04a31"
   },
   "outputs": [
    {
     "name": "stdout",
     "output_type": "stream",
     "text": [
      "              precision    recall  f1-score   support\n",
      "\n",
      "           0       0.74      0.76      0.75      5690\n",
      "           1       0.74      0.72      0.73      5420\n",
      "\n",
      "    accuracy                           0.74     11110\n",
      "   macro avg       0.74      0.74      0.74     11110\n",
      "weighted avg       0.74      0.74      0.74     11110\n",
      "\n",
      "time: 22.4 ms (started: 2022-12-05 10:27:21 -05:00)\n"
     ]
    }
   ],
   "source": [
    "print(classification_report(y, y_predn))"
   ]
  },
  {
   "cell_type": "code",
   "execution_count": 85,
   "metadata": {
    "colab": {
     "base_uri": "https://localhost:8080/"
    },
    "id": "LYV21FSDt2Uy",
    "outputId": "5039ea43-8923-4341-dd27-c4dd5e654932"
   },
   "outputs": [
    {
     "data": {
      "text/plain": [
       "0.7417641764176418"
      ]
     },
     "execution_count": 85,
     "metadata": {},
     "output_type": "execute_result"
    },
    {
     "name": "stdout",
     "output_type": "stream",
     "text": [
      "time: 23.6 ms (started: 2022-12-05 10:27:21 -05:00)\n"
     ]
    }
   ],
   "source": [
    "clg = GaussianNB().fit(X2_df, y)\n",
    "clg.score(X2_df, y)"
   ]
  },
  {
   "cell_type": "code",
   "execution_count": 86,
   "metadata": {
    "colab": {
     "base_uri": "https://localhost:8080/",
     "height": 380
    },
    "id": "C1RjIMZzuT2s",
    "outputId": "c14ec42b-9f69-4ed7-8463-2d0e20c0d350"
   },
   "outputs": [
    {
     "data": {
      "text/html": [
       "<div>\n",
       "<style scoped>\n",
       "    .dataframe tbody tr th:only-of-type {\n",
       "        vertical-align: middle;\n",
       "    }\n",
       "\n",
       "    .dataframe tbody tr th {\n",
       "        vertical-align: top;\n",
       "    }\n",
       "\n",
       "    .dataframe thead th {\n",
       "        text-align: right;\n",
       "    }\n",
       "</style>\n",
       "<table border=\"1\" class=\"dataframe\">\n",
       "  <thead>\n",
       "    <tr style=\"text-align: right;\">\n",
       "      <th></th>\n",
       "      <th>0</th>\n",
       "      <th>1</th>\n",
       "    </tr>\n",
       "  </thead>\n",
       "  <tbody>\n",
       "    <tr>\n",
       "      <th>0</th>\n",
       "      <td>7.196704e-01</td>\n",
       "      <td>0.280330</td>\n",
       "    </tr>\n",
       "    <tr>\n",
       "      <th>1</th>\n",
       "      <td>8.610588e-01</td>\n",
       "      <td>0.138941</td>\n",
       "    </tr>\n",
       "    <tr>\n",
       "      <th>2</th>\n",
       "      <td>2.564543e-04</td>\n",
       "      <td>0.999744</td>\n",
       "    </tr>\n",
       "    <tr>\n",
       "      <th>3</th>\n",
       "      <td>9.670436e-01</td>\n",
       "      <td>0.032956</td>\n",
       "    </tr>\n",
       "    <tr>\n",
       "      <th>4</th>\n",
       "      <td>5.136429e-02</td>\n",
       "      <td>0.948636</td>\n",
       "    </tr>\n",
       "    <tr>\n",
       "      <th>5</th>\n",
       "      <td>1.488752e-08</td>\n",
       "      <td>1.000000</td>\n",
       "    </tr>\n",
       "    <tr>\n",
       "      <th>6</th>\n",
       "      <td>4.094954e-07</td>\n",
       "      <td>1.000000</td>\n",
       "    </tr>\n",
       "    <tr>\n",
       "      <th>7</th>\n",
       "      <td>4.179312e-08</td>\n",
       "      <td>1.000000</td>\n",
       "    </tr>\n",
       "    <tr>\n",
       "      <th>8</th>\n",
       "      <td>6.883355e-01</td>\n",
       "      <td>0.311665</td>\n",
       "    </tr>\n",
       "    <tr>\n",
       "      <th>9</th>\n",
       "      <td>2.508250e-06</td>\n",
       "      <td>0.999997</td>\n",
       "    </tr>\n",
       "  </tbody>\n",
       "</table>\n",
       "</div>"
      ],
      "text/plain": [
       "              0         1\n",
       "0  7.196704e-01  0.280330\n",
       "1  8.610588e-01  0.138941\n",
       "2  2.564543e-04  0.999744\n",
       "3  9.670436e-01  0.032956\n",
       "4  5.136429e-02  0.948636\n",
       "5  1.488752e-08  1.000000\n",
       "6  4.094954e-07  1.000000\n",
       "7  4.179312e-08  1.000000\n",
       "8  6.883355e-01  0.311665\n",
       "9  2.508250e-06  0.999997"
      ]
     },
     "execution_count": 86,
     "metadata": {},
     "output_type": "execute_result"
    },
    {
     "name": "stdout",
     "output_type": "stream",
     "text": [
      "time: 14.7 ms (started: 2022-12-05 10:27:21 -05:00)\n"
     ]
    }
   ],
   "source": [
    "gna=clg.predict_proba(X2_df)\n",
    "u=pd.DataFrame(gna)\n",
    "u.head(10)"
   ]
  },
  {
   "cell_type": "code",
   "execution_count": 87,
   "metadata": {
    "colab": {
     "base_uri": "https://localhost:8080/",
     "height": 318
    },
    "id": "Et1mb0hDxr4k",
    "outputId": "7b6ad998-6104-40c3-85ec-952277ceaa2c"
   },
   "outputs": [
    {
     "data": {
      "image/png": "[encoded data removed]",
      "text/plain": [
       "<Figure size 432x288 with 1 Axes>"
      ]
     },
     "metadata": {
      "needs_background": "light"
     },
     "output_type": "display_data"
    },
    {
     "name": "stdout",
     "output_type": "stream",
     "text": [
      "time: 249 ms (started: 2022-12-05 10:27:21 -05:00)\n"
     ]
    }
   ],
   "source": [
    "gnb_roc_auc = roc_auc_score(y, clg.predict(X2_df))\n",
    "fpr, tpr, thresholds = roc_curve(y, clg.predict_proba(X2_df)[:,1])\n",
    "plt.figure()\n",
    "plt.plot(fpr, tpr, label='Guassian Naive Bayes(area = %0.2f)' % gnb_roc_auc)\n",
    "plt.plot([0, 1], [0, 1],'r--')\n",
    "plt.xlim([0.0, 1.0])\n",
    "plt.ylim([0.0, 1.05])\n",
    "plt.xlabel('False Positive Rate')\n",
    "plt.ylabel('True Positive Rate')\n",
    "plt.title('Receiver operating characteristic')\n",
    "plt.legend(loc=\"lower right\")\n",
    "plt.savefig('GNB_ROC')\n",
    "plt.show()"
   ]
  },
  {
   "cell_type": "markdown",
   "metadata": {
    "id": "0BwYLfvWKFD6"
   },
   "source": [
    "XGBoost with Stratified K-Fold CV"
   ]
  },
  {
   "cell_type": "code",
   "execution_count": 88,
   "metadata": {
    "colab": {
     "base_uri": "https://localhost:8080/",
     "height": 607
    },
    "id": "52froKZB7T7L",
    "outputId": "0ba37c92-ae41-445d-9a07-6b08c8a643c0"
   },
   "outputs": [
    {
     "name": "stdout",
     "output_type": "stream",
     "text": [
      "[0.82256694 0.80931783 0.82302739 0.84513518 0.82155526 0.79477818\n",
      " 0.82134612 0.84446235 0.81424328 0.8222135 ]\n",
      "AUROC: 0.822 (0.014)\n",
      "Confusion Matrix: \n"
     ]
    },
    {
     "data": {
      "image/png": "[encoded data removed]",
      "text/plain": [
       "<Figure size 648x648 with 2 Axes>"
      ]
     },
     "metadata": {
      "needs_background": "light"
     },
     "output_type": "display_data"
    },
    {
     "name": "stdout",
     "output_type": "stream",
     "text": [
      "time: 12.8 s (started: 2022-12-05 10:27:21 -05:00)\n"
     ]
    }
   ],
   "source": [
    "classifier = XGBClassifier()\n",
    "accuracies = cross_val_score(estimator = classifier, X=X2_df, y=y, cv = 10, scoring='roc_auc')\n",
    "print(accuracies)\n",
    "print('AUROC: %.3f (%.3f)' % (accuracies.mean(), accuracies.std()))\n",
    "# How to train XG Boost\n",
    "classifier.fit(X2_df, y)\n",
    "y_predx = cross_val_predict(classifier, X2_df, y, cv=10)\n",
    "#Confusion Matrix\n",
    "conf_mat = confusion_matrix(y, y_predx)\n",
    "print('Confusion Matrix: ')\n",
    "nbmean = round(accuracies.mean(),3)\n",
    "nbstd = round(accuracies.std(),3)\n",
    "plt.figure(figsize=(9,9))\n",
    "sns.heatmap(conf_mat, annot=True, fmt=\".3f\", linewidths=.5, square = True, cmap = 'Blues_r');\n",
    "plt.ylabel('Actual label');\n",
    "plt.xlabel('Predicted label');\n",
    "all_sample_title = 'AUROC: {0}'.format(nbmean)\n",
    "plt.title(all_sample_title, size = 15);"
   ]
  },
  {
   "cell_type": "code",
   "execution_count": 89,
   "metadata": {
    "colab": {
     "base_uri": "https://localhost:8080/"
    },
    "id": "h2mBHv0_7T-F",
    "outputId": "c35234c0-4f2d-4636-82a0-89ae2343b660"
   },
   "outputs": [
    {
     "name": "stdout",
     "output_type": "stream",
     "text": [
      "              precision    recall  f1-score   support\n",
      "\n",
      "           0       0.75      0.75      0.75      5690\n",
      "           1       0.74      0.74      0.74      5420\n",
      "\n",
      "    accuracy                           0.75     11110\n",
      "   macro avg       0.75      0.75      0.75     11110\n",
      "weighted avg       0.75      0.75      0.75     11110\n",
      "\n",
      "time: 22.4 ms (started: 2022-12-05 10:27:34 -05:00)\n"
     ]
    }
   ],
   "source": [
    "print(classification_report(y, y_predx))"
   ]
  },
  {
   "cell_type": "code",
   "execution_count": 90,
   "metadata": {
    "colab": {
     "base_uri": "https://localhost:8080/"
    },
    "id": "wWcX_G3ltb-W",
    "outputId": "0f2a11b9-0e8b-4931-87a0-dee148de833e"
   },
   "outputs": [
    {
     "name": "stdout",
     "output_type": "stream",
     "text": [
      "[10:27:34] WARNING: /Users/runner/work/xgboost/xgboost/python-package/build/temp.macosx-10.9-x86_64-cpython-38/xgboost/src/learner.cc:767: \n",
      "Parameters: { \"cv\", \"max_iter\", \"scoring\" } are not used.\n",
      "\n"
     ]
    },
    {
     "data": {
      "text/plain": [
       "0.8928892889288929"
      ]
     },
     "execution_count": 90,
     "metadata": {},
     "output_type": "execute_result"
    },
    {
     "name": "stdout",
     "output_type": "stream",
     "text": [
      "time: 667 ms (started: 2022-12-05 10:27:34 -05:00)\n"
     ]
    }
   ],
   "source": [
    "clx = XGBClassifier(cv=10, max_iter=10000, random_state=27, scoring='roc_auc').fit(X2_df, y)\n",
    "clx.score(X2_df, y)"
   ]
  },
  {
   "cell_type": "code",
   "execution_count": 91,
   "metadata": {
    "colab": {
     "base_uri": "https://localhost:8080/",
     "height": 380
    },
    "id": "ny9atKEeszjW",
    "outputId": "84d44fde-9909-47bd-d692-3cbb54abce16"
   },
   "outputs": [
    {
     "data": {
      "text/html": [
       "<div>\n",
       "<style scoped>\n",
       "    .dataframe tbody tr th:only-of-type {\n",
       "        vertical-align: middle;\n",
       "    }\n",
       "\n",
       "    .dataframe tbody tr th {\n",
       "        vertical-align: top;\n",
       "    }\n",
       "\n",
       "    .dataframe thead th {\n",
       "        text-align: right;\n",
       "    }\n",
       "</style>\n",
       "<table border=\"1\" class=\"dataframe\">\n",
       "  <thead>\n",
       "    <tr style=\"text-align: right;\">\n",
       "      <th></th>\n",
       "      <th>0</th>\n",
       "      <th>1</th>\n",
       "    </tr>\n",
       "  </thead>\n",
       "  <tbody>\n",
       "    <tr>\n",
       "      <th>0</th>\n",
       "      <td>0.380052</td>\n",
       "      <td>0.619948</td>\n",
       "    </tr>\n",
       "    <tr>\n",
       "      <th>1</th>\n",
       "      <td>0.448996</td>\n",
       "      <td>0.551004</td>\n",
       "    </tr>\n",
       "    <tr>\n",
       "      <th>2</th>\n",
       "      <td>0.026246</td>\n",
       "      <td>0.973754</td>\n",
       "    </tr>\n",
       "    <tr>\n",
       "      <th>3</th>\n",
       "      <td>0.573665</td>\n",
       "      <td>0.426335</td>\n",
       "    </tr>\n",
       "    <tr>\n",
       "      <th>4</th>\n",
       "      <td>0.049873</td>\n",
       "      <td>0.950127</td>\n",
       "    </tr>\n",
       "    <tr>\n",
       "      <th>5</th>\n",
       "      <td>0.031465</td>\n",
       "      <td>0.968535</td>\n",
       "    </tr>\n",
       "    <tr>\n",
       "      <th>6</th>\n",
       "      <td>0.076126</td>\n",
       "      <td>0.923874</td>\n",
       "    </tr>\n",
       "    <tr>\n",
       "      <th>7</th>\n",
       "      <td>0.134340</td>\n",
       "      <td>0.865660</td>\n",
       "    </tr>\n",
       "    <tr>\n",
       "      <th>8</th>\n",
       "      <td>0.248201</td>\n",
       "      <td>0.751799</td>\n",
       "    </tr>\n",
       "    <tr>\n",
       "      <th>9</th>\n",
       "      <td>0.052779</td>\n",
       "      <td>0.947221</td>\n",
       "    </tr>\n",
       "  </tbody>\n",
       "</table>\n",
       "</div>"
      ],
      "text/plain": [
       "          0         1\n",
       "0  0.380052  0.619948\n",
       "1  0.448996  0.551004\n",
       "2  0.026246  0.973754\n",
       "3  0.573665  0.426335\n",
       "4  0.049873  0.950127\n",
       "5  0.031465  0.968535\n",
       "6  0.076126  0.923874\n",
       "7  0.134340  0.865660\n",
       "8  0.248201  0.751799\n",
       "9  0.052779  0.947221"
      ]
     },
     "execution_count": 91,
     "metadata": {},
     "output_type": "execute_result"
    },
    {
     "name": "stdout",
     "output_type": "stream",
     "text": [
      "time: 23 ms (started: 2022-12-05 10:27:34 -05:00)\n"
     ]
    }
   ],
   "source": [
    "xga=clx.predict_proba(X2_df)\n",
    "t=pd.DataFrame(xga)\n",
    "t.head(10)"
   ]
  },
  {
   "cell_type": "code",
   "execution_count": 92,
   "metadata": {
    "colab": {
     "base_uri": "https://localhost:8080/",
     "height": 318
    },
    "id": "cnbkF8JnyKep",
    "outputId": "2b6bf049-0a19-4f53-fc8c-c398986811fd"
   },
   "outputs": [
    {
     "data": {
      "image/png": "[encoded data removed]",
      "text/plain": [
       "<Figure size 432x288 with 1 Axes>"
      ]
     },
     "metadata": {
      "needs_background": "light"
     },
     "output_type": "display_data"
    },
    {
     "name": "stdout",
     "output_type": "stream",
     "text": [
      "time: 289 ms (started: 2022-12-05 10:27:34 -05:00)\n"
     ]
    }
   ],
   "source": [
    "xgb_roc_auc = roc_auc_score(y, clx.predict(X2_df))\n",
    "fpr, tpr, thresholds = roc_curve(y, clx.predict_proba(X2_df)[:,1])\n",
    "plt.figure()\n",
    "plt.plot(fpr, tpr, label='XGBoost(area = %0.2f)' % xgb_roc_auc)\n",
    "plt.plot([0, 1], [0, 1],'r--')\n",
    "plt.xlim([0.0, 1.0])\n",
    "plt.ylim([0.0, 1.05])\n",
    "plt.xlabel('False Positive Rate')\n",
    "plt.ylabel('True Positive Rate')\n",
    "plt.title('Receiver operating characteristic')\n",
    "plt.legend(loc=\"lower right\")\n",
    "plt.savefig('XGB_ROC')\n",
    "plt.show()"
   ]
  }
 ],
 "metadata": {
  "colab": {
   "provenance": []
  },
  "kernelspec": {
   "display_name": "Python 3 (ipykernel)",
   "language": "python",
   "name": "python3"
  },
  "language_info": {
   "codemirror_mode": {
    "name": "ipython",
    "version": 3
   },
   "file_extension": ".py",
   "mimetype": "text/x-python",
   "name": "python",
   "nbconvert_exporter": "python",
   "pygments_lexer": "ipython3",
   "version": "3.9.10"
  }
 },
 "nbformat": 4,
 "nbformat_minor": 1
}
