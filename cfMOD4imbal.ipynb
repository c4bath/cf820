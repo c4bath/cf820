{
 "cells": [
  {
   "cell_type": "code",
   "execution_count": 1,
   "metadata": {
    "colab": {
     "base_uri": "https://localhost:8080/"
    },
    "id": "-s5mr3IPgAN-",
    "outputId": "1dcd3833-41ee-4b9a-851c-694245c521cd"
   },
   "outputs": [
    {
     "name": "stdout",
     "output_type": "stream",
     "text": [
      "Looking in indexes: https://pypi.org/simple, https://us-python.pkg.dev/colab-wheels/public/simple/\n",
      "Collecting ipython-autotime\n",
      "  Downloading ipython_autotime-0.3.1-py2.py3-none-any.whl (6.8 kB)\n",
      "Requirement already satisfied: ipython in /usr/local/lib/python3.8/dist-packages (from ipython-autotime) (7.9.0)\n",
      "Requirement already satisfied: backcall in /usr/local/lib/python3.8/dist-packages (from ipython->ipython-autotime) (0.2.0)\n",
      "Requirement already satisfied: prompt-toolkit<2.1.0,>=2.0.0 in /usr/local/lib/python3.8/dist-packages (from ipython->ipython-autotime) (2.0.10)\n",
      "Requirement already satisfied: setuptools>=18.5 in /usr/local/lib/python3.8/dist-packages (from ipython->ipython-autotime) (57.4.0)\n",
      "Requirement already satisfied: pygments in /usr/local/lib/python3.8/dist-packages (from ipython->ipython-autotime) (2.6.1)\n",
      "Requirement already satisfied: pexpect in /usr/local/lib/python3.8/dist-packages (from ipython->ipython-autotime) (4.8.0)\n",
      "Requirement already satisfied: pickleshare in /usr/local/lib/python3.8/dist-packages (from ipython->ipython-autotime) (0.7.5)\n",
      "Requirement already satisfied: decorator in /usr/local/lib/python3.8/dist-packages (from ipython->ipython-autotime) (4.4.2)\n",
      "Collecting jedi>=0.10\n",
      "  Downloading jedi-0.18.2-py2.py3-none-any.whl (1.6 MB)\n",
      "\u001b[K     |████████████████████████████████| 1.6 MB 7.2 MB/s \n",
      "\u001b[?25hRequirement already satisfied: traitlets>=4.2 in /usr/local/lib/python3.8/dist-packages (from ipython->ipython-autotime) (5.1.1)\n",
      "Requirement already satisfied: parso<0.9.0,>=0.8.0 in /usr/local/lib/python3.8/dist-packages (from jedi>=0.10->ipython->ipython-autotime) (0.8.3)\n",
      "Requirement already satisfied: wcwidth in /usr/local/lib/python3.8/dist-packages (from prompt-toolkit<2.1.0,>=2.0.0->ipython->ipython-autotime) (0.2.5)\n",
      "Requirement already satisfied: six>=1.9.0 in /usr/local/lib/python3.8/dist-packages (from prompt-toolkit<2.1.0,>=2.0.0->ipython->ipython-autotime) (1.15.0)\n",
      "Requirement already satisfied: ptyprocess>=0.5 in /usr/local/lib/python3.8/dist-packages (from pexpect->ipython->ipython-autotime) (0.7.0)\n",
      "Installing collected packages: jedi, ipython-autotime\n",
      "Successfully installed ipython-autotime-0.3.1 jedi-0.18.2\n"
     ]
    }
   ],
   "source": [
    "# Note: SMOTE has been commented out in this file. This runs on the as-is imbalanced dataset. \n",
    "# Some plotting has also been commented out.\n",
    "\n",
    "# Install autotime extension to measure code execution duration\n",
    "\n",
    "!pip install ipython-autotime"
   ]
  },
  {
   "cell_type": "code",
   "execution_count": 2,
   "metadata": {
    "colab": {
     "base_uri": "https://localhost:8080/"
    },
    "id": "jEZ6dId_gIIe",
    "outputId": "4d1c65f9-294e-428a-c090-3fe33b243463"
   },
   "outputs": [
    {
     "name": "stdout",
     "output_type": "stream",
     "text": [
      "time: 609 µs (started: 2022-12-04 01:45:58 +00:00)\n"
     ]
    }
   ],
   "source": [
    "%load_ext autotime"
   ]
  },
  {
   "cell_type": "code",
   "execution_count": 3,
   "metadata": {
    "colab": {
     "base_uri": "https://localhost:8080/"
    },
    "id": "80owTsGe2tZp",
    "outputId": "1c8d99f8-a264-4da2-af44-76e92d45af16"
   },
   "outputs": [
    {
     "name": "stdout",
     "output_type": "stream",
     "text": [
      "time: 5.03 s (started: 2022-12-04 01:45:58 +00:00)\n"
     ]
    }
   ],
   "source": [
    "# Import libraries\n",
    "\n",
    "import pandas as pd\n",
    "import numpy as np\n",
    "from sklearn import model_selection, metrics\n",
    "from sklearn.preprocessing import OrdinalEncoder\n",
    "from sklearn.preprocessing import OneHotEncoder\n",
    "from sklearn.compose import make_column_transformer\n",
    "from sklearn.feature_selection import VarianceThreshold\n",
    "from sklearn.impute import SimpleImputer\n",
    "from sklearn import preprocessing\n",
    "from sklearn.preprocessing import StandardScaler\n",
    "from sklearn.preprocessing import LabelEncoder\n",
    "from sklearn.model_selection import StratifiedKFold\n",
    "from sklearn.model_selection import KFold\n",
    "from sklearn.feature_selection import RFECV, SelectKBest, chi2\n",
    "from sklearn.metrics import roc_auc_score, auc\n",
    "from sklearn.metrics import roc_curve\n",
    "import statsmodels.api as sm\n",
    "import matplotlib.pyplot as plt \n",
    "import matplotlib.patches as patches\n",
    "plt.rc(\"font\", size=14)\n",
    "from sklearn.model_selection import train_test_split\n",
    "import seaborn as sns\n",
    "sns.set(style=\"white\")\n",
    "sns.set(style=\"whitegrid\", color_codes=True)\n",
    "import time\n",
    "from imblearn.over_sampling import SMOTE\n",
    "from imblearn.over_sampling import BorderlineSMOTE\n",
    "from imblearn.under_sampling import RandomUnderSampler\n",
    "from xgboost import XGBClassifier\n",
    "#from lightgbm import LGBMClassifier\n",
    "from sklearn.dummy import DummyClassifier\n",
    "from sklearn.neighbors import KNeighborsClassifier\n",
    "#from sklearn.tree import DecisionTreeClassifier\n",
    "from sklearn.ensemble import RandomForestClassifier\n",
    "#from sklearn.ensemble import AdaBoostClassifier\n",
    "#from sklearn.ensemble import GradientBoostingClassifier\n",
    "from sklearn.naive_bayes import GaussianNB\n",
    "from sklearn.linear_model import LogisticRegression\n",
    "from sklearn.linear_model import LogisticRegressionCV\n",
    "from sklearn.model_selection import RepeatedStratifiedKFold\n",
    "from sklearn.model_selection import cross_val_score, cross_val_predict\n",
    "from sklearn.model_selection import train_test_split\n",
    "from sklearn.metrics import classification_report\n",
    "from sklearn.metrics import confusion_matrix, classification_report\n",
    "from sklearn.metrics import f1_score\n",
    "from sklearn.metrics import accuracy_score\n",
    "from sklearn.metrics import precision_score\n",
    "from sklearn.metrics import recall_score\n",
    "from sklearn.metrics import average_precision_score\n",
    "from sklearn.metrics import precision_recall_curve\n",
    "from sklearn.metrics import make_scorer\n",
    "import scipy.stats\n",
    "from numpy import interp\n",
    "import statsmodels.formula.api as smf\n",
    "#from scipy.stats import chi2_contingency\n",
    "#from scipy.stats import chi2\n",
    "from itertools import product\n"
   ]
  },
  {
   "cell_type": "code",
   "execution_count": 4,
   "metadata": {
    "colab": {
     "base_uri": "https://localhost:8080/"
    },
    "id": "A98toCM223nw",
    "outputId": "5f921c43-b956-4f2f-e616-cecd315b2399"
   },
   "outputs": [
    {
     "name": "stdout",
     "output_type": "stream",
     "text": [
      "Mounted at /content/drive\n",
      "time: 18 s (started: 2022-12-04 01:46:03 +00:00)\n"
     ]
    }
   ],
   "source": [
    "# The csv file is in my google drive and shared with anyone with the link \n",
    "\n",
    "# The file is also available at: https://www.kaggle.com/datasets/sadiaanzum/patient-survival-prediction-dataset\n",
    "\n",
    "# Per Kaggle: source of the dataset: https://journals.lww.com/ccmjournal/Citation/2019/01001/33__THE_GLOBAL_OPEN_SOURCE_SEVERITY_OF_ILLNESS.36.aspx\n",
    "\n",
    "# Please see Data_Dictionary.csv file for explanation / definitions of features \n",
    "\n",
    "#IF USING GOOGLE DRIVE UNCOMMENT THE FOLLOWING 2 LINES:\n",
    "#from google.colab import drive\n",
    "#drive.mount('/content/drive')"
   ]
  },
  {
   "cell_type": "code",
   "execution_count": 5,
   "metadata": {
    "colab": {
     "base_uri": "https://localhost:8080/"
    },
    "id": "tb9emEB_263x",
    "outputId": "89dabb4b-b596-4a41-de39-0810b730e858"
   },
   "outputs": [
    {
     "name": "stdout",
     "output_type": "stream",
     "text": [
      "time: 5.76 s (started: 2022-12-04 01:46:21 +00:00)\n"
     ]
    }
   ],
   "source": [
    "#IF USING GOOGLE DRIVE (copying file shortcut into end user's own google drive will enable access)\n",
    "#Uncomment and edit the following path and filename as needed:\n",
    "#data=pd.read_csv(r'/content/drive/MyDrive/820PublicData/PatSurvRaw.csv',header=0)\n",
    "\n",
    "#IF NOT USING GOOGLE DRIVE:\n",
    "#Uncomment and edit the following path and filename as needed:\n",
    "#data=pd.read_csv(r'/Users/Lj4b 1 2/Documents/Ryerson/CIND820BigDataProject/Data/PatSurvRaw.csv',header=0)"
   ]
  },
  {
   "cell_type": "code",
   "execution_count": 6,
   "metadata": {
    "colab": {
     "base_uri": "https://localhost:8080/"
    },
    "id": "KuJgsKgq3DEq",
    "outputId": "6c550dd7-09ca-4c22-b7c2-e6f81074fe62"
   },
   "outputs": [
    {
     "data": {
      "text/plain": [
       "encounter_id                         0\n",
       "patient_id                           0\n",
       "hospital_id                          0\n",
       "hospital_death                       0\n",
       "age                               4228\n",
       "bmi                               3429\n",
       "elective_surgery                     0\n",
       "ethnicity                         1395\n",
       "gender                              25\n",
       "height                            1334\n",
       "hospital_admit_source            21409\n",
       "icu_admit_source                   112\n",
       "icu_id                               0\n",
       "icu_stay_type                        0\n",
       "icu_type                             0\n",
       "pre_icu_los_days                     0\n",
       "readmission_status                   0\n",
       "weight                            2720\n",
       "albumin_apache                   54379\n",
       "apache_2_diagnosis                1662\n",
       "apache_3j_diagnosis               1101\n",
       "apache_post_operative                0\n",
       "arf_apache                         715\n",
       "bilirubin_apache                 58134\n",
       "bun_apache                       19262\n",
       "creatinine_apache                18853\n",
       "fio2_apache                      70868\n",
       "gcs_eyes_apache                   1901\n",
       "gcs_motor_apache                  1901\n",
       "gcs_unable_apache                 1037\n",
       "                                 ...  \n",
       "h1_wbc_max                       75953\n",
       "h1_wbc_min                       75953\n",
       "d1_arterial_pco2_max             59271\n",
       "d1_arterial_pco2_min             59271\n",
       "d1_arterial_ph_max               60123\n",
       "d1_arterial_ph_min               60123\n",
       "d1_arterial_po2_max              59262\n",
       "d1_arterial_po2_min              59262\n",
       "d1_pao2fio2ratio_max             66008\n",
       "d1_pao2fio2ratio_min             66008\n",
       "h1_arterial_pco2_max             75959\n",
       "h1_arterial_pco2_min             75959\n",
       "h1_arterial_ph_max               76424\n",
       "h1_arterial_ph_min               76424\n",
       "h1_arterial_po2_max              75945\n",
       "h1_arterial_po2_min              75945\n",
       "h1_pao2fio2ratio_max             80195\n",
       "h1_pao2fio2ratio_min             80195\n",
       "apache_4a_hospital_death_prob     7947\n",
       "apache_4a_icu_death_prob          7947\n",
       "aids                               715\n",
       "cirrhosis                          715\n",
       "diabetes_mellitus                  715\n",
       "hepatic_failure                    715\n",
       "immunosuppression                  715\n",
       "leukemia                           715\n",
       "lymphoma                           715\n",
       "solid_tumor_with_metastasis        715\n",
       "apache_3j_bodysystem              1662\n",
       "apache_2_bodysystem               1662\n",
       "Length: 186, dtype: int64"
      ]
     },
     "execution_count": 6,
     "metadata": {},
     "output_type": "execute_result"
    },
    {
     "name": "stdout",
     "output_type": "stream",
     "text": [
      "time: 216 ms (started: 2022-12-04 01:46:27 +00:00)\n"
     ]
    }
   ],
   "source": [
    "pd.options.display.min_rows = 186\n",
    "data.isnull().sum()"
   ]
  },
  {
   "cell_type": "code",
   "execution_count": 7,
   "metadata": {
    "colab": {
     "base_uri": "https://localhost:8080/"
    },
    "id": "905P5CSN3KdZ",
    "outputId": "d3a38f23-f838-458a-cee9-2d3ede7f03fb"
   },
   "outputs": [
    {
     "name": "stdout",
     "output_type": "stream",
     "text": [
      "time: 45.3 ms (started: 2022-12-04 01:46:27 +00:00)\n"
     ]
    }
   ],
   "source": [
    "# Eliminate features that: \n",
    "# 1. do not provide any information value (i.e. 'encounter_id', 'patient_id', 'hospital_id') \n",
    "# 2. are the predicted probabilities from the APACHE IV model ('apache_4a_hospital_death_prob','apache_4a_icu_death_prob') \n",
    "# 3. OR are not of interest in our prediction and analysis (the physiological measures, i.e. 'bilirubin_apache','bun_apache','creatinine_apache', etc)\n",
    "data.drop(['encounter_id','patient_id','readmission_status','hospital_id','icu_id','albumin_apache','apache_2_diagnosis','apache_3j_diagnosis','apache_post_operative','arf_apache','bilirubin_apache','bun_apache','creatinine_apache','fio2_apache','glucose_apache','heart_rate_apache','hematocrit_apache','map_apache','paco2_apache','paco2_for_ph_apache','pao2_apache','ph_apache','resprate_apache','sodium_apache','temp_apache','urineoutput_apache','wbc_apache','d1_diasbp_invasive_max','d1_diasbp_invasive_min','d1_diasbp_max','d1_diasbp_min','d1_diasbp_noninvasive_max','d1_diasbp_noninvasive_min','d1_heartrate_max','d1_heartrate_min','d1_mbp_invasive_max','d1_mbp_invasive_min','d1_mbp_max','d1_mbp_min','d1_mbp_noninvasive_max','d1_mbp_noninvasive_min','d1_resprate_max','d1_resprate_min','d1_spo2_max','d1_spo2_min','d1_sysbp_invasive_max','d1_sysbp_invasive_min','d1_sysbp_max','d1_sysbp_min','d1_sysbp_noninvasive_max','d1_sysbp_noninvasive_min','d1_temp_max','d1_temp_min','h1_diasbp_invasive_max','h1_diasbp_invasive_min','h1_diasbp_max','h1_diasbp_min','h1_diasbp_noninvasive_max','h1_diasbp_noninvasive_min','h1_heartrate_max','h1_heartrate_min','h1_mbp_invasive_max','h1_mbp_invasive_min','h1_mbp_max','h1_mbp_min','h1_mbp_noninvasive_max','h1_mbp_noninvasive_min','h1_resprate_max','h1_resprate_min','h1_spo2_max','h1_spo2_min','h1_sysbp_invasive_max','h1_sysbp_invasive_min','h1_sysbp_max','h1_sysbp_min','h1_sysbp_noninvasive_max','h1_sysbp_noninvasive_min','h1_temp_max','h1_temp_min','d1_albumin_max','d1_albumin_min','d1_bilirubin_max','d1_bilirubin_min','d1_bun_max','d1_bun_min','d1_calcium_max','d1_calcium_min','d1_creatinine_max','d1_creatinine_min','d1_glucose_max','d1_glucose_min','d1_hco3_max','d1_hco3_min','d1_hemaglobin_max','d1_hemaglobin_min','d1_hematocrit_max','d1_hematocrit_min','d1_inr_max','d1_inr_min','d1_lactate_max','d1_lactate_min','d1_platelets_max','d1_platelets_min','d1_potassium_max','d1_potassium_min','d1_sodium_max','d1_sodium_min','d1_wbc_max','d1_wbc_min','h1_albumin_max','h1_albumin_min','h1_bilirubin_max','h1_bilirubin_min','h1_bun_max','h1_bun_min','h1_calcium_max','h1_calcium_min','h1_creatinine_max','h1_creatinine_min','h1_glucose_max','h1_glucose_min','h1_hco3_max','h1_hco3_min','h1_hemaglobin_max','h1_hemaglobin_min','h1_hematocrit_max','h1_hematocrit_min','h1_inr_max','h1_inr_min','h1_lactate_max','h1_lactate_min','h1_platelets_max','h1_platelets_min','h1_potassium_max','h1_potassium_min','h1_sodium_max','h1_sodium_min','h1_wbc_max','h1_wbc_min','d1_arterial_pco2_max','d1_arterial_pco2_min','d1_arterial_ph_max','d1_arterial_ph_min','d1_arterial_po2_max','d1_arterial_po2_min','d1_pao2fio2ratio_max','d1_pao2fio2ratio_min','h1_arterial_pco2_max','h1_arterial_pco2_min','h1_arterial_ph_max','h1_arterial_ph_min','h1_arterial_po2_max','h1_arterial_po2_min','h1_pao2fio2ratio_max','h1_pao2fio2ratio_min','apache_4a_hospital_death_prob','apache_4a_icu_death_prob'],axis =1, inplace = True)"
   ]
  },
  {
   "cell_type": "code",
   "execution_count": 8,
   "metadata": {
    "colab": {
     "base_uri": "https://localhost:8080/"
    },
    "id": "fYONDhPT3NdK",
    "outputId": "64048630-f861-4aeb-c94e-394defe25006"
   },
   "outputs": [
    {
     "name": "stdout",
     "output_type": "stream",
     "text": [
      "time: 6.91 ms (started: 2022-12-04 01:46:27 +00:00)\n"
     ]
    }
   ],
   "source": [
    "def analyse_df(df, corr_limit = 0.75):\n",
    "    \"\"\"Analyse any dataframe and print results\n",
    "    * Print df Shape, duplicate rows qnt, memory usage, data types and call DataFrame.describe()\n",
    "    * Check Missing values in each columns, returning qnt. and percentage \n",
    "    * Check Linear Correlation between columns, return Pearson number\n",
    "\n",
    "    Keyword arguments:\n",
    "    df -- Any DataFrame\n",
    "    corr_limit -- Correlation Limit (Pearson) to define if relationship exists (default 0.75)\n",
    "    \"\"\"   \n",
    "\n",
    "    print('General Info:')\n",
    "    print(f'{df.shape[0]} Rows {df.shape[1]} Columns'\n",
    "          f'\\n{df.duplicated().sum()} Duplicated Rows'\n",
    "          f'\\nMemory Usage: {df.memory_usage().sum()/(1024*1024):.2f}Mb')\n",
    "    \n",
    "    # Checking Data Types\n",
    "    int_list, float_list,object_list,bool_list,other_list =[[] for i in range(5)]\n",
    "    for col in df.columns:\n",
    "        if df[col].dtype == 'int64':\n",
    "            int_list.append(col)\n",
    "        elif df[col].dtype == 'float64':\n",
    "            float_list.append(col)\n",
    "        elif df[col].dtype == 'object':\n",
    "            object_list.append(col)\n",
    "        elif df[col].dtype == 'boolean':\n",
    "            bool_list.append(col)\n",
    "        else:\n",
    "            other_list.append(col)\n",
    "            \n",
    "    for type_list,data_type in zip([int_list, float_list,object_list,bool_list,other_list],\n",
    "                                   ['int64','float64','object','boolean','other']):\n",
    "        if len(type_list)>0:\n",
    "            print(f'\\nColumns {data_type}: {type_list}')\n",
    "            \n",
    "    # General statistics\n",
    "    display(df.describe())\n",
    "    \n",
    "    # Checking Missing Values in each columns\n",
    "    print('\\nChecking Missing Values:')\n",
    "    col_with_missing_counter = 0\n",
    "    for col in df.columns:\n",
    "        qnt_missing = df[col].isna().sum()\n",
    "        if qnt_missing > 0:\n",
    "            col_with_missing_counter +=1\n",
    "            print(f'Column \"{col}\" has {qnt_missing} missing values ({qnt_missing/df.shape[0]:.2%})')\n",
    "    if col_with_missing_counter ==0 :\n",
    "        print('Analyzed DataFrame has no missing values')\n",
    "        \n",
    "    # Checking linear correlation between columns\n",
    "    print('\\nChecking Linear Correlation:')\n",
    "    df_corr = df.corr() # Correlation DataFrame\n",
    "    ckecked_list =[] # Ensure that we won't print the same information twice\n",
    "    cols_with_correlation_counter = 0\n",
    "    for col in df_corr.columns:\n",
    "        ckecked_list.append(col)\n",
    "        for i in range(len(df_corr)):\n",
    "            if ((df_corr[col][i] > corr_limit or df_corr[col][i] < -corr_limit) and\n",
    "                (df_corr.index[i] not in ckecked_list)):\n",
    "                cols_with_correlation_counter += 1\n",
    "                print(f'Linear Correlation found between columns '\n",
    "                      f'{df_corr.index[i]} and {col} -> Pearson coef. = {df_corr[col][i]:.2f}')         \n",
    "    if cols_with_correlation_counter == 0:\n",
    "        print('No linear correlation was found')"
   ]
  },
  {
   "cell_type": "code",
   "execution_count": 9,
   "metadata": {
    "colab": {
     "base_uri": "https://localhost:8080/",
     "height": 1000
    },
    "id": "O824E0LN3kzc",
    "outputId": "e7a53574-b950-4a9c-d8d9-b142bfe4b3c5"
   },
   "outputs": [
    {
     "name": "stdout",
     "output_type": "stream",
     "text": [
      "General Info:\n",
      "91713 Rows 29 Columns\n",
      "0 Duplicated Rows\n",
      "Memory Usage: 20.29Mb\n",
      "\n",
      "Columns int64: ['hospital_death', 'elective_surgery']\n",
      "\n",
      "Columns float64: ['age', 'bmi', 'height', 'pre_icu_los_days', 'weight', 'gcs_eyes_apache', 'gcs_motor_apache', 'gcs_unable_apache', 'gcs_verbal_apache', 'intubated_apache', 'ventilated_apache', 'aids', 'cirrhosis', 'diabetes_mellitus', 'hepatic_failure', 'immunosuppression', 'leukemia', 'lymphoma', 'solid_tumor_with_metastasis']\n",
      "\n",
      "Columns object: ['ethnicity', 'gender', 'hospital_admit_source', 'icu_admit_source', 'icu_stay_type', 'icu_type', 'apache_3j_bodysystem', 'apache_2_bodysystem']\n"
     ]
    },
    {
     "data": {
      "text/html": [
       "\n",
       "  <div id=\"df-ce38a6a3-419b-46f0-b3d6-48f4f56f184d\">\n",
       "    <div class=\"colab-df-container\">\n",
       "      <div>\n",
       "<style scoped>\n",
       "    .dataframe tbody tr th:only-of-type {\n",
       "        vertical-align: middle;\n",
       "    }\n",
       "\n",
       "    .dataframe tbody tr th {\n",
       "        vertical-align: top;\n",
       "    }\n",
       "\n",
       "    .dataframe thead th {\n",
       "        text-align: right;\n",
       "    }\n",
       "</style>\n",
       "<table border=\"1\" class=\"dataframe\">\n",
       "  <thead>\n",
       "    <tr style=\"text-align: right;\">\n",
       "      <th></th>\n",
       "      <th>hospital_death</th>\n",
       "      <th>age</th>\n",
       "      <th>bmi</th>\n",
       "      <th>elective_surgery</th>\n",
       "      <th>height</th>\n",
       "      <th>pre_icu_los_days</th>\n",
       "      <th>weight</th>\n",
       "      <th>gcs_eyes_apache</th>\n",
       "      <th>gcs_motor_apache</th>\n",
       "      <th>gcs_unable_apache</th>\n",
       "      <th>...</th>\n",
       "      <th>intubated_apache</th>\n",
       "      <th>ventilated_apache</th>\n",
       "      <th>aids</th>\n",
       "      <th>cirrhosis</th>\n",
       "      <th>diabetes_mellitus</th>\n",
       "      <th>hepatic_failure</th>\n",
       "      <th>immunosuppression</th>\n",
       "      <th>leukemia</th>\n",
       "      <th>lymphoma</th>\n",
       "      <th>solid_tumor_with_metastasis</th>\n",
       "    </tr>\n",
       "  </thead>\n",
       "  <tbody>\n",
       "    <tr>\n",
       "      <th>count</th>\n",
       "      <td>91713.000000</td>\n",
       "      <td>87485.000000</td>\n",
       "      <td>88284.000000</td>\n",
       "      <td>91713.000000</td>\n",
       "      <td>90379.000000</td>\n",
       "      <td>91713.000000</td>\n",
       "      <td>88993.000000</td>\n",
       "      <td>89812.000000</td>\n",
       "      <td>89812.000000</td>\n",
       "      <td>90676.000000</td>\n",
       "      <td>...</td>\n",
       "      <td>90998.000000</td>\n",
       "      <td>90998.000000</td>\n",
       "      <td>90998.000000</td>\n",
       "      <td>90998.000000</td>\n",
       "      <td>90998.000000</td>\n",
       "      <td>90998.000000</td>\n",
       "      <td>90998.000000</td>\n",
       "      <td>90998.000000</td>\n",
       "      <td>90998.000000</td>\n",
       "      <td>90998.000000</td>\n",
       "    </tr>\n",
       "    <tr>\n",
       "      <th>mean</th>\n",
       "      <td>0.086302</td>\n",
       "      <td>62.309516</td>\n",
       "      <td>29.185818</td>\n",
       "      <td>0.183736</td>\n",
       "      <td>169.641588</td>\n",
       "      <td>0.835766</td>\n",
       "      <td>84.028340</td>\n",
       "      <td>3.465049</td>\n",
       "      <td>5.471195</td>\n",
       "      <td>0.009528</td>\n",
       "      <td>...</td>\n",
       "      <td>0.151223</td>\n",
       "      <td>0.325721</td>\n",
       "      <td>0.000857</td>\n",
       "      <td>0.015693</td>\n",
       "      <td>0.225192</td>\n",
       "      <td>0.012989</td>\n",
       "      <td>0.026165</td>\n",
       "      <td>0.007066</td>\n",
       "      <td>0.004132</td>\n",
       "      <td>0.020638</td>\n",
       "    </tr>\n",
       "    <tr>\n",
       "      <th>std</th>\n",
       "      <td>0.280811</td>\n",
       "      <td>16.775119</td>\n",
       "      <td>8.275142</td>\n",
       "      <td>0.387271</td>\n",
       "      <td>10.795378</td>\n",
       "      <td>2.487756</td>\n",
       "      <td>25.011497</td>\n",
       "      <td>0.951715</td>\n",
       "      <td>1.288376</td>\n",
       "      <td>0.097148</td>\n",
       "      <td>...</td>\n",
       "      <td>0.358268</td>\n",
       "      <td>0.468646</td>\n",
       "      <td>0.029265</td>\n",
       "      <td>0.124284</td>\n",
       "      <td>0.417711</td>\n",
       "      <td>0.113229</td>\n",
       "      <td>0.159628</td>\n",
       "      <td>0.083763</td>\n",
       "      <td>0.064148</td>\n",
       "      <td>0.142169</td>\n",
       "    </tr>\n",
       "    <tr>\n",
       "      <th>min</th>\n",
       "      <td>0.000000</td>\n",
       "      <td>16.000000</td>\n",
       "      <td>14.844926</td>\n",
       "      <td>0.000000</td>\n",
       "      <td>137.200000</td>\n",
       "      <td>-24.947222</td>\n",
       "      <td>38.600000</td>\n",
       "      <td>1.000000</td>\n",
       "      <td>1.000000</td>\n",
       "      <td>0.000000</td>\n",
       "      <td>...</td>\n",
       "      <td>0.000000</td>\n",
       "      <td>0.000000</td>\n",
       "      <td>0.000000</td>\n",
       "      <td>0.000000</td>\n",
       "      <td>0.000000</td>\n",
       "      <td>0.000000</td>\n",
       "      <td>0.000000</td>\n",
       "      <td>0.000000</td>\n",
       "      <td>0.000000</td>\n",
       "      <td>0.000000</td>\n",
       "    </tr>\n",
       "    <tr>\n",
       "      <th>25%</th>\n",
       "      <td>0.000000</td>\n",
       "      <td>52.000000</td>\n",
       "      <td>23.641975</td>\n",
       "      <td>0.000000</td>\n",
       "      <td>162.500000</td>\n",
       "      <td>0.035417</td>\n",
       "      <td>66.800000</td>\n",
       "      <td>3.000000</td>\n",
       "      <td>6.000000</td>\n",
       "      <td>0.000000</td>\n",
       "      <td>...</td>\n",
       "      <td>0.000000</td>\n",
       "      <td>0.000000</td>\n",
       "      <td>0.000000</td>\n",
       "      <td>0.000000</td>\n",
       "      <td>0.000000</td>\n",
       "      <td>0.000000</td>\n",
       "      <td>0.000000</td>\n",
       "      <td>0.000000</td>\n",
       "      <td>0.000000</td>\n",
       "      <td>0.000000</td>\n",
       "    </tr>\n",
       "    <tr>\n",
       "      <th>50%</th>\n",
       "      <td>0.000000</td>\n",
       "      <td>65.000000</td>\n",
       "      <td>27.654655</td>\n",
       "      <td>0.000000</td>\n",
       "      <td>170.100000</td>\n",
       "      <td>0.138889</td>\n",
       "      <td>80.300000</td>\n",
       "      <td>4.000000</td>\n",
       "      <td>6.000000</td>\n",
       "      <td>0.000000</td>\n",
       "      <td>...</td>\n",
       "      <td>0.000000</td>\n",
       "      <td>0.000000</td>\n",
       "      <td>0.000000</td>\n",
       "      <td>0.000000</td>\n",
       "      <td>0.000000</td>\n",
       "      <td>0.000000</td>\n",
       "      <td>0.000000</td>\n",
       "      <td>0.000000</td>\n",
       "      <td>0.000000</td>\n",
       "      <td>0.000000</td>\n",
       "    </tr>\n",
       "    <tr>\n",
       "      <th>75%</th>\n",
       "      <td>0.000000</td>\n",
       "      <td>75.000000</td>\n",
       "      <td>32.930206</td>\n",
       "      <td>0.000000</td>\n",
       "      <td>177.800000</td>\n",
       "      <td>0.409028</td>\n",
       "      <td>97.100000</td>\n",
       "      <td>4.000000</td>\n",
       "      <td>6.000000</td>\n",
       "      <td>0.000000</td>\n",
       "      <td>...</td>\n",
       "      <td>0.000000</td>\n",
       "      <td>1.000000</td>\n",
       "      <td>0.000000</td>\n",
       "      <td>0.000000</td>\n",
       "      <td>0.000000</td>\n",
       "      <td>0.000000</td>\n",
       "      <td>0.000000</td>\n",
       "      <td>0.000000</td>\n",
       "      <td>0.000000</td>\n",
       "      <td>0.000000</td>\n",
       "    </tr>\n",
       "    <tr>\n",
       "      <th>max</th>\n",
       "      <td>1.000000</td>\n",
       "      <td>89.000000</td>\n",
       "      <td>67.814990</td>\n",
       "      <td>1.000000</td>\n",
       "      <td>195.590000</td>\n",
       "      <td>159.090972</td>\n",
       "      <td>186.000000</td>\n",
       "      <td>4.000000</td>\n",
       "      <td>6.000000</td>\n",
       "      <td>1.000000</td>\n",
       "      <td>...</td>\n",
       "      <td>1.000000</td>\n",
       "      <td>1.000000</td>\n",
       "      <td>1.000000</td>\n",
       "      <td>1.000000</td>\n",
       "      <td>1.000000</td>\n",
       "      <td>1.000000</td>\n",
       "      <td>1.000000</td>\n",
       "      <td>1.000000</td>\n",
       "      <td>1.000000</td>\n",
       "      <td>1.000000</td>\n",
       "    </tr>\n",
       "  </tbody>\n",
       "</table>\n",
       "<p>8 rows × 21 columns</p>\n",
       "</div>\n",
       "      <button class=\"colab-df-convert\" onclick=\"convertToInteractive('df-ce38a6a3-419b-46f0-b3d6-48f4f56f184d')\"\n",
       "              title=\"Convert this dataframe to an interactive table.\"\n",
       "              style=\"display:none;\">\n",
       "        \n",
       "  <svg xmlns=\"http://www.w3.org/2000/svg\" height=\"24px\"viewBox=\"0 0 24 24\"\n",
       "       width=\"24px\">\n",
       "    <path d=\"M0 0h24v24H0V0z\" fill=\"none\"/>\n",
       "    <path d=\"M18.56 5.44l.94 2.06.94-2.06 2.06-.94-2.06-.94-.94-2.06-.94 2.06-2.06.94zm-11 1L8.5 8.5l.94-2.06 2.06-.94-2.06-.94L8.5 2.5l-.94 2.06-2.06.94zm10 10l.94 2.06.94-2.06 2.06-.94-2.06-.94-.94-2.06-.94 2.06-2.06.94z\"/><path d=\"M17.41 7.96l-1.37-1.37c-.4-.4-.92-.59-1.43-.59-.52 0-1.04.2-1.43.59L10.3 9.45l-7.72 7.72c-.78.78-.78 2.05 0 2.83L4 21.41c.39.39.9.59 1.41.59.51 0 1.02-.2 1.41-.59l7.78-7.78 2.81-2.81c.8-.78.8-2.07 0-2.86zM5.41 20L4 18.59l7.72-7.72 1.47 1.35L5.41 20z\"/>\n",
       "  </svg>\n",
       "      </button>\n",
       "      \n",
       "  <style>\n",
       "    .colab-df-container {\n",
       "      display:flex;\n",
       "      flex-wrap:wrap;\n",
       "      gap: 12px;\n",
       "    }\n",
       "\n",
       "    .colab-df-convert {\n",
       "      background-color: #E8F0FE;\n",
       "      border: none;\n",
       "      border-radius: 50%;\n",
       "      cursor: pointer;\n",
       "      display: none;\n",
       "      fill: #1967D2;\n",
       "      height: 32px;\n",
       "      padding: 0 0 0 0;\n",
       "      width: 32px;\n",
       "    }\n",
       "\n",
       "    .colab-df-convert:hover {\n",
       "      background-color: #E2EBFA;\n",
       "      box-shadow: 0px 1px 2px rgba(60, 64, 67, 0.3), 0px 1px 3px 1px rgba(60, 64, 67, 0.15);\n",
       "      fill: #174EA6;\n",
       "    }\n",
       "\n",
       "    [theme=dark] .colab-df-convert {\n",
       "      background-color: #3B4455;\n",
       "      fill: #D2E3FC;\n",
       "    }\n",
       "\n",
       "    [theme=dark] .colab-df-convert:hover {\n",
       "      background-color: #434B5C;\n",
       "      box-shadow: 0px 1px 3px 1px rgba(0, 0, 0, 0.15);\n",
       "      filter: drop-shadow(0px 1px 2px rgba(0, 0, 0, 0.3));\n",
       "      fill: #FFFFFF;\n",
       "    }\n",
       "  </style>\n",
       "\n",
       "      <script>\n",
       "        const buttonEl =\n",
       "          document.querySelector('#df-ce38a6a3-419b-46f0-b3d6-48f4f56f184d button.colab-df-convert');\n",
       "        buttonEl.style.display =\n",
       "          google.colab.kernel.accessAllowed ? 'block' : 'none';\n",
       "\n",
       "        async function convertToInteractive(key) {\n",
       "          const element = document.querySelector('#df-ce38a6a3-419b-46f0-b3d6-48f4f56f184d');\n",
       "          const dataTable =\n",
       "            await google.colab.kernel.invokeFunction('convertToInteractive',\n",
       "                                                     [key], {});\n",
       "          if (!dataTable) return;\n",
       "\n",
       "          const docLinkHtml = 'Like what you see? Visit the ' +\n",
       "            '<a target=\"_blank\" href=https://colab.research.google.com/notebooks/data_table.ipynb>data table notebook</a>'\n",
       "            + ' to learn more about interactive tables.';\n",
       "          element.innerHTML = '';\n",
       "          dataTable['output_type'] = 'display_data';\n",
       "          await google.colab.output.renderOutput(dataTable, element);\n",
       "          const docLink = document.createElement('div');\n",
       "          docLink.innerHTML = docLinkHtml;\n",
       "          element.appendChild(docLink);\n",
       "        }\n",
       "      </script>\n",
       "    </div>\n",
       "  </div>\n",
       "  "
      ],
      "text/plain": [
       "       hospital_death           age           bmi  elective_surgery  \\\n",
       "count    91713.000000  87485.000000  88284.000000      91713.000000   \n",
       "mean         0.086302     62.309516     29.185818          0.183736   \n",
       "std          0.280811     16.775119      8.275142          0.387271   \n",
       "min          0.000000     16.000000     14.844926          0.000000   \n",
       "25%          0.000000     52.000000     23.641975          0.000000   \n",
       "50%          0.000000     65.000000     27.654655          0.000000   \n",
       "75%          0.000000     75.000000     32.930206          0.000000   \n",
       "max          1.000000     89.000000     67.814990          1.000000   \n",
       "\n",
       "             height  pre_icu_los_days        weight  gcs_eyes_apache  \\\n",
       "count  90379.000000      91713.000000  88993.000000     89812.000000   \n",
       "mean     169.641588          0.835766     84.028340         3.465049   \n",
       "std       10.795378          2.487756     25.011497         0.951715   \n",
       "min      137.200000        -24.947222     38.600000         1.000000   \n",
       "25%      162.500000          0.035417     66.800000         3.000000   \n",
       "50%      170.100000          0.138889     80.300000         4.000000   \n",
       "75%      177.800000          0.409028     97.100000         4.000000   \n",
       "max      195.590000        159.090972    186.000000         4.000000   \n",
       "\n",
       "       gcs_motor_apache  gcs_unable_apache  ...  intubated_apache  \\\n",
       "count      89812.000000       90676.000000  ...      90998.000000   \n",
       "mean           5.471195           0.009528  ...          0.151223   \n",
       "std            1.288376           0.097148  ...          0.358268   \n",
       "min            1.000000           0.000000  ...          0.000000   \n",
       "25%            6.000000           0.000000  ...          0.000000   \n",
       "50%            6.000000           0.000000  ...          0.000000   \n",
       "75%            6.000000           0.000000  ...          0.000000   \n",
       "max            6.000000           1.000000  ...          1.000000   \n",
       "\n",
       "       ventilated_apache          aids     cirrhosis  diabetes_mellitus  \\\n",
       "count       90998.000000  90998.000000  90998.000000       90998.000000   \n",
       "mean            0.325721      0.000857      0.015693           0.225192   \n",
       "std             0.468646      0.029265      0.124284           0.417711   \n",
       "min             0.000000      0.000000      0.000000           0.000000   \n",
       "25%             0.000000      0.000000      0.000000           0.000000   \n",
       "50%             0.000000      0.000000      0.000000           0.000000   \n",
       "75%             1.000000      0.000000      0.000000           0.000000   \n",
       "max             1.000000      1.000000      1.000000           1.000000   \n",
       "\n",
       "       hepatic_failure  immunosuppression      leukemia      lymphoma  \\\n",
       "count     90998.000000       90998.000000  90998.000000  90998.000000   \n",
       "mean          0.012989           0.026165      0.007066      0.004132   \n",
       "std           0.113229           0.159628      0.083763      0.064148   \n",
       "min           0.000000           0.000000      0.000000      0.000000   \n",
       "25%           0.000000           0.000000      0.000000      0.000000   \n",
       "50%           0.000000           0.000000      0.000000      0.000000   \n",
       "75%           0.000000           0.000000      0.000000      0.000000   \n",
       "max           1.000000           1.000000      1.000000      1.000000   \n",
       "\n",
       "       solid_tumor_with_metastasis  \n",
       "count                 90998.000000  \n",
       "mean                      0.020638  \n",
       "std                       0.142169  \n",
       "min                       0.000000  \n",
       "25%                       0.000000  \n",
       "50%                       0.000000  \n",
       "75%                       0.000000  \n",
       "max                       1.000000  \n",
       "\n",
       "[8 rows x 21 columns]"
      ]
     },
     "metadata": {},
     "output_type": "display_data"
    },
    {
     "name": "stdout",
     "output_type": "stream",
     "text": [
      "\n",
      "Checking Missing Values:\n",
      "Column \"age\" has 4228 missing values (4.61%)\n",
      "Column \"bmi\" has 3429 missing values (3.74%)\n",
      "Column \"ethnicity\" has 1395 missing values (1.52%)\n",
      "Column \"gender\" has 25 missing values (0.03%)\n",
      "Column \"height\" has 1334 missing values (1.45%)\n",
      "Column \"hospital_admit_source\" has 21409 missing values (23.34%)\n",
      "Column \"icu_admit_source\" has 112 missing values (0.12%)\n",
      "Column \"weight\" has 2720 missing values (2.97%)\n",
      "Column \"gcs_eyes_apache\" has 1901 missing values (2.07%)\n",
      "Column \"gcs_motor_apache\" has 1901 missing values (2.07%)\n",
      "Column \"gcs_unable_apache\" has 1037 missing values (1.13%)\n",
      "Column \"gcs_verbal_apache\" has 1901 missing values (2.07%)\n",
      "Column \"intubated_apache\" has 715 missing values (0.78%)\n",
      "Column \"ventilated_apache\" has 715 missing values (0.78%)\n",
      "Column \"aids\" has 715 missing values (0.78%)\n",
      "Column \"cirrhosis\" has 715 missing values (0.78%)\n",
      "Column \"diabetes_mellitus\" has 715 missing values (0.78%)\n",
      "Column \"hepatic_failure\" has 715 missing values (0.78%)\n",
      "Column \"immunosuppression\" has 715 missing values (0.78%)\n",
      "Column \"leukemia\" has 715 missing values (0.78%)\n",
      "Column \"lymphoma\" has 715 missing values (0.78%)\n",
      "Column \"solid_tumor_with_metastasis\" has 715 missing values (0.78%)\n",
      "Column \"apache_3j_bodysystem\" has 1662 missing values (1.81%)\n",
      "Column \"apache_2_bodysystem\" has 1662 missing values (1.81%)\n",
      "\n",
      "Checking Linear Correlation:\n",
      "Linear Correlation found between columns weight and bmi -> Pearson coef. = 0.88\n",
      "Linear Correlation found between columns gcs_motor_apache and gcs_eyes_apache -> Pearson coef. = 0.80\n",
      "Linear Correlation found between columns gcs_verbal_apache and gcs_eyes_apache -> Pearson coef. = 0.78\n",
      "time: 1.25 s (started: 2022-12-04 01:46:27 +00:00)\n"
     ]
    }
   ],
   "source": [
    "analyse_df(data)"
   ]
  },
  {
   "cell_type": "code",
   "execution_count": 10,
   "metadata": {
    "colab": {
     "base_uri": "https://localhost:8080/"
    },
    "id": "ieGO_Gqf4r2W",
    "outputId": "3c3ac14b-54f4-4e6b-fd71-5cb2e34216d1"
   },
   "outputs": [
    {
     "name": "stdout",
     "output_type": "stream",
     "text": [
      "time: 28.4 ms (started: 2022-12-04 01:46:29 +00:00)\n"
     ]
    }
   ],
   "source": [
    "# Drop the following features (reason)\n",
    "# hospital_admit_source (over 20K missing values)\n",
    "data.drop(['hospital_admit_source'],axis =1, inplace = True)"
   ]
  },
  {
   "cell_type": "code",
   "execution_count": 11,
   "metadata": {
    "colab": {
     "base_uri": "https://localhost:8080/"
    },
    "id": "jGACFY9Q40Sm",
    "outputId": "58b9fc5a-bbea-463a-f66d-a2d91b8b1c39"
   },
   "outputs": [
    {
     "name": "stdout",
     "output_type": "stream",
     "text": [
      "time: 20.9 ms (started: 2022-12-04 01:46:29 +00:00)\n"
     ]
    }
   ],
   "source": [
    "# Drop rows where \"pre_icu_los_days\" <0\n",
    "data=data[data.pre_icu_los_days >=0]"
   ]
  },
  {
   "cell_type": "code",
   "execution_count": 12,
   "metadata": {
    "colab": {
     "base_uri": "https://localhost:8080/"
    },
    "id": "TyzvBf0145CW",
    "outputId": "186bfafe-9c6b-4671-9901-f2564f765f40"
   },
   "outputs": [
    {
     "name": "stdout",
     "output_type": "stream",
     "text": [
      "time: 215 ms (started: 2022-12-04 01:46:29 +00:00)\n"
     ]
    }
   ],
   "source": [
    "# Drop rows that have 2 or more missing values\n",
    "df = data\n",
    "df = df[df.isnull().sum(axis=1) < 2]"
   ]
  },
  {
   "cell_type": "code",
   "execution_count": 13,
   "metadata": {
    "colab": {
     "base_uri": "https://localhost:8080/"
    },
    "id": "ngeAJFky3-MU",
    "outputId": "edd78df0-eaa3-4f18-87ff-d0d1fc3d7358"
   },
   "outputs": [
    {
     "data": {
      "text/plain": [
       "hospital_death                     2\n",
       "age                               74\n",
       "bmi                            34243\n",
       "elective_surgery                   2\n",
       "ethnicity                          6\n",
       "gender                             2\n",
       "height                           396\n",
       "icu_admit_source                   5\n",
       "icu_stay_type                      3\n",
       "icu_type                           8\n",
       "pre_icu_los_days                8896\n",
       "weight                          3378\n",
       "gcs_eyes_apache                    4\n",
       "gcs_motor_apache                   6\n",
       "gcs_unable_apache                  1\n",
       "gcs_verbal_apache                  5\n",
       "intubated_apache                   2\n",
       "ventilated_apache                  2\n",
       "aids                               2\n",
       "cirrhosis                          2\n",
       "diabetes_mellitus                  2\n",
       "hepatic_failure                    2\n",
       "immunosuppression                  2\n",
       "leukemia                           2\n",
       "lymphoma                           2\n",
       "solid_tumor_with_metastasis        2\n",
       "apache_3j_bodysystem              11\n",
       "apache_2_bodysystem               10\n",
       "dtype: int64"
      ]
     },
     "execution_count": 13,
     "metadata": {},
     "output_type": "execute_result"
    },
    {
     "name": "stdout",
     "output_type": "stream",
     "text": [
      "time: 201 ms (started: 2022-12-04 01:46:29 +00:00)\n"
     ]
    }
   ],
   "source": [
    "#Check for features with no variance\n",
    "df.nunique()"
   ]
  },
  {
   "cell_type": "code",
   "execution_count": 14,
   "metadata": {
    "colab": {
     "base_uri": "https://localhost:8080/"
    },
    "id": "vLk-eNrY5OcX",
    "outputId": "cffe55b0-1a83-41ec-9a59-cdb2a0120d81"
   },
   "outputs": [
    {
     "name": "stdout",
     "output_type": "stream",
     "text": [
      "time: 26.7 ms (started: 2022-12-04 01:46:29 +00:00)\n"
     ]
    }
   ],
   "source": [
    "# Drop feature gcs_unable_apache (all values are the same)\n",
    "df1 = df.copy()\n",
    "df1.drop(['gcs_unable_apache'],axis =1, inplace = True)"
   ]
  },
  {
   "cell_type": "code",
   "execution_count": 15,
   "metadata": {
    "colab": {
     "base_uri": "https://localhost:8080/"
    },
    "id": "OamqprK36drS",
    "outputId": "2306d7c0-9147-4f76-9034-4e4aae833598"
   },
   "outputs": [
    {
     "data": {
      "text/plain": [
       "hospital_death                    0\n",
       "age                               0\n",
       "bmi                               0\n",
       "elective_surgery                  0\n",
       "ethnicity                      1137\n",
       "gender                            3\n",
       "height                            0\n",
       "icu_admit_source                 82\n",
       "icu_stay_type                     0\n",
       "icu_type                          0\n",
       "pre_icu_los_days                  0\n",
       "weight                            0\n",
       "gcs_eyes_apache                   0\n",
       "gcs_motor_apache                  0\n",
       "gcs_verbal_apache                 0\n",
       "intubated_apache                  0\n",
       "ventilated_apache                 0\n",
       "aids                              0\n",
       "cirrhosis                         0\n",
       "diabetes_mellitus                 0\n",
       "hepatic_failure                   0\n",
       "immunosuppression                 0\n",
       "leukemia                          0\n",
       "lymphoma                          0\n",
       "solid_tumor_with_metastasis       0\n",
       "apache_3j_bodysystem              0\n",
       "apache_2_bodysystem               0\n",
       "dtype: int64"
      ]
     },
     "execution_count": 15,
     "metadata": {},
     "output_type": "execute_result"
    },
    {
     "name": "stdout",
     "output_type": "stream",
     "text": [
      "time: 154 ms (started: 2022-12-04 01:46:29 +00:00)\n"
     ]
    }
   ],
   "source": [
    "imputer = SimpleImputer(strategy='mean', missing_values=np.nan)\n",
    "imputer = imputer.fit(df1[['age']])\n",
    "df1[['age']] = imputer.transform(df1[['age']])\n",
    "df1.isnull().sum()"
   ]
  },
  {
   "cell_type": "code",
   "execution_count": 16,
   "metadata": {
    "colab": {
     "base_uri": "https://localhost:8080/"
    },
    "id": "fvvdBuHa6rXb",
    "outputId": "c795c2bd-4f89-4bd6-f9f5-ae8faaf2a92d"
   },
   "outputs": [
    {
     "data": {
      "text/plain": [
       "hospital_death                 0\n",
       "age                            0\n",
       "bmi                            0\n",
       "elective_surgery               0\n",
       "ethnicity                      0\n",
       "gender                         0\n",
       "height                         0\n",
       "icu_admit_source               0\n",
       "icu_stay_type                  0\n",
       "icu_type                       0\n",
       "pre_icu_los_days               0\n",
       "weight                         0\n",
       "gcs_eyes_apache                0\n",
       "gcs_motor_apache               0\n",
       "gcs_verbal_apache              0\n",
       "intubated_apache               0\n",
       "ventilated_apache              0\n",
       "aids                           0\n",
       "cirrhosis                      0\n",
       "diabetes_mellitus              0\n",
       "hepatic_failure                0\n",
       "immunosuppression              0\n",
       "leukemia                       0\n",
       "lymphoma                       0\n",
       "solid_tumor_with_metastasis    0\n",
       "apache_3j_bodysystem           0\n",
       "apache_2_bodysystem            0\n",
       "dtype: int64"
      ]
     },
     "execution_count": 16,
     "metadata": {},
     "output_type": "execute_result"
    },
    {
     "name": "stdout",
     "output_type": "stream",
     "text": [
      "time: 400 ms (started: 2022-12-04 01:46:29 +00:00)\n"
     ]
    }
   ],
   "source": [
    "imputer = SimpleImputer(strategy='most_frequent', missing_values=np.nan)\n",
    "imputer = imputer.fit(df1[['ethnicity','gender','icu_admit_source']])\n",
    "df1[['ethnicity','gender','icu_admit_source']] = imputer.transform(df[['ethnicity','gender','icu_admit_source']])\n",
    "df1.isnull().sum()"
   ]
  },
  {
   "cell_type": "code",
   "execution_count": 17,
   "metadata": {
    "colab": {
     "base_uri": "https://localhost:8080/"
    },
    "id": "FnNAavyjD43U",
    "outputId": "43f80356-bcc6-4c6b-b333-546127cc96d8"
   },
   "outputs": [
    {
     "name": "stdout",
     "output_type": "stream",
     "text": [
      "time: 60.8 ms (started: 2022-12-04 01:46:30 +00:00)\n"
     ]
    }
   ],
   "source": [
    "# Column apache_2_bodysystem has values 'Undefined Diagnoses' and 'Undefined diagnoses'.  Change all to 'Undefined diagnoses'\n",
    "df1['apache_2_bodysystem']=df1['apache_2_bodysystem'].replace(['Undefined Diagnoses'],'Undefined diagnoses')"
   ]
  },
  {
   "cell_type": "code",
   "execution_count": 18,
   "metadata": {
    "colab": {
     "base_uri": "https://localhost:8080/"
    },
    "id": "NZpEYTpc7BZM",
    "outputId": "10ca13ab-2a0d-4b66-bde7-87a32de14835"
   },
   "outputs": [
    {
     "data": {
      "text/plain": [
       "0    78169\n",
       "1     7198\n",
       "Name: hospital_death, dtype: int64"
      ]
     },
     "execution_count": 18,
     "metadata": {},
     "output_type": "execute_result"
    },
    {
     "name": "stdout",
     "output_type": "stream",
     "text": [
      "time: 20.9 ms (started: 2022-12-04 01:46:30 +00:00)\n"
     ]
    }
   ],
   "source": [
    "df1['hospital_death'].value_counts()"
   ]
  },
  {
   "cell_type": "code",
   "execution_count": 19,
   "metadata": {
    "colab": {
     "base_uri": "https://localhost:8080/",
     "height": 320
    },
    "id": "ehgts3zB7l4l",
    "outputId": "55d0593c-c3cd-4d9d-838f-e2b12e4ebe58"
   },
   "outputs": [
    {
     "data": {
      "image/png": "[encoded data removed]",
      "text/plain": [
       "<Figure size 432x288 with 1 Axes>"
      ]
     },
     "metadata": {},
     "output_type": "display_data"
    },
    {
     "data": {
      "text/plain": [
       "<Figure size 432x288 with 0 Axes>"
      ]
     },
     "metadata": {},
     "output_type": "display_data"
    },
    {
     "name": "stdout",
     "output_type": "stream",
     "text": [
      "time: 363 ms (started: 2022-12-04 01:46:30 +00:00)\n"
     ]
    }
   ],
   "source": [
    "sns.countplot(x='hospital_death',data=df,palette='hls')\n",
    "plt.show()\n",
    "plt.savefig('count_plot')"
   ]
  },
  {
   "cell_type": "code",
   "execution_count": 20,
   "metadata": {
    "colab": {
     "base_uri": "https://localhost:8080/"
    },
    "id": "lMjfaTnM7yKv",
    "outputId": "d0da9394-8dcf-49f7-c098-cb14e05f4f97"
   },
   "outputs": [
    {
     "name": "stdout",
     "output_type": "stream",
     "text": [
      "percentage of 'patients did not die'is 91.5681703702836\n",
      "percentage of 'patients died' is 8.4318296297164\n",
      "time: 29.6 ms (started: 2022-12-04 01:46:30 +00:00)\n"
     ]
    }
   ],
   "source": [
    "count_no_died = len(df1[df1['hospital_death']==0])\n",
    "count_died = len(df1[df1['hospital_death']==1])\n",
    "pct_of_no_died = count_no_died/(count_no_died+count_died)\n",
    "print(\"percentage of 'patients did not die'is\", pct_of_no_died*100)\n",
    "pct_of_died = count_died/(count_no_died+count_died)\n",
    "print(\"percentage of 'patients died' is\", pct_of_died*100)"
   ]
  },
  {
   "cell_type": "code",
   "execution_count": 21,
   "metadata": {
    "colab": {
     "base_uri": "https://localhost:8080/",
     "height": 318
    },
    "id": "KcS2sPphFapH",
    "outputId": "1bd369ae-7691-4d66-c2b0-e478548b7c34"
   },
   "outputs": [
    {
     "data": {
      "image/png": "[encoded data removed]",
      "text/plain": [
       "<Figure size 432x288 with 1 Axes>"
      ]
     },
     "metadata": {},
     "output_type": "display_data"
    },
    {
     "name": "stdout",
     "output_type": "stream",
     "text": [
      "time: 851 ms (started: 2022-12-04 01:46:30 +00:00)\n"
     ]
    }
   ],
   "source": [
    "df1.age.hist()\n",
    "plt.title('Histogram of Patient Age')\n",
    "plt.xlabel('Age')\n",
    "plt.ylabel('Frequency')\n",
    "plt.savefig('hist_age')"
   ]
  },
  {
   "cell_type": "code",
   "execution_count": 22,
   "metadata": {
    "colab": {
     "base_uri": "https://localhost:8080/",
     "height": 225
    },
    "id": "JYPiRllx72oO",
    "outputId": "67ab3706-a929-4b4c-9e96-04f4ba953897"
   },
   "outputs": [
    {
     "data": {
      "text/html": [
       "\n",
       "  <div id=\"df-82014a74-b5b2-4d9d-8615-571d36f24b9b\">\n",
       "    <div class=\"colab-df-container\">\n",
       "      <div>\n",
       "<style scoped>\n",
       "    .dataframe tbody tr th:only-of-type {\n",
       "        vertical-align: middle;\n",
       "    }\n",
       "\n",
       "    .dataframe tbody tr th {\n",
       "        vertical-align: top;\n",
       "    }\n",
       "\n",
       "    .dataframe thead th {\n",
       "        text-align: right;\n",
       "    }\n",
       "</style>\n",
       "<table border=\"1\" class=\"dataframe\">\n",
       "  <thead>\n",
       "    <tr style=\"text-align: right;\">\n",
       "      <th></th>\n",
       "      <th>age</th>\n",
       "      <th>bmi</th>\n",
       "      <th>elective_surgery</th>\n",
       "      <th>height</th>\n",
       "      <th>pre_icu_los_days</th>\n",
       "      <th>weight</th>\n",
       "      <th>gcs_eyes_apache</th>\n",
       "      <th>gcs_motor_apache</th>\n",
       "      <th>gcs_verbal_apache</th>\n",
       "      <th>intubated_apache</th>\n",
       "      <th>ventilated_apache</th>\n",
       "      <th>aids</th>\n",
       "      <th>cirrhosis</th>\n",
       "      <th>diabetes_mellitus</th>\n",
       "      <th>hepatic_failure</th>\n",
       "      <th>immunosuppression</th>\n",
       "      <th>leukemia</th>\n",
       "      <th>lymphoma</th>\n",
       "      <th>solid_tumor_with_metastasis</th>\n",
       "    </tr>\n",
       "    <tr>\n",
       "      <th>hospital_death</th>\n",
       "      <th></th>\n",
       "      <th></th>\n",
       "      <th></th>\n",
       "      <th></th>\n",
       "      <th></th>\n",
       "      <th></th>\n",
       "      <th></th>\n",
       "      <th></th>\n",
       "      <th></th>\n",
       "      <th></th>\n",
       "      <th></th>\n",
       "      <th></th>\n",
       "      <th></th>\n",
       "      <th></th>\n",
       "      <th></th>\n",
       "      <th></th>\n",
       "      <th></th>\n",
       "      <th></th>\n",
       "      <th></th>\n",
       "    </tr>\n",
       "  </thead>\n",
       "  <tbody>\n",
       "    <tr>\n",
       "      <th>0</th>\n",
       "      <td>61.815710</td>\n",
       "      <td>29.249862</td>\n",
       "      <td>0.192775</td>\n",
       "      <td>169.724749</td>\n",
       "      <td>0.789598</td>\n",
       "      <td>84.283498</td>\n",
       "      <td>3.534892</td>\n",
       "      <td>5.576047</td>\n",
       "      <td>4.097916</td>\n",
       "      <td>0.130013</td>\n",
       "      <td>0.290486</td>\n",
       "      <td>0.000819</td>\n",
       "      <td>0.014264</td>\n",
       "      <td>0.228505</td>\n",
       "      <td>0.011757</td>\n",
       "      <td>0.024178</td>\n",
       "      <td>0.006371</td>\n",
       "      <td>0.003902</td>\n",
       "      <td>0.018626</td>\n",
       "    </tr>\n",
       "    <tr>\n",
       "      <th>1</th>\n",
       "      <td>68.125731</td>\n",
       "      <td>28.289413</td>\n",
       "      <td>0.066824</td>\n",
       "      <td>168.960497</td>\n",
       "      <td>1.370253</td>\n",
       "      <td>80.778612</td>\n",
       "      <td>2.655182</td>\n",
       "      <td>4.289108</td>\n",
       "      <td>2.756460</td>\n",
       "      <td>0.349680</td>\n",
       "      <td>0.668241</td>\n",
       "      <td>0.001389</td>\n",
       "      <td>0.032787</td>\n",
       "      <td>0.206585</td>\n",
       "      <td>0.028202</td>\n",
       "      <td>0.049736</td>\n",
       "      <td>0.015699</td>\n",
       "      <td>0.008336</td>\n",
       "      <td>0.044318</td>\n",
       "    </tr>\n",
       "  </tbody>\n",
       "</table>\n",
       "</div>\n",
       "      <button class=\"colab-df-convert\" onclick=\"convertToInteractive('df-82014a74-b5b2-4d9d-8615-571d36f24b9b')\"\n",
       "              title=\"Convert this dataframe to an interactive table.\"\n",
       "              style=\"display:none;\">\n",
       "        \n",
       "  <svg xmlns=\"http://www.w3.org/2000/svg\" height=\"24px\"viewBox=\"0 0 24 24\"\n",
       "       width=\"24px\">\n",
       "    <path d=\"M0 0h24v24H0V0z\" fill=\"none\"/>\n",
       "    <path d=\"M18.56 5.44l.94 2.06.94-2.06 2.06-.94-2.06-.94-.94-2.06-.94 2.06-2.06.94zm-11 1L8.5 8.5l.94-2.06 2.06-.94-2.06-.94L8.5 2.5l-.94 2.06-2.06.94zm10 10l.94 2.06.94-2.06 2.06-.94-2.06-.94-.94-2.06-.94 2.06-2.06.94z\"/><path d=\"M17.41 7.96l-1.37-1.37c-.4-.4-.92-.59-1.43-.59-.52 0-1.04.2-1.43.59L10.3 9.45l-7.72 7.72c-.78.78-.78 2.05 0 2.83L4 21.41c.39.39.9.59 1.41.59.51 0 1.02-.2 1.41-.59l7.78-7.78 2.81-2.81c.8-.78.8-2.07 0-2.86zM5.41 20L4 18.59l7.72-7.72 1.47 1.35L5.41 20z\"/>\n",
       "  </svg>\n",
       "      </button>\n",
       "      \n",
       "  <style>\n",
       "    .colab-df-container {\n",
       "      display:flex;\n",
       "      flex-wrap:wrap;\n",
       "      gap: 12px;\n",
       "    }\n",
       "\n",
       "    .colab-df-convert {\n",
       "      background-color: #E8F0FE;\n",
       "      border: none;\n",
       "      border-radius: 50%;\n",
       "      cursor: pointer;\n",
       "      display: none;\n",
       "      fill: #1967D2;\n",
       "      height: 32px;\n",
       "      padding: 0 0 0 0;\n",
       "      width: 32px;\n",
       "    }\n",
       "\n",
       "    .colab-df-convert:hover {\n",
       "      background-color: #E2EBFA;\n",
       "      box-shadow: 0px 1px 2px rgba(60, 64, 67, 0.3), 0px 1px 3px 1px rgba(60, 64, 67, 0.15);\n",
       "      fill: #174EA6;\n",
       "    }\n",
       "\n",
       "    [theme=dark] .colab-df-convert {\n",
       "      background-color: #3B4455;\n",
       "      fill: #D2E3FC;\n",
       "    }\n",
       "\n",
       "    [theme=dark] .colab-df-convert:hover {\n",
       "      background-color: #434B5C;\n",
       "      box-shadow: 0px 1px 3px 1px rgba(0, 0, 0, 0.15);\n",
       "      filter: drop-shadow(0px 1px 2px rgba(0, 0, 0, 0.3));\n",
       "      fill: #FFFFFF;\n",
       "    }\n",
       "  </style>\n",
       "\n",
       "      <script>\n",
       "        const buttonEl =\n",
       "          document.querySelector('#df-82014a74-b5b2-4d9d-8615-571d36f24b9b button.colab-df-convert');\n",
       "        buttonEl.style.display =\n",
       "          google.colab.kernel.accessAllowed ? 'block' : 'none';\n",
       "\n",
       "        async function convertToInteractive(key) {\n",
       "          const element = document.querySelector('#df-82014a74-b5b2-4d9d-8615-571d36f24b9b');\n",
       "          const dataTable =\n",
       "            await google.colab.kernel.invokeFunction('convertToInteractive',\n",
       "                                                     [key], {});\n",
       "          if (!dataTable) return;\n",
       "\n",
       "          const docLinkHtml = 'Like what you see? Visit the ' +\n",
       "            '<a target=\"_blank\" href=https://colab.research.google.com/notebooks/data_table.ipynb>data table notebook</a>'\n",
       "            + ' to learn more about interactive tables.';\n",
       "          element.innerHTML = '';\n",
       "          dataTable['output_type'] = 'display_data';\n",
       "          await google.colab.output.renderOutput(dataTable, element);\n",
       "          const docLink = document.createElement('div');\n",
       "          docLink.innerHTML = docLinkHtml;\n",
       "          element.appendChild(docLink);\n",
       "        }\n",
       "      </script>\n",
       "    </div>\n",
       "  </div>\n",
       "  "
      ],
      "text/plain": [
       "                      age        bmi  elective_surgery      height  \\\n",
       "hospital_death                                                       \n",
       "0               61.815710  29.249862          0.192775  169.724749   \n",
       "1               68.125731  28.289413          0.066824  168.960497   \n",
       "\n",
       "                pre_icu_los_days     weight  gcs_eyes_apache  \\\n",
       "hospital_death                                                 \n",
       "0                       0.789598  84.283498         3.534892   \n",
       "1                       1.370253  80.778612         2.655182   \n",
       "\n",
       "                gcs_motor_apache  gcs_verbal_apache  intubated_apache  \\\n",
       "hospital_death                                                          \n",
       "0                       5.576047           4.097916          0.130013   \n",
       "1                       4.289108           2.756460          0.349680   \n",
       "\n",
       "                ventilated_apache      aids  cirrhosis  diabetes_mellitus  \\\n",
       "hospital_death                                                              \n",
       "0                        0.290486  0.000819   0.014264           0.228505   \n",
       "1                        0.668241  0.001389   0.032787           0.206585   \n",
       "\n",
       "                hepatic_failure  immunosuppression  leukemia  lymphoma  \\\n",
       "hospital_death                                                           \n",
       "0                      0.011757           0.024178  0.006371  0.003902   \n",
       "1                      0.028202           0.049736  0.015699  0.008336   \n",
       "\n",
       "                solid_tumor_with_metastasis  \n",
       "hospital_death                               \n",
       "0                                  0.018626  \n",
       "1                                  0.044318  "
      ]
     },
     "execution_count": 22,
     "metadata": {},
     "output_type": "execute_result"
    },
    {
     "name": "stdout",
     "output_type": "stream",
     "text": [
      "time: 100 ms (started: 2022-12-04 01:46:31 +00:00)\n"
     ]
    }
   ],
   "source": [
    "df1.groupby('hospital_death').mean()"
   ]
  },
  {
   "cell_type": "markdown",
   "metadata": {
    "id": "_dhN2Iee8EvH"
   },
   "source": [
    "Observations:\n",
    "\n",
    "*   The average age of a patient that died is ~6 years older than that of one that does not die.\n",
    "*   The 3 gcs scores are all lower for patients that died vs. did not die (the higher the gcs score, (generally) the healthier the patient).\n",
    "*   Patients that died are more likely to have been either intubated or ventilated than patients that did not die.\n",
    "\n",
    "\n",
    "\n",
    "\n"
   ]
  },
  {
   "cell_type": "code",
   "execution_count": 23,
   "metadata": {
    "colab": {
     "base_uri": "https://localhost:8080/",
     "height": 349
    },
    "id": "x5tD3lD4DuuG",
    "outputId": "977d3a8a-0199-43ef-fae0-00c3834fc713"
   },
   "outputs": [
    {
     "data": {
      "text/html": [
       "\n",
       "  <div id=\"df-f4023da2-10bc-4992-b5d0-52e377f175e9\">\n",
       "    <div class=\"colab-df-container\">\n",
       "      <div>\n",
       "<style scoped>\n",
       "    .dataframe tbody tr th:only-of-type {\n",
       "        vertical-align: middle;\n",
       "    }\n",
       "\n",
       "    .dataframe tbody tr th {\n",
       "        vertical-align: top;\n",
       "    }\n",
       "\n",
       "    .dataframe thead th {\n",
       "        text-align: right;\n",
       "    }\n",
       "</style>\n",
       "<table border=\"1\" class=\"dataframe\">\n",
       "  <thead>\n",
       "    <tr style=\"text-align: right;\">\n",
       "      <th>hospital_death</th>\n",
       "      <th>0</th>\n",
       "      <th>1</th>\n",
       "    </tr>\n",
       "    <tr>\n",
       "      <th>age</th>\n",
       "      <th></th>\n",
       "      <th></th>\n",
       "    </tr>\n",
       "  </thead>\n",
       "  <tbody>\n",
       "    <tr>\n",
       "      <th>(16.0, 20.0]</th>\n",
       "      <td>976</td>\n",
       "      <td>24</td>\n",
       "    </tr>\n",
       "    <tr>\n",
       "      <th>(20.0, 30.0]</th>\n",
       "      <td>3749</td>\n",
       "      <td>110</td>\n",
       "    </tr>\n",
       "    <tr>\n",
       "      <th>(30.0, 40.0]</th>\n",
       "      <td>4656</td>\n",
       "      <td>189</td>\n",
       "    </tr>\n",
       "    <tr>\n",
       "      <th>(40.0, 50.0]</th>\n",
       "      <td>7859</td>\n",
       "      <td>385</td>\n",
       "    </tr>\n",
       "    <tr>\n",
       "      <th>(50.0, 60.0]</th>\n",
       "      <td>14535</td>\n",
       "      <td>982</td>\n",
       "    </tr>\n",
       "    <tr>\n",
       "      <th>(60.0, 70.0]</th>\n",
       "      <td>17394</td>\n",
       "      <td>1607</td>\n",
       "    </tr>\n",
       "    <tr>\n",
       "      <th>(70.0, 80.0]</th>\n",
       "      <td>16091</td>\n",
       "      <td>1875</td>\n",
       "    </tr>\n",
       "    <tr>\n",
       "      <th>(80.0, inf]</th>\n",
       "      <td>10105</td>\n",
       "      <td>1516</td>\n",
       "    </tr>\n",
       "  </tbody>\n",
       "</table>\n",
       "</div>\n",
       "      <button class=\"colab-df-convert\" onclick=\"convertToInteractive('df-f4023da2-10bc-4992-b5d0-52e377f175e9')\"\n",
       "              title=\"Convert this dataframe to an interactive table.\"\n",
       "              style=\"display:none;\">\n",
       "        \n",
       "  <svg xmlns=\"http://www.w3.org/2000/svg\" height=\"24px\"viewBox=\"0 0 24 24\"\n",
       "       width=\"24px\">\n",
       "    <path d=\"M0 0h24v24H0V0z\" fill=\"none\"/>\n",
       "    <path d=\"M18.56 5.44l.94 2.06.94-2.06 2.06-.94-2.06-.94-.94-2.06-.94 2.06-2.06.94zm-11 1L8.5 8.5l.94-2.06 2.06-.94-2.06-.94L8.5 2.5l-.94 2.06-2.06.94zm10 10l.94 2.06.94-2.06 2.06-.94-2.06-.94-.94-2.06-.94 2.06-2.06.94z\"/><path d=\"M17.41 7.96l-1.37-1.37c-.4-.4-.92-.59-1.43-.59-.52 0-1.04.2-1.43.59L10.3 9.45l-7.72 7.72c-.78.78-.78 2.05 0 2.83L4 21.41c.39.39.9.59 1.41.59.51 0 1.02-.2 1.41-.59l7.78-7.78 2.81-2.81c.8-.78.8-2.07 0-2.86zM5.41 20L4 18.59l7.72-7.72 1.47 1.35L5.41 20z\"/>\n",
       "  </svg>\n",
       "      </button>\n",
       "      \n",
       "  <style>\n",
       "    .colab-df-container {\n",
       "      display:flex;\n",
       "      flex-wrap:wrap;\n",
       "      gap: 12px;\n",
       "    }\n",
       "\n",
       "    .colab-df-convert {\n",
       "      background-color: #E8F0FE;\n",
       "      border: none;\n",
       "      border-radius: 50%;\n",
       "      cursor: pointer;\n",
       "      display: none;\n",
       "      fill: #1967D2;\n",
       "      height: 32px;\n",
       "      padding: 0 0 0 0;\n",
       "      width: 32px;\n",
       "    }\n",
       "\n",
       "    .colab-df-convert:hover {\n",
       "      background-color: #E2EBFA;\n",
       "      box-shadow: 0px 1px 2px rgba(60, 64, 67, 0.3), 0px 1px 3px 1px rgba(60, 64, 67, 0.15);\n",
       "      fill: #174EA6;\n",
       "    }\n",
       "\n",
       "    [theme=dark] .colab-df-convert {\n",
       "      background-color: #3B4455;\n",
       "      fill: #D2E3FC;\n",
       "    }\n",
       "\n",
       "    [theme=dark] .colab-df-convert:hover {\n",
       "      background-color: #434B5C;\n",
       "      box-shadow: 0px 1px 3px 1px rgba(0, 0, 0, 0.15);\n",
       "      filter: drop-shadow(0px 1px 2px rgba(0, 0, 0, 0.3));\n",
       "      fill: #FFFFFF;\n",
       "    }\n",
       "  </style>\n",
       "\n",
       "      <script>\n",
       "        const buttonEl =\n",
       "          document.querySelector('#df-f4023da2-10bc-4992-b5d0-52e377f175e9 button.colab-df-convert');\n",
       "        buttonEl.style.display =\n",
       "          google.colab.kernel.accessAllowed ? 'block' : 'none';\n",
       "\n",
       "        async function convertToInteractive(key) {\n",
       "          const element = document.querySelector('#df-f4023da2-10bc-4992-b5d0-52e377f175e9');\n",
       "          const dataTable =\n",
       "            await google.colab.kernel.invokeFunction('convertToInteractive',\n",
       "                                                     [key], {});\n",
       "          if (!dataTable) return;\n",
       "\n",
       "          const docLinkHtml = 'Like what you see? Visit the ' +\n",
       "            '<a target=\"_blank\" href=https://colab.research.google.com/notebooks/data_table.ipynb>data table notebook</a>'\n",
       "            + ' to learn more about interactive tables.';\n",
       "          element.innerHTML = '';\n",
       "          dataTable['output_type'] = 'display_data';\n",
       "          await google.colab.output.renderOutput(dataTable, element);\n",
       "          const docLink = document.createElement('div');\n",
       "          docLink.innerHTML = docLinkHtml;\n",
       "          element.appendChild(docLink);\n",
       "        }\n",
       "      </script>\n",
       "    </div>\n",
       "  </div>\n",
       "  "
      ],
      "text/plain": [
       "hospital_death      0     1\n",
       "age                        \n",
       "(16.0, 20.0]      976    24\n",
       "(20.0, 30.0]     3749   110\n",
       "(30.0, 40.0]     4656   189\n",
       "(40.0, 50.0]     7859   385\n",
       "(50.0, 60.0]    14535   982\n",
       "(60.0, 70.0]    17394  1607\n",
       "(70.0, 80.0]    16091  1875\n",
       "(80.0, inf]     10105  1516"
      ]
     },
     "execution_count": 23,
     "metadata": {},
     "output_type": "execute_result"
    },
    {
     "name": "stdout",
     "output_type": "stream",
     "text": [
      "time: 200 ms (started: 2022-12-04 01:46:31 +00:00)\n"
     ]
    }
   ],
   "source": [
    "pd.cut(df1['age'],bins=[16,20,30,40,50,60,70,80,np.inf])\n",
    "age_groups = pd.cut(data['age'], bins=[16,20,30,40,50,60,70,80,np.inf])\n",
    "pd.crosstab(age_groups, df1['hospital_death'])"
   ]
  },
  {
   "cell_type": "code",
   "execution_count": 24,
   "metadata": {
    "colab": {
     "base_uri": "https://localhost:8080/",
     "height": 537
    },
    "id": "Au_mLwKvDm8g",
    "outputId": "04bc6c72-180c-4019-e927-98e8f67822f8"
   },
   "outputs": [
    {
     "data": {
      "text/plain": [
       "<matplotlib.axes._subplots.AxesSubplot at 0x7f91bc05fd00>"
      ]
     },
     "execution_count": 24,
     "metadata": {},
     "output_type": "execute_result"
    },
    {
     "data": {
      "image/png": "[encoded data removed]",
      "text/plain": [
       "<Figure size 864x576 with 1 Axes>"
      ]
     },
     "metadata": {},
     "output_type": "display_data"
    },
    {
     "name": "stdout",
     "output_type": "stream",
     "text": [
      "time: 2.09 s (started: 2022-12-04 01:46:32 +00:00)\n"
     ]
    }
   ],
   "source": [
    "# Outcome (patient died / patient did not die) density by age\n",
    "plt.figure(figsize=(12,8))\n",
    "sns.kdeplot(data=df1,x='age',hue='hospital_death',fill=True)"
   ]
  },
  {
   "cell_type": "code",
   "execution_count": 25,
   "metadata": {
    "colab": {
     "base_uri": "https://localhost:8080/",
     "height": 385
    },
    "id": "SGRRtP46-Yai",
    "outputId": "260db9dd-f3e0-405d-ab22-2611f46cf7cb"
   },
   "outputs": [
    {
     "data": {
      "text/html": [
       "\n",
       "  <div id=\"df-acb9c0fa-d161-4cac-ac98-0785bc61772c\">\n",
       "    <div class=\"colab-df-container\">\n",
       "      <div>\n",
       "<style scoped>\n",
       "    .dataframe tbody tr th:only-of-type {\n",
       "        vertical-align: middle;\n",
       "    }\n",
       "\n",
       "    .dataframe tbody tr th {\n",
       "        vertical-align: top;\n",
       "    }\n",
       "\n",
       "    .dataframe thead th {\n",
       "        text-align: right;\n",
       "    }\n",
       "</style>\n",
       "<table border=\"1\" class=\"dataframe\">\n",
       "  <thead>\n",
       "    <tr style=\"text-align: right;\">\n",
       "      <th></th>\n",
       "      <th>hospital_death</th>\n",
       "      <th>age</th>\n",
       "      <th>bmi</th>\n",
       "      <th>elective_surgery</th>\n",
       "      <th>height</th>\n",
       "      <th>pre_icu_los_days</th>\n",
       "      <th>weight</th>\n",
       "      <th>gcs_eyes_apache</th>\n",
       "      <th>gcs_motor_apache</th>\n",
       "      <th>gcs_verbal_apache</th>\n",
       "      <th>intubated_apache</th>\n",
       "      <th>ventilated_apache</th>\n",
       "      <th>aids</th>\n",
       "      <th>cirrhosis</th>\n",
       "      <th>diabetes_mellitus</th>\n",
       "      <th>hepatic_failure</th>\n",
       "      <th>immunosuppression</th>\n",
       "      <th>leukemia</th>\n",
       "      <th>lymphoma</th>\n",
       "      <th>solid_tumor_with_metastasis</th>\n",
       "    </tr>\n",
       "    <tr>\n",
       "      <th>ethnicity</th>\n",
       "      <th></th>\n",
       "      <th></th>\n",
       "      <th></th>\n",
       "      <th></th>\n",
       "      <th></th>\n",
       "      <th></th>\n",
       "      <th></th>\n",
       "      <th></th>\n",
       "      <th></th>\n",
       "      <th></th>\n",
       "      <th></th>\n",
       "      <th></th>\n",
       "      <th></th>\n",
       "      <th></th>\n",
       "      <th></th>\n",
       "      <th></th>\n",
       "      <th></th>\n",
       "      <th></th>\n",
       "      <th></th>\n",
       "      <th></th>\n",
       "    </tr>\n",
       "  </thead>\n",
       "  <tbody>\n",
       "    <tr>\n",
       "      <th>African American</th>\n",
       "      <td>0.076149</td>\n",
       "      <td>56.553315</td>\n",
       "      <td>30.022166</td>\n",
       "      <td>0.130940</td>\n",
       "      <td>170.674013</td>\n",
       "      <td>1.013062</td>\n",
       "      <td>87.096753</td>\n",
       "      <td>3.426591</td>\n",
       "      <td>5.384099</td>\n",
       "      <td>3.963659</td>\n",
       "      <td>0.130046</td>\n",
       "      <td>0.297998</td>\n",
       "      <td>0.002907</td>\n",
       "      <td>0.008834</td>\n",
       "      <td>0.260092</td>\n",
       "      <td>0.008163</td>\n",
       "      <td>0.023706</td>\n",
       "      <td>0.005815</td>\n",
       "      <td>0.002125</td>\n",
       "      <td>0.020127</td>\n",
       "    </tr>\n",
       "    <tr>\n",
       "      <th>Asian</th>\n",
       "      <td>0.082785</td>\n",
       "      <td>61.404923</td>\n",
       "      <td>25.477925</td>\n",
       "      <td>0.177799</td>\n",
       "      <td>162.243612</td>\n",
       "      <td>0.815036</td>\n",
       "      <td>66.956651</td>\n",
       "      <td>3.501411</td>\n",
       "      <td>5.444967</td>\n",
       "      <td>4.054563</td>\n",
       "      <td>0.129821</td>\n",
       "      <td>0.265287</td>\n",
       "      <td>0.000000</td>\n",
       "      <td>0.016933</td>\n",
       "      <td>0.264346</td>\n",
       "      <td>0.015052</td>\n",
       "      <td>0.024459</td>\n",
       "      <td>0.005644</td>\n",
       "      <td>0.005644</td>\n",
       "      <td>0.030103</td>\n",
       "    </tr>\n",
       "    <tr>\n",
       "      <th>Caucasian</th>\n",
       "      <td>0.085513</td>\n",
       "      <td>63.559196</td>\n",
       "      <td>29.164004</td>\n",
       "      <td>0.190876</td>\n",
       "      <td>170.042986</td>\n",
       "      <td>0.799315</td>\n",
       "      <td>84.376243</td>\n",
       "      <td>3.463626</td>\n",
       "      <td>5.481910</td>\n",
       "      <td>3.992782</td>\n",
       "      <td>0.149417</td>\n",
       "      <td>0.328944</td>\n",
       "      <td>0.000567</td>\n",
       "      <td>0.014913</td>\n",
       "      <td>0.215781</td>\n",
       "      <td>0.012572</td>\n",
       "      <td>0.027247</td>\n",
       "      <td>0.007487</td>\n",
       "      <td>0.004698</td>\n",
       "      <td>0.021386</td>\n",
       "    </tr>\n",
       "    <tr>\n",
       "      <th>Hispanic</th>\n",
       "      <td>0.091365</td>\n",
       "      <td>61.630092</td>\n",
       "      <td>28.383161</td>\n",
       "      <td>0.166814</td>\n",
       "      <td>165.727241</td>\n",
       "      <td>1.074246</td>\n",
       "      <td>78.065346</td>\n",
       "      <td>3.581491</td>\n",
       "      <td>5.539935</td>\n",
       "      <td>4.045682</td>\n",
       "      <td>0.176835</td>\n",
       "      <td>0.283820</td>\n",
       "      <td>0.000884</td>\n",
       "      <td>0.027115</td>\n",
       "      <td>0.250810</td>\n",
       "      <td>0.021810</td>\n",
       "      <td>0.021220</td>\n",
       "      <td>0.007663</td>\n",
       "      <td>0.002063</td>\n",
       "      <td>0.020336</td>\n",
       "    </tr>\n",
       "    <tr>\n",
       "      <th>Native American</th>\n",
       "      <td>0.089096</td>\n",
       "      <td>51.686748</td>\n",
       "      <td>31.018036</td>\n",
       "      <td>0.130319</td>\n",
       "      <td>168.448630</td>\n",
       "      <td>0.772028</td>\n",
       "      <td>88.042181</td>\n",
       "      <td>3.203457</td>\n",
       "      <td>5.264628</td>\n",
       "      <td>3.672872</td>\n",
       "      <td>0.190160</td>\n",
       "      <td>0.329787</td>\n",
       "      <td>0.001330</td>\n",
       "      <td>0.083777</td>\n",
       "      <td>0.343085</td>\n",
       "      <td>0.070479</td>\n",
       "      <td>0.026596</td>\n",
       "      <td>0.006649</td>\n",
       "      <td>0.003989</td>\n",
       "      <td>0.010638</td>\n",
       "    </tr>\n",
       "    <tr>\n",
       "      <th>Other/Unknown</th>\n",
       "      <td>0.076406</td>\n",
       "      <td>58.033114</td>\n",
       "      <td>28.663062</td>\n",
       "      <td>0.174676</td>\n",
       "      <td>166.636386</td>\n",
       "      <td>0.921728</td>\n",
       "      <td>79.498328</td>\n",
       "      <td>3.424796</td>\n",
       "      <td>5.398606</td>\n",
       "      <td>3.890678</td>\n",
       "      <td>0.148246</td>\n",
       "      <td>0.312830</td>\n",
       "      <td>0.001442</td>\n",
       "      <td>0.023787</td>\n",
       "      <td>0.279673</td>\n",
       "      <td>0.015137</td>\n",
       "      <td>0.021864</td>\n",
       "      <td>0.004805</td>\n",
       "      <td>0.003604</td>\n",
       "      <td>0.012494</td>\n",
       "    </tr>\n",
       "  </tbody>\n",
       "</table>\n",
       "</div>\n",
       "      <button class=\"colab-df-convert\" onclick=\"convertToInteractive('df-acb9c0fa-d161-4cac-ac98-0785bc61772c')\"\n",
       "              title=\"Convert this dataframe to an interactive table.\"\n",
       "              style=\"display:none;\">\n",
       "        \n",
       "  <svg xmlns=\"http://www.w3.org/2000/svg\" height=\"24px\"viewBox=\"0 0 24 24\"\n",
       "       width=\"24px\">\n",
       "    <path d=\"M0 0h24v24H0V0z\" fill=\"none\"/>\n",
       "    <path d=\"M18.56 5.44l.94 2.06.94-2.06 2.06-.94-2.06-.94-.94-2.06-.94 2.06-2.06.94zm-11 1L8.5 8.5l.94-2.06 2.06-.94-2.06-.94L8.5 2.5l-.94 2.06-2.06.94zm10 10l.94 2.06.94-2.06 2.06-.94-2.06-.94-.94-2.06-.94 2.06-2.06.94z\"/><path d=\"M17.41 7.96l-1.37-1.37c-.4-.4-.92-.59-1.43-.59-.52 0-1.04.2-1.43.59L10.3 9.45l-7.72 7.72c-.78.78-.78 2.05 0 2.83L4 21.41c.39.39.9.59 1.41.59.51 0 1.02-.2 1.41-.59l7.78-7.78 2.81-2.81c.8-.78.8-2.07 0-2.86zM5.41 20L4 18.59l7.72-7.72 1.47 1.35L5.41 20z\"/>\n",
       "  </svg>\n",
       "      </button>\n",
       "      \n",
       "  <style>\n",
       "    .colab-df-container {\n",
       "      display:flex;\n",
       "      flex-wrap:wrap;\n",
       "      gap: 12px;\n",
       "    }\n",
       "\n",
       "    .colab-df-convert {\n",
       "      background-color: #E8F0FE;\n",
       "      border: none;\n",
       "      border-radius: 50%;\n",
       "      cursor: pointer;\n",
       "      display: none;\n",
       "      fill: #1967D2;\n",
       "      height: 32px;\n",
       "      padding: 0 0 0 0;\n",
       "      width: 32px;\n",
       "    }\n",
       "\n",
       "    .colab-df-convert:hover {\n",
       "      background-color: #E2EBFA;\n",
       "      box-shadow: 0px 1px 2px rgba(60, 64, 67, 0.3), 0px 1px 3px 1px rgba(60, 64, 67, 0.15);\n",
       "      fill: #174EA6;\n",
       "    }\n",
       "\n",
       "    [theme=dark] .colab-df-convert {\n",
       "      background-color: #3B4455;\n",
       "      fill: #D2E3FC;\n",
       "    }\n",
       "\n",
       "    [theme=dark] .colab-df-convert:hover {\n",
       "      background-color: #434B5C;\n",
       "      box-shadow: 0px 1px 3px 1px rgba(0, 0, 0, 0.15);\n",
       "      filter: drop-shadow(0px 1px 2px rgba(0, 0, 0, 0.3));\n",
       "      fill: #FFFFFF;\n",
       "    }\n",
       "  </style>\n",
       "\n",
       "      <script>\n",
       "        const buttonEl =\n",
       "          document.querySelector('#df-acb9c0fa-d161-4cac-ac98-0785bc61772c button.colab-df-convert');\n",
       "        buttonEl.style.display =\n",
       "          google.colab.kernel.accessAllowed ? 'block' : 'none';\n",
       "\n",
       "        async function convertToInteractive(key) {\n",
       "          const element = document.querySelector('#df-acb9c0fa-d161-4cac-ac98-0785bc61772c');\n",
       "          const dataTable =\n",
       "            await google.colab.kernel.invokeFunction('convertToInteractive',\n",
       "                                                     [key], {});\n",
       "          if (!dataTable) return;\n",
       "\n",
       "          const docLinkHtml = 'Like what you see? Visit the ' +\n",
       "            '<a target=\"_blank\" href=https://colab.research.google.com/notebooks/data_table.ipynb>data table notebook</a>'\n",
       "            + ' to learn more about interactive tables.';\n",
       "          element.innerHTML = '';\n",
       "          dataTable['output_type'] = 'display_data';\n",
       "          await google.colab.output.renderOutput(dataTable, element);\n",
       "          const docLink = document.createElement('div');\n",
       "          docLink.innerHTML = docLinkHtml;\n",
       "          element.appendChild(docLink);\n",
       "        }\n",
       "      </script>\n",
       "    </div>\n",
       "  </div>\n",
       "  "
      ],
      "text/plain": [
       "                  hospital_death        age        bmi  elective_surgery  \\\n",
       "ethnicity                                                                  \n",
       "African American        0.076149  56.553315  30.022166          0.130940   \n",
       "Asian                   0.082785  61.404923  25.477925          0.177799   \n",
       "Caucasian               0.085513  63.559196  29.164004          0.190876   \n",
       "Hispanic                0.091365  61.630092  28.383161          0.166814   \n",
       "Native American         0.089096  51.686748  31.018036          0.130319   \n",
       "Other/Unknown           0.076406  58.033114  28.663062          0.174676   \n",
       "\n",
       "                      height  pre_icu_los_days     weight  gcs_eyes_apache  \\\n",
       "ethnicity                                                                    \n",
       "African American  170.674013          1.013062  87.096753         3.426591   \n",
       "Asian             162.243612          0.815036  66.956651         3.501411   \n",
       "Caucasian         170.042986          0.799315  84.376243         3.463626   \n",
       "Hispanic          165.727241          1.074246  78.065346         3.581491   \n",
       "Native American   168.448630          0.772028  88.042181         3.203457   \n",
       "Other/Unknown     166.636386          0.921728  79.498328         3.424796   \n",
       "\n",
       "                  gcs_motor_apache  gcs_verbal_apache  intubated_apache  \\\n",
       "ethnicity                                                                 \n",
       "African American          5.384099           3.963659          0.130046   \n",
       "Asian                     5.444967           4.054563          0.129821   \n",
       "Caucasian                 5.481910           3.992782          0.149417   \n",
       "Hispanic                  5.539935           4.045682          0.176835   \n",
       "Native American           5.264628           3.672872          0.190160   \n",
       "Other/Unknown             5.398606           3.890678          0.148246   \n",
       "\n",
       "                  ventilated_apache      aids  cirrhosis  diabetes_mellitus  \\\n",
       "ethnicity                                                                     \n",
       "African American           0.297998  0.002907   0.008834           0.260092   \n",
       "Asian                      0.265287  0.000000   0.016933           0.264346   \n",
       "Caucasian                  0.328944  0.000567   0.014913           0.215781   \n",
       "Hispanic                   0.283820  0.000884   0.027115           0.250810   \n",
       "Native American            0.329787  0.001330   0.083777           0.343085   \n",
       "Other/Unknown              0.312830  0.001442   0.023787           0.279673   \n",
       "\n",
       "                  hepatic_failure  immunosuppression  leukemia  lymphoma  \\\n",
       "ethnicity                                                                  \n",
       "African American         0.008163           0.023706  0.005815  0.002125   \n",
       "Asian                    0.015052           0.024459  0.005644  0.005644   \n",
       "Caucasian                0.012572           0.027247  0.007487  0.004698   \n",
       "Hispanic                 0.021810           0.021220  0.007663  0.002063   \n",
       "Native American          0.070479           0.026596  0.006649  0.003989   \n",
       "Other/Unknown            0.015137           0.021864  0.004805  0.003604   \n",
       "\n",
       "                  solid_tumor_with_metastasis  \n",
       "ethnicity                                      \n",
       "African American                     0.020127  \n",
       "Asian                                0.030103  \n",
       "Caucasian                            0.021386  \n",
       "Hispanic                             0.020336  \n",
       "Native American                      0.010638  \n",
       "Other/Unknown                        0.012494  "
      ]
     },
     "execution_count": 25,
     "metadata": {},
     "output_type": "execute_result"
    },
    {
     "name": "stdout",
     "output_type": "stream",
     "text": [
      "time: 46.4 ms (started: 2022-12-04 01:46:34 +00:00)\n"
     ]
    }
   ],
   "source": [
    "df1.groupby('ethnicity').mean()"
   ]
  },
  {
   "cell_type": "markdown",
   "metadata": {
    "id": "HSu7SQJl_PLC"
   },
   "source": [
    "Observations:\n",
    "\n",
    "*   The average age of a patient varies considerably by ethnicity.\n",
    "*   bmi varies considerably by ethnicity.\n"
   ]
  },
  {
   "cell_type": "code",
   "execution_count": 26,
   "metadata": {
    "colab": {
     "base_uri": "https://localhost:8080/",
     "height": 403
    },
    "id": "lvKLJ1T0D6ww",
    "outputId": "199939b0-8c20-4ffe-d50e-d2f1a634b871"
   },
   "outputs": [
    {
     "data": {
      "image/png": "[encoded data removed]",
      "text/plain": [
       "<Figure size 432x288 with 1 Axes>"
      ]
     },
     "metadata": {
      "needs_background": "light"
     },
     "output_type": "display_data"
    },
    {
     "name": "stdout",
     "output_type": "stream",
     "text": [
      "time: 340 ms (started: 2022-12-04 01:46:34 +00:00)\n"
     ]
    }
   ],
   "source": [
    "# Outcome by ethicity\n",
    "%matplotlib inline\n",
    "pd.crosstab(df1.ethnicity ,df1.hospital_death).plot(kind='bar')\n",
    "plt.title('Outcomes by Ethnicity')\n",
    "plt.xlabel('Ethnicity')\n",
    "plt.ylabel('Frequency of Death')\n",
    "plt.savefig('death_ethnicity')"
   ]
  },
  {
   "cell_type": "code",
   "execution_count": 27,
   "metadata": {
    "colab": {
     "base_uri": "https://localhost:8080/",
     "height": 225
    },
    "id": "sHIQokxo_xcE",
    "outputId": "ef7fc2a3-b80e-4d90-b618-b85635231558"
   },
   "outputs": [
    {
     "data": {
      "text/html": [
       "\n",
       "  <div id=\"df-4038c9a0-d996-4c52-aee4-45f90bcbb7e6\">\n",
       "    <div class=\"colab-df-container\">\n",
       "      <div>\n",
       "<style scoped>\n",
       "    .dataframe tbody tr th:only-of-type {\n",
       "        vertical-align: middle;\n",
       "    }\n",
       "\n",
       "    .dataframe tbody tr th {\n",
       "        vertical-align: top;\n",
       "    }\n",
       "\n",
       "    .dataframe thead th {\n",
       "        text-align: right;\n",
       "    }\n",
       "</style>\n",
       "<table border=\"1\" class=\"dataframe\">\n",
       "  <thead>\n",
       "    <tr style=\"text-align: right;\">\n",
       "      <th></th>\n",
       "      <th>hospital_death</th>\n",
       "      <th>age</th>\n",
       "      <th>bmi</th>\n",
       "      <th>elective_surgery</th>\n",
       "      <th>height</th>\n",
       "      <th>pre_icu_los_days</th>\n",
       "      <th>weight</th>\n",
       "      <th>gcs_eyes_apache</th>\n",
       "      <th>gcs_motor_apache</th>\n",
       "      <th>gcs_verbal_apache</th>\n",
       "      <th>intubated_apache</th>\n",
       "      <th>ventilated_apache</th>\n",
       "      <th>aids</th>\n",
       "      <th>cirrhosis</th>\n",
       "      <th>diabetes_mellitus</th>\n",
       "      <th>hepatic_failure</th>\n",
       "      <th>immunosuppression</th>\n",
       "      <th>leukemia</th>\n",
       "      <th>lymphoma</th>\n",
       "      <th>solid_tumor_with_metastasis</th>\n",
       "    </tr>\n",
       "    <tr>\n",
       "      <th>gender</th>\n",
       "      <th></th>\n",
       "      <th></th>\n",
       "      <th></th>\n",
       "      <th></th>\n",
       "      <th></th>\n",
       "      <th></th>\n",
       "      <th></th>\n",
       "      <th></th>\n",
       "      <th></th>\n",
       "      <th></th>\n",
       "      <th></th>\n",
       "      <th></th>\n",
       "      <th></th>\n",
       "      <th></th>\n",
       "      <th></th>\n",
       "      <th></th>\n",
       "      <th></th>\n",
       "      <th></th>\n",
       "      <th></th>\n",
       "      <th></th>\n",
       "    </tr>\n",
       "  </thead>\n",
       "  <tbody>\n",
       "    <tr>\n",
       "      <th>F</th>\n",
       "      <td>0.086314</td>\n",
       "      <td>62.787944</td>\n",
       "      <td>29.54761</td>\n",
       "      <td>0.168427</td>\n",
       "      <td>161.691003</td>\n",
       "      <td>0.834292</td>\n",
       "      <td>77.230510</td>\n",
       "      <td>3.463003</td>\n",
       "      <td>5.485428</td>\n",
       "      <td>3.983786</td>\n",
       "      <td>0.136381</td>\n",
       "      <td>0.312063</td>\n",
       "      <td>0.000433</td>\n",
       "      <td>0.012930</td>\n",
       "      <td>0.221396</td>\n",
       "      <td>0.010945</td>\n",
       "      <td>0.026905</td>\n",
       "      <td>0.006058</td>\n",
       "      <td>0.003945</td>\n",
       "      <td>0.021687</td>\n",
       "    </tr>\n",
       "    <tr>\n",
       "      <th>M</th>\n",
       "      <td>0.082617</td>\n",
       "      <td>61.972467</td>\n",
       "      <td>28.84598</td>\n",
       "      <td>0.193859</td>\n",
       "      <td>176.454799</td>\n",
       "      <td>0.842194</td>\n",
       "      <td>89.749266</td>\n",
       "      <td>3.458767</td>\n",
       "      <td>5.452279</td>\n",
       "      <td>3.985677</td>\n",
       "      <td>0.158898</td>\n",
       "      <td>0.331098</td>\n",
       "      <td>0.001237</td>\n",
       "      <td>0.018294</td>\n",
       "      <td>0.231141</td>\n",
       "      <td>0.015017</td>\n",
       "      <td>0.025846</td>\n",
       "      <td>0.008095</td>\n",
       "      <td>0.004557</td>\n",
       "      <td>0.020030</td>\n",
       "    </tr>\n",
       "  </tbody>\n",
       "</table>\n",
       "</div>\n",
       "      <button class=\"colab-df-convert\" onclick=\"convertToInteractive('df-4038c9a0-d996-4c52-aee4-45f90bcbb7e6')\"\n",
       "              title=\"Convert this dataframe to an interactive table.\"\n",
       "              style=\"display:none;\">\n",
       "        \n",
       "  <svg xmlns=\"http://www.w3.org/2000/svg\" height=\"24px\"viewBox=\"0 0 24 24\"\n",
       "       width=\"24px\">\n",
       "    <path d=\"M0 0h24v24H0V0z\" fill=\"none\"/>\n",
       "    <path d=\"M18.56 5.44l.94 2.06.94-2.06 2.06-.94-2.06-.94-.94-2.06-.94 2.06-2.06.94zm-11 1L8.5 8.5l.94-2.06 2.06-.94-2.06-.94L8.5 2.5l-.94 2.06-2.06.94zm10 10l.94 2.06.94-2.06 2.06-.94-2.06-.94-.94-2.06-.94 2.06-2.06.94z\"/><path d=\"M17.41 7.96l-1.37-1.37c-.4-.4-.92-.59-1.43-.59-.52 0-1.04.2-1.43.59L10.3 9.45l-7.72 7.72c-.78.78-.78 2.05 0 2.83L4 21.41c.39.39.9.59 1.41.59.51 0 1.02-.2 1.41-.59l7.78-7.78 2.81-2.81c.8-.78.8-2.07 0-2.86zM5.41 20L4 18.59l7.72-7.72 1.47 1.35L5.41 20z\"/>\n",
       "  </svg>\n",
       "      </button>\n",
       "      \n",
       "  <style>\n",
       "    .colab-df-container {\n",
       "      display:flex;\n",
       "      flex-wrap:wrap;\n",
       "      gap: 12px;\n",
       "    }\n",
       "\n",
       "    .colab-df-convert {\n",
       "      background-color: #E8F0FE;\n",
       "      border: none;\n",
       "      border-radius: 50%;\n",
       "      cursor: pointer;\n",
       "      display: none;\n",
       "      fill: #1967D2;\n",
       "      height: 32px;\n",
       "      padding: 0 0 0 0;\n",
       "      width: 32px;\n",
       "    }\n",
       "\n",
       "    .colab-df-convert:hover {\n",
       "      background-color: #E2EBFA;\n",
       "      box-shadow: 0px 1px 2px rgba(60, 64, 67, 0.3), 0px 1px 3px 1px rgba(60, 64, 67, 0.15);\n",
       "      fill: #174EA6;\n",
       "    }\n",
       "\n",
       "    [theme=dark] .colab-df-convert {\n",
       "      background-color: #3B4455;\n",
       "      fill: #D2E3FC;\n",
       "    }\n",
       "\n",
       "    [theme=dark] .colab-df-convert:hover {\n",
       "      background-color: #434B5C;\n",
       "      box-shadow: 0px 1px 3px 1px rgba(0, 0, 0, 0.15);\n",
       "      filter: drop-shadow(0px 1px 2px rgba(0, 0, 0, 0.3));\n",
       "      fill: #FFFFFF;\n",
       "    }\n",
       "  </style>\n",
       "\n",
       "      <script>\n",
       "        const buttonEl =\n",
       "          document.querySelector('#df-4038c9a0-d996-4c52-aee4-45f90bcbb7e6 button.colab-df-convert');\n",
       "        buttonEl.style.display =\n",
       "          google.colab.kernel.accessAllowed ? 'block' : 'none';\n",
       "\n",
       "        async function convertToInteractive(key) {\n",
       "          const element = document.querySelector('#df-4038c9a0-d996-4c52-aee4-45f90bcbb7e6');\n",
       "          const dataTable =\n",
       "            await google.colab.kernel.invokeFunction('convertToInteractive',\n",
       "                                                     [key], {});\n",
       "          if (!dataTable) return;\n",
       "\n",
       "          const docLinkHtml = 'Like what you see? Visit the ' +\n",
       "            '<a target=\"_blank\" href=https://colab.research.google.com/notebooks/data_table.ipynb>data table notebook</a>'\n",
       "            + ' to learn more about interactive tables.';\n",
       "          element.innerHTML = '';\n",
       "          dataTable['output_type'] = 'display_data';\n",
       "          await google.colab.output.renderOutput(dataTable, element);\n",
       "          const docLink = document.createElement('div');\n",
       "          docLink.innerHTML = docLinkHtml;\n",
       "          element.appendChild(docLink);\n",
       "        }\n",
       "      </script>\n",
       "    </div>\n",
       "  </div>\n",
       "  "
      ],
      "text/plain": [
       "        hospital_death        age       bmi  elective_surgery      height  \\\n",
       "gender                                                                      \n",
       "F             0.086314  62.787944  29.54761          0.168427  161.691003   \n",
       "M             0.082617  61.972467  28.84598          0.193859  176.454799   \n",
       "\n",
       "        pre_icu_los_days     weight  gcs_eyes_apache  gcs_motor_apache  \\\n",
       "gender                                                                   \n",
       "F               0.834292  77.230510         3.463003          5.485428   \n",
       "M               0.842194  89.749266         3.458767          5.452279   \n",
       "\n",
       "        gcs_verbal_apache  intubated_apache  ventilated_apache      aids  \\\n",
       "gender                                                                     \n",
       "F                3.983786          0.136381           0.312063  0.000433   \n",
       "M                3.985677          0.158898           0.331098  0.001237   \n",
       "\n",
       "        cirrhosis  diabetes_mellitus  hepatic_failure  immunosuppression  \\\n",
       "gender                                                                     \n",
       "F        0.012930           0.221396         0.010945           0.026905   \n",
       "M        0.018294           0.231141         0.015017           0.025846   \n",
       "\n",
       "        leukemia  lymphoma  solid_tumor_with_metastasis  \n",
       "gender                                                   \n",
       "F       0.006058  0.003945                     0.021687  \n",
       "M       0.008095  0.004557                     0.020030  "
      ]
     },
     "execution_count": 27,
     "metadata": {},
     "output_type": "execute_result"
    },
    {
     "name": "stdout",
     "output_type": "stream",
     "text": [
      "time: 46.1 ms (started: 2022-12-04 01:46:34 +00:00)\n"
     ]
    }
   ],
   "source": [
    "df1.groupby('gender').mean()"
   ]
  },
  {
   "cell_type": "code",
   "execution_count": 28,
   "metadata": {
    "colab": {
     "base_uri": "https://localhost:8080/",
     "height": 225
    },
    "id": "v4zKN1DtDBxC",
    "outputId": "c8cc2ea6-59e2-4cae-f15d-bd5b689a1cf3"
   },
   "outputs": [
    {
     "data": {
      "text/html": [
       "\n",
       "  <div id=\"df-f05c6e3c-c94e-449b-9e70-ae266ba4be62\">\n",
       "    <div class=\"colab-df-container\">\n",
       "      <div>\n",
       "<style scoped>\n",
       "    .dataframe tbody tr th:only-of-type {\n",
       "        vertical-align: middle;\n",
       "    }\n",
       "\n",
       "    .dataframe tbody tr th {\n",
       "        vertical-align: top;\n",
       "    }\n",
       "\n",
       "    .dataframe thead th {\n",
       "        text-align: right;\n",
       "    }\n",
       "</style>\n",
       "<table border=\"1\" class=\"dataframe\">\n",
       "  <thead>\n",
       "    <tr style=\"text-align: right;\">\n",
       "      <th></th>\n",
       "      <th>hospital_death</th>\n",
       "      <th>age</th>\n",
       "      <th>bmi</th>\n",
       "      <th>height</th>\n",
       "      <th>pre_icu_los_days</th>\n",
       "      <th>weight</th>\n",
       "      <th>gcs_eyes_apache</th>\n",
       "      <th>gcs_motor_apache</th>\n",
       "      <th>gcs_verbal_apache</th>\n",
       "      <th>intubated_apache</th>\n",
       "      <th>ventilated_apache</th>\n",
       "      <th>aids</th>\n",
       "      <th>cirrhosis</th>\n",
       "      <th>diabetes_mellitus</th>\n",
       "      <th>hepatic_failure</th>\n",
       "      <th>immunosuppression</th>\n",
       "      <th>leukemia</th>\n",
       "      <th>lymphoma</th>\n",
       "      <th>solid_tumor_with_metastasis</th>\n",
       "    </tr>\n",
       "    <tr>\n",
       "      <th>elective_surgery</th>\n",
       "      <th></th>\n",
       "      <th></th>\n",
       "      <th></th>\n",
       "      <th></th>\n",
       "      <th></th>\n",
       "      <th></th>\n",
       "      <th></th>\n",
       "      <th></th>\n",
       "      <th></th>\n",
       "      <th></th>\n",
       "      <th></th>\n",
       "      <th></th>\n",
       "      <th></th>\n",
       "      <th></th>\n",
       "      <th></th>\n",
       "      <th></th>\n",
       "      <th></th>\n",
       "      <th></th>\n",
       "      <th></th>\n",
       "    </tr>\n",
       "  </thead>\n",
       "  <tbody>\n",
       "    <tr>\n",
       "      <th>0</th>\n",
       "      <td>0.096209</td>\n",
       "      <td>61.812430</td>\n",
       "      <td>29.115017</td>\n",
       "      <td>169.539727</td>\n",
       "      <td>0.688921</td>\n",
       "      <td>83.689566</td>\n",
       "      <td>3.458785</td>\n",
       "      <td>5.461220</td>\n",
       "      <td>3.999914</td>\n",
       "      <td>0.120816</td>\n",
       "      <td>0.288554</td>\n",
       "      <td>0.00096</td>\n",
       "      <td>0.017703</td>\n",
       "      <td>0.226549</td>\n",
       "      <td>0.014996</td>\n",
       "      <td>0.027357</td>\n",
       "      <td>0.007835</td>\n",
       "      <td>0.004540</td>\n",
       "      <td>0.019709</td>\n",
       "    </tr>\n",
       "    <tr>\n",
       "      <th>1</th>\n",
       "      <td>0.030932</td>\n",
       "      <td>64.751306</td>\n",
       "      <td>29.410711</td>\n",
       "      <td>170.201701</td>\n",
       "      <td>1.510404</td>\n",
       "      <td>85.327768</td>\n",
       "      <td>3.469389</td>\n",
       "      <td>5.495884</td>\n",
       "      <td>3.916977</td>\n",
       "      <td>0.272990</td>\n",
       "      <td>0.474019</td>\n",
       "      <td>0.00045</td>\n",
       "      <td>0.007395</td>\n",
       "      <td>0.227138</td>\n",
       "      <td>0.004823</td>\n",
       "      <td>0.021736</td>\n",
       "      <td>0.004116</td>\n",
       "      <td>0.003087</td>\n",
       "      <td>0.025659</td>\n",
       "    </tr>\n",
       "  </tbody>\n",
       "</table>\n",
       "</div>\n",
       "      <button class=\"colab-df-convert\" onclick=\"convertToInteractive('df-f05c6e3c-c94e-449b-9e70-ae266ba4be62')\"\n",
       "              title=\"Convert this dataframe to an interactive table.\"\n",
       "              style=\"display:none;\">\n",
       "        \n",
       "  <svg xmlns=\"http://www.w3.org/2000/svg\" height=\"24px\"viewBox=\"0 0 24 24\"\n",
       "       width=\"24px\">\n",
       "    <path d=\"M0 0h24v24H0V0z\" fill=\"none\"/>\n",
       "    <path d=\"M18.56 5.44l.94 2.06.94-2.06 2.06-.94-2.06-.94-.94-2.06-.94 2.06-2.06.94zm-11 1L8.5 8.5l.94-2.06 2.06-.94-2.06-.94L8.5 2.5l-.94 2.06-2.06.94zm10 10l.94 2.06.94-2.06 2.06-.94-2.06-.94-.94-2.06-.94 2.06-2.06.94z\"/><path d=\"M17.41 7.96l-1.37-1.37c-.4-.4-.92-.59-1.43-.59-.52 0-1.04.2-1.43.59L10.3 9.45l-7.72 7.72c-.78.78-.78 2.05 0 2.83L4 21.41c.39.39.9.59 1.41.59.51 0 1.02-.2 1.41-.59l7.78-7.78 2.81-2.81c.8-.78.8-2.07 0-2.86zM5.41 20L4 18.59l7.72-7.72 1.47 1.35L5.41 20z\"/>\n",
       "  </svg>\n",
       "      </button>\n",
       "      \n",
       "  <style>\n",
       "    .colab-df-container {\n",
       "      display:flex;\n",
       "      flex-wrap:wrap;\n",
       "      gap: 12px;\n",
       "    }\n",
       "\n",
       "    .colab-df-convert {\n",
       "      background-color: #E8F0FE;\n",
       "      border: none;\n",
       "      border-radius: 50%;\n",
       "      cursor: pointer;\n",
       "      display: none;\n",
       "      fill: #1967D2;\n",
       "      height: 32px;\n",
       "      padding: 0 0 0 0;\n",
       "      width: 32px;\n",
       "    }\n",
       "\n",
       "    .colab-df-convert:hover {\n",
       "      background-color: #E2EBFA;\n",
       "      box-shadow: 0px 1px 2px rgba(60, 64, 67, 0.3), 0px 1px 3px 1px rgba(60, 64, 67, 0.15);\n",
       "      fill: #174EA6;\n",
       "    }\n",
       "\n",
       "    [theme=dark] .colab-df-convert {\n",
       "      background-color: #3B4455;\n",
       "      fill: #D2E3FC;\n",
       "    }\n",
       "\n",
       "    [theme=dark] .colab-df-convert:hover {\n",
       "      background-color: #434B5C;\n",
       "      box-shadow: 0px 1px 3px 1px rgba(0, 0, 0, 0.15);\n",
       "      filter: drop-shadow(0px 1px 2px rgba(0, 0, 0, 0.3));\n",
       "      fill: #FFFFFF;\n",
       "    }\n",
       "  </style>\n",
       "\n",
       "      <script>\n",
       "        const buttonEl =\n",
       "          document.querySelector('#df-f05c6e3c-c94e-449b-9e70-ae266ba4be62 button.colab-df-convert');\n",
       "        buttonEl.style.display =\n",
       "          google.colab.kernel.accessAllowed ? 'block' : 'none';\n",
       "\n",
       "        async function convertToInteractive(key) {\n",
       "          const element = document.querySelector('#df-f05c6e3c-c94e-449b-9e70-ae266ba4be62');\n",
       "          const dataTable =\n",
       "            await google.colab.kernel.invokeFunction('convertToInteractive',\n",
       "                                                     [key], {});\n",
       "          if (!dataTable) return;\n",
       "\n",
       "          const docLinkHtml = 'Like what you see? Visit the ' +\n",
       "            '<a target=\"_blank\" href=https://colab.research.google.com/notebooks/data_table.ipynb>data table notebook</a>'\n",
       "            + ' to learn more about interactive tables.';\n",
       "          element.innerHTML = '';\n",
       "          dataTable['output_type'] = 'display_data';\n",
       "          await google.colab.output.renderOutput(dataTable, element);\n",
       "          const docLink = document.createElement('div');\n",
       "          docLink.innerHTML = docLinkHtml;\n",
       "          element.appendChild(docLink);\n",
       "        }\n",
       "      </script>\n",
       "    </div>\n",
       "  </div>\n",
       "  "
      ],
      "text/plain": [
       "                  hospital_death        age        bmi      height  \\\n",
       "elective_surgery                                                     \n",
       "0                       0.096209  61.812430  29.115017  169.539727   \n",
       "1                       0.030932  64.751306  29.410711  170.201701   \n",
       "\n",
       "                  pre_icu_los_days     weight  gcs_eyes_apache  \\\n",
       "elective_surgery                                                 \n",
       "0                         0.688921  83.689566         3.458785   \n",
       "1                         1.510404  85.327768         3.469389   \n",
       "\n",
       "                  gcs_motor_apache  gcs_verbal_apache  intubated_apache  \\\n",
       "elective_surgery                                                          \n",
       "0                         5.461220           3.999914          0.120816   \n",
       "1                         5.495884           3.916977          0.272990   \n",
       "\n",
       "                  ventilated_apache     aids  cirrhosis  diabetes_mellitus  \\\n",
       "elective_surgery                                                             \n",
       "0                          0.288554  0.00096   0.017703           0.226549   \n",
       "1                          0.474019  0.00045   0.007395           0.227138   \n",
       "\n",
       "                  hepatic_failure  immunosuppression  leukemia  lymphoma  \\\n",
       "elective_surgery                                                           \n",
       "0                        0.014996           0.027357  0.007835  0.004540   \n",
       "1                        0.004823           0.021736  0.004116  0.003087   \n",
       "\n",
       "                  solid_tumor_with_metastasis  \n",
       "elective_surgery                               \n",
       "0                                    0.019709  \n",
       "1                                    0.025659  "
      ]
     },
     "execution_count": 28,
     "metadata": {},
     "output_type": "execute_result"
    },
    {
     "name": "stdout",
     "output_type": "stream",
     "text": [
      "time: 51.5 ms (started: 2022-12-04 01:46:34 +00:00)\n"
     ]
    }
   ],
   "source": [
    "df1.groupby('elective_surgery').mean()"
   ]
  },
  {
   "cell_type": "code",
   "execution_count": 29,
   "metadata": {
    "colab": {
     "base_uri": "https://localhost:8080/",
     "height": 315
    },
    "id": "YJ4DbTHeDc9C",
    "outputId": "5082fd64-c728-471c-9595-d05321b25700"
   },
   "outputs": [
    {
     "data": {
      "image/png": "[encoded data removed]",
      "text/plain": [
       "<Figure size 432x288 with 1 Axes>"
      ]
     },
     "metadata": {
      "needs_background": "light"
     },
     "output_type": "display_data"
    },
    {
     "name": "stdout",
     "output_type": "stream",
     "text": [
      "time: 279 ms (started: 2022-12-04 01:46:34 +00:00)\n"
     ]
    }
   ],
   "source": [
    "# Outcome by elective surgery\n",
    "%matplotlib inline\n",
    "pd.crosstab(df1.elective_surgery ,df1.hospital_death).plot(kind='bar')\n",
    "plt.title('Outcomes if/if not Elective Surgery')\n",
    "plt.xlabel('Elective Surgery')\n",
    "plt.ylabel('Frequency of Death')\n",
    "plt.savefig('outcome_elective_surgery')"
   ]
  },
  {
   "cell_type": "code",
   "execution_count": 30,
   "metadata": {
    "colab": {
     "base_uri": "https://localhost:8080/",
     "height": 325
    },
    "id": "UILoCQXiE5C1",
    "outputId": "d02fc43e-8a84-4bcb-ef07-114e2f889121"
   },
   "outputs": [
    {
     "data": {
      "image/png": "[encoded data removed]",
      "text/plain": [
       "<Figure size 432x288 with 1 Axes>"
      ]
     },
     "metadata": {
      "needs_background": "light"
     },
     "output_type": "display_data"
    },
    {
     "name": "stdout",
     "output_type": "stream",
     "text": [
      "time: 263 ms (started: 2022-12-04 01:46:35 +00:00)\n"
     ]
    }
   ],
   "source": [
    "# Outcome if ventilated\n",
    "%matplotlib inline\n",
    "pd.crosstab(df1.ventilated_apache ,df1.hospital_death).plot(kind='bar')\n",
    "plt.title('Outcomes if/if not Ventilated')\n",
    "plt.xlabel('Ventilated')\n",
    "plt.ylabel('Frequency of Death')\n",
    "plt.savefig('outcome_ventilated')"
   ]
  },
  {
   "cell_type": "code",
   "execution_count": 31,
   "metadata": {
    "colab": {
     "base_uri": "https://localhost:8080/",
     "height": 223
    },
    "id": "04KwWs77I_20",
    "outputId": "f7aca59c-8beb-4cea-ad70-318a2daa5937"
   },
   "outputs": [
    {
     "data": {
      "text/html": [
       "\n",
       "  <div id=\"df-0f06cdae-b7d0-4a4d-a589-92d818c8a1c1\">\n",
       "    <div class=\"colab-df-container\">\n",
       "      <div>\n",
       "<style scoped>\n",
       "    .dataframe tbody tr th:only-of-type {\n",
       "        vertical-align: middle;\n",
       "    }\n",
       "\n",
       "    .dataframe tbody tr th {\n",
       "        vertical-align: top;\n",
       "    }\n",
       "\n",
       "    .dataframe thead th {\n",
       "        text-align: right;\n",
       "    }\n",
       "</style>\n",
       "<table border=\"1\" class=\"dataframe\">\n",
       "  <thead>\n",
       "    <tr style=\"text-align: right;\">\n",
       "      <th></th>\n",
       "      <th>hospital_death</th>\n",
       "      <th>age</th>\n",
       "      <th>bmi</th>\n",
       "      <th>height</th>\n",
       "      <th>pre_icu_los_days</th>\n",
       "      <th>weight</th>\n",
       "    </tr>\n",
       "  </thead>\n",
       "  <tbody>\n",
       "    <tr>\n",
       "      <th>0</th>\n",
       "      <td>0</td>\n",
       "      <td>68.0</td>\n",
       "      <td>22.73</td>\n",
       "      <td>180.3</td>\n",
       "      <td>0.541667</td>\n",
       "      <td>73.9</td>\n",
       "    </tr>\n",
       "    <tr>\n",
       "      <th>1</th>\n",
       "      <td>0</td>\n",
       "      <td>77.0</td>\n",
       "      <td>27.42</td>\n",
       "      <td>160.0</td>\n",
       "      <td>0.927778</td>\n",
       "      <td>70.2</td>\n",
       "    </tr>\n",
       "    <tr>\n",
       "      <th>2</th>\n",
       "      <td>0</td>\n",
       "      <td>25.0</td>\n",
       "      <td>31.95</td>\n",
       "      <td>172.7</td>\n",
       "      <td>0.000694</td>\n",
       "      <td>95.3</td>\n",
       "    </tr>\n",
       "    <tr>\n",
       "      <th>3</th>\n",
       "      <td>0</td>\n",
       "      <td>81.0</td>\n",
       "      <td>22.64</td>\n",
       "      <td>165.1</td>\n",
       "      <td>0.000694</td>\n",
       "      <td>61.7</td>\n",
       "    </tr>\n",
       "    <tr>\n",
       "      <th>5</th>\n",
       "      <td>0</td>\n",
       "      <td>67.0</td>\n",
       "      <td>27.56</td>\n",
       "      <td>190.5</td>\n",
       "      <td>0.000694</td>\n",
       "      <td>100.0</td>\n",
       "    </tr>\n",
       "  </tbody>\n",
       "</table>\n",
       "</div>\n",
       "      <button class=\"colab-df-convert\" onclick=\"convertToInteractive('df-0f06cdae-b7d0-4a4d-a589-92d818c8a1c1')\"\n",
       "              title=\"Convert this dataframe to an interactive table.\"\n",
       "              style=\"display:none;\">\n",
       "        \n",
       "  <svg xmlns=\"http://www.w3.org/2000/svg\" height=\"24px\"viewBox=\"0 0 24 24\"\n",
       "       width=\"24px\">\n",
       "    <path d=\"M0 0h24v24H0V0z\" fill=\"none\"/>\n",
       "    <path d=\"M18.56 5.44l.94 2.06.94-2.06 2.06-.94-2.06-.94-.94-2.06-.94 2.06-2.06.94zm-11 1L8.5 8.5l.94-2.06 2.06-.94-2.06-.94L8.5 2.5l-.94 2.06-2.06.94zm10 10l.94 2.06.94-2.06 2.06-.94-2.06-.94-.94-2.06-.94 2.06-2.06.94z\"/><path d=\"M17.41 7.96l-1.37-1.37c-.4-.4-.92-.59-1.43-.59-.52 0-1.04.2-1.43.59L10.3 9.45l-7.72 7.72c-.78.78-.78 2.05 0 2.83L4 21.41c.39.39.9.59 1.41.59.51 0 1.02-.2 1.41-.59l7.78-7.78 2.81-2.81c.8-.78.8-2.07 0-2.86zM5.41 20L4 18.59l7.72-7.72 1.47 1.35L5.41 20z\"/>\n",
       "  </svg>\n",
       "      </button>\n",
       "      \n",
       "  <style>\n",
       "    .colab-df-container {\n",
       "      display:flex;\n",
       "      flex-wrap:wrap;\n",
       "      gap: 12px;\n",
       "    }\n",
       "\n",
       "    .colab-df-convert {\n",
       "      background-color: #E8F0FE;\n",
       "      border: none;\n",
       "      border-radius: 50%;\n",
       "      cursor: pointer;\n",
       "      display: none;\n",
       "      fill: #1967D2;\n",
       "      height: 32px;\n",
       "      padding: 0 0 0 0;\n",
       "      width: 32px;\n",
       "    }\n",
       "\n",
       "    .colab-df-convert:hover {\n",
       "      background-color: #E2EBFA;\n",
       "      box-shadow: 0px 1px 2px rgba(60, 64, 67, 0.3), 0px 1px 3px 1px rgba(60, 64, 67, 0.15);\n",
       "      fill: #174EA6;\n",
       "    }\n",
       "\n",
       "    [theme=dark] .colab-df-convert {\n",
       "      background-color: #3B4455;\n",
       "      fill: #D2E3FC;\n",
       "    }\n",
       "\n",
       "    [theme=dark] .colab-df-convert:hover {\n",
       "      background-color: #434B5C;\n",
       "      box-shadow: 0px 1px 3px 1px rgba(0, 0, 0, 0.15);\n",
       "      filter: drop-shadow(0px 1px 2px rgba(0, 0, 0, 0.3));\n",
       "      fill: #FFFFFF;\n",
       "    }\n",
       "  </style>\n",
       "\n",
       "      <script>\n",
       "        const buttonEl =\n",
       "          document.querySelector('#df-0f06cdae-b7d0-4a4d-a589-92d818c8a1c1 button.colab-df-convert');\n",
       "        buttonEl.style.display =\n",
       "          google.colab.kernel.accessAllowed ? 'block' : 'none';\n",
       "\n",
       "        async function convertToInteractive(key) {\n",
       "          const element = document.querySelector('#df-0f06cdae-b7d0-4a4d-a589-92d818c8a1c1');\n",
       "          const dataTable =\n",
       "            await google.colab.kernel.invokeFunction('convertToInteractive',\n",
       "                                                     [key], {});\n",
       "          if (!dataTable) return;\n",
       "\n",
       "          const docLinkHtml = 'Like what you see? Visit the ' +\n",
       "            '<a target=\"_blank\" href=https://colab.research.google.com/notebooks/data_table.ipynb>data table notebook</a>'\n",
       "            + ' to learn more about interactive tables.';\n",
       "          element.innerHTML = '';\n",
       "          dataTable['output_type'] = 'display_data';\n",
       "          await google.colab.output.renderOutput(dataTable, element);\n",
       "          const docLink = document.createElement('div');\n",
       "          docLink.innerHTML = docLinkHtml;\n",
       "          element.appendChild(docLink);\n",
       "        }\n",
       "      </script>\n",
       "    </div>\n",
       "  </div>\n",
       "  "
      ],
      "text/plain": [
       "   hospital_death   age    bmi  height  pre_icu_los_days  weight\n",
       "0               0  68.0  22.73   180.3          0.541667    73.9\n",
       "1               0  77.0  27.42   160.0          0.927778    70.2\n",
       "2               0  25.0  31.95   172.7          0.000694    95.3\n",
       "3               0  81.0  22.64   165.1          0.000694    61.7\n",
       "5               0  67.0  27.56   190.5          0.000694   100.0"
      ]
     },
     "execution_count": 31,
     "metadata": {},
     "output_type": "execute_result"
    },
    {
     "name": "stdout",
     "output_type": "stream",
     "text": [
      "time: 24.2 ms (started: 2022-12-04 01:46:35 +00:00)\n"
     ]
    }
   ],
   "source": [
    "dfc=df1[['hospital_death','age','bmi','height','pre_icu_los_days','weight']]\n",
    "dfc.head()"
   ]
  },
  {
   "cell_type": "markdown",
   "metadata": {
    "id": "pD6HKHJdOQH1"
   },
   "source": [
    "Feature Selection I - Continuous Variables"
   ]
  },
  {
   "cell_type": "code",
   "execution_count": 32,
   "metadata": {
    "colab": {
     "base_uri": "https://localhost:8080/",
     "height": 616
    },
    "id": "-Xai-QfyKV2c",
    "outputId": "fa690f2c-378e-47e0-ea64-f488c00bdf28"
   },
   "outputs": [
    {
     "data": {
      "image/png": "[encoded data removed]",
      "text/plain": [
       "<Figure size 864x720 with 2 Axes>"
      ]
     },
     "metadata": {
      "needs_background": "light"
     },
     "output_type": "display_data"
    },
    {
     "name": "stdout",
     "output_type": "stream",
     "text": [
      "time: 449 ms (started: 2022-12-04 01:46:35 +00:00)\n"
     ]
    }
   ],
   "source": [
    "#Using Pearson Correlation\n",
    "plt.figure(figsize=(12,10))\n",
    "cor = dfc.corr()\n",
    "sns.heatmap(cor, annot=True, cmap=plt.cm.Reds)\n",
    "plt.show()"
   ]
  },
  {
   "cell_type": "code",
   "execution_count": 33,
   "metadata": {
    "colab": {
     "base_uri": "https://localhost:8080/"
    },
    "id": "MVLhHl9GNwuW",
    "outputId": "8a2ced3c-b127-4d2c-abf2-89661d68035d"
   },
   "outputs": [
    {
     "data": {
      "text/plain": [
       "hospital_death      1.000000\n",
       "age                 0.106644\n",
       "pre_icu_los_days    0.067375\n",
       "weight              0.038975\n",
       "bmi                 0.032284\n",
       "height              0.019674\n",
       "Name: hospital_death, dtype: float64"
      ]
     },
     "execution_count": 33,
     "metadata": {},
     "output_type": "execute_result"
    },
    {
     "name": "stdout",
     "output_type": "stream",
     "text": [
      "time: 30.6 ms (started: 2022-12-04 01:46:35 +00:00)\n"
     ]
    }
   ],
   "source": [
    "# List quantitative  features in descending order of correlation (absolute value) - note gcs_... are ordinal\n",
    "dfc[dfc.columns[0:]].corr().abs()['hospital_death'][:].sort_values(ascending=False)"
   ]
  },
  {
   "cell_type": "code",
   "execution_count": 34,
   "metadata": {
    "colab": {
     "base_uri": "https://localhost:8080/"
    },
    "id": "DueR4uu1Ki7w",
    "outputId": "b9265489-e168-4623-f806-e2012290d2bc"
   },
   "outputs": [
    {
     "data": {
      "text/plain": [
       "hospital_death    1.0\n",
       "Name: hospital_death, dtype: float64"
      ]
     },
     "execution_count": 34,
     "metadata": {},
     "output_type": "execute_result"
    },
    {
     "name": "stdout",
     "output_type": "stream",
     "text": [
      "time: 7.32 ms (started: 2022-12-04 01:46:35 +00:00)\n"
     ]
    }
   ],
   "source": [
    "#Correlation with output variable\n",
    "cor_target = abs(cor['hospital_death'])\n",
    "#Selecting highly correlated features\n",
    "relevant_features = cor_target[cor_target>0.5]\n",
    "relevant_features"
   ]
  },
  {
   "cell_type": "markdown",
   "metadata": {
    "id": "Msn4TQFKLNcC"
   },
   "source": [
    "None of the continuous features are even moderately correlated with the target variable (hospital_death). However, we will keep most of them in the model for now. "
   ]
  },
  {
   "cell_type": "code",
   "execution_count": 35,
   "metadata": {
    "colab": {
     "base_uri": "https://localhost:8080/"
    },
    "id": "pnC3cUkCK6Fg",
    "outputId": "b195bf58-625d-4c89-d166-f92afe0f99ff"
   },
   "outputs": [
    {
     "name": "stdout",
     "output_type": "stream",
     "text": [
      "          weight       bmi\n",
      "weight  1.000000  0.877385\n",
      "bmi     0.877385  1.000000\n",
      "time: 13.3 ms (started: 2022-12-04 01:46:35 +00:00)\n"
     ]
    }
   ],
   "source": [
    "print(dfc[['weight','bmi']].corr())"
   ]
  },
  {
   "cell_type": "markdown",
   "metadata": {
    "id": "Y-YogCeDMigF"
   },
   "source": [
    "bmi is based on weight and height.  bmi and weight are highly correlated.  Weight is more highly correlated with the target variable, so we will drop bmi from the features. Height has a very weak/no correlation (-0.02) with hospital_death, so it will also be dropped from the features."
   ]
  },
  {
   "cell_type": "code",
   "execution_count": 36,
   "metadata": {
    "colab": {
     "base_uri": "https://localhost:8080/"
    },
    "id": "SO5fzbxHPXsx",
    "outputId": "2cffec13-bbb1-4f83-a842-1ed5d898bc77"
   },
   "outputs": [
    {
     "name": "stdout",
     "output_type": "stream",
     "text": [
      "time: 13.3 ms (started: 2022-12-04 01:46:35 +00:00)\n"
     ]
    }
   ],
   "source": [
    "# Drop features bmi and height\n",
    "df1.drop(['bmi','height'],axis =1, inplace = True)"
   ]
  },
  {
   "cell_type": "markdown",
   "metadata": {
    "id": "eU5VlGPtOaCW"
   },
   "source": [
    "Feature Selection II - Ordinal and Categorical Variables"
   ]
  },
  {
   "cell_type": "code",
   "execution_count": 37,
   "metadata": {
    "colab": {
     "base_uri": "https://localhost:8080/"
    },
    "id": "eP6bo0n1OHP9",
    "outputId": "56940f2f-64d7-428f-92d1-fa3de30ff8ff"
   },
   "outputs": [
    {
     "name": "stdout",
     "output_type": "stream",
     "text": [
      "time: 16.4 ms (started: 2022-12-04 01:46:35 +00:00)\n"
     ]
    }
   ],
   "source": [
    "x=df1[['elective_surgery', 'ethnicity', 'gender',\n",
    "       'icu_admit_source', 'icu_stay_type', 'icu_type', \n",
    "       'gcs_eyes_apache', 'gcs_motor_apache', 'gcs_verbal_apache',\n",
    "       'intubated_apache', 'ventilated_apache', 'aids', 'cirrhosis',\n",
    "       'diabetes_mellitus', 'hepatic_failure', 'immunosuppression', 'leukemia',\n",
    "       'lymphoma', 'solid_tumor_with_metastasis', 'apache_3j_bodysystem',\n",
    "       'apache_2_bodysystem']]\n",
    "y=df1[['hospital_death']]\n"
   ]
  },
  {
   "cell_type": "code",
   "execution_count": 38,
   "metadata": {
    "colab": {
     "base_uri": "https://localhost:8080/"
    },
    "id": "ksEowZLOABLf",
    "outputId": "67af67bb-eaf4-4781-e803-74c85c7d97ab"
   },
   "outputs": [
    {
     "name": "stdout",
     "output_type": "stream",
     "text": [
      "time: 314 ms (started: 2022-12-04 01:46:35 +00:00)\n"
     ]
    }
   ],
   "source": [
    "oe=OrdinalEncoder()\n",
    "oe.fit(x)\n",
    "xen=oe.transform(x)"
   ]
  },
  {
   "cell_type": "code",
   "execution_count": 39,
   "metadata": {
    "colab": {
     "base_uri": "https://localhost:8080/"
    },
    "id": "aQqEG0rPBWkc",
    "outputId": "4eca096d-384a-4962-f8a1-311723769dc6"
   },
   "outputs": [
    {
     "name": "stdout",
     "output_type": "stream",
     "text": [
      "time: 827 µs (started: 2022-12-04 01:46:36 +00:00)\n"
     ]
    }
   ],
   "source": [
    "y=y.values"
   ]
  },
  {
   "cell_type": "code",
   "execution_count": 40,
   "metadata": {
    "colab": {
     "base_uri": "https://localhost:8080/"
    },
    "id": "dTvA8XqnGlV-",
    "outputId": "eb6df5dd-961c-493a-ff92-b3f096581a09"
   },
   "outputs": [
    {
     "data": {
      "text/plain": [
       "(array([5.74005266e+02, 4.90519407e-01, 1.72707140e+00, 5.91190106e+01,\n",
       "        1.52145601e+01, 1.69202134e+01, 2.07288006e+03, 2.44345416e+03,\n",
       "        3.97368076e+03, 2.14120343e+03, 2.91787156e+03, 2.47503105e+00,\n",
       "        1.42892650e+02, 1.39720075e+01, 1.35630778e+02, 1.63490341e+02,\n",
       "        8.01275079e+01, 3.03050357e+01, 2.09232368e+02, 9.56178417e+02,\n",
       "        5.66829703e+02]),\n",
       " array([7.55212346e-127, 4.83695701e-001, 1.88785340e-001, 1.48418415e-014,\n",
       "        9.59606911e-005, 3.89842367e-005, 0.00000000e+000, 0.00000000e+000,\n",
       "        0.00000000e+000, 0.00000000e+000, 0.00000000e+000, 1.15667159e-001,\n",
       "        6.20443860e-033, 1.85552759e-004, 2.40307092e-031, 1.95479203e-037,\n",
       "        3.51011590e-019, 3.69166237e-008, 2.01995971e-047, 6.02160925e-210,\n",
       "        2.74754475e-125]))"
      ]
     },
     "execution_count": 40,
     "metadata": {},
     "output_type": "execute_result"
    },
    {
     "name": "stdout",
     "output_type": "stream",
     "text": [
      "time: 180 ms (started: 2022-12-04 01:46:36 +00:00)\n"
     ]
    }
   ],
   "source": [
    "f_score=chi2(xen,y)   #returns f score and p value \n",
    "f_score"
   ]
  },
  {
   "cell_type": "code",
   "execution_count": 41,
   "metadata": {
    "colab": {
     "base_uri": "https://localhost:8080/"
    },
    "id": "Y4Y04Y5zG-ck",
    "outputId": "55b18fc2-1507-4424-a085-f7f6cc88a8e1"
   },
   "outputs": [
    {
     "name": "stdout",
     "output_type": "stream",
     "text": [
      "time: 1.35 ms (started: 2022-12-04 01:46:36 +00:00)\n"
     ]
    }
   ],
   "source": [
    "# printing p values for each categorical features\n",
    "p_value=pd.Series(f_score[1],index=x.columns)\n",
    "p_value.sort_values(ascending=True,inplace=True)\n"
   ]
  },
  {
   "cell_type": "code",
   "execution_count": 42,
   "metadata": {
    "colab": {
     "base_uri": "https://localhost:8080/",
     "height": 473
    },
    "id": "wr8jePiYG0bA",
    "outputId": "2f67ad06-96a0-4d27-80f0-8ec4a8a0088d"
   },
   "outputs": [
    {
     "data": {
      "image/png": "[encoded data removed]",
      "text/plain": [
       "<Figure size 432x288 with 1 Axes>"
      ]
     },
     "metadata": {
      "needs_background": "light"
     },
     "output_type": "display_data"
    },
    {
     "name": "stdout",
     "output_type": "stream",
     "text": [
      "time: 371 ms (started: 2022-12-04 01:46:36 +00:00)\n"
     ]
    }
   ],
   "source": [
    "p_value.plot(kind=\"bar\")\n",
    "plt.xlabel(\"Features\",fontsize=20)\n",
    "plt.ylabel(\"p_values\",fontsize=20)\n",
    "plt.title(\"chi squared test base on p value\")\n",
    "plt.show()"
   ]
  },
  {
   "cell_type": "markdown",
   "metadata": {
    "id": "leS8bHG2N5Kf"
   },
   "source": [
    "Observation:\n",
    "\n",
    "The p-values of all the categorical/ordinal features are less than 0.5"
   ]
  },
  {
   "cell_type": "code",
   "execution_count": 43,
   "metadata": {
    "colab": {
     "base_uri": "https://localhost:8080/"
    },
    "id": "_7jt0ByXLNyD",
    "outputId": "ea8ee7f1-dd1c-421e-9477-f0a524a45f58"
   },
   "outputs": [
    {
     "name": "stdout",
     "output_type": "stream",
     "text": [
      "time: 46.2 ms (started: 2022-12-04 01:46:36 +00:00)\n"
     ]
    }
   ],
   "source": [
    "fs = SelectKBest(score_func=chi2, k='all')\n",
    "fs.fit(xen, y)\n",
    "xen_fs = fs.transform(xen)"
   ]
  },
  {
   "cell_type": "code",
   "execution_count": 44,
   "metadata": {
    "colab": {
     "base_uri": "https://localhost:8080/",
     "height": 650
    },
    "id": "xEUuyFOuLjf9",
    "outputId": "57a9b43b-da0a-41a6-e0c0-5157ce68e5fb"
   },
   "outputs": [
    {
     "name": "stdout",
     "output_type": "stream",
     "text": [
      "Feature 0: 574.005266\n",
      "Feature 1: 0.490519\n",
      "Feature 2: 1.727071\n",
      "Feature 3: 59.119011\n",
      "Feature 4: 15.214560\n",
      "Feature 5: 16.920213\n",
      "Feature 6: 2072.880062\n",
      "Feature 7: 2443.454158\n",
      "Feature 8: 3973.680761\n",
      "Feature 9: 2141.203429\n",
      "Feature 10: 2917.871559\n",
      "Feature 11: 2.475031\n",
      "Feature 12: 142.892650\n",
      "Feature 13: 13.972007\n",
      "Feature 14: 135.630778\n",
      "Feature 15: 163.490341\n",
      "Feature 16: 80.127508\n",
      "Feature 17: 30.305036\n",
      "Feature 18: 209.232368\n",
      "Feature 19: 956.178417\n",
      "Feature 20: 566.829703\n"
     ]
    },
    {
     "data": {
      "image/png": "[encoded data removed]",
      "text/plain": [
       "<Figure size 432x288 with 1 Axes>"
      ]
     },
     "metadata": {
      "needs_background": "light"
     },
     "output_type": "display_data"
    },
    {
     "name": "stdout",
     "output_type": "stream",
     "text": [
      "time: 322 ms (started: 2022-12-04 01:46:36 +00:00)\n"
     ]
    }
   ],
   "source": [
    "for i in range(len(fs.scores_)):\n",
    "\tprint('Feature %d: %f' % (i, fs.scores_[i]))\n",
    "# plot the scores\n",
    "plt.bar([i for i in range(len(fs.scores_))], fs.scores_)\n",
    "plt.show()"
   ]
  },
  {
   "cell_type": "code",
   "execution_count": 45,
   "metadata": {
    "colab": {
     "base_uri": "https://localhost:8080/"
    },
    "id": "dk62gqC2Omjm",
    "outputId": "d257dd55-16e3-4a47-b303-cb41c3158fef"
   },
   "outputs": [
    {
     "name": "stdout",
     "output_type": "stream",
     "text": [
      "time: 2.67 ms (started: 2022-12-04 01:46:37 +00:00)\n"
     ]
    }
   ],
   "source": [
    "xcols = x.columns\n",
    "xcols\n",
    "xen_df=pd.DataFrame(xen, columns=[['elective_surgery', 'ethnicity', 'gender',\n",
    "       'icu_admit_source', 'icu_stay_type', 'icu_type', \n",
    "       'gcs_eyes_apache', 'gcs_motor_apache', 'gcs_verbal_apache',\n",
    "       'intubated_apache', 'ventilated_apache', 'aids', 'cirrhosis',\n",
    "       'diabetes_mellitus', 'hepatic_failure', 'immunosuppression', 'leukemia',\n",
    "       'lymphoma', 'solid_tumor_with_metastasis', 'apache_3j_bodysystem',\n",
    "       'apache_2_bodysystem']])\n"
   ]
  },
  {
   "cell_type": "markdown",
   "metadata": {
    "id": "cdjqb4FRThC8"
   },
   "source": [
    "Categorical correlation with hospital_death\n",
    "\n",
    "The features with the 10 highest chi_squared scores are:\n",
    "\n",
    "1. gcs_verbal_apache: 3973.680761\n",
    "2. ventilated_apache: 2917.871559\n",
    "3. gcs_motor_apache: 2443.454158\n",
    "4. intubated_apache: 2141.203429\n",
    "5. gcs_eyes_apache: 2072.880062\n",
    "6. apache_3j_bodysystem: 956.178417\n",
    "7. apache_2_bodysystem: 647.666241\n",
    "8. elective_surgery: 574.005266\n",
    "9. solid_tumor_with_metastasis: 209.232368\n",
    "10. immunosuppression: 163.490341\n",
    "\n",
    "The features with the 11 lowest chi_squared scores are:\n",
    "1. ethnicity: 0.490519\n",
    "2. gender: 1.727071\n",
    "3. aids: 2.475031\n",
    "4. diabetes_melitus: 13.972007 \n",
    "5. icu_stay_type: 15.214560\n",
    "6. icu_type: 16.920213\n",
    "7. lymphoma: 30.305036\n",
    "8. icu_admit_source: 59.119011\n",
    "9. leukemia: 80.127508\n",
    "10. hepatic_failure: 135.630778\n",
    "11. cirrhosis: 142.892650\n",
    "\n",
    "\n"
   ]
  },
  {
   "cell_type": "code",
   "execution_count": 46,
   "metadata": {
    "colab": {
     "base_uri": "https://localhost:8080/"
    },
    "id": "xqWTHAA_lL51",
    "outputId": "bd79e6c5-5f91-469f-a3cb-7126acb1c2d7"
   },
   "outputs": [
    {
     "name": "stdout",
     "output_type": "stream",
     "text": [
      "time: 613 µs (started: 2022-12-04 01:46:37 +00:00)\n"
     ]
    }
   ],
   "source": [
    "df_cat_v1=x"
   ]
  },
  {
   "cell_type": "code",
   "execution_count": 47,
   "metadata": {
    "colab": {
     "base_uri": "https://localhost:8080/"
    },
    "id": "yDm-J2Kalqoc",
    "outputId": "802a03da-204d-4a67-9fe5-0250f9e4cd34"
   },
   "outputs": [
    {
     "name": "stdout",
     "output_type": "stream",
     "text": [
      "<class 'pandas.core.frame.DataFrame'>\n",
      "Int64Index: 85367 entries, 0 to 91712\n",
      "Data columns (total 21 columns):\n",
      " #   Column                       Non-Null Count  Dtype  \n",
      "---  ------                       --------------  -----  \n",
      " 0   elective_surgery             85367 non-null  int64  \n",
      " 1   ethnicity                    85367 non-null  object \n",
      " 2   gender                       85367 non-null  object \n",
      " 3   icu_admit_source             85367 non-null  object \n",
      " 4   icu_stay_type                85367 non-null  object \n",
      " 5   icu_type                     85367 non-null  object \n",
      " 6   gcs_eyes_apache              85367 non-null  float64\n",
      " 7   gcs_motor_apache             85367 non-null  float64\n",
      " 8   gcs_verbal_apache            85367 non-null  float64\n",
      " 9   intubated_apache             85367 non-null  float64\n",
      " 10  ventilated_apache            85367 non-null  float64\n",
      " 11  aids                         85367 non-null  float64\n",
      " 12  cirrhosis                    85367 non-null  float64\n",
      " 13  diabetes_mellitus            85367 non-null  float64\n",
      " 14  hepatic_failure              85367 non-null  float64\n",
      " 15  immunosuppression            85367 non-null  float64\n",
      " 16  leukemia                     85367 non-null  float64\n",
      " 17  lymphoma                     85367 non-null  float64\n",
      " 18  solid_tumor_with_metastasis  85367 non-null  float64\n",
      " 19  apache_3j_bodysystem         85367 non-null  object \n",
      " 20  apache_2_bodysystem          85367 non-null  object \n",
      "dtypes: float64(13), int64(1), object(7)\n",
      "memory usage: 16.3+ MB\n",
      "time: 61.7 ms (started: 2022-12-04 01:46:37 +00:00)\n"
     ]
    }
   ],
   "source": [
    "df_cat_v1.info()"
   ]
  },
  {
   "cell_type": "code",
   "execution_count": 48,
   "metadata": {
    "colab": {
     "base_uri": "https://localhost:8080/",
     "height": 677
    },
    "id": "Ai1d-HLBQSaF",
    "outputId": "e5109aa6-0e76-49a0-fad8-91bb16bd5d7d"
   },
   "outputs": [
    {
     "name": "stdout",
     "output_type": "stream",
     "text": [
      "General Info:\n",
      "85367 Rows 25 Columns\n",
      "0 Duplicated Rows\n",
      "Memory Usage: 18.95Mb\n",
      "\n",
      "Columns int64: ['hospital_death', 'elective_surgery']\n",
      "\n",
      "Columns float64: ['age', 'pre_icu_los_days', 'weight', 'gcs_eyes_apache', 'gcs_motor_apache', 'gcs_verbal_apache', 'intubated_apache', 'ventilated_apache', 'aids', 'cirrhosis', 'diabetes_mellitus', 'hepatic_failure', 'immunosuppression', 'leukemia', 'lymphoma', 'solid_tumor_with_metastasis']\n",
      "\n",
      "Columns object: ['ethnicity', 'gender', 'icu_admit_source', 'icu_stay_type', 'icu_type', 'apache_3j_bodysystem', 'apache_2_bodysystem']\n"
     ]
    },
    {
     "data": {
      "text/html": [
       "\n",
       "  <div id=\"df-9e65fd0d-f6fe-4506-a997-d2e126597f1f\">\n",
       "    <div class=\"colab-df-container\">\n",
       "      <div>\n",
       "<style scoped>\n",
       "    .dataframe tbody tr th:only-of-type {\n",
       "        vertical-align: middle;\n",
       "    }\n",
       "\n",
       "    .dataframe tbody tr th {\n",
       "        vertical-align: top;\n",
       "    }\n",
       "\n",
       "    .dataframe thead th {\n",
       "        text-align: right;\n",
       "    }\n",
       "</style>\n",
       "<table border=\"1\" class=\"dataframe\">\n",
       "  <thead>\n",
       "    <tr style=\"text-align: right;\">\n",
       "      <th></th>\n",
       "      <th>hospital_death</th>\n",
       "      <th>age</th>\n",
       "      <th>elective_surgery</th>\n",
       "      <th>pre_icu_los_days</th>\n",
       "      <th>weight</th>\n",
       "      <th>gcs_eyes_apache</th>\n",
       "      <th>gcs_motor_apache</th>\n",
       "      <th>gcs_verbal_apache</th>\n",
       "      <th>intubated_apache</th>\n",
       "      <th>ventilated_apache</th>\n",
       "      <th>aids</th>\n",
       "      <th>cirrhosis</th>\n",
       "      <th>diabetes_mellitus</th>\n",
       "      <th>hepatic_failure</th>\n",
       "      <th>immunosuppression</th>\n",
       "      <th>leukemia</th>\n",
       "      <th>lymphoma</th>\n",
       "      <th>solid_tumor_with_metastasis</th>\n",
       "    </tr>\n",
       "  </thead>\n",
       "  <tbody>\n",
       "    <tr>\n",
       "      <th>count</th>\n",
       "      <td>85367.000000</td>\n",
       "      <td>85367.000000</td>\n",
       "      <td>85367.000000</td>\n",
       "      <td>85367.000000</td>\n",
       "      <td>85367.000000</td>\n",
       "      <td>85367.000000</td>\n",
       "      <td>85367.000000</td>\n",
       "      <td>85367.000000</td>\n",
       "      <td>85367.000000</td>\n",
       "      <td>85367.000000</td>\n",
       "      <td>85367.000000</td>\n",
       "      <td>85367.000000</td>\n",
       "      <td>85367.000000</td>\n",
       "      <td>85367.000000</td>\n",
       "      <td>85367.000000</td>\n",
       "      <td>85367.000000</td>\n",
       "      <td>85367.000000</td>\n",
       "      <td>85367.000000</td>\n",
       "    </tr>\n",
       "    <tr>\n",
       "      <th>mean</th>\n",
       "      <td>0.084318</td>\n",
       "      <td>62.347760</td>\n",
       "      <td>0.182155</td>\n",
       "      <td>0.838558</td>\n",
       "      <td>83.987972</td>\n",
       "      <td>3.460717</td>\n",
       "      <td>5.467534</td>\n",
       "      <td>3.984807</td>\n",
       "      <td>0.148535</td>\n",
       "      <td>0.322338</td>\n",
       "      <td>0.000867</td>\n",
       "      <td>0.015826</td>\n",
       "      <td>0.226657</td>\n",
       "      <td>0.013143</td>\n",
       "      <td>0.026333</td>\n",
       "      <td>0.007157</td>\n",
       "      <td>0.004276</td>\n",
       "      <td>0.020793</td>\n",
       "    </tr>\n",
       "    <tr>\n",
       "      <th>std</th>\n",
       "      <td>0.277866</td>\n",
       "      <td>16.441014</td>\n",
       "      <td>0.385974</td>\n",
       "      <td>2.394715</td>\n",
       "      <td>24.987825</td>\n",
       "      <td>0.953982</td>\n",
       "      <td>1.290691</td>\n",
       "      <td>1.564943</td>\n",
       "      <td>0.355632</td>\n",
       "      <td>0.467374</td>\n",
       "      <td>0.029430</td>\n",
       "      <td>0.124802</td>\n",
       "      <td>0.418671</td>\n",
       "      <td>0.113889</td>\n",
       "      <td>0.160126</td>\n",
       "      <td>0.084298</td>\n",
       "      <td>0.065249</td>\n",
       "      <td>0.142690</td>\n",
       "    </tr>\n",
       "    <tr>\n",
       "      <th>min</th>\n",
       "      <td>0.000000</td>\n",
       "      <td>16.000000</td>\n",
       "      <td>0.000000</td>\n",
       "      <td>0.000000</td>\n",
       "      <td>38.600000</td>\n",
       "      <td>1.000000</td>\n",
       "      <td>1.000000</td>\n",
       "      <td>1.000000</td>\n",
       "      <td>0.000000</td>\n",
       "      <td>0.000000</td>\n",
       "      <td>0.000000</td>\n",
       "      <td>0.000000</td>\n",
       "      <td>0.000000</td>\n",
       "      <td>0.000000</td>\n",
       "      <td>0.000000</td>\n",
       "      <td>0.000000</td>\n",
       "      <td>0.000000</td>\n",
       "      <td>0.000000</td>\n",
       "    </tr>\n",
       "    <tr>\n",
       "      <th>25%</th>\n",
       "      <td>0.000000</td>\n",
       "      <td>53.000000</td>\n",
       "      <td>0.000000</td>\n",
       "      <td>0.040278</td>\n",
       "      <td>66.700000</td>\n",
       "      <td>3.000000</td>\n",
       "      <td>6.000000</td>\n",
       "      <td>4.000000</td>\n",
       "      <td>0.000000</td>\n",
       "      <td>0.000000</td>\n",
       "      <td>0.000000</td>\n",
       "      <td>0.000000</td>\n",
       "      <td>0.000000</td>\n",
       "      <td>0.000000</td>\n",
       "      <td>0.000000</td>\n",
       "      <td>0.000000</td>\n",
       "      <td>0.000000</td>\n",
       "      <td>0.000000</td>\n",
       "    </tr>\n",
       "    <tr>\n",
       "      <th>50%</th>\n",
       "      <td>0.000000</td>\n",
       "      <td>64.000000</td>\n",
       "      <td>0.000000</td>\n",
       "      <td>0.143750</td>\n",
       "      <td>80.300000</td>\n",
       "      <td>4.000000</td>\n",
       "      <td>6.000000</td>\n",
       "      <td>5.000000</td>\n",
       "      <td>0.000000</td>\n",
       "      <td>0.000000</td>\n",
       "      <td>0.000000</td>\n",
       "      <td>0.000000</td>\n",
       "      <td>0.000000</td>\n",
       "      <td>0.000000</td>\n",
       "      <td>0.000000</td>\n",
       "      <td>0.000000</td>\n",
       "      <td>0.000000</td>\n",
       "      <td>0.000000</td>\n",
       "    </tr>\n",
       "    <tr>\n",
       "      <th>75%</th>\n",
       "      <td>0.000000</td>\n",
       "      <td>75.000000</td>\n",
       "      <td>0.000000</td>\n",
       "      <td>0.411111</td>\n",
       "      <td>97.070000</td>\n",
       "      <td>4.000000</td>\n",
       "      <td>6.000000</td>\n",
       "      <td>5.000000</td>\n",
       "      <td>0.000000</td>\n",
       "      <td>1.000000</td>\n",
       "      <td>0.000000</td>\n",
       "      <td>0.000000</td>\n",
       "      <td>0.000000</td>\n",
       "      <td>0.000000</td>\n",
       "      <td>0.000000</td>\n",
       "      <td>0.000000</td>\n",
       "      <td>0.000000</td>\n",
       "      <td>0.000000</td>\n",
       "    </tr>\n",
       "    <tr>\n",
       "      <th>max</th>\n",
       "      <td>1.000000</td>\n",
       "      <td>89.000000</td>\n",
       "      <td>1.000000</td>\n",
       "      <td>84.367361</td>\n",
       "      <td>186.000000</td>\n",
       "      <td>4.000000</td>\n",
       "      <td>6.000000</td>\n",
       "      <td>5.000000</td>\n",
       "      <td>1.000000</td>\n",
       "      <td>1.000000</td>\n",
       "      <td>1.000000</td>\n",
       "      <td>1.000000</td>\n",
       "      <td>1.000000</td>\n",
       "      <td>1.000000</td>\n",
       "      <td>1.000000</td>\n",
       "      <td>1.000000</td>\n",
       "      <td>1.000000</td>\n",
       "      <td>1.000000</td>\n",
       "    </tr>\n",
       "  </tbody>\n",
       "</table>\n",
       "</div>\n",
       "      <button class=\"colab-df-convert\" onclick=\"convertToInteractive('df-9e65fd0d-f6fe-4506-a997-d2e126597f1f')\"\n",
       "              title=\"Convert this dataframe to an interactive table.\"\n",
       "              style=\"display:none;\">\n",
       "        \n",
       "  <svg xmlns=\"http://www.w3.org/2000/svg\" height=\"24px\"viewBox=\"0 0 24 24\"\n",
       "       width=\"24px\">\n",
       "    <path d=\"M0 0h24v24H0V0z\" fill=\"none\"/>\n",
       "    <path d=\"M18.56 5.44l.94 2.06.94-2.06 2.06-.94-2.06-.94-.94-2.06-.94 2.06-2.06.94zm-11 1L8.5 8.5l.94-2.06 2.06-.94-2.06-.94L8.5 2.5l-.94 2.06-2.06.94zm10 10l.94 2.06.94-2.06 2.06-.94-2.06-.94-.94-2.06-.94 2.06-2.06.94z\"/><path d=\"M17.41 7.96l-1.37-1.37c-.4-.4-.92-.59-1.43-.59-.52 0-1.04.2-1.43.59L10.3 9.45l-7.72 7.72c-.78.78-.78 2.05 0 2.83L4 21.41c.39.39.9.59 1.41.59.51 0 1.02-.2 1.41-.59l7.78-7.78 2.81-2.81c.8-.78.8-2.07 0-2.86zM5.41 20L4 18.59l7.72-7.72 1.47 1.35L5.41 20z\"/>\n",
       "  </svg>\n",
       "      </button>\n",
       "      \n",
       "  <style>\n",
       "    .colab-df-container {\n",
       "      display:flex;\n",
       "      flex-wrap:wrap;\n",
       "      gap: 12px;\n",
       "    }\n",
       "\n",
       "    .colab-df-convert {\n",
       "      background-color: #E8F0FE;\n",
       "      border: none;\n",
       "      border-radius: 50%;\n",
       "      cursor: pointer;\n",
       "      display: none;\n",
       "      fill: #1967D2;\n",
       "      height: 32px;\n",
       "      padding: 0 0 0 0;\n",
       "      width: 32px;\n",
       "    }\n",
       "\n",
       "    .colab-df-convert:hover {\n",
       "      background-color: #E2EBFA;\n",
       "      box-shadow: 0px 1px 2px rgba(60, 64, 67, 0.3), 0px 1px 3px 1px rgba(60, 64, 67, 0.15);\n",
       "      fill: #174EA6;\n",
       "    }\n",
       "\n",
       "    [theme=dark] .colab-df-convert {\n",
       "      background-color: #3B4455;\n",
       "      fill: #D2E3FC;\n",
       "    }\n",
       "\n",
       "    [theme=dark] .colab-df-convert:hover {\n",
       "      background-color: #434B5C;\n",
       "      box-shadow: 0px 1px 3px 1px rgba(0, 0, 0, 0.15);\n",
       "      filter: drop-shadow(0px 1px 2px rgba(0, 0, 0, 0.3));\n",
       "      fill: #FFFFFF;\n",
       "    }\n",
       "  </style>\n",
       "\n",
       "      <script>\n",
       "        const buttonEl =\n",
       "          document.querySelector('#df-9e65fd0d-f6fe-4506-a997-d2e126597f1f button.colab-df-convert');\n",
       "        buttonEl.style.display =\n",
       "          google.colab.kernel.accessAllowed ? 'block' : 'none';\n",
       "\n",
       "        async function convertToInteractive(key) {\n",
       "          const element = document.querySelector('#df-9e65fd0d-f6fe-4506-a997-d2e126597f1f');\n",
       "          const dataTable =\n",
       "            await google.colab.kernel.invokeFunction('convertToInteractive',\n",
       "                                                     [key], {});\n",
       "          if (!dataTable) return;\n",
       "\n",
       "          const docLinkHtml = 'Like what you see? Visit the ' +\n",
       "            '<a target=\"_blank\" href=https://colab.research.google.com/notebooks/data_table.ipynb>data table notebook</a>'\n",
       "            + ' to learn more about interactive tables.';\n",
       "          element.innerHTML = '';\n",
       "          dataTable['output_type'] = 'display_data';\n",
       "          await google.colab.output.renderOutput(dataTable, element);\n",
       "          const docLink = document.createElement('div');\n",
       "          docLink.innerHTML = docLinkHtml;\n",
       "          element.appendChild(docLink);\n",
       "        }\n",
       "      </script>\n",
       "    </div>\n",
       "  </div>\n",
       "  "
      ],
      "text/plain": [
       "       hospital_death           age  elective_surgery  pre_icu_los_days  \\\n",
       "count    85367.000000  85367.000000      85367.000000      85367.000000   \n",
       "mean         0.084318     62.347760          0.182155          0.838558   \n",
       "std          0.277866     16.441014          0.385974          2.394715   \n",
       "min          0.000000     16.000000          0.000000          0.000000   \n",
       "25%          0.000000     53.000000          0.000000          0.040278   \n",
       "50%          0.000000     64.000000          0.000000          0.143750   \n",
       "75%          0.000000     75.000000          0.000000          0.411111   \n",
       "max          1.000000     89.000000          1.000000         84.367361   \n",
       "\n",
       "             weight  gcs_eyes_apache  gcs_motor_apache  gcs_verbal_apache  \\\n",
       "count  85367.000000     85367.000000      85367.000000       85367.000000   \n",
       "mean      83.987972         3.460717          5.467534           3.984807   \n",
       "std       24.987825         0.953982          1.290691           1.564943   \n",
       "min       38.600000         1.000000          1.000000           1.000000   \n",
       "25%       66.700000         3.000000          6.000000           4.000000   \n",
       "50%       80.300000         4.000000          6.000000           5.000000   \n",
       "75%       97.070000         4.000000          6.000000           5.000000   \n",
       "max      186.000000         4.000000          6.000000           5.000000   \n",
       "\n",
       "       intubated_apache  ventilated_apache          aids     cirrhosis  \\\n",
       "count      85367.000000       85367.000000  85367.000000  85367.000000   \n",
       "mean           0.148535           0.322338      0.000867      0.015826   \n",
       "std            0.355632           0.467374      0.029430      0.124802   \n",
       "min            0.000000           0.000000      0.000000      0.000000   \n",
       "25%            0.000000           0.000000      0.000000      0.000000   \n",
       "50%            0.000000           0.000000      0.000000      0.000000   \n",
       "75%            0.000000           1.000000      0.000000      0.000000   \n",
       "max            1.000000           1.000000      1.000000      1.000000   \n",
       "\n",
       "       diabetes_mellitus  hepatic_failure  immunosuppression      leukemia  \\\n",
       "count       85367.000000     85367.000000       85367.000000  85367.000000   \n",
       "mean            0.226657         0.013143           0.026333      0.007157   \n",
       "std             0.418671         0.113889           0.160126      0.084298   \n",
       "min             0.000000         0.000000           0.000000      0.000000   \n",
       "25%             0.000000         0.000000           0.000000      0.000000   \n",
       "50%             0.000000         0.000000           0.000000      0.000000   \n",
       "75%             0.000000         0.000000           0.000000      0.000000   \n",
       "max             1.000000         1.000000           1.000000      1.000000   \n",
       "\n",
       "           lymphoma  solid_tumor_with_metastasis  \n",
       "count  85367.000000                 85367.000000  \n",
       "mean       0.004276                     0.020793  \n",
       "std        0.065249                     0.142690  \n",
       "min        0.000000                     0.000000  \n",
       "25%        0.000000                     0.000000  \n",
       "50%        0.000000                     0.000000  \n",
       "75%        0.000000                     0.000000  \n",
       "max        1.000000                     1.000000  "
      ]
     },
     "metadata": {},
     "output_type": "display_data"
    },
    {
     "name": "stdout",
     "output_type": "stream",
     "text": [
      "\n",
      "Checking Missing Values:\n",
      "Analyzed DataFrame has no missing values\n",
      "\n",
      "Checking Linear Correlation:\n",
      "Linear Correlation found between columns gcs_motor_apache and gcs_eyes_apache -> Pearson coef. = 0.80\n",
      "Linear Correlation found between columns gcs_verbal_apache and gcs_eyes_apache -> Pearson coef. = 0.78\n",
      "time: 373 ms (started: 2022-12-04 01:46:37 +00:00)\n"
     ]
    }
   ],
   "source": [
    "#Review df1 dataframe before proceeding with removing features\n",
    "\n",
    "analyse_df(df1)"
   ]
  },
  {
   "cell_type": "markdown",
   "metadata": {
    "id": "e61e5JFZaAmi"
   },
   "source": [
    "We will exclude the features with the 11 lowest chi-squared scores from the model.  We will also remove gcs_eyes_apache as it highly correlated with both gcs_motor_apache and gcs_verbal_apache"
   ]
  },
  {
   "cell_type": "code",
   "execution_count": 49,
   "metadata": {
    "colab": {
     "base_uri": "https://localhost:8080/"
    },
    "id": "ROhPQdVqgqMB",
    "outputId": "f4d7f96c-1da7-4363-bad2-bba4a420491a"
   },
   "outputs": [
    {
     "name": "stdout",
     "output_type": "stream",
     "text": [
      "<class 'pandas.core.frame.DataFrame'>\n",
      "Int64Index: 85367 entries, 0 to 91712\n",
      "Data columns (total 25 columns):\n",
      " #   Column                       Non-Null Count  Dtype  \n",
      "---  ------                       --------------  -----  \n",
      " 0   hospital_death               85367 non-null  int64  \n",
      " 1   age                          85367 non-null  float64\n",
      " 2   elective_surgery             85367 non-null  int64  \n",
      " 3   ethnicity                    85367 non-null  object \n",
      " 4   gender                       85367 non-null  object \n",
      " 5   icu_admit_source             85367 non-null  object \n",
      " 6   icu_stay_type                85367 non-null  object \n",
      " 7   icu_type                     85367 non-null  object \n",
      " 8   pre_icu_los_days             85367 non-null  float64\n",
      " 9   weight                       85367 non-null  float64\n",
      " 10  gcs_eyes_apache              85367 non-null  float64\n",
      " 11  gcs_motor_apache             85367 non-null  float64\n",
      " 12  gcs_verbal_apache            85367 non-null  float64\n",
      " 13  intubated_apache             85367 non-null  float64\n",
      " 14  ventilated_apache            85367 non-null  float64\n",
      " 15  aids                         85367 non-null  float64\n",
      " 16  cirrhosis                    85367 non-null  float64\n",
      " 17  diabetes_mellitus            85367 non-null  float64\n",
      " 18  hepatic_failure              85367 non-null  float64\n",
      " 19  immunosuppression            85367 non-null  float64\n",
      " 20  leukemia                     85367 non-null  float64\n",
      " 21  lymphoma                     85367 non-null  float64\n",
      " 22  solid_tumor_with_metastasis  85367 non-null  float64\n",
      " 23  apache_3j_bodysystem         85367 non-null  object \n",
      " 24  apache_2_bodysystem          85367 non-null  object \n",
      "dtypes: float64(16), int64(2), object(7)\n",
      "memory usage: 18.9+ MB\n",
      "time: 46.7 ms (started: 2022-12-04 01:46:37 +00:00)\n"
     ]
    }
   ],
   "source": [
    "df1.info()"
   ]
  },
  {
   "cell_type": "code",
   "execution_count": 50,
   "metadata": {
    "colab": {
     "base_uri": "https://localhost:8080/"
    },
    "id": "0J9ramyNahbh",
    "outputId": "184fb59b-9d4b-4f14-8159-9082ec8ca1e3"
   },
   "outputs": [
    {
     "name": "stdout",
     "output_type": "stream",
     "text": [
      "time: 6.58 ms (started: 2022-12-04 01:46:37 +00:00)\n"
     ]
    }
   ],
   "source": [
    "# Create new dataset with features to be kept\n",
    "\n",
    "dfnc=df1[['age','elective_surgery','pre_icu_los_days','weight','gcs_motor_apache','gcs_verbal_apache','intubated_apache','ventilated_apache','apache_3j_bodysystem','apache_2_bodysystem','solid_tumor_with_metastasis','immunosuppression','hospital_death']]"
   ]
  },
  {
   "cell_type": "code",
   "execution_count": 51,
   "metadata": {
    "colab": {
     "base_uri": "https://localhost:8080/"
    },
    "id": "hKiWNqkkiMcb",
    "outputId": "3b7ad2ee-2745-4512-aded-8f28170fbd56"
   },
   "outputs": [
    {
     "name": "stdout",
     "output_type": "stream",
     "text": [
      "<class 'pandas.core.frame.DataFrame'>\n",
      "Int64Index: 85367 entries, 0 to 91712\n",
      "Data columns (total 13 columns):\n",
      " #   Column                       Non-Null Count  Dtype  \n",
      "---  ------                       --------------  -----  \n",
      " 0   age                          85367 non-null  float64\n",
      " 1   elective_surgery             85367 non-null  int64  \n",
      " 2   pre_icu_los_days             85367 non-null  float64\n",
      " 3   weight                       85367 non-null  float64\n",
      " 4   gcs_motor_apache             85367 non-null  float64\n",
      " 5   gcs_verbal_apache            85367 non-null  float64\n",
      " 6   intubated_apache             85367 non-null  float64\n",
      " 7   ventilated_apache            85367 non-null  float64\n",
      " 8   apache_3j_bodysystem         85367 non-null  object \n",
      " 9   apache_2_bodysystem          85367 non-null  object \n",
      " 10  solid_tumor_with_metastasis  85367 non-null  float64\n",
      " 11  immunosuppression            85367 non-null  float64\n",
      " 12  hospital_death               85367 non-null  int64  \n",
      "dtypes: float64(9), int64(2), object(2)\n",
      "memory usage: 11.1+ MB\n",
      "time: 26 ms (started: 2022-12-04 01:46:37 +00:00)\n"
     ]
    }
   ],
   "source": [
    "dfnc.info()"
   ]
  },
  {
   "cell_type": "code",
   "execution_count": 52,
   "metadata": {
    "colab": {
     "base_uri": "https://localhost:8080/",
     "height": 267
    },
    "id": "i6DCkPQ1jI0-",
    "outputId": "74f2b107-2370-4725-a17f-5d05e85476ee"
   },
   "outputs": [
    {
     "data": {
      "text/html": [
       "\n",
       "  <div id=\"df-f5d23bef-9e77-411f-a530-31458be88ec6\">\n",
       "    <div class=\"colab-df-container\">\n",
       "      <div>\n",
       "<style scoped>\n",
       "    .dataframe tbody tr th:only-of-type {\n",
       "        vertical-align: middle;\n",
       "    }\n",
       "\n",
       "    .dataframe tbody tr th {\n",
       "        vertical-align: top;\n",
       "    }\n",
       "\n",
       "    .dataframe thead th {\n",
       "        text-align: right;\n",
       "    }\n",
       "</style>\n",
       "<table border=\"1\" class=\"dataframe\">\n",
       "  <thead>\n",
       "    <tr style=\"text-align: right;\">\n",
       "      <th></th>\n",
       "      <th>age</th>\n",
       "      <th>elective_surgery</th>\n",
       "      <th>pre_icu_los_days</th>\n",
       "      <th>weight</th>\n",
       "      <th>gcs_motor_apache</th>\n",
       "      <th>gcs_verbal_apache</th>\n",
       "      <th>intubated_apache</th>\n",
       "      <th>ventilated_apache</th>\n",
       "      <th>apache_3j_bodysystem</th>\n",
       "      <th>apache_2_bodysystem</th>\n",
       "      <th>solid_tumor_with_metastasis</th>\n",
       "      <th>immunosuppression</th>\n",
       "      <th>hospital_death</th>\n",
       "    </tr>\n",
       "  </thead>\n",
       "  <tbody>\n",
       "    <tr>\n",
       "      <th>0</th>\n",
       "      <td>68.0</td>\n",
       "      <td>0</td>\n",
       "      <td>0.541667</td>\n",
       "      <td>73.9</td>\n",
       "      <td>6.0</td>\n",
       "      <td>4.0</td>\n",
       "      <td>0.0</td>\n",
       "      <td>0.0</td>\n",
       "      <td>Sepsis</td>\n",
       "      <td>Cardiovascular</td>\n",
       "      <td>0.0</td>\n",
       "      <td>0.0</td>\n",
       "      <td>0</td>\n",
       "    </tr>\n",
       "    <tr>\n",
       "      <th>1</th>\n",
       "      <td>77.0</td>\n",
       "      <td>0</td>\n",
       "      <td>0.927778</td>\n",
       "      <td>70.2</td>\n",
       "      <td>3.0</td>\n",
       "      <td>1.0</td>\n",
       "      <td>0.0</td>\n",
       "      <td>1.0</td>\n",
       "      <td>Respiratory</td>\n",
       "      <td>Respiratory</td>\n",
       "      <td>0.0</td>\n",
       "      <td>0.0</td>\n",
       "      <td>0</td>\n",
       "    </tr>\n",
       "    <tr>\n",
       "      <th>2</th>\n",
       "      <td>25.0</td>\n",
       "      <td>0</td>\n",
       "      <td>0.000694</td>\n",
       "      <td>95.3</td>\n",
       "      <td>6.0</td>\n",
       "      <td>5.0</td>\n",
       "      <td>0.0</td>\n",
       "      <td>0.0</td>\n",
       "      <td>Metabolic</td>\n",
       "      <td>Metabolic</td>\n",
       "      <td>0.0</td>\n",
       "      <td>0.0</td>\n",
       "      <td>0</td>\n",
       "    </tr>\n",
       "    <tr>\n",
       "      <th>3</th>\n",
       "      <td>81.0</td>\n",
       "      <td>1</td>\n",
       "      <td>0.000694</td>\n",
       "      <td>61.7</td>\n",
       "      <td>6.0</td>\n",
       "      <td>5.0</td>\n",
       "      <td>1.0</td>\n",
       "      <td>1.0</td>\n",
       "      <td>Cardiovascular</td>\n",
       "      <td>Cardiovascular</td>\n",
       "      <td>0.0</td>\n",
       "      <td>0.0</td>\n",
       "      <td>0</td>\n",
       "    </tr>\n",
       "    <tr>\n",
       "      <th>5</th>\n",
       "      <td>67.0</td>\n",
       "      <td>0</td>\n",
       "      <td>0.000694</td>\n",
       "      <td>100.0</td>\n",
       "      <td>6.0</td>\n",
       "      <td>5.0</td>\n",
       "      <td>0.0</td>\n",
       "      <td>0.0</td>\n",
       "      <td>Neurological</td>\n",
       "      <td>Neurologic</td>\n",
       "      <td>0.0</td>\n",
       "      <td>0.0</td>\n",
       "      <td>0</td>\n",
       "    </tr>\n",
       "  </tbody>\n",
       "</table>\n",
       "</div>\n",
       "      <button class=\"colab-df-convert\" onclick=\"convertToInteractive('df-f5d23bef-9e77-411f-a530-31458be88ec6')\"\n",
       "              title=\"Convert this dataframe to an interactive table.\"\n",
       "              style=\"display:none;\">\n",
       "        \n",
       "  <svg xmlns=\"http://www.w3.org/2000/svg\" height=\"24px\"viewBox=\"0 0 24 24\"\n",
       "       width=\"24px\">\n",
       "    <path d=\"M0 0h24v24H0V0z\" fill=\"none\"/>\n",
       "    <path d=\"M18.56 5.44l.94 2.06.94-2.06 2.06-.94-2.06-.94-.94-2.06-.94 2.06-2.06.94zm-11 1L8.5 8.5l.94-2.06 2.06-.94-2.06-.94L8.5 2.5l-.94 2.06-2.06.94zm10 10l.94 2.06.94-2.06 2.06-.94-2.06-.94-.94-2.06-.94 2.06-2.06.94z\"/><path d=\"M17.41 7.96l-1.37-1.37c-.4-.4-.92-.59-1.43-.59-.52 0-1.04.2-1.43.59L10.3 9.45l-7.72 7.72c-.78.78-.78 2.05 0 2.83L4 21.41c.39.39.9.59 1.41.59.51 0 1.02-.2 1.41-.59l7.78-7.78 2.81-2.81c.8-.78.8-2.07 0-2.86zM5.41 20L4 18.59l7.72-7.72 1.47 1.35L5.41 20z\"/>\n",
       "  </svg>\n",
       "      </button>\n",
       "      \n",
       "  <style>\n",
       "    .colab-df-container {\n",
       "      display:flex;\n",
       "      flex-wrap:wrap;\n",
       "      gap: 12px;\n",
       "    }\n",
       "\n",
       "    .colab-df-convert {\n",
       "      background-color: #E8F0FE;\n",
       "      border: none;\n",
       "      border-radius: 50%;\n",
       "      cursor: pointer;\n",
       "      display: none;\n",
       "      fill: #1967D2;\n",
       "      height: 32px;\n",
       "      padding: 0 0 0 0;\n",
       "      width: 32px;\n",
       "    }\n",
       "\n",
       "    .colab-df-convert:hover {\n",
       "      background-color: #E2EBFA;\n",
       "      box-shadow: 0px 1px 2px rgba(60, 64, 67, 0.3), 0px 1px 3px 1px rgba(60, 64, 67, 0.15);\n",
       "      fill: #174EA6;\n",
       "    }\n",
       "\n",
       "    [theme=dark] .colab-df-convert {\n",
       "      background-color: #3B4455;\n",
       "      fill: #D2E3FC;\n",
       "    }\n",
       "\n",
       "    [theme=dark] .colab-df-convert:hover {\n",
       "      background-color: #434B5C;\n",
       "      box-shadow: 0px 1px 3px 1px rgba(0, 0, 0, 0.15);\n",
       "      filter: drop-shadow(0px 1px 2px rgba(0, 0, 0, 0.3));\n",
       "      fill: #FFFFFF;\n",
       "    }\n",
       "  </style>\n",
       "\n",
       "      <script>\n",
       "        const buttonEl =\n",
       "          document.querySelector('#df-f5d23bef-9e77-411f-a530-31458be88ec6 button.colab-df-convert');\n",
       "        buttonEl.style.display =\n",
       "          google.colab.kernel.accessAllowed ? 'block' : 'none';\n",
       "\n",
       "        async function convertToInteractive(key) {\n",
       "          const element = document.querySelector('#df-f5d23bef-9e77-411f-a530-31458be88ec6');\n",
       "          const dataTable =\n",
       "            await google.colab.kernel.invokeFunction('convertToInteractive',\n",
       "                                                     [key], {});\n",
       "          if (!dataTable) return;\n",
       "\n",
       "          const docLinkHtml = 'Like what you see? Visit the ' +\n",
       "            '<a target=\"_blank\" href=https://colab.research.google.com/notebooks/data_table.ipynb>data table notebook</a>'\n",
       "            + ' to learn more about interactive tables.';\n",
       "          element.innerHTML = '';\n",
       "          dataTable['output_type'] = 'display_data';\n",
       "          await google.colab.output.renderOutput(dataTable, element);\n",
       "          const docLink = document.createElement('div');\n",
       "          docLink.innerHTML = docLinkHtml;\n",
       "          element.appendChild(docLink);\n",
       "        }\n",
       "      </script>\n",
       "    </div>\n",
       "  </div>\n",
       "  "
      ],
      "text/plain": [
       "    age  elective_surgery  pre_icu_los_days  weight  gcs_motor_apache  \\\n",
       "0  68.0                 0          0.541667    73.9               6.0   \n",
       "1  77.0                 0          0.927778    70.2               3.0   \n",
       "2  25.0                 0          0.000694    95.3               6.0   \n",
       "3  81.0                 1          0.000694    61.7               6.0   \n",
       "5  67.0                 0          0.000694   100.0               6.0   \n",
       "\n",
       "   gcs_verbal_apache  intubated_apache  ventilated_apache  \\\n",
       "0                4.0               0.0                0.0   \n",
       "1                1.0               0.0                1.0   \n",
       "2                5.0               0.0                0.0   \n",
       "3                5.0               1.0                1.0   \n",
       "5                5.0               0.0                0.0   \n",
       "\n",
       "  apache_3j_bodysystem apache_2_bodysystem  solid_tumor_with_metastasis  \\\n",
       "0               Sepsis      Cardiovascular                          0.0   \n",
       "1          Respiratory         Respiratory                          0.0   \n",
       "2            Metabolic           Metabolic                          0.0   \n",
       "3       Cardiovascular      Cardiovascular                          0.0   \n",
       "5         Neurological          Neurologic                          0.0   \n",
       "\n",
       "   immunosuppression  hospital_death  \n",
       "0                0.0               0  \n",
       "1                0.0               0  \n",
       "2                0.0               0  \n",
       "3                0.0               0  \n",
       "5                0.0               0  "
      ]
     },
     "execution_count": 52,
     "metadata": {},
     "output_type": "execute_result"
    },
    {
     "name": "stdout",
     "output_type": "stream",
     "text": [
      "time: 17.7 ms (started: 2022-12-04 01:46:37 +00:00)\n"
     ]
    }
   ],
   "source": [
    "dfnc.head()"
   ]
  },
  {
   "cell_type": "code",
   "execution_count": 53,
   "metadata": {
    "colab": {
     "base_uri": "https://localhost:8080/"
    },
    "id": "tsCxO5JPaHHw",
    "outputId": "01205d25-3043-4ad5-caf2-aaea106774e5"
   },
   "outputs": [
    {
     "data": {
      "text/plain": [
       "Index(['age', 'elective_surgery', 'pre_icu_los_days', 'weight',\n",
       "       'gcs_motor_apache', 'gcs_verbal_apache', 'intubated_apache',\n",
       "       'ventilated_apache', 'apache_3j_bodysystem', 'apache_2_bodysystem',\n",
       "       'solid_tumor_with_metastasis', 'immunosuppression', 'hospital_death'],\n",
       "      dtype='object')"
      ]
     },
     "execution_count": 53,
     "metadata": {},
     "output_type": "execute_result"
    },
    {
     "name": "stdout",
     "output_type": "stream",
     "text": [
      "time: 8.97 ms (started: 2022-12-04 01:46:37 +00:00)\n"
     ]
    }
   ],
   "source": [
    "dfnc.columns"
   ]
  },
  {
   "cell_type": "code",
   "execution_count": 54,
   "metadata": {
    "colab": {
     "base_uri": "https://localhost:8080/",
     "height": 334
    },
    "id": "e1j-npTja9xn",
    "outputId": "b3190bbc-e50e-4d1b-d4bc-8029b6cff769"
   },
   "outputs": [
    {
     "data": {
      "text/html": [
       "\n",
       "  <div id=\"df-043d195d-d3a0-41cd-b441-e64eb8080b4d\">\n",
       "    <div class=\"colab-df-container\">\n",
       "      <div>\n",
       "<style scoped>\n",
       "    .dataframe tbody tr th:only-of-type {\n",
       "        vertical-align: middle;\n",
       "    }\n",
       "\n",
       "    .dataframe tbody tr th {\n",
       "        vertical-align: top;\n",
       "    }\n",
       "\n",
       "    .dataframe thead th {\n",
       "        text-align: right;\n",
       "    }\n",
       "</style>\n",
       "<table border=\"1\" class=\"dataframe\">\n",
       "  <thead>\n",
       "    <tr style=\"text-align: right;\">\n",
       "      <th></th>\n",
       "      <th>age</th>\n",
       "      <th>elective_surgery</th>\n",
       "      <th>pre_icu_los_days</th>\n",
       "      <th>weight</th>\n",
       "      <th>intubated_apache</th>\n",
       "      <th>ventilated_apache</th>\n",
       "      <th>solid_tumor_with_metastasis</th>\n",
       "      <th>immunosuppression</th>\n",
       "      <th>hospital_death</th>\n",
       "      <th>gcs_motor_apache_1.0</th>\n",
       "      <th>...</th>\n",
       "      <th>apache_3j_bodysystem_Trauma</th>\n",
       "      <th>apache_2_bodysystem_Cardiovascular</th>\n",
       "      <th>apache_2_bodysystem_Gastrointestinal</th>\n",
       "      <th>apache_2_bodysystem_Haematologic</th>\n",
       "      <th>apache_2_bodysystem_Metabolic</th>\n",
       "      <th>apache_2_bodysystem_Neurologic</th>\n",
       "      <th>apache_2_bodysystem_Renal/Genitourinary</th>\n",
       "      <th>apache_2_bodysystem_Respiratory</th>\n",
       "      <th>apache_2_bodysystem_Trauma</th>\n",
       "      <th>apache_2_bodysystem_Undefined diagnoses</th>\n",
       "    </tr>\n",
       "  </thead>\n",
       "  <tbody>\n",
       "    <tr>\n",
       "      <th>0</th>\n",
       "      <td>68.0</td>\n",
       "      <td>0</td>\n",
       "      <td>0.541667</td>\n",
       "      <td>73.9</td>\n",
       "      <td>0.0</td>\n",
       "      <td>0.0</td>\n",
       "      <td>0.0</td>\n",
       "      <td>0.0</td>\n",
       "      <td>0</td>\n",
       "      <td>0</td>\n",
       "      <td>...</td>\n",
       "      <td>0</td>\n",
       "      <td>1</td>\n",
       "      <td>0</td>\n",
       "      <td>0</td>\n",
       "      <td>0</td>\n",
       "      <td>0</td>\n",
       "      <td>0</td>\n",
       "      <td>0</td>\n",
       "      <td>0</td>\n",
       "      <td>0</td>\n",
       "    </tr>\n",
       "    <tr>\n",
       "      <th>1</th>\n",
       "      <td>77.0</td>\n",
       "      <td>0</td>\n",
       "      <td>0.927778</td>\n",
       "      <td>70.2</td>\n",
       "      <td>0.0</td>\n",
       "      <td>1.0</td>\n",
       "      <td>0.0</td>\n",
       "      <td>0.0</td>\n",
       "      <td>0</td>\n",
       "      <td>0</td>\n",
       "      <td>...</td>\n",
       "      <td>0</td>\n",
       "      <td>0</td>\n",
       "      <td>0</td>\n",
       "      <td>0</td>\n",
       "      <td>0</td>\n",
       "      <td>0</td>\n",
       "      <td>0</td>\n",
       "      <td>1</td>\n",
       "      <td>0</td>\n",
       "      <td>0</td>\n",
       "    </tr>\n",
       "    <tr>\n",
       "      <th>2</th>\n",
       "      <td>25.0</td>\n",
       "      <td>0</td>\n",
       "      <td>0.000694</td>\n",
       "      <td>95.3</td>\n",
       "      <td>0.0</td>\n",
       "      <td>0.0</td>\n",
       "      <td>0.0</td>\n",
       "      <td>0.0</td>\n",
       "      <td>0</td>\n",
       "      <td>0</td>\n",
       "      <td>...</td>\n",
       "      <td>0</td>\n",
       "      <td>0</td>\n",
       "      <td>0</td>\n",
       "      <td>0</td>\n",
       "      <td>1</td>\n",
       "      <td>0</td>\n",
       "      <td>0</td>\n",
       "      <td>0</td>\n",
       "      <td>0</td>\n",
       "      <td>0</td>\n",
       "    </tr>\n",
       "    <tr>\n",
       "      <th>3</th>\n",
       "      <td>81.0</td>\n",
       "      <td>1</td>\n",
       "      <td>0.000694</td>\n",
       "      <td>61.7</td>\n",
       "      <td>1.0</td>\n",
       "      <td>1.0</td>\n",
       "      <td>0.0</td>\n",
       "      <td>0.0</td>\n",
       "      <td>0</td>\n",
       "      <td>0</td>\n",
       "      <td>...</td>\n",
       "      <td>0</td>\n",
       "      <td>1</td>\n",
       "      <td>0</td>\n",
       "      <td>0</td>\n",
       "      <td>0</td>\n",
       "      <td>0</td>\n",
       "      <td>0</td>\n",
       "      <td>0</td>\n",
       "      <td>0</td>\n",
       "      <td>0</td>\n",
       "    </tr>\n",
       "    <tr>\n",
       "      <th>5</th>\n",
       "      <td>67.0</td>\n",
       "      <td>0</td>\n",
       "      <td>0.000694</td>\n",
       "      <td>100.0</td>\n",
       "      <td>0.0</td>\n",
       "      <td>0.0</td>\n",
       "      <td>0.0</td>\n",
       "      <td>0.0</td>\n",
       "      <td>0</td>\n",
       "      <td>0</td>\n",
       "      <td>...</td>\n",
       "      <td>0</td>\n",
       "      <td>0</td>\n",
       "      <td>0</td>\n",
       "      <td>0</td>\n",
       "      <td>0</td>\n",
       "      <td>1</td>\n",
       "      <td>0</td>\n",
       "      <td>0</td>\n",
       "      <td>0</td>\n",
       "      <td>0</td>\n",
       "    </tr>\n",
       "  </tbody>\n",
       "</table>\n",
       "<p>5 rows × 40 columns</p>\n",
       "</div>\n",
       "      <button class=\"colab-df-convert\" onclick=\"convertToInteractive('df-043d195d-d3a0-41cd-b441-e64eb8080b4d')\"\n",
       "              title=\"Convert this dataframe to an interactive table.\"\n",
       "              style=\"display:none;\">\n",
       "        \n",
       "  <svg xmlns=\"http://www.w3.org/2000/svg\" height=\"24px\"viewBox=\"0 0 24 24\"\n",
       "       width=\"24px\">\n",
       "    <path d=\"M0 0h24v24H0V0z\" fill=\"none\"/>\n",
       "    <path d=\"M18.56 5.44l.94 2.06.94-2.06 2.06-.94-2.06-.94-.94-2.06-.94 2.06-2.06.94zm-11 1L8.5 8.5l.94-2.06 2.06-.94-2.06-.94L8.5 2.5l-.94 2.06-2.06.94zm10 10l.94 2.06.94-2.06 2.06-.94-2.06-.94-.94-2.06-.94 2.06-2.06.94z\"/><path d=\"M17.41 7.96l-1.37-1.37c-.4-.4-.92-.59-1.43-.59-.52 0-1.04.2-1.43.59L10.3 9.45l-7.72 7.72c-.78.78-.78 2.05 0 2.83L4 21.41c.39.39.9.59 1.41.59.51 0 1.02-.2 1.41-.59l7.78-7.78 2.81-2.81c.8-.78.8-2.07 0-2.86zM5.41 20L4 18.59l7.72-7.72 1.47 1.35L5.41 20z\"/>\n",
       "  </svg>\n",
       "      </button>\n",
       "      \n",
       "  <style>\n",
       "    .colab-df-container {\n",
       "      display:flex;\n",
       "      flex-wrap:wrap;\n",
       "      gap: 12px;\n",
       "    }\n",
       "\n",
       "    .colab-df-convert {\n",
       "      background-color: #E8F0FE;\n",
       "      border: none;\n",
       "      border-radius: 50%;\n",
       "      cursor: pointer;\n",
       "      display: none;\n",
       "      fill: #1967D2;\n",
       "      height: 32px;\n",
       "      padding: 0 0 0 0;\n",
       "      width: 32px;\n",
       "    }\n",
       "\n",
       "    .colab-df-convert:hover {\n",
       "      background-color: #E2EBFA;\n",
       "      box-shadow: 0px 1px 2px rgba(60, 64, 67, 0.3), 0px 1px 3px 1px rgba(60, 64, 67, 0.15);\n",
       "      fill: #174EA6;\n",
       "    }\n",
       "\n",
       "    [theme=dark] .colab-df-convert {\n",
       "      background-color: #3B4455;\n",
       "      fill: #D2E3FC;\n",
       "    }\n",
       "\n",
       "    [theme=dark] .colab-df-convert:hover {\n",
       "      background-color: #434B5C;\n",
       "      box-shadow: 0px 1px 3px 1px rgba(0, 0, 0, 0.15);\n",
       "      filter: drop-shadow(0px 1px 2px rgba(0, 0, 0, 0.3));\n",
       "      fill: #FFFFFF;\n",
       "    }\n",
       "  </style>\n",
       "\n",
       "      <script>\n",
       "        const buttonEl =\n",
       "          document.querySelector('#df-043d195d-d3a0-41cd-b441-e64eb8080b4d button.colab-df-convert');\n",
       "        buttonEl.style.display =\n",
       "          google.colab.kernel.accessAllowed ? 'block' : 'none';\n",
       "\n",
       "        async function convertToInteractive(key) {\n",
       "          const element = document.querySelector('#df-043d195d-d3a0-41cd-b441-e64eb8080b4d');\n",
       "          const dataTable =\n",
       "            await google.colab.kernel.invokeFunction('convertToInteractive',\n",
       "                                                     [key], {});\n",
       "          if (!dataTable) return;\n",
       "\n",
       "          const docLinkHtml = 'Like what you see? Visit the ' +\n",
       "            '<a target=\"_blank\" href=https://colab.research.google.com/notebooks/data_table.ipynb>data table notebook</a>'\n",
       "            + ' to learn more about interactive tables.';\n",
       "          element.innerHTML = '';\n",
       "          dataTable['output_type'] = 'display_data';\n",
       "          await google.colab.output.renderOutput(dataTable, element);\n",
       "          const docLink = document.createElement('div');\n",
       "          docLink.innerHTML = docLinkHtml;\n",
       "          element.appendChild(docLink);\n",
       "        }\n",
       "      </script>\n",
       "    </div>\n",
       "  </div>\n",
       "  "
      ],
      "text/plain": [
       "    age  elective_surgery  pre_icu_los_days  weight  intubated_apache  \\\n",
       "0  68.0                 0          0.541667    73.9               0.0   \n",
       "1  77.0                 0          0.927778    70.2               0.0   \n",
       "2  25.0                 0          0.000694    95.3               0.0   \n",
       "3  81.0                 1          0.000694    61.7               1.0   \n",
       "5  67.0                 0          0.000694   100.0               0.0   \n",
       "\n",
       "   ventilated_apache  solid_tumor_with_metastasis  immunosuppression  \\\n",
       "0                0.0                          0.0                0.0   \n",
       "1                1.0                          0.0                0.0   \n",
       "2                0.0                          0.0                0.0   \n",
       "3                1.0                          0.0                0.0   \n",
       "5                0.0                          0.0                0.0   \n",
       "\n",
       "   hospital_death  gcs_motor_apache_1.0  ...  apache_3j_bodysystem_Trauma  \\\n",
       "0               0                     0  ...                            0   \n",
       "1               0                     0  ...                            0   \n",
       "2               0                     0  ...                            0   \n",
       "3               0                     0  ...                            0   \n",
       "5               0                     0  ...                            0   \n",
       "\n",
       "   apache_2_bodysystem_Cardiovascular  apache_2_bodysystem_Gastrointestinal  \\\n",
       "0                                   1                                     0   \n",
       "1                                   0                                     0   \n",
       "2                                   0                                     0   \n",
       "3                                   1                                     0   \n",
       "5                                   0                                     0   \n",
       "\n",
       "   apache_2_bodysystem_Haematologic  apache_2_bodysystem_Metabolic  \\\n",
       "0                                 0                              0   \n",
       "1                                 0                              0   \n",
       "2                                 0                              1   \n",
       "3                                 0                              0   \n",
       "5                                 0                              0   \n",
       "\n",
       "   apache_2_bodysystem_Neurologic  apache_2_bodysystem_Renal/Genitourinary  \\\n",
       "0                               0                                        0   \n",
       "1                               0                                        0   \n",
       "2                               0                                        0   \n",
       "3                               0                                        0   \n",
       "5                               1                                        0   \n",
       "\n",
       "   apache_2_bodysystem_Respiratory  apache_2_bodysystem_Trauma  \\\n",
       "0                                0                           0   \n",
       "1                                1                           0   \n",
       "2                                0                           0   \n",
       "3                                0                           0   \n",
       "5                                0                           0   \n",
       "\n",
       "   apache_2_bodysystem_Undefined diagnoses  \n",
       "0                                        0  \n",
       "1                                        0  \n",
       "2                                        0  \n",
       "3                                        0  \n",
       "5                                        0  \n",
       "\n",
       "[5 rows x 40 columns]"
      ]
     },
     "execution_count": 54,
     "metadata": {},
     "output_type": "execute_result"
    },
    {
     "name": "stdout",
     "output_type": "stream",
     "text": [
      "time: 75.9 ms (started: 2022-12-04 01:46:37 +00:00)\n"
     ]
    }
   ],
   "source": [
    "#Convert categorical variable into dummy/indicator variables\n",
    "\n",
    "cat_cols=['gcs_motor_apache', 'gcs_verbal_apache',  'apache_3j_bodysystem', 'apache_2_bodysystem']\n",
    "\n",
    "\n",
    "# Create a copy of the data frame in memory with a different name\n",
    "df3=dfnc.copy()\n",
    "#convert only categorical variables/features to dummy/one-hot features\n",
    "df3 = pd.get_dummies(dfnc, columns=cat_cols, prefix = cat_cols)\n",
    "df3.head()"
   ]
  },
  {
   "cell_type": "code",
   "execution_count": 55,
   "metadata": {
    "colab": {
     "base_uri": "https://localhost:8080/"
    },
    "id": "iTGMryXBpTZa",
    "outputId": "9d9f74da-11e5-4634-c8f9-45c9b9b536df"
   },
   "outputs": [
    {
     "data": {
      "text/plain": [
       "((85367, 39), (85367,))"
      ]
     },
     "execution_count": 55,
     "metadata": {},
     "output_type": "execute_result"
    },
    {
     "name": "stdout",
     "output_type": "stream",
     "text": [
      "time: 19.8 ms (started: 2022-12-04 01:46:37 +00:00)\n"
     ]
    }
   ],
   "source": [
    "X=df3.drop('hospital_death', axis=1)\n",
    "y=df3['hospital_death']\n",
    "X.shape, y.shape\n"
   ]
  },
  {
   "cell_type": "code",
   "execution_count": 56,
   "metadata": {
    "colab": {
     "base_uri": "https://localhost:8080/",
     "height": 491
    },
    "id": "BhZZyD1jpu47",
    "outputId": "544b277c-0f7e-4896-f2b4-31fb90b0ef2b"
   },
   "outputs": [
    {
     "data": {
      "text/html": [
       "\n",
       "  <div id=\"df-38c818f9-b3c1-4883-bff0-b5478175a0e2\">\n",
       "    <div class=\"colab-df-container\">\n",
       "      <div>\n",
       "<style scoped>\n",
       "    .dataframe tbody tr th:only-of-type {\n",
       "        vertical-align: middle;\n",
       "    }\n",
       "\n",
       "    .dataframe tbody tr th {\n",
       "        vertical-align: top;\n",
       "    }\n",
       "\n",
       "    .dataframe thead th {\n",
       "        text-align: right;\n",
       "    }\n",
       "</style>\n",
       "<table border=\"1\" class=\"dataframe\">\n",
       "  <thead>\n",
       "    <tr style=\"text-align: right;\">\n",
       "      <th></th>\n",
       "      <th>age</th>\n",
       "      <th>elective_surgery</th>\n",
       "      <th>pre_icu_los_days</th>\n",
       "      <th>weight</th>\n",
       "      <th>intubated_apache</th>\n",
       "      <th>ventilated_apache</th>\n",
       "      <th>solid_tumor_with_metastasis</th>\n",
       "      <th>immunosuppression</th>\n",
       "      <th>gcs_motor_apache_1.0</th>\n",
       "      <th>gcs_motor_apache_2.0</th>\n",
       "      <th>...</th>\n",
       "      <th>apache_3j_bodysystem_Trauma</th>\n",
       "      <th>apache_2_bodysystem_Cardiovascular</th>\n",
       "      <th>apache_2_bodysystem_Gastrointestinal</th>\n",
       "      <th>apache_2_bodysystem_Haematologic</th>\n",
       "      <th>apache_2_bodysystem_Metabolic</th>\n",
       "      <th>apache_2_bodysystem_Neurologic</th>\n",
       "      <th>apache_2_bodysystem_Renal/Genitourinary</th>\n",
       "      <th>apache_2_bodysystem_Respiratory</th>\n",
       "      <th>apache_2_bodysystem_Trauma</th>\n",
       "      <th>apache_2_bodysystem_Undefined diagnoses</th>\n",
       "    </tr>\n",
       "  </thead>\n",
       "  <tbody>\n",
       "    <tr>\n",
       "      <th>0</th>\n",
       "      <td>0.343791</td>\n",
       "      <td>0</td>\n",
       "      <td>-0.123978</td>\n",
       "      <td>-0.403718</td>\n",
       "      <td>0.0</td>\n",
       "      <td>0.0</td>\n",
       "      <td>0.0</td>\n",
       "      <td>0.0</td>\n",
       "      <td>0</td>\n",
       "      <td>0</td>\n",
       "      <td>...</td>\n",
       "      <td>0</td>\n",
       "      <td>1</td>\n",
       "      <td>0</td>\n",
       "      <td>0</td>\n",
       "      <td>0</td>\n",
       "      <td>0</td>\n",
       "      <td>0</td>\n",
       "      <td>0</td>\n",
       "      <td>0</td>\n",
       "      <td>0</td>\n",
       "    </tr>\n",
       "    <tr>\n",
       "      <th>1</th>\n",
       "      <td>0.891206</td>\n",
       "      <td>0</td>\n",
       "      <td>0.037257</td>\n",
       "      <td>-0.551791</td>\n",
       "      <td>0.0</td>\n",
       "      <td>1.0</td>\n",
       "      <td>0.0</td>\n",
       "      <td>0.0</td>\n",
       "      <td>0</td>\n",
       "      <td>0</td>\n",
       "      <td>...</td>\n",
       "      <td>0</td>\n",
       "      <td>0</td>\n",
       "      <td>0</td>\n",
       "      <td>0</td>\n",
       "      <td>0</td>\n",
       "      <td>0</td>\n",
       "      <td>0</td>\n",
       "      <td>1</td>\n",
       "      <td>0</td>\n",
       "      <td>0</td>\n",
       "    </tr>\n",
       "    <tr>\n",
       "      <th>2</th>\n",
       "      <td>-2.271635</td>\n",
       "      <td>0</td>\n",
       "      <td>-0.349882</td>\n",
       "      <td>0.452704</td>\n",
       "      <td>0.0</td>\n",
       "      <td>0.0</td>\n",
       "      <td>0.0</td>\n",
       "      <td>0.0</td>\n",
       "      <td>0</td>\n",
       "      <td>0</td>\n",
       "      <td>...</td>\n",
       "      <td>0</td>\n",
       "      <td>0</td>\n",
       "      <td>0</td>\n",
       "      <td>0</td>\n",
       "      <td>1</td>\n",
       "      <td>0</td>\n",
       "      <td>0</td>\n",
       "      <td>0</td>\n",
       "      <td>0</td>\n",
       "      <td>0</td>\n",
       "    </tr>\n",
       "    <tr>\n",
       "      <th>3</th>\n",
       "      <td>1.134501</td>\n",
       "      <td>1</td>\n",
       "      <td>-0.349882</td>\n",
       "      <td>-0.891959</td>\n",
       "      <td>1.0</td>\n",
       "      <td>1.0</td>\n",
       "      <td>0.0</td>\n",
       "      <td>0.0</td>\n",
       "      <td>0</td>\n",
       "      <td>0</td>\n",
       "      <td>...</td>\n",
       "      <td>0</td>\n",
       "      <td>1</td>\n",
       "      <td>0</td>\n",
       "      <td>0</td>\n",
       "      <td>0</td>\n",
       "      <td>0</td>\n",
       "      <td>0</td>\n",
       "      <td>0</td>\n",
       "      <td>0</td>\n",
       "      <td>0</td>\n",
       "    </tr>\n",
       "    <tr>\n",
       "      <th>5</th>\n",
       "      <td>0.282967</td>\n",
       "      <td>0</td>\n",
       "      <td>-0.349882</td>\n",
       "      <td>0.640797</td>\n",
       "      <td>0.0</td>\n",
       "      <td>0.0</td>\n",
       "      <td>0.0</td>\n",
       "      <td>0.0</td>\n",
       "      <td>0</td>\n",
       "      <td>0</td>\n",
       "      <td>...</td>\n",
       "      <td>0</td>\n",
       "      <td>0</td>\n",
       "      <td>0</td>\n",
       "      <td>0</td>\n",
       "      <td>0</td>\n",
       "      <td>1</td>\n",
       "      <td>0</td>\n",
       "      <td>0</td>\n",
       "      <td>0</td>\n",
       "      <td>0</td>\n",
       "    </tr>\n",
       "    <tr>\n",
       "      <th>6</th>\n",
       "      <td>-0.203624</td>\n",
       "      <td>0</td>\n",
       "      <td>-0.349882</td>\n",
       "      <td>2.905913</td>\n",
       "      <td>1.0</td>\n",
       "      <td>1.0</td>\n",
       "      <td>0.0</td>\n",
       "      <td>0.0</td>\n",
       "      <td>0</td>\n",
       "      <td>0</td>\n",
       "      <td>...</td>\n",
       "      <td>0</td>\n",
       "      <td>0</td>\n",
       "      <td>0</td>\n",
       "      <td>0</td>\n",
       "      <td>0</td>\n",
       "      <td>0</td>\n",
       "      <td>0</td>\n",
       "      <td>1</td>\n",
       "      <td>0</td>\n",
       "      <td>0</td>\n",
       "    </tr>\n",
       "    <tr>\n",
       "      <th>9</th>\n",
       "      <td>-0.751038</td>\n",
       "      <td>0</td>\n",
       "      <td>-0.324943</td>\n",
       "      <td>-0.199617</td>\n",
       "      <td>0.0</td>\n",
       "      <td>0.0</td>\n",
       "      <td>0.0</td>\n",
       "      <td>0.0</td>\n",
       "      <td>0</td>\n",
       "      <td>0</td>\n",
       "      <td>...</td>\n",
       "      <td>0</td>\n",
       "      <td>1</td>\n",
       "      <td>0</td>\n",
       "      <td>0</td>\n",
       "      <td>0</td>\n",
       "      <td>0</td>\n",
       "      <td>0</td>\n",
       "      <td>0</td>\n",
       "      <td>0</td>\n",
       "      <td>0</td>\n",
       "    </tr>\n",
       "    <tr>\n",
       "      <th>10</th>\n",
       "      <td>0.587086</td>\n",
       "      <td>1</td>\n",
       "      <td>-0.348142</td>\n",
       "      <td>-0.647838</td>\n",
       "      <td>0.0</td>\n",
       "      <td>0.0</td>\n",
       "      <td>0.0</td>\n",
       "      <td>1.0</td>\n",
       "      <td>0</td>\n",
       "      <td>0</td>\n",
       "      <td>...</td>\n",
       "      <td>0</td>\n",
       "      <td>0</td>\n",
       "      <td>0</td>\n",
       "      <td>0</td>\n",
       "      <td>0</td>\n",
       "      <td>0</td>\n",
       "      <td>0</td>\n",
       "      <td>1</td>\n",
       "      <td>0</td>\n",
       "      <td>0</td>\n",
       "    </tr>\n",
       "    <tr>\n",
       "      <th>11</th>\n",
       "      <td>1.073677</td>\n",
       "      <td>1</td>\n",
       "      <td>0.180803</td>\n",
       "      <td>-0.555793</td>\n",
       "      <td>0.0</td>\n",
       "      <td>0.0</td>\n",
       "      <td>0.0</td>\n",
       "      <td>0.0</td>\n",
       "      <td>0</td>\n",
       "      <td>0</td>\n",
       "      <td>...</td>\n",
       "      <td>0</td>\n",
       "      <td>0</td>\n",
       "      <td>0</td>\n",
       "      <td>0</td>\n",
       "      <td>0</td>\n",
       "      <td>1</td>\n",
       "      <td>0</td>\n",
       "      <td>0</td>\n",
       "      <td>0</td>\n",
       "      <td>0</td>\n",
       "    </tr>\n",
       "    <tr>\n",
       "      <th>14</th>\n",
       "      <td>1.134501</td>\n",
       "      <td>1</td>\n",
       "      <td>0.224592</td>\n",
       "      <td>1.197071</td>\n",
       "      <td>0.0</td>\n",
       "      <td>0.0</td>\n",
       "      <td>0.0</td>\n",
       "      <td>0.0</td>\n",
       "      <td>0</td>\n",
       "      <td>0</td>\n",
       "      <td>...</td>\n",
       "      <td>0</td>\n",
       "      <td>0</td>\n",
       "      <td>0</td>\n",
       "      <td>0</td>\n",
       "      <td>0</td>\n",
       "      <td>0</td>\n",
       "      <td>0</td>\n",
       "      <td>1</td>\n",
       "      <td>0</td>\n",
       "      <td>0</td>\n",
       "    </tr>\n",
       "  </tbody>\n",
       "</table>\n",
       "<p>10 rows × 39 columns</p>\n",
       "</div>\n",
       "      <button class=\"colab-df-convert\" onclick=\"convertToInteractive('df-38c818f9-b3c1-4883-bff0-b5478175a0e2')\"\n",
       "              title=\"Convert this dataframe to an interactive table.\"\n",
       "              style=\"display:none;\">\n",
       "        \n",
       "  <svg xmlns=\"http://www.w3.org/2000/svg\" height=\"24px\"viewBox=\"0 0 24 24\"\n",
       "       width=\"24px\">\n",
       "    <path d=\"M0 0h24v24H0V0z\" fill=\"none\"/>\n",
       "    <path d=\"M18.56 5.44l.94 2.06.94-2.06 2.06-.94-2.06-.94-.94-2.06-.94 2.06-2.06.94zm-11 1L8.5 8.5l.94-2.06 2.06-.94-2.06-.94L8.5 2.5l-.94 2.06-2.06.94zm10 10l.94 2.06.94-2.06 2.06-.94-2.06-.94-.94-2.06-.94 2.06-2.06.94z\"/><path d=\"M17.41 7.96l-1.37-1.37c-.4-.4-.92-.59-1.43-.59-.52 0-1.04.2-1.43.59L10.3 9.45l-7.72 7.72c-.78.78-.78 2.05 0 2.83L4 21.41c.39.39.9.59 1.41.59.51 0 1.02-.2 1.41-.59l7.78-7.78 2.81-2.81c.8-.78.8-2.07 0-2.86zM5.41 20L4 18.59l7.72-7.72 1.47 1.35L5.41 20z\"/>\n",
       "  </svg>\n",
       "      </button>\n",
       "      \n",
       "  <style>\n",
       "    .colab-df-container {\n",
       "      display:flex;\n",
       "      flex-wrap:wrap;\n",
       "      gap: 12px;\n",
       "    }\n",
       "\n",
       "    .colab-df-convert {\n",
       "      background-color: #E8F0FE;\n",
       "      border: none;\n",
       "      border-radius: 50%;\n",
       "      cursor: pointer;\n",
       "      display: none;\n",
       "      fill: #1967D2;\n",
       "      height: 32px;\n",
       "      padding: 0 0 0 0;\n",
       "      width: 32px;\n",
       "    }\n",
       "\n",
       "    .colab-df-convert:hover {\n",
       "      background-color: #E2EBFA;\n",
       "      box-shadow: 0px 1px 2px rgba(60, 64, 67, 0.3), 0px 1px 3px 1px rgba(60, 64, 67, 0.15);\n",
       "      fill: #174EA6;\n",
       "    }\n",
       "\n",
       "    [theme=dark] .colab-df-convert {\n",
       "      background-color: #3B4455;\n",
       "      fill: #D2E3FC;\n",
       "    }\n",
       "\n",
       "    [theme=dark] .colab-df-convert:hover {\n",
       "      background-color: #434B5C;\n",
       "      box-shadow: 0px 1px 3px 1px rgba(0, 0, 0, 0.15);\n",
       "      filter: drop-shadow(0px 1px 2px rgba(0, 0, 0, 0.3));\n",
       "      fill: #FFFFFF;\n",
       "    }\n",
       "  </style>\n",
       "\n",
       "      <script>\n",
       "        const buttonEl =\n",
       "          document.querySelector('#df-38c818f9-b3c1-4883-bff0-b5478175a0e2 button.colab-df-convert');\n",
       "        buttonEl.style.display =\n",
       "          google.colab.kernel.accessAllowed ? 'block' : 'none';\n",
       "\n",
       "        async function convertToInteractive(key) {\n",
       "          const element = document.querySelector('#df-38c818f9-b3c1-4883-bff0-b5478175a0e2');\n",
       "          const dataTable =\n",
       "            await google.colab.kernel.invokeFunction('convertToInteractive',\n",
       "                                                     [key], {});\n",
       "          if (!dataTable) return;\n",
       "\n",
       "          const docLinkHtml = 'Like what you see? Visit the ' +\n",
       "            '<a target=\"_blank\" href=https://colab.research.google.com/notebooks/data_table.ipynb>data table notebook</a>'\n",
       "            + ' to learn more about interactive tables.';\n",
       "          element.innerHTML = '';\n",
       "          dataTable['output_type'] = 'display_data';\n",
       "          await google.colab.output.renderOutput(dataTable, element);\n",
       "          const docLink = document.createElement('div');\n",
       "          docLink.innerHTML = docLinkHtml;\n",
       "          element.appendChild(docLink);\n",
       "        }\n",
       "      </script>\n",
       "    </div>\n",
       "  </div>\n",
       "  "
      ],
      "text/plain": [
       "         age  elective_surgery  pre_icu_los_days    weight  intubated_apache  \\\n",
       "0   0.343791                 0         -0.123978 -0.403718               0.0   \n",
       "1   0.891206                 0          0.037257 -0.551791               0.0   \n",
       "2  -2.271635                 0         -0.349882  0.452704               0.0   \n",
       "3   1.134501                 1         -0.349882 -0.891959               1.0   \n",
       "5   0.282967                 0         -0.349882  0.640797               0.0   \n",
       "6  -0.203624                 0         -0.349882  2.905913               1.0   \n",
       "9  -0.751038                 0         -0.324943 -0.199617               0.0   \n",
       "10  0.587086                 1         -0.348142 -0.647838               0.0   \n",
       "11  1.073677                 1          0.180803 -0.555793               0.0   \n",
       "14  1.134501                 1          0.224592  1.197071               0.0   \n",
       "\n",
       "    ventilated_apache  solid_tumor_with_metastasis  immunosuppression  \\\n",
       "0                 0.0                          0.0                0.0   \n",
       "1                 1.0                          0.0                0.0   \n",
       "2                 0.0                          0.0                0.0   \n",
       "3                 1.0                          0.0                0.0   \n",
       "5                 0.0                          0.0                0.0   \n",
       "6                 1.0                          0.0                0.0   \n",
       "9                 0.0                          0.0                0.0   \n",
       "10                0.0                          0.0                1.0   \n",
       "11                0.0                          0.0                0.0   \n",
       "14                0.0                          0.0                0.0   \n",
       "\n",
       "    gcs_motor_apache_1.0  gcs_motor_apache_2.0  ...  \\\n",
       "0                      0                     0  ...   \n",
       "1                      0                     0  ...   \n",
       "2                      0                     0  ...   \n",
       "3                      0                     0  ...   \n",
       "5                      0                     0  ...   \n",
       "6                      0                     0  ...   \n",
       "9                      0                     0  ...   \n",
       "10                     0                     0  ...   \n",
       "11                     0                     0  ...   \n",
       "14                     0                     0  ...   \n",
       "\n",
       "    apache_3j_bodysystem_Trauma  apache_2_bodysystem_Cardiovascular  \\\n",
       "0                             0                                   1   \n",
       "1                             0                                   0   \n",
       "2                             0                                   0   \n",
       "3                             0                                   1   \n",
       "5                             0                                   0   \n",
       "6                             0                                   0   \n",
       "9                             0                                   1   \n",
       "10                            0                                   0   \n",
       "11                            0                                   0   \n",
       "14                            0                                   0   \n",
       "\n",
       "    apache_2_bodysystem_Gastrointestinal  apache_2_bodysystem_Haematologic  \\\n",
       "0                                      0                                 0   \n",
       "1                                      0                                 0   \n",
       "2                                      0                                 0   \n",
       "3                                      0                                 0   \n",
       "5                                      0                                 0   \n",
       "6                                      0                                 0   \n",
       "9                                      0                                 0   \n",
       "10                                     0                                 0   \n",
       "11                                     0                                 0   \n",
       "14                                     0                                 0   \n",
       "\n",
       "    apache_2_bodysystem_Metabolic  apache_2_bodysystem_Neurologic  \\\n",
       "0                               0                               0   \n",
       "1                               0                               0   \n",
       "2                               1                               0   \n",
       "3                               0                               0   \n",
       "5                               0                               1   \n",
       "6                               0                               0   \n",
       "9                               0                               0   \n",
       "10                              0                               0   \n",
       "11                              0                               1   \n",
       "14                              0                               0   \n",
       "\n",
       "    apache_2_bodysystem_Renal/Genitourinary  apache_2_bodysystem_Respiratory  \\\n",
       "0                                         0                                0   \n",
       "1                                         0                                1   \n",
       "2                                         0                                0   \n",
       "3                                         0                                0   \n",
       "5                                         0                                0   \n",
       "6                                         0                                1   \n",
       "9                                         0                                0   \n",
       "10                                        0                                1   \n",
       "11                                        0                                0   \n",
       "14                                        0                                1   \n",
       "\n",
       "    apache_2_bodysystem_Trauma  apache_2_bodysystem_Undefined diagnoses  \n",
       "0                            0                                        0  \n",
       "1                            0                                        0  \n",
       "2                            0                                        0  \n",
       "3                            0                                        0  \n",
       "5                            0                                        0  \n",
       "6                            0                                        0  \n",
       "9                            0                                        0  \n",
       "10                           0                                        0  \n",
       "11                           0                                        0  \n",
       "14                           0                                        0  \n",
       "\n",
       "[10 rows x 39 columns]"
      ]
     },
     "execution_count": 56,
     "metadata": {},
     "output_type": "execute_result"
    },
    {
     "name": "stdout",
     "output_type": "stream",
     "text": [
      "time: 44.6 ms (started: 2022-12-04 01:46:38 +00:00)\n"
     ]
    }
   ],
   "source": [
    "#Scale the numeric features\n",
    "\n",
    "con_vars=['age','pre_icu_los_days','weight']\n",
    "object= StandardScaler()\n",
    "X[con_vars] = object.fit_transform(X[con_vars])\n",
    "X.head(10)"
   ]
  },
  {
   "cell_type": "code",
   "execution_count": 57,
   "metadata": {
    "colab": {
     "base_uri": "https://localhost:8080/"
    },
    "id": "FyyjEQyqtncJ",
    "outputId": "267c84e5-dc31-42fd-f6f0-d5013379be49"
   },
   "outputs": [
    {
     "data": {
      "text/plain": [
       "0    78169\n",
       "1     7198\n",
       "Name: hospital_death, dtype: int64"
      ]
     },
     "execution_count": 57,
     "metadata": {},
     "output_type": "execute_result"
    },
    {
     "name": "stdout",
     "output_type": "stream",
     "text": [
      "time: 8.55 ms (started: 2022-12-04 01:46:38 +00:00)\n"
     ]
    }
   ],
   "source": [
    "# Revisit class imbalance\n",
    "\n",
    "df3['hospital_death'].value_counts()"
   ]
  },
  {
   "cell_type": "code",
   "execution_count": 58,
   "metadata": {
    "colab": {
     "base_uri": "https://localhost:8080/",
     "height": 52
    },
    "id": "CJYKaiilYmBk",
    "outputId": "dbe65336-c6c4-4dc2-839a-6cef1e13fb1a"
   },
   "outputs": [
    {
     "data": {
      "application/vnd.google.colaboratory.intrinsic+json": {
       "type": "string"
      },
      "text/plain": [
       "'\\n# Apply SMOTE (Synthetic Minority Oversampling Technique)\\n# Borderline SMOTE uses a Support Vector Machine model (SVM) to calculate the \\n# decision boundary, compared to the K nearest neighbours (KNN) model used in regular SMOTE.\\n\\noversampled = BorderlineSMOTE(random_state=0)\\nX_train_smote, y_train_smote = oversampled.fit_resample(X, y)\\n'"
      ]
     },
     "execution_count": 58,
     "metadata": {},
     "output_type": "execute_result"
    },
    {
     "name": "stdout",
     "output_type": "stream",
     "text": [
      "time: 4.13 ms (started: 2022-12-04 01:46:38 +00:00)\n"
     ]
    }
   ],
   "source": [
    "'''\n",
    "# Apply SMOTE (Synthetic Minority Oversampling Technique)\n",
    "# Borderline SMOTE uses a Support Vector Machine model (SVM) to calculate the \n",
    "# decision boundary, compared to the K nearest neighbours (KNN) model used in regular SMOTE.\n",
    "\n",
    "oversampled = BorderlineSMOTE(random_state=0)\n",
    "X_train_smote, y_train_smote = oversampled.fit_resample(X, y)\n",
    "'''"
   ]
  },
  {
   "cell_type": "code",
   "execution_count": 59,
   "metadata": {
    "colab": {
     "base_uri": "https://localhost:8080/"
    },
    "id": "daZa7PK2YhWv",
    "outputId": "9baf9d76-f62a-4537-d20f-7f12b841f3e2"
   },
   "outputs": [
    {
     "name": "stdout",
     "output_type": "stream",
     "text": [
      "time: 311 µs (started: 2022-12-04 01:46:38 +00:00)\n"
     ]
    }
   ],
   "source": [
    "#y_train_smote.value_counts()"
   ]
  },
  {
   "cell_type": "code",
   "execution_count": 60,
   "metadata": {
    "colab": {
     "base_uri": "https://localhost:8080/",
     "height": 35
    },
    "id": "R_W-0nQqZdIp",
    "outputId": "514d5ac4-48a4-4aa4-bb91-9a37a72dbd6f"
   },
   "outputs": [
    {
     "data": {
      "application/vnd.google.colaboratory.intrinsic+json": {
       "type": "string"
      },
      "text/plain": [
       "'\\nX=X_train_smote\\ny=y_train_smote\\n'"
      ]
     },
     "execution_count": 60,
     "metadata": {},
     "output_type": "execute_result"
    },
    {
     "name": "stdout",
     "output_type": "stream",
     "text": [
      "time: 6.31 ms (started: 2022-12-04 01:46:38 +00:00)\n"
     ]
    }
   ],
   "source": [
    "'''\n",
    "X=X_train_smote\n",
    "y=y_train_smote\n",
    "'''"
   ]
  },
  {
   "cell_type": "code",
   "execution_count": 61,
   "metadata": {
    "colab": {
     "base_uri": "https://localhost:8080/"
    },
    "id": "FF0uL9Y1qD5-",
    "outputId": "c621d2f7-2df5-4d7c-caee-0cf1e3bf9095"
   },
   "outputs": [
    {
     "name": "stdout",
     "output_type": "stream",
     "text": [
      "Num Features Before: 39\n",
      "Num Features After: 22\n",
      "time: 1h 10min 42s (started: 2022-12-04 01:46:38 +00:00)\n"
     ]
    }
   ],
   "source": [
    "# RFECV Cheat - create dataframe from identified columns without having to rerun RFECV every time.\n",
    "\n",
    "# Feature selection using Recursive Feature Elimination with Cross Validation and Random Forest estimator  \n",
    "# create a random forest model\n",
    "rf = RandomForestClassifier(random_state=42)\n",
    "\n",
    "# Recursively eliminate features with cross validation\n",
    "rfecv = RFECV(estimator=rf, cv=10, scoring='roc_auc')\n",
    "rfecv.fit(X, y)\n",
    "X_new = rfecv.transform(X)\n",
    "print(\"Num Features Before:\", X.shape[1])\n",
    "print(\"Num Features After:\", X_new.shape[1])\n"
   ]
  },
  {
   "cell_type": "code",
   "execution_count": 71,
   "metadata": {
    "colab": {
     "base_uri": "https://localhost:8080/",
     "height": 1000
    },
    "id": "JH1KO9bVo9pP",
    "outputId": "f0c7de0e-dbab-4fc3-d550-2cea13350306"
   },
   "outputs": [
    {
     "data": {
      "text/html": [
       "\n",
       "  <div id=\"df-1f813b8d-710e-4c4d-837a-a219d87f1c36\">\n",
       "    <div class=\"colab-df-container\">\n",
       "      <div>\n",
       "<style scoped>\n",
       "    .dataframe tbody tr th:only-of-type {\n",
       "        vertical-align: middle;\n",
       "    }\n",
       "\n",
       "    .dataframe tbody tr th {\n",
       "        vertical-align: top;\n",
       "    }\n",
       "\n",
       "    .dataframe thead th {\n",
       "        text-align: right;\n",
       "    }\n",
       "</style>\n",
       "<table border=\"1\" class=\"dataframe\">\n",
       "  <thead>\n",
       "    <tr style=\"text-align: right;\">\n",
       "      <th></th>\n",
       "      <th>columns</th>\n",
       "      <th>Kept</th>\n",
       "    </tr>\n",
       "  </thead>\n",
       "  <tbody>\n",
       "    <tr>\n",
       "      <th>0</th>\n",
       "      <td>age</td>\n",
       "      <td>True</td>\n",
       "    </tr>\n",
       "    <tr>\n",
       "      <th>1</th>\n",
       "      <td>elective_surgery</td>\n",
       "      <td>True</td>\n",
       "    </tr>\n",
       "    <tr>\n",
       "      <th>2</th>\n",
       "      <td>pre_icu_los_days</td>\n",
       "      <td>True</td>\n",
       "    </tr>\n",
       "    <tr>\n",
       "      <th>3</th>\n",
       "      <td>weight</td>\n",
       "      <td>True</td>\n",
       "    </tr>\n",
       "    <tr>\n",
       "      <th>4</th>\n",
       "      <td>intubated_apache</td>\n",
       "      <td>True</td>\n",
       "    </tr>\n",
       "    <tr>\n",
       "      <th>5</th>\n",
       "      <td>ventilated_apache</td>\n",
       "      <td>True</td>\n",
       "    </tr>\n",
       "    <tr>\n",
       "      <th>6</th>\n",
       "      <td>solid_tumor_with_metastasis</td>\n",
       "      <td>True</td>\n",
       "    </tr>\n",
       "    <tr>\n",
       "      <th>7</th>\n",
       "      <td>immunosuppression</td>\n",
       "      <td>True</td>\n",
       "    </tr>\n",
       "    <tr>\n",
       "      <th>8</th>\n",
       "      <td>gcs_motor_apache_1.0</td>\n",
       "      <td>True</td>\n",
       "    </tr>\n",
       "    <tr>\n",
       "      <th>9</th>\n",
       "      <td>gcs_motor_apache_2.0</td>\n",
       "      <td>False</td>\n",
       "    </tr>\n",
       "    <tr>\n",
       "      <th>10</th>\n",
       "      <td>gcs_motor_apache_3.0</td>\n",
       "      <td>False</td>\n",
       "    </tr>\n",
       "    <tr>\n",
       "      <th>11</th>\n",
       "      <td>gcs_motor_apache_4.0</td>\n",
       "      <td>True</td>\n",
       "    </tr>\n",
       "    <tr>\n",
       "      <th>12</th>\n",
       "      <td>gcs_motor_apache_5.0</td>\n",
       "      <td>True</td>\n",
       "    </tr>\n",
       "    <tr>\n",
       "      <th>13</th>\n",
       "      <td>gcs_motor_apache_6.0</td>\n",
       "      <td>True</td>\n",
       "    </tr>\n",
       "    <tr>\n",
       "      <th>14</th>\n",
       "      <td>gcs_verbal_apache_1.0</td>\n",
       "      <td>True</td>\n",
       "    </tr>\n",
       "    <tr>\n",
       "      <th>15</th>\n",
       "      <td>gcs_verbal_apache_2.0</td>\n",
       "      <td>False</td>\n",
       "    </tr>\n",
       "    <tr>\n",
       "      <th>16</th>\n",
       "      <td>gcs_verbal_apache_3.0</td>\n",
       "      <td>False</td>\n",
       "    </tr>\n",
       "    <tr>\n",
       "      <th>17</th>\n",
       "      <td>gcs_verbal_apache_4.0</td>\n",
       "      <td>True</td>\n",
       "    </tr>\n",
       "    <tr>\n",
       "      <th>18</th>\n",
       "      <td>gcs_verbal_apache_5.0</td>\n",
       "      <td>True</td>\n",
       "    </tr>\n",
       "    <tr>\n",
       "      <th>19</th>\n",
       "      <td>apache_3j_bodysystem_Cardiovascular</td>\n",
       "      <td>True</td>\n",
       "    </tr>\n",
       "    <tr>\n",
       "      <th>20</th>\n",
       "      <td>apache_3j_bodysystem_Gastrointestinal</td>\n",
       "      <td>True</td>\n",
       "    </tr>\n",
       "    <tr>\n",
       "      <th>21</th>\n",
       "      <td>apache_3j_bodysystem_Genitourinary</td>\n",
       "      <td>False</td>\n",
       "    </tr>\n",
       "    <tr>\n",
       "      <th>22</th>\n",
       "      <td>apache_3j_bodysystem_Gynecological</td>\n",
       "      <td>False</td>\n",
       "    </tr>\n",
       "    <tr>\n",
       "      <th>23</th>\n",
       "      <td>apache_3j_bodysystem_Hematological</td>\n",
       "      <td>False</td>\n",
       "    </tr>\n",
       "    <tr>\n",
       "      <th>24</th>\n",
       "      <td>apache_3j_bodysystem_Metabolic</td>\n",
       "      <td>True</td>\n",
       "    </tr>\n",
       "    <tr>\n",
       "      <th>25</th>\n",
       "      <td>apache_3j_bodysystem_Musculoskeletal/Skin</td>\n",
       "      <td>False</td>\n",
       "    </tr>\n",
       "    <tr>\n",
       "      <th>26</th>\n",
       "      <td>apache_3j_bodysystem_Neurological</td>\n",
       "      <td>False</td>\n",
       "    </tr>\n",
       "    <tr>\n",
       "      <th>27</th>\n",
       "      <td>apache_3j_bodysystem_Respiratory</td>\n",
       "      <td>False</td>\n",
       "    </tr>\n",
       "    <tr>\n",
       "      <th>28</th>\n",
       "      <td>apache_3j_bodysystem_Sepsis</td>\n",
       "      <td>True</td>\n",
       "    </tr>\n",
       "    <tr>\n",
       "      <th>29</th>\n",
       "      <td>apache_3j_bodysystem_Trauma</td>\n",
       "      <td>False</td>\n",
       "    </tr>\n",
       "    <tr>\n",
       "      <th>30</th>\n",
       "      <td>apache_2_bodysystem_Cardiovascular</td>\n",
       "      <td>True</td>\n",
       "    </tr>\n",
       "    <tr>\n",
       "      <th>31</th>\n",
       "      <td>apache_2_bodysystem_Gastrointestinal</td>\n",
       "      <td>False</td>\n",
       "    </tr>\n",
       "    <tr>\n",
       "      <th>32</th>\n",
       "      <td>apache_2_bodysystem_Haematologic</td>\n",
       "      <td>False</td>\n",
       "    </tr>\n",
       "    <tr>\n",
       "      <th>33</th>\n",
       "      <td>apache_2_bodysystem_Metabolic</td>\n",
       "      <td>False</td>\n",
       "    </tr>\n",
       "    <tr>\n",
       "      <th>34</th>\n",
       "      <td>apache_2_bodysystem_Neurologic</td>\n",
       "      <td>True</td>\n",
       "    </tr>\n",
       "    <tr>\n",
       "      <th>35</th>\n",
       "      <td>apache_2_bodysystem_Renal/Genitourinary</td>\n",
       "      <td>False</td>\n",
       "    </tr>\n",
       "    <tr>\n",
       "      <th>36</th>\n",
       "      <td>apache_2_bodysystem_Respiratory</td>\n",
       "      <td>True</td>\n",
       "    </tr>\n",
       "    <tr>\n",
       "      <th>37</th>\n",
       "      <td>apache_2_bodysystem_Trauma</td>\n",
       "      <td>False</td>\n",
       "    </tr>\n",
       "    <tr>\n",
       "      <th>38</th>\n",
       "      <td>apache_2_bodysystem_Undefined diagnoses</td>\n",
       "      <td>False</td>\n",
       "    </tr>\n",
       "  </tbody>\n",
       "</table>\n",
       "</div>\n",
       "      <button class=\"colab-df-convert\" onclick=\"convertToInteractive('df-1f813b8d-710e-4c4d-837a-a219d87f1c36')\"\n",
       "              title=\"Convert this dataframe to an interactive table.\"\n",
       "              style=\"display:none;\">\n",
       "        \n",
       "  <svg xmlns=\"http://www.w3.org/2000/svg\" height=\"24px\"viewBox=\"0 0 24 24\"\n",
       "       width=\"24px\">\n",
       "    <path d=\"M0 0h24v24H0V0z\" fill=\"none\"/>\n",
       "    <path d=\"M18.56 5.44l.94 2.06.94-2.06 2.06-.94-2.06-.94-.94-2.06-.94 2.06-2.06.94zm-11 1L8.5 8.5l.94-2.06 2.06-.94-2.06-.94L8.5 2.5l-.94 2.06-2.06.94zm10 10l.94 2.06.94-2.06 2.06-.94-2.06-.94-.94-2.06-.94 2.06-2.06.94z\"/><path d=\"M17.41 7.96l-1.37-1.37c-.4-.4-.92-.59-1.43-.59-.52 0-1.04.2-1.43.59L10.3 9.45l-7.72 7.72c-.78.78-.78 2.05 0 2.83L4 21.41c.39.39.9.59 1.41.59.51 0 1.02-.2 1.41-.59l7.78-7.78 2.81-2.81c.8-.78.8-2.07 0-2.86zM5.41 20L4 18.59l7.72-7.72 1.47 1.35L5.41 20z\"/>\n",
       "  </svg>\n",
       "      </button>\n",
       "      \n",
       "  <style>\n",
       "    .colab-df-container {\n",
       "      display:flex;\n",
       "      flex-wrap:wrap;\n",
       "      gap: 12px;\n",
       "    }\n",
       "\n",
       "    .colab-df-convert {\n",
       "      background-color: #E8F0FE;\n",
       "      border: none;\n",
       "      border-radius: 50%;\n",
       "      cursor: pointer;\n",
       "      display: none;\n",
       "      fill: #1967D2;\n",
       "      height: 32px;\n",
       "      padding: 0 0 0 0;\n",
       "      width: 32px;\n",
       "    }\n",
       "\n",
       "    .colab-df-convert:hover {\n",
       "      background-color: #E2EBFA;\n",
       "      box-shadow: 0px 1px 2px rgba(60, 64, 67, 0.3), 0px 1px 3px 1px rgba(60, 64, 67, 0.15);\n",
       "      fill: #174EA6;\n",
       "    }\n",
       "\n",
       "    [theme=dark] .colab-df-convert {\n",
       "      background-color: #3B4455;\n",
       "      fill: #D2E3FC;\n",
       "    }\n",
       "\n",
       "    [theme=dark] .colab-df-convert:hover {\n",
       "      background-color: #434B5C;\n",
       "      box-shadow: 0px 1px 3px 1px rgba(0, 0, 0, 0.15);\n",
       "      filter: drop-shadow(0px 1px 2px rgba(0, 0, 0, 0.3));\n",
       "      fill: #FFFFFF;\n",
       "    }\n",
       "  </style>\n",
       "\n",
       "      <script>\n",
       "        const buttonEl =\n",
       "          document.querySelector('#df-1f813b8d-710e-4c4d-837a-a219d87f1c36 button.colab-df-convert');\n",
       "        buttonEl.style.display =\n",
       "          google.colab.kernel.accessAllowed ? 'block' : 'none';\n",
       "\n",
       "        async function convertToInteractive(key) {\n",
       "          const element = document.querySelector('#df-1f813b8d-710e-4c4d-837a-a219d87f1c36');\n",
       "          const dataTable =\n",
       "            await google.colab.kernel.invokeFunction('convertToInteractive',\n",
       "                                                     [key], {});\n",
       "          if (!dataTable) return;\n",
       "\n",
       "          const docLinkHtml = 'Like what you see? Visit the ' +\n",
       "            '<a target=\"_blank\" href=https://colab.research.google.com/notebooks/data_table.ipynb>data table notebook</a>'\n",
       "            + ' to learn more about interactive tables.';\n",
       "          element.innerHTML = '';\n",
       "          dataTable['output_type'] = 'display_data';\n",
       "          await google.colab.output.renderOutput(dataTable, element);\n",
       "          const docLink = document.createElement('div');\n",
       "          docLink.innerHTML = docLinkHtml;\n",
       "          element.appendChild(docLink);\n",
       "        }\n",
       "      </script>\n",
       "    </div>\n",
       "  </div>\n",
       "  "
      ],
      "text/plain": [
       "                                      columns   Kept\n",
       "0                                         age   True\n",
       "1                            elective_surgery   True\n",
       "2                            pre_icu_los_days   True\n",
       "3                                      weight   True\n",
       "4                            intubated_apache   True\n",
       "5                           ventilated_apache   True\n",
       "6                 solid_tumor_with_metastasis   True\n",
       "7                           immunosuppression   True\n",
       "8                        gcs_motor_apache_1.0   True\n",
       "9                        gcs_motor_apache_2.0  False\n",
       "10                       gcs_motor_apache_3.0  False\n",
       "11                       gcs_motor_apache_4.0   True\n",
       "12                       gcs_motor_apache_5.0   True\n",
       "13                       gcs_motor_apache_6.0   True\n",
       "14                      gcs_verbal_apache_1.0   True\n",
       "15                      gcs_verbal_apache_2.0  False\n",
       "16                      gcs_verbal_apache_3.0  False\n",
       "17                      gcs_verbal_apache_4.0   True\n",
       "18                      gcs_verbal_apache_5.0   True\n",
       "19        apache_3j_bodysystem_Cardiovascular   True\n",
       "20      apache_3j_bodysystem_Gastrointestinal   True\n",
       "21         apache_3j_bodysystem_Genitourinary  False\n",
       "22         apache_3j_bodysystem_Gynecological  False\n",
       "23         apache_3j_bodysystem_Hematological  False\n",
       "24             apache_3j_bodysystem_Metabolic   True\n",
       "25  apache_3j_bodysystem_Musculoskeletal/Skin  False\n",
       "26          apache_3j_bodysystem_Neurological  False\n",
       "27           apache_3j_bodysystem_Respiratory  False\n",
       "28                apache_3j_bodysystem_Sepsis   True\n",
       "29                apache_3j_bodysystem_Trauma  False\n",
       "30         apache_2_bodysystem_Cardiovascular   True\n",
       "31       apache_2_bodysystem_Gastrointestinal  False\n",
       "32           apache_2_bodysystem_Haematologic  False\n",
       "33              apache_2_bodysystem_Metabolic  False\n",
       "34             apache_2_bodysystem_Neurologic   True\n",
       "35    apache_2_bodysystem_Renal/Genitourinary  False\n",
       "36            apache_2_bodysystem_Respiratory   True\n",
       "37                 apache_2_bodysystem_Trauma  False\n",
       "38    apache_2_bodysystem_Undefined diagnoses  False"
      ]
     },
     "execution_count": 71,
     "metadata": {},
     "output_type": "execute_result"
    },
    {
     "name": "stdout",
     "output_type": "stream",
     "text": [
      "time: 16.2 ms (started: 2022-12-04 02:57:53 +00:00)\n"
     ]
    }
   ],
   "source": [
    "\n",
    "features_kept = pd.DataFrame({'columns': X.columns,'Kept': rfecv.support_})\n",
    "features_kept\n"
   ]
  },
  {
   "cell_type": "code",
   "execution_count": 72,
   "metadata": {
    "colab": {
     "base_uri": "https://localhost:8080/"
    },
    "id": "s0VQwYTPptEH",
    "outputId": "4628a79a-28c9-4a50-ea58-e26a63ecea5e"
   },
   "outputs": [
    {
     "name": "stdout",
     "output_type": "stream",
     "text": [
      "<class 'pandas.core.frame.DataFrame'>\n",
      "Int64Index: 85367 entries, 0 to 91712\n",
      "Data columns (total 22 columns):\n",
      " #   Column                                 Non-Null Count  Dtype  \n",
      "---  ------                                 --------------  -----  \n",
      " 0   age                                    85367 non-null  float64\n",
      " 1   elective_surgery                       85367 non-null  int64  \n",
      " 2   pre_icu_los_days                       85367 non-null  float64\n",
      " 3   weight                                 85367 non-null  float64\n",
      " 4   intubated_apache                       85367 non-null  float64\n",
      " 5   ventilated_apache                      85367 non-null  float64\n",
      " 6   solid_tumor_with_metastasis            85367 non-null  float64\n",
      " 7   immunosuppression                      85367 non-null  float64\n",
      " 8   gcs_motor_apache_1.0                   85367 non-null  uint8  \n",
      " 9   gcs_motor_apache_4.0                   85367 non-null  uint8  \n",
      " 10  gcs_motor_apache_5.0                   85367 non-null  uint8  \n",
      " 11  gcs_motor_apache_6.0                   85367 non-null  uint8  \n",
      " 12  gcs_verbal_apache_1.0                  85367 non-null  uint8  \n",
      " 13  gcs_verbal_apache_4.0                  85367 non-null  uint8  \n",
      " 14  gcs_verbal_apache_5.0                  85367 non-null  uint8  \n",
      " 15  apache_3j_bodysystem_Cardiovascular    85367 non-null  uint8  \n",
      " 16  apache_3j_bodysystem_Gastrointestinal  85367 non-null  uint8  \n",
      " 17  apache_3j_bodysystem_Metabolic         85367 non-null  uint8  \n",
      " 18  apache_3j_bodysystem_Sepsis            85367 non-null  uint8  \n",
      " 19  apache_2_bodysystem_Cardiovascular     85367 non-null  uint8  \n",
      " 20  apache_2_bodysystem_Neurologic         85367 non-null  uint8  \n",
      " 21  apache_2_bodysystem_Respiratory        85367 non-null  uint8  \n",
      "dtypes: float64(7), int64(1), uint8(14)\n",
      "memory usage: 9.0 MB\n",
      "time: 26 ms (started: 2022-12-04 02:57:53 +00:00)\n"
     ]
    }
   ],
   "source": [
    "#List the features to keep for model\n",
    "\n",
    "X_new_df = X.iloc[:, rfecv.support_]\n",
    "X_new_df.info()\n"
   ]
  },
  {
   "cell_type": "code",
   "execution_count": 73,
   "metadata": {
    "colab": {
     "base_uri": "https://localhost:8080/",
     "height": 317
    },
    "id": "oOdz6OEoq3CM",
    "outputId": "f811d26b-1e53-4255-ceb3-f2fa826fbefa"
   },
   "outputs": [
    {
     "data": {
      "text/html": [
       "\n",
       "  <div id=\"df-8f345288-63f0-49dc-8f4a-6d94752dcb29\">\n",
       "    <div class=\"colab-df-container\">\n",
       "      <div>\n",
       "<style scoped>\n",
       "    .dataframe tbody tr th:only-of-type {\n",
       "        vertical-align: middle;\n",
       "    }\n",
       "\n",
       "    .dataframe tbody tr th {\n",
       "        vertical-align: top;\n",
       "    }\n",
       "\n",
       "    .dataframe thead th {\n",
       "        text-align: right;\n",
       "    }\n",
       "</style>\n",
       "<table border=\"1\" class=\"dataframe\">\n",
       "  <thead>\n",
       "    <tr style=\"text-align: right;\">\n",
       "      <th></th>\n",
       "      <th>age</th>\n",
       "      <th>elective_surgery</th>\n",
       "      <th>pre_icu_los_days</th>\n",
       "      <th>weight</th>\n",
       "      <th>intubated_apache</th>\n",
       "      <th>ventilated_apache</th>\n",
       "      <th>solid_tumor_with_metastasis</th>\n",
       "      <th>immunosuppression</th>\n",
       "      <th>gcs_motor_apache_1.0</th>\n",
       "      <th>gcs_motor_apache_4.0</th>\n",
       "      <th>...</th>\n",
       "      <th>gcs_verbal_apache_1.0</th>\n",
       "      <th>gcs_verbal_apache_4.0</th>\n",
       "      <th>gcs_verbal_apache_5.0</th>\n",
       "      <th>apache_3j_bodysystem_Cardiovascular</th>\n",
       "      <th>apache_3j_bodysystem_Gastrointestinal</th>\n",
       "      <th>apache_3j_bodysystem_Metabolic</th>\n",
       "      <th>apache_3j_bodysystem_Sepsis</th>\n",
       "      <th>apache_2_bodysystem_Cardiovascular</th>\n",
       "      <th>apache_2_bodysystem_Neurologic</th>\n",
       "      <th>apache_2_bodysystem_Respiratory</th>\n",
       "    </tr>\n",
       "  </thead>\n",
       "  <tbody>\n",
       "    <tr>\n",
       "      <th>0</th>\n",
       "      <td>0.343791</td>\n",
       "      <td>0</td>\n",
       "      <td>-0.123978</td>\n",
       "      <td>-0.403718</td>\n",
       "      <td>0.0</td>\n",
       "      <td>0.0</td>\n",
       "      <td>0.0</td>\n",
       "      <td>0.0</td>\n",
       "      <td>0</td>\n",
       "      <td>0</td>\n",
       "      <td>...</td>\n",
       "      <td>0</td>\n",
       "      <td>1</td>\n",
       "      <td>0</td>\n",
       "      <td>0</td>\n",
       "      <td>0</td>\n",
       "      <td>0</td>\n",
       "      <td>1</td>\n",
       "      <td>1</td>\n",
       "      <td>0</td>\n",
       "      <td>0</td>\n",
       "    </tr>\n",
       "    <tr>\n",
       "      <th>1</th>\n",
       "      <td>0.891206</td>\n",
       "      <td>0</td>\n",
       "      <td>0.037257</td>\n",
       "      <td>-0.551791</td>\n",
       "      <td>0.0</td>\n",
       "      <td>1.0</td>\n",
       "      <td>0.0</td>\n",
       "      <td>0.0</td>\n",
       "      <td>0</td>\n",
       "      <td>0</td>\n",
       "      <td>...</td>\n",
       "      <td>1</td>\n",
       "      <td>0</td>\n",
       "      <td>0</td>\n",
       "      <td>0</td>\n",
       "      <td>0</td>\n",
       "      <td>0</td>\n",
       "      <td>0</td>\n",
       "      <td>0</td>\n",
       "      <td>0</td>\n",
       "      <td>1</td>\n",
       "    </tr>\n",
       "    <tr>\n",
       "      <th>2</th>\n",
       "      <td>-2.271635</td>\n",
       "      <td>0</td>\n",
       "      <td>-0.349882</td>\n",
       "      <td>0.452704</td>\n",
       "      <td>0.0</td>\n",
       "      <td>0.0</td>\n",
       "      <td>0.0</td>\n",
       "      <td>0.0</td>\n",
       "      <td>0</td>\n",
       "      <td>0</td>\n",
       "      <td>...</td>\n",
       "      <td>0</td>\n",
       "      <td>0</td>\n",
       "      <td>1</td>\n",
       "      <td>0</td>\n",
       "      <td>0</td>\n",
       "      <td>1</td>\n",
       "      <td>0</td>\n",
       "      <td>0</td>\n",
       "      <td>0</td>\n",
       "      <td>0</td>\n",
       "    </tr>\n",
       "    <tr>\n",
       "      <th>3</th>\n",
       "      <td>1.134501</td>\n",
       "      <td>1</td>\n",
       "      <td>-0.349882</td>\n",
       "      <td>-0.891959</td>\n",
       "      <td>1.0</td>\n",
       "      <td>1.0</td>\n",
       "      <td>0.0</td>\n",
       "      <td>0.0</td>\n",
       "      <td>0</td>\n",
       "      <td>0</td>\n",
       "      <td>...</td>\n",
       "      <td>0</td>\n",
       "      <td>0</td>\n",
       "      <td>1</td>\n",
       "      <td>1</td>\n",
       "      <td>0</td>\n",
       "      <td>0</td>\n",
       "      <td>0</td>\n",
       "      <td>1</td>\n",
       "      <td>0</td>\n",
       "      <td>0</td>\n",
       "    </tr>\n",
       "    <tr>\n",
       "      <th>5</th>\n",
       "      <td>0.282967</td>\n",
       "      <td>0</td>\n",
       "      <td>-0.349882</td>\n",
       "      <td>0.640797</td>\n",
       "      <td>0.0</td>\n",
       "      <td>0.0</td>\n",
       "      <td>0.0</td>\n",
       "      <td>0.0</td>\n",
       "      <td>0</td>\n",
       "      <td>0</td>\n",
       "      <td>...</td>\n",
       "      <td>0</td>\n",
       "      <td>0</td>\n",
       "      <td>1</td>\n",
       "      <td>0</td>\n",
       "      <td>0</td>\n",
       "      <td>0</td>\n",
       "      <td>0</td>\n",
       "      <td>0</td>\n",
       "      <td>1</td>\n",
       "      <td>0</td>\n",
       "    </tr>\n",
       "  </tbody>\n",
       "</table>\n",
       "<p>5 rows × 22 columns</p>\n",
       "</div>\n",
       "      <button class=\"colab-df-convert\" onclick=\"convertToInteractive('df-8f345288-63f0-49dc-8f4a-6d94752dcb29')\"\n",
       "              title=\"Convert this dataframe to an interactive table.\"\n",
       "              style=\"display:none;\">\n",
       "        \n",
       "  <svg xmlns=\"http://www.w3.org/2000/svg\" height=\"24px\"viewBox=\"0 0 24 24\"\n",
       "       width=\"24px\">\n",
       "    <path d=\"M0 0h24v24H0V0z\" fill=\"none\"/>\n",
       "    <path d=\"M18.56 5.44l.94 2.06.94-2.06 2.06-.94-2.06-.94-.94-2.06-.94 2.06-2.06.94zm-11 1L8.5 8.5l.94-2.06 2.06-.94-2.06-.94L8.5 2.5l-.94 2.06-2.06.94zm10 10l.94 2.06.94-2.06 2.06-.94-2.06-.94-.94-2.06-.94 2.06-2.06.94z\"/><path d=\"M17.41 7.96l-1.37-1.37c-.4-.4-.92-.59-1.43-.59-.52 0-1.04.2-1.43.59L10.3 9.45l-7.72 7.72c-.78.78-.78 2.05 0 2.83L4 21.41c.39.39.9.59 1.41.59.51 0 1.02-.2 1.41-.59l7.78-7.78 2.81-2.81c.8-.78.8-2.07 0-2.86zM5.41 20L4 18.59l7.72-7.72 1.47 1.35L5.41 20z\"/>\n",
       "  </svg>\n",
       "      </button>\n",
       "      \n",
       "  <style>\n",
       "    .colab-df-container {\n",
       "      display:flex;\n",
       "      flex-wrap:wrap;\n",
       "      gap: 12px;\n",
       "    }\n",
       "\n",
       "    .colab-df-convert {\n",
       "      background-color: #E8F0FE;\n",
       "      border: none;\n",
       "      border-radius: 50%;\n",
       "      cursor: pointer;\n",
       "      display: none;\n",
       "      fill: #1967D2;\n",
       "      height: 32px;\n",
       "      padding: 0 0 0 0;\n",
       "      width: 32px;\n",
       "    }\n",
       "\n",
       "    .colab-df-convert:hover {\n",
       "      background-color: #E2EBFA;\n",
       "      box-shadow: 0px 1px 2px rgba(60, 64, 67, 0.3), 0px 1px 3px 1px rgba(60, 64, 67, 0.15);\n",
       "      fill: #174EA6;\n",
       "    }\n",
       "\n",
       "    [theme=dark] .colab-df-convert {\n",
       "      background-color: #3B4455;\n",
       "      fill: #D2E3FC;\n",
       "    }\n",
       "\n",
       "    [theme=dark] .colab-df-convert:hover {\n",
       "      background-color: #434B5C;\n",
       "      box-shadow: 0px 1px 3px 1px rgba(0, 0, 0, 0.15);\n",
       "      filter: drop-shadow(0px 1px 2px rgba(0, 0, 0, 0.3));\n",
       "      fill: #FFFFFF;\n",
       "    }\n",
       "  </style>\n",
       "\n",
       "      <script>\n",
       "        const buttonEl =\n",
       "          document.querySelector('#df-8f345288-63f0-49dc-8f4a-6d94752dcb29 button.colab-df-convert');\n",
       "        buttonEl.style.display =\n",
       "          google.colab.kernel.accessAllowed ? 'block' : 'none';\n",
       "\n",
       "        async function convertToInteractive(key) {\n",
       "          const element = document.querySelector('#df-8f345288-63f0-49dc-8f4a-6d94752dcb29');\n",
       "          const dataTable =\n",
       "            await google.colab.kernel.invokeFunction('convertToInteractive',\n",
       "                                                     [key], {});\n",
       "          if (!dataTable) return;\n",
       "\n",
       "          const docLinkHtml = 'Like what you see? Visit the ' +\n",
       "            '<a target=\"_blank\" href=https://colab.research.google.com/notebooks/data_table.ipynb>data table notebook</a>'\n",
       "            + ' to learn more about interactive tables.';\n",
       "          element.innerHTML = '';\n",
       "          dataTable['output_type'] = 'display_data';\n",
       "          await google.colab.output.renderOutput(dataTable, element);\n",
       "          const docLink = document.createElement('div');\n",
       "          docLink.innerHTML = docLinkHtml;\n",
       "          element.appendChild(docLink);\n",
       "        }\n",
       "      </script>\n",
       "    </div>\n",
       "  </div>\n",
       "  "
      ],
      "text/plain": [
       "        age  elective_surgery  pre_icu_los_days    weight  intubated_apache  \\\n",
       "0  0.343791                 0         -0.123978 -0.403718               0.0   \n",
       "1  0.891206                 0          0.037257 -0.551791               0.0   \n",
       "2 -2.271635                 0         -0.349882  0.452704               0.0   \n",
       "3  1.134501                 1         -0.349882 -0.891959               1.0   \n",
       "5  0.282967                 0         -0.349882  0.640797               0.0   \n",
       "\n",
       "   ventilated_apache  solid_tumor_with_metastasis  immunosuppression  \\\n",
       "0                0.0                          0.0                0.0   \n",
       "1                1.0                          0.0                0.0   \n",
       "2                0.0                          0.0                0.0   \n",
       "3                1.0                          0.0                0.0   \n",
       "5                0.0                          0.0                0.0   \n",
       "\n",
       "   gcs_motor_apache_1.0  gcs_motor_apache_4.0  ...  gcs_verbal_apache_1.0  \\\n",
       "0                     0                     0  ...                      0   \n",
       "1                     0                     0  ...                      1   \n",
       "2                     0                     0  ...                      0   \n",
       "3                     0                     0  ...                      0   \n",
       "5                     0                     0  ...                      0   \n",
       "\n",
       "   gcs_verbal_apache_4.0  gcs_verbal_apache_5.0  \\\n",
       "0                      1                      0   \n",
       "1                      0                      0   \n",
       "2                      0                      1   \n",
       "3                      0                      1   \n",
       "5                      0                      1   \n",
       "\n",
       "   apache_3j_bodysystem_Cardiovascular  apache_3j_bodysystem_Gastrointestinal  \\\n",
       "0                                    0                                      0   \n",
       "1                                    0                                      0   \n",
       "2                                    0                                      0   \n",
       "3                                    1                                      0   \n",
       "5                                    0                                      0   \n",
       "\n",
       "   apache_3j_bodysystem_Metabolic  apache_3j_bodysystem_Sepsis  \\\n",
       "0                               0                            1   \n",
       "1                               0                            0   \n",
       "2                               1                            0   \n",
       "3                               0                            0   \n",
       "5                               0                            0   \n",
       "\n",
       "   apache_2_bodysystem_Cardiovascular  apache_2_bodysystem_Neurologic  \\\n",
       "0                                   1                               0   \n",
       "1                                   0                               0   \n",
       "2                                   0                               0   \n",
       "3                                   1                               0   \n",
       "5                                   0                               1   \n",
       "\n",
       "   apache_2_bodysystem_Respiratory  \n",
       "0                                0  \n",
       "1                                1  \n",
       "2                                0  \n",
       "3                                0  \n",
       "5                                0  \n",
       "\n",
       "[5 rows x 22 columns]"
      ]
     },
     "execution_count": 73,
     "metadata": {},
     "output_type": "execute_result"
    },
    {
     "name": "stdout",
     "output_type": "stream",
     "text": [
      "time: 31.2 ms (started: 2022-12-04 02:57:53 +00:00)\n"
     ]
    }
   ],
   "source": [
    "\n",
    "X_new_df = X.iloc[:, rfecv.support_]\n",
    "X_new_df.head()\n"
   ]
  },
  {
   "cell_type": "code",
   "execution_count": 74,
   "metadata": {
    "colab": {
     "base_uri": "https://localhost:8080/"
    },
    "id": "Bx0yEpZDFUks",
    "outputId": "330ae235-3ef0-4370-a05d-83caf6cf81f5"
   },
   "outputs": [
    {
     "data": {
      "text/plain": [
       "Index(['age', 'elective_surgery', 'pre_icu_los_days', 'weight',\n",
       "       'intubated_apache', 'ventilated_apache', 'solid_tumor_with_metastasis',\n",
       "       'immunosuppression', 'gcs_motor_apache_1.0', 'gcs_motor_apache_4.0',\n",
       "       'gcs_motor_apache_5.0', 'gcs_motor_apache_6.0', 'gcs_verbal_apache_1.0',\n",
       "       'gcs_verbal_apache_4.0', 'gcs_verbal_apache_5.0',\n",
       "       'apache_3j_bodysystem_Cardiovascular',\n",
       "       'apache_3j_bodysystem_Gastrointestinal',\n",
       "       'apache_3j_bodysystem_Metabolic', 'apache_3j_bodysystem_Sepsis',\n",
       "       'apache_2_bodysystem_Cardiovascular', 'apache_2_bodysystem_Neurologic',\n",
       "       'apache_2_bodysystem_Respiratory'],\n",
       "      dtype='object')"
      ]
     },
     "execution_count": 74,
     "metadata": {},
     "output_type": "execute_result"
    },
    {
     "name": "stdout",
     "output_type": "stream",
     "text": [
      "time: 8.98 ms (started: 2022-12-04 02:57:53 +00:00)\n"
     ]
    }
   ],
   "source": [
    "\n",
    "X_new_df.columns\n"
   ]
  },
  {
   "cell_type": "code",
   "execution_count": 75,
   "metadata": {
    "colab": {
     "base_uri": "https://localhost:8080/"
    },
    "id": "fbyftYWHrAQe",
    "outputId": "06e927d8-04c2-4842-9eb2-7a3e73dd3ba8"
   },
   "outputs": [
    {
     "data": {
      "text/plain": [
       "array([ 1,  1,  1,  1,  1,  1,  1,  1,  1, 12, 11,  1,  1,  1,  1,  5,  3,\n",
       "        1,  1,  1,  1, 10, 18, 16,  1, 17,  9,  4,  1,  7,  1,  8, 14,  6,\n",
       "        1, 15,  1, 13,  2])"
      ]
     },
     "execution_count": 75,
     "metadata": {},
     "output_type": "execute_result"
    },
    {
     "name": "stdout",
     "output_type": "stream",
     "text": [
      "time: 11.9 ms (started: 2022-12-04 02:57:54 +00:00)\n"
     ]
    }
   ],
   "source": [
    "rfecv.ranking_"
   ]
  },
  {
   "cell_type": "code",
   "execution_count": 76,
   "metadata": {
    "colab": {
     "base_uri": "https://localhost:8080/"
    },
    "id": "GmmugWlvrE7s",
    "outputId": "082d5f34-735e-4a4f-9418-6afd81dbed82"
   },
   "outputs": [
    {
     "name": "stdout",
     "output_type": "stream",
     "text": [
      "Optimum number of features: 22\n",
      "time: 7.19 ms (started: 2022-12-04 02:57:54 +00:00)\n"
     ]
    }
   ],
   "source": [
    "print(\"Optimum number of features: %d\" % rfecv.n_features_)"
   ]
  },
  {
   "cell_type": "code",
   "execution_count": 77,
   "metadata": {
    "colab": {
     "base_uri": "https://localhost:8080/",
     "height": 462
    },
    "id": "xRFZhcqcrE9x",
    "outputId": "13936c18-78e4-4a32-dda4-8eb640725dbe"
   },
   "outputs": [
    {
     "name": "stderr",
     "output_type": "stream",
     "text": [
      "/usr/local/lib/python3.8/dist-packages/sklearn/utils/deprecation.py:103: FutureWarning: The `grid_scores_` attribute is deprecated in version 1.0 in favor of `cv_results_` and will be removed in version 1.2.\n",
      "  warnings.warn(msg, category=FutureWarning)\n"
     ]
    },
    {
     "data": {
      "image/png": "[encoded data removed]",
      "text/plain": [
       "<Figure size 1152x432 with 1 Axes>"
      ]
     },
     "metadata": {
      "needs_background": "light"
     },
     "output_type": "display_data"
    },
    {
     "name": "stdout",
     "output_type": "stream",
     "text": [
      "time: 438 ms (started: 2022-12-04 02:57:54 +00:00)\n"
     ]
    }
   ],
   "source": [
    "\n",
    "plt.figure( figsize=(16, 6))\n",
    "plt.title('Total features selected versus AUROC')\n",
    "plt.xlabel('Total features selected')\n",
    "plt.ylabel('Model AUROC')\n",
    "plt.plot(range(1, len(rfecv.grid_scores_) + 1), rfecv.grid_scores_)\n",
    "plt.show()\n"
   ]
  },
  {
   "cell_type": "code",
   "execution_count": 91,
   "metadata": {
    "colab": {
     "base_uri": "https://localhost:8080/"
    },
    "id": "9zvzHWGbJAXd",
    "outputId": "9ffffc47-39d4-4e3b-dd69-4d6255b13b11"
   },
   "outputs": [
    {
     "name": "stdout",
     "output_type": "stream",
     "text": [
      "time: 685 µs (started: 2022-12-04 03:18:57 +00:00)\n"
     ]
    }
   ],
   "source": [
    " X2_df=X_new_df"
   ]
  },
  {
   "cell_type": "code",
   "execution_count": 92,
   "metadata": {
    "colab": {
     "base_uri": "https://localhost:8080/"
    },
    "id": "U1Y7X-p29oEb",
    "outputId": "af8bdd5d-f985-4907-acfc-ef24d4c7d351"
   },
   "outputs": [
    {
     "name": "stdout",
     "output_type": "stream",
     "text": [
      "Optimization terminated successfully.\n",
      "         Current function value: 0.231272\n",
      "         Iterations 8\n",
      "                                    Results: Logit\n",
      "======================================================================================\n",
      "Model:                     Logit                   Pseudo R-squared:        0.200     \n",
      "Dependent Variable:        hospital_death          AIC:                     39530.0605\n",
      "Date:                      2022-12-04 03:18        BIC:                     39735.8642\n",
      "No. Observations:          85367                   Log-Likelihood:          -19743.   \n",
      "Df Model:                  21                      LL-Null:                 -24687.   \n",
      "Df Residuals:              85345                   LLR p-value:             0.0000    \n",
      "Converged:                 1.0000                  Scale:                   1.0000    \n",
      "No. Iterations:            8.0000                                                     \n",
      "--------------------------------------------------------------------------------------\n",
      "                                       Coef.  Std.Err.    z     P>|z|   [0.025  0.975]\n",
      "--------------------------------------------------------------------------------------\n",
      "age                                    0.4419   0.0159  27.7201 0.0000  0.4107  0.4732\n",
      "elective_surgery                      -1.4192   0.0540 -26.2730 0.0000 -1.5250 -1.3133\n",
      "pre_icu_los_days                       0.1511   0.0099  15.2174 0.0000  0.1316  0.1705\n",
      "weight                                -0.0994   0.0140  -7.0853 0.0000 -0.1270 -0.0719\n",
      "intubated_apache                       0.2560   0.0365   7.0158 0.0000  0.1845  0.3276\n",
      "ventilated_apache                      0.9468   0.0366  25.8568 0.0000  0.8750  1.0186\n",
      "solid_tumor_with_metastasis            0.8395   0.0750  11.1980 0.0000  0.6926  0.9865\n",
      "immunosuppression                      0.4867   0.0702   6.9293 0.0000  0.3490  0.6243\n",
      "gcs_motor_apache_1.0                  -0.6530   0.0632 -10.3353 0.0000 -0.7769 -0.5292\n",
      "gcs_motor_apache_4.0                  -1.7186   0.0641 -26.8176 0.0000 -1.8442 -1.5930\n",
      "gcs_motor_apache_5.0                  -2.0725   0.0590 -35.1169 0.0000 -2.1881 -1.9568\n",
      "gcs_motor_apache_6.0                  -2.4400   0.0614 -39.7371 0.0000 -2.5603 -2.3196\n",
      "gcs_verbal_apache_1.0                 -0.4418   0.0487  -9.0669 0.0000 -0.5373 -0.3463\n",
      "gcs_verbal_apache_4.0                 -0.1808   0.0576  -3.1407 0.0017 -0.2936 -0.0680\n",
      "gcs_verbal_apache_5.0                 -0.6796   0.0556 -12.2335 0.0000 -0.7885 -0.5707\n",
      "apache_3j_bodysystem_Cardiovascular   -2.0311   0.1714 -11.8492 0.0000 -2.3670 -1.6951\n",
      "apache_3j_bodysystem_Gastrointestinal -0.0893   0.0611  -1.4619 0.1438 -0.2091  0.0304\n",
      "apache_3j_bodysystem_Metabolic        -1.8757   0.1064 -17.6206 0.0000 -2.0843 -1.6670\n",
      "apache_3j_bodysystem_Sepsis           -1.6729   0.1739  -9.6185 0.0000 -2.0138 -1.3320\n",
      "apache_2_bodysystem_Cardiovascular     1.8325   0.1679  10.9115 0.0000  1.5034  2.1617\n",
      "apache_2_bodysystem_Neurologic        -0.5943   0.0557 -10.6730 0.0000 -0.7034 -0.4851\n",
      "apache_2_bodysystem_Respiratory       -0.3079   0.0546  -5.6431 0.0000 -0.4149 -0.2010\n",
      "======================================================================================\n",
      "\n",
      "time: 1.35 s (started: 2022-12-04 03:18:58 +00:00)\n"
     ]
    }
   ],
   "source": [
    "logit_model=sm.Logit(y,X2_df)\n",
    "result=logit_model.fit()\n",
    "print(result.summary2())"
   ]
  },
  {
   "cell_type": "markdown",
   "metadata": {
    "id": "ZYwzLKVf-u7r"
   },
   "source": [
    "Logistic Regresssion with Stratified K-Fold CV"
   ]
  },
  {
   "cell_type": "code",
   "execution_count": 93,
   "metadata": {
    "colab": {
     "base_uri": "https://localhost:8080/",
     "height": 607
    },
    "id": "4VOH1DGh_ERU",
    "outputId": "330b4aa6-cf47-450d-c826-b133c5969225"
   },
   "outputs": [
    {
     "name": "stdout",
     "output_type": "stream",
     "text": [
      "[0.82259232 0.84019445 0.83963424 0.8108915  0.82866402 0.82114782\n",
      " 0.82562719 0.828488   0.82408673 0.80602486]\n",
      "AUROC: 0.825 (0.010)\n",
      "Confusion Matrix: \n"
     ]
    },
    {
     "data": {
      "image/png": "[encoded data removed]",
      "text/plain": [
       "<Figure size 648x648 with 2 Axes>"
      ]
     },
     "metadata": {
      "needs_background": "light"
     },
     "output_type": "display_data"
    },
    {
     "name": "stdout",
     "output_type": "stream",
     "text": [
      "time: 10.1 s (started: 2022-12-04 03:18:59 +00:00)\n"
     ]
    }
   ],
   "source": [
    "logR = LogisticRegression(solver='liblinear')\n",
    "lscore = cross_val_score(logR, X2_df, y, scoring='roc_auc', cv=10, n_jobs=-1) \n",
    "print(lscore)\n",
    "print('AUROC: %.3f (%.3f)' % (lscore.mean(), lscore.std()))\n",
    "y_predl = cross_val_predict(logR, X2_df, y, cv=10)\n",
    "#Confusion Matrix\n",
    "conf_mat = confusion_matrix(y, y_predl)\n",
    "print('Confusion Matrix: ')\n",
    "lrmean = round(lscore.mean(),3)\n",
    "lrstd = round(lscore.std(),3)\n",
    "plt.figure(figsize=(9,9))\n",
    "sns.heatmap(conf_mat, annot=True, fmt=\".3f\", linewidths=.5, square = True, cmap = 'Blues_r');\n",
    "plt.ylabel('Actual label');\n",
    "plt.xlabel('Predicted label');\n",
    "all_sample_title = 'AUROC: {0}'.format(lrmean)\n",
    "plt.title(all_sample_title, size = 15);"
   ]
  },
  {
   "cell_type": "code",
   "execution_count": 94,
   "metadata": {
    "colab": {
     "base_uri": "https://localhost:8080/"
    },
    "id": "uJRlrykloeAd",
    "outputId": "5dbeba6c-2b2b-4317-ec67-6695939307e3"
   },
   "outputs": [
    {
     "name": "stdout",
     "output_type": "stream",
     "text": [
      "              precision    recall  f1-score   support\n",
      "\n",
      "           0       0.92      0.99      0.96     78169\n",
      "           1       0.52      0.10      0.17      7198\n",
      "\n",
      "    accuracy                           0.92     85367\n",
      "   macro avg       0.72      0.55      0.57     85367\n",
      "weighted avg       0.89      0.92      0.89     85367\n",
      "\n",
      "time: 125 ms (started: 2022-12-04 03:19:09 +00:00)\n"
     ]
    }
   ],
   "source": [
    "print(classification_report(y, y_predl))"
   ]
  },
  {
   "cell_type": "code",
   "execution_count": 95,
   "metadata": {
    "colab": {
     "base_uri": "https://localhost:8080/"
    },
    "id": "novJ8WYgE_0H",
    "outputId": "44e16716-7171-4eac-9f2f-121a76409e37"
   },
   "outputs": [
    {
     "data": {
      "text/plain": [
       "0.8258107568965811"
      ]
     },
     "execution_count": 95,
     "metadata": {},
     "output_type": "execute_result"
    },
    {
     "name": "stdout",
     "output_type": "stream",
     "text": [
      "time: 41.9 s (started: 2022-12-04 03:19:09 +00:00)\n"
     ]
    }
   ],
   "source": [
    "clf = LogisticRegressionCV(cv=10, random_state=27, scoring='roc_auc').fit(X2_df, y)\n",
    "clf.score(X2_df, y)"
   ]
  },
  {
   "cell_type": "code",
   "execution_count": 96,
   "metadata": {
    "colab": {
     "base_uri": "https://localhost:8080/"
    },
    "id": "mf2loqlBhyGT",
    "outputId": "290a20fa-956e-44b4-88e9-ef3dae8eee5b"
   },
   "outputs": [
    {
     "name": "stdout",
     "output_type": "stream",
     "text": [
      "time: 12 s (started: 2022-12-04 03:19:51 +00:00)\n"
     ]
    }
   ],
   "source": [
    "crossval_scores = cross_val_score(LogisticRegression(), X2_df, y, scoring='roc_auc', cv=10)"
   ]
  },
  {
   "cell_type": "code",
   "execution_count": 97,
   "metadata": {
    "colab": {
     "base_uri": "https://localhost:8080/"
    },
    "id": "3T_nQdgpiEgM",
    "outputId": "dd2484c8-f3bd-4602-8ce0-d49e8a369e46"
   },
   "outputs": [
    {
     "data": {
      "text/plain": [
       "0.8247289419081062"
      ]
     },
     "execution_count": 97,
     "metadata": {},
     "output_type": "execute_result"
    },
    {
     "name": "stdout",
     "output_type": "stream",
     "text": [
      "time: 11.8 ms (started: 2022-12-04 03:20:03 +00:00)\n"
     ]
    }
   ],
   "source": [
    "crossval_scores.mean()"
   ]
  },
  {
   "cell_type": "code",
   "execution_count": 98,
   "metadata": {
    "colab": {
     "base_uri": "https://localhost:8080/",
     "height": 380
    },
    "id": "9KVCTmwEbR9d",
    "outputId": "7ca5e395-47de-4758-9497-d422257bf509"
   },
   "outputs": [
    {
     "data": {
      "text/html": [
       "\n",
       "  <div id=\"df-8b0e0364-c693-47d2-bb00-b7910e51a77f\">\n",
       "    <div class=\"colab-df-container\">\n",
       "      <div>\n",
       "<style scoped>\n",
       "    .dataframe tbody tr th:only-of-type {\n",
       "        vertical-align: middle;\n",
       "    }\n",
       "\n",
       "    .dataframe tbody tr th {\n",
       "        vertical-align: top;\n",
       "    }\n",
       "\n",
       "    .dataframe thead th {\n",
       "        text-align: right;\n",
       "    }\n",
       "</style>\n",
       "<table border=\"1\" class=\"dataframe\">\n",
       "  <thead>\n",
       "    <tr style=\"text-align: right;\">\n",
       "      <th></th>\n",
       "      <th>0</th>\n",
       "      <th>1</th>\n",
       "    </tr>\n",
       "  </thead>\n",
       "  <tbody>\n",
       "    <tr>\n",
       "      <th>0</th>\n",
       "      <td>0.907697</td>\n",
       "      <td>0.092303</td>\n",
       "    </tr>\n",
       "    <tr>\n",
       "      <th>1</th>\n",
       "      <td>0.589085</td>\n",
       "      <td>0.410915</td>\n",
       "    </tr>\n",
       "    <tr>\n",
       "      <th>2</th>\n",
       "      <td>0.997573</td>\n",
       "      <td>0.002427</td>\n",
       "    </tr>\n",
       "    <tr>\n",
       "      <th>3</th>\n",
       "      <td>0.945855</td>\n",
       "      <td>0.054145</td>\n",
       "    </tr>\n",
       "    <tr>\n",
       "      <th>4</th>\n",
       "      <td>0.974510</td>\n",
       "      <td>0.025490</td>\n",
       "    </tr>\n",
       "    <tr>\n",
       "      <th>5</th>\n",
       "      <td>0.929724</td>\n",
       "      <td>0.070276</td>\n",
       "    </tr>\n",
       "    <tr>\n",
       "      <th>6</th>\n",
       "      <td>0.975487</td>\n",
       "      <td>0.024513</td>\n",
       "    </tr>\n",
       "    <tr>\n",
       "      <th>7</th>\n",
       "      <td>0.983392</td>\n",
       "      <td>0.016608</td>\n",
       "    </tr>\n",
       "    <tr>\n",
       "      <th>8</th>\n",
       "      <td>0.981783</td>\n",
       "      <td>0.018217</td>\n",
       "    </tr>\n",
       "    <tr>\n",
       "      <th>9</th>\n",
       "      <td>0.988529</td>\n",
       "      <td>0.011471</td>\n",
       "    </tr>\n",
       "  </tbody>\n",
       "</table>\n",
       "</div>\n",
       "      <button class=\"colab-df-convert\" onclick=\"convertToInteractive('df-8b0e0364-c693-47d2-bb00-b7910e51a77f')\"\n",
       "              title=\"Convert this dataframe to an interactive table.\"\n",
       "              style=\"display:none;\">\n",
       "        \n",
       "  <svg xmlns=\"http://www.w3.org/2000/svg\" height=\"24px\"viewBox=\"0 0 24 24\"\n",
       "       width=\"24px\">\n",
       "    <path d=\"M0 0h24v24H0V0z\" fill=\"none\"/>\n",
       "    <path d=\"M18.56 5.44l.94 2.06.94-2.06 2.06-.94-2.06-.94-.94-2.06-.94 2.06-2.06.94zm-11 1L8.5 8.5l.94-2.06 2.06-.94-2.06-.94L8.5 2.5l-.94 2.06-2.06.94zm10 10l.94 2.06.94-2.06 2.06-.94-2.06-.94-.94-2.06-.94 2.06-2.06.94z\"/><path d=\"M17.41 7.96l-1.37-1.37c-.4-.4-.92-.59-1.43-.59-.52 0-1.04.2-1.43.59L10.3 9.45l-7.72 7.72c-.78.78-.78 2.05 0 2.83L4 21.41c.39.39.9.59 1.41.59.51 0 1.02-.2 1.41-.59l7.78-7.78 2.81-2.81c.8-.78.8-2.07 0-2.86zM5.41 20L4 18.59l7.72-7.72 1.47 1.35L5.41 20z\"/>\n",
       "  </svg>\n",
       "      </button>\n",
       "      \n",
       "  <style>\n",
       "    .colab-df-container {\n",
       "      display:flex;\n",
       "      flex-wrap:wrap;\n",
       "      gap: 12px;\n",
       "    }\n",
       "\n",
       "    .colab-df-convert {\n",
       "      background-color: #E8F0FE;\n",
       "      border: none;\n",
       "      border-radius: 50%;\n",
       "      cursor: pointer;\n",
       "      display: none;\n",
       "      fill: #1967D2;\n",
       "      height: 32px;\n",
       "      padding: 0 0 0 0;\n",
       "      width: 32px;\n",
       "    }\n",
       "\n",
       "    .colab-df-convert:hover {\n",
       "      background-color: #E2EBFA;\n",
       "      box-shadow: 0px 1px 2px rgba(60, 64, 67, 0.3), 0px 1px 3px 1px rgba(60, 64, 67, 0.15);\n",
       "      fill: #174EA6;\n",
       "    }\n",
       "\n",
       "    [theme=dark] .colab-df-convert {\n",
       "      background-color: #3B4455;\n",
       "      fill: #D2E3FC;\n",
       "    }\n",
       "\n",
       "    [theme=dark] .colab-df-convert:hover {\n",
       "      background-color: #434B5C;\n",
       "      box-shadow: 0px 1px 3px 1px rgba(0, 0, 0, 0.15);\n",
       "      filter: drop-shadow(0px 1px 2px rgba(0, 0, 0, 0.3));\n",
       "      fill: #FFFFFF;\n",
       "    }\n",
       "  </style>\n",
       "\n",
       "      <script>\n",
       "        const buttonEl =\n",
       "          document.querySelector('#df-8b0e0364-c693-47d2-bb00-b7910e51a77f button.colab-df-convert');\n",
       "        buttonEl.style.display =\n",
       "          google.colab.kernel.accessAllowed ? 'block' : 'none';\n",
       "\n",
       "        async function convertToInteractive(key) {\n",
       "          const element = document.querySelector('#df-8b0e0364-c693-47d2-bb00-b7910e51a77f');\n",
       "          const dataTable =\n",
       "            await google.colab.kernel.invokeFunction('convertToInteractive',\n",
       "                                                     [key], {});\n",
       "          if (!dataTable) return;\n",
       "\n",
       "          const docLinkHtml = 'Like what you see? Visit the ' +\n",
       "            '<a target=\"_blank\" href=https://colab.research.google.com/notebooks/data_table.ipynb>data table notebook</a>'\n",
       "            + ' to learn more about interactive tables.';\n",
       "          element.innerHTML = '';\n",
       "          dataTable['output_type'] = 'display_data';\n",
       "          await google.colab.output.renderOutput(dataTable, element);\n",
       "          const docLink = document.createElement('div');\n",
       "          docLink.innerHTML = docLinkHtml;\n",
       "          element.appendChild(docLink);\n",
       "        }\n",
       "      </script>\n",
       "    </div>\n",
       "  </div>\n",
       "  "
      ],
      "text/plain": [
       "          0         1\n",
       "0  0.907697  0.092303\n",
       "1  0.589085  0.410915\n",
       "2  0.997573  0.002427\n",
       "3  0.945855  0.054145\n",
       "4  0.974510  0.025490\n",
       "5  0.929724  0.070276\n",
       "6  0.975487  0.024513\n",
       "7  0.983392  0.016608\n",
       "8  0.981783  0.018217\n",
       "9  0.988529  0.011471"
      ]
     },
     "execution_count": 98,
     "metadata": {},
     "output_type": "execute_result"
    },
    {
     "name": "stdout",
     "output_type": "stream",
     "text": [
      "time: 27.8 ms (started: 2022-12-04 03:20:03 +00:00)\n"
     ]
    }
   ],
   "source": [
    "phd=clf.predict_proba(X2_df)\n",
    "s=pd.DataFrame(phd)\n",
    "s.head(10)"
   ]
  },
  {
   "cell_type": "code",
   "execution_count": 99,
   "metadata": {
    "colab": {
     "base_uri": "https://localhost:8080/"
    },
    "id": "_q4HQz64geo8",
    "outputId": "d27760df-2377-44f6-bdc4-6b506541577f"
   },
   "outputs": [
    {
     "name": "stdout",
     "output_type": "stream",
     "text": [
      "AUROC of logistic regression classifier on test set: 0.83\n",
      "time: 65.3 ms (started: 2022-12-04 03:20:03 +00:00)\n"
     ]
    }
   ],
   "source": [
    "y_pred = clf.predict(X2_df)\n",
    "print('AUROC of logistic regression classifier on test set: {:.2f}'.format(clf.score(X2_df, y)))\n"
   ]
  },
  {
   "cell_type": "code",
   "execution_count": 100,
   "metadata": {
    "colab": {
     "base_uri": "https://localhost:8080/",
     "height": 318
    },
    "id": "Pg80BWVjoQh3",
    "outputId": "87691526-88b5-4f55-a3b6-b8d3b2c1c37e"
   },
   "outputs": [
    {
     "data": {
      "image/png": "[encoded data removed]",
      "text/plain": [
       "<Figure size 432x288 with 1 Axes>"
      ]
     },
     "metadata": {
      "needs_background": "light"
     },
     "output_type": "display_data"
    },
    {
     "name": "stdout",
     "output_type": "stream",
     "text": [
      "time: 1.01 s (started: 2022-12-04 03:20:03 +00:00)\n"
     ]
    }
   ],
   "source": [
    "logit_roc_auc = roc_auc_score(y, clf.predict(X2_df))\n",
    "fpr, tpr, thresholds = roc_curve(y, clf.predict_proba(X2_df)[:,1])\n",
    "plt.figure()\n",
    "plt.plot(fpr, tpr, label='Logistic Regression (area = %0.2f)' % logit_roc_auc)\n",
    "plt.plot([0, 1], [0, 1],'r--')\n",
    "plt.xlim([0.0, 1.0])\n",
    "plt.ylim([0.0, 1.05])\n",
    "plt.xlabel('False Positive Rate')\n",
    "plt.ylabel('True Positive Rate')\n",
    "plt.title('Receiver operating characteristic')\n",
    "plt.legend(loc=\"lower right\")\n",
    "plt.savefig('Log_ROC')\n",
    "plt.show()"
   ]
  },
  {
   "cell_type": "code",
   "execution_count": 101,
   "metadata": {
    "colab": {
     "base_uri": "https://localhost:8080/"
    },
    "id": "SSgJrtfMjcD3",
    "outputId": "cb786d0b-567f-498d-8f12-8914046a1427"
   },
   "outputs": [
    {
     "name": "stdout",
     "output_type": "stream",
     "text": [
      "time: 891 µs (started: 2022-12-04 03:20:04 +00:00)\n"
     ]
    }
   ],
   "source": [
    "cv = StratifiedKFold(n_splits=10,shuffle=False)"
   ]
  },
  {
   "cell_type": "code",
   "execution_count": null,
   "metadata": {
    "id": "QHXUE5AZjPyf"
   },
   "outputs": [],
   "source": [
    "'''\n",
    "# plot arrows\n",
    "fig1 = plt.figure(figsize=[12,12])\n",
    "ax1 = fig1.add_subplot(111,aspect = 'equal')\n",
    "ax1.add_patch(\n",
    "    patches.Arrow(0.45,0.5,-0.25,0.25,width=0.3,color='green',alpha = 0.5)\n",
    "    )\n",
    "ax1.add_patch(\n",
    "    patches.Arrow(0.5,0.45,0.25,-0.25,width=0.3,color='red',alpha = 0.5)\n",
    "    )\n",
    "\n",
    "tprs = []\n",
    "aucs = []\n",
    "mean_fpr = np.linspace(0,1,100)\n",
    "i = 1\n",
    "for train,test in cv.split(X2_df,y):\n",
    "    prediction = clf.fit(X2_df.iloc[train],y.iloc[train]).predict_proba(X2_df.iloc[test])\n",
    "    fpr, tpr, t = roc_curve(y[test], prediction[:, 1])\n",
    "    tprs.append(interp(mean_fpr, fpr, tpr))\n",
    "    roc_auc = auc(fpr, tpr)\n",
    "    aucs.append(roc_auc)\n",
    "    plt.plot(fpr, tpr, lw=2, alpha=0.3, label='ROC fold %d (AUC = %0.2f)' % (i, roc_auc))\n",
    "    i= i+1\n",
    "\n",
    "plt.plot([0,1],[0,1],linestyle = '--',lw = 2,color = 'black')\n",
    "mean_tpr = np.mean(tprs, axis=0)\n",
    "mean_auc = auc(mean_fpr, mean_tpr)\n",
    "plt.plot(mean_fpr, mean_tpr, color='blue',\n",
    "         label=r'Mean ROC (AUC = %0.2f )' % (mean_auc),lw=2, alpha=1)\n",
    "\n",
    "plt.xlabel('False Positive Rate')\n",
    "plt.ylabel('True Positive Rate')\n",
    "plt.title('Logistic Regression ROC')\n",
    "plt.legend(loc=\"lower right\")\n",
    "plt.text(0.32,0.7,'More accurate area',fontsize = 12)\n",
    "plt.text(0.63,0.4,'Less accurate area',fontsize = 12)\n",
    "plt.show()\n",
    "'''"
   ]
  },
  {
   "cell_type": "markdown",
   "metadata": {
    "id": "zEfaUKPg-njU"
   },
   "source": [
    "Gaussian Naive Bayes with Stratified K-Fold CV"
   ]
  },
  {
   "cell_type": "code",
   "execution_count": 104,
   "metadata": {
    "colab": {
     "base_uri": "https://localhost:8080/",
     "height": 607
    },
    "id": "Dim49lii7T4H",
    "outputId": "717d7f8e-725c-44fd-e7f3-3d147d00b0ce"
   },
   "outputs": [
    {
     "name": "stdout",
     "output_type": "stream",
     "text": [
      "[0.79767716 0.81267146 0.81113634 0.79449668 0.79462088 0.79652955\n",
      " 0.79805588 0.80441997 0.79920986 0.78536904]\n",
      "AUROC: 0.799 (0.008)\n",
      "Confusion Matrix: \n"
     ]
    },
    {
     "data": {
      "image/png": "[encoded data removed]",
      "text/plain": [
       "<Figure size 648x648 with 2 Axes>"
      ]
     },
     "metadata": {
      "needs_background": "light"
     },
     "output_type": "display_data"
    },
    {
     "name": "stdout",
     "output_type": "stream",
     "text": [
      "time: 1.56 s (started: 2022-12-04 03:23:06 +00:00)\n"
     ]
    }
   ],
   "source": [
    "naiveB = GaussianNB()\n",
    "score = cross_val_score(naiveB, X2_df, y, scoring='roc_auc', cv=10, n_jobs=-1) \n",
    "print(score)\n",
    "print('AUROC: %.3f (%.3f)' % (score.mean(), score.std()))\n",
    "y_predn = cross_val_predict(naiveB, X2_df, y, cv=10)\n",
    "#Confusion Matrix\n",
    "conf_mat = confusion_matrix(y, y_predn)\n",
    "print('Confusion Matrix: ')\n",
    "nbmean = round(score.mean(),3)\n",
    "nbstd = round(score.std(),3)\n",
    "plt.figure(figsize=(9,9))\n",
    "sns.heatmap(conf_mat, annot=True, fmt=\".3f\", linewidths=.5, square = True, cmap = 'Blues_r');\n",
    "plt.ylabel('Actual label');\n",
    "plt.xlabel('Predicted label');\n",
    "all_sample_title = 'AUROC: {0}'.format(nbmean)\n",
    "plt.title(all_sample_title, size = 15);"
   ]
  },
  {
   "cell_type": "code",
   "execution_count": 105,
   "metadata": {
    "colab": {
     "base_uri": "https://localhost:8080/"
    },
    "id": "Te1Q0Hm7g0Eb",
    "outputId": "b0f5aa17-a1bd-48c6-aa24-951a570d706e"
   },
   "outputs": [
    {
     "name": "stdout",
     "output_type": "stream",
     "text": [
      "time: 1.34 ms (started: 2022-12-04 03:23:07 +00:00)\n"
     ]
    }
   ],
   "source": [
    "gnb2 = GaussianNB()\n",
    "cv = StratifiedKFold(n_splits=10,shuffle=False)"
   ]
  },
  {
   "cell_type": "code",
   "execution_count": null,
   "metadata": {
    "id": "Zb1NPYUWcLJA"
   },
   "outputs": [],
   "source": [
    "'''\n",
    "# plot arrows\n",
    "fig1 = plt.figure(figsize=[12,12])\n",
    "ax1 = fig1.add_subplot(111,aspect = 'equal')\n",
    "ax1.add_patch(\n",
    "    patches.Arrow(0.45,0.5,-0.25,0.25,width=0.3,color='green',alpha = 0.5)\n",
    "    )\n",
    "ax1.add_patch(\n",
    "    patches.Arrow(0.5,0.45,0.25,-0.25,width=0.3,color='red',alpha = 0.5)\n",
    "    )\n",
    "\n",
    "tprs = []\n",
    "aucs = []\n",
    "mean_fpr = np.linspace(0,1,100)\n",
    "i = 1\n",
    "for train,test in cv.split(X2_df,y):\n",
    "    prediction = gnb2.fit(X2_df.iloc[train],y.iloc[train]).predict_proba(X2_df.iloc[test])\n",
    "    fpr, tpr, t = roc_curve(y[test], prediction[:, 1])\n",
    "    tprs.append(interp(mean_fpr, fpr, tpr))\n",
    "    roc_auc = auc(fpr, tpr)\n",
    "    aucs.append(roc_auc)\n",
    "    plt.plot(fpr, tpr, lw=2, alpha=0.3, label='ROC fold %d (AUC = %0.2f)' % (i, roc_auc))\n",
    "    i= i+1\n",
    "\n",
    "plt.plot([0,1],[0,1],linestyle = '--',lw = 2,color = 'black')\n",
    "mean_tpr = np.mean(tprs, axis=0)\n",
    "mean_auc = auc(mean_fpr, mean_tpr)\n",
    "plt.plot(mean_fpr, mean_tpr, color='blue',\n",
    "         label=r'Mean ROC (AUC = %0.2f )' % (mean_auc),lw=2, alpha=1)\n",
    "\n",
    "plt.xlabel('False Positive Rate')\n",
    "plt.ylabel('True Positive Rate')\n",
    "plt.title('Gaussian Naive Bayes ROC')\n",
    "plt.legend(loc=\"lower right\")\n",
    "plt.text(0.32,0.7,'More accurate area',fontsize = 12)\n",
    "plt.text(0.63,0.4,'Less accurate area',fontsize = 12)\n",
    "plt.show()\n",
    "'''"
   ]
  },
  {
   "cell_type": "code",
   "execution_count": 107,
   "metadata": {
    "colab": {
     "base_uri": "https://localhost:8080/"
    },
    "id": "SumjlYB_-Cbj",
    "outputId": "1872beb8-8011-46de-dbcb-ababc80b96ed"
   },
   "outputs": [
    {
     "name": "stdout",
     "output_type": "stream",
     "text": [
      "              precision    recall  f1-score   support\n",
      "\n",
      "           0       0.95      0.83      0.89     78169\n",
      "           1       0.23      0.58      0.33      7198\n",
      "\n",
      "    accuracy                           0.81     85367\n",
      "   macro avg       0.59      0.70      0.61     85367\n",
      "weighted avg       0.89      0.81      0.84     85367\n",
      "\n",
      "time: 156 ms (started: 2022-12-04 03:23:19 +00:00)\n"
     ]
    }
   ],
   "source": [
    "print(classification_report(y, y_predn))"
   ]
  },
  {
   "cell_type": "markdown",
   "metadata": {
    "id": "0BwYLfvWKFD6"
   },
   "source": [
    "XGBoost with Stratified K-Fold CV"
   ]
  },
  {
   "cell_type": "code",
   "execution_count": 108,
   "metadata": {
    "colab": {
     "base_uri": "https://localhost:8080/",
     "height": 607
    },
    "id": "52froKZB7T7L",
    "outputId": "5b4c8bc8-1959-49ea-ff48-3cc5926c63a6"
   },
   "outputs": [
    {
     "name": "stdout",
     "output_type": "stream",
     "text": [
      "[0.83045757 0.84846631 0.84337626 0.82156811 0.83564605 0.83768416\n",
      " 0.8318596  0.84339533 0.83242187 0.813786  ]\n",
      "AUROC: 0.834 (0.010)\n",
      "Confusion Matrix: \n"
     ]
    },
    {
     "data": {
      "image/png": "[encoded data removed]",
      "text/plain": [
       "<Figure size 648x648 with 2 Axes>"
      ]
     },
     "metadata": {
      "needs_background": "light"
     },
     "output_type": "display_data"
    },
    {
     "name": "stdout",
     "output_type": "stream",
     "text": [
      "time: 2min 1s (started: 2022-12-04 03:23:20 +00:00)\n"
     ]
    }
   ],
   "source": [
    "classifier = XGBClassifier()\n",
    "accuracies = cross_val_score(estimator = classifier, X=X2_df, y=y, cv = 10, scoring='roc_auc')\n",
    "print(accuracies)\n",
    "print('AUROC: %.3f (%.3f)' % (accuracies.mean(), accuracies.std()))\n",
    "# How to train XG Boost\n",
    "classifier.fit(X2_df, y)\n",
    "y_predx = cross_val_predict(classifier, X2_df, y, cv=10)\n",
    "#Confusion Matrix\n",
    "conf_mat = confusion_matrix(y, y_predx)\n",
    "print('Confusion Matrix: ')\n",
    "nbmean = round(accuracies.mean(),3)\n",
    "nbstd = round(accuracies.std(),3)\n",
    "plt.figure(figsize=(9,9))\n",
    "sns.heatmap(conf_mat, annot=True, fmt=\".3f\", linewidths=.5, square = True, cmap = 'Blues_r');\n",
    "plt.ylabel('Actual label');\n",
    "plt.xlabel('Predicted label');\n",
    "all_sample_title = 'AUROC: {0}'.format(nbmean)\n",
    "plt.title(all_sample_title, size = 15);"
   ]
  },
  {
   "cell_type": "code",
   "execution_count": 109,
   "metadata": {
    "colab": {
     "base_uri": "https://localhost:8080/"
    },
    "id": "h2mBHv0_7T-F",
    "outputId": "11ff1ecb-7bcd-4ea9-c9df-30ed48aeadc1"
   },
   "outputs": [
    {
     "name": "stdout",
     "output_type": "stream",
     "text": [
      "              precision    recall  f1-score   support\n",
      "\n",
      "           0       0.92      0.99      0.96     78169\n",
      "           1       0.59      0.11      0.19      7198\n",
      "\n",
      "    accuracy                           0.92     85367\n",
      "   macro avg       0.76      0.55      0.57     85367\n",
      "weighted avg       0.90      0.92      0.89     85367\n",
      "\n",
      "time: 127 ms (started: 2022-12-04 03:25:21 +00:00)\n"
     ]
    }
   ],
   "source": [
    "print(classification_report(y, y_predx))"
   ]
  },
  {
   "cell_type": "code",
   "execution_count": null,
   "metadata": {
    "id": "NwFmmu0Lmhbi"
   },
   "outputs": [],
   "source": [
    "'''\n",
    "# plot arrows\n",
    "fig1 = plt.figure(figsize=[12,12])\n",
    "ax1 = fig1.add_subplot(111,aspect = 'equal')\n",
    "ax1.add_patch(\n",
    "    patches.Arrow(0.45,0.5,-0.25,0.25,width=0.3,color='green',alpha = 0.5)\n",
    "    )\n",
    "ax1.add_patch(\n",
    "    patches.Arrow(0.5,0.45,0.25,-0.25,width=0.3,color='red',alpha = 0.5)\n",
    "    )\n",
    "\n",
    "tprs = []\n",
    "aucs = []\n",
    "mean_fpr = np.linspace(0,1,100)\n",
    "i = 1\n",
    "for train,test in cv.split(X2_df,y):\n",
    "    prediction = classifier.fit(X2_df.iloc[train],y.iloc[train]).predict_proba(X2_df.iloc[test])\n",
    "    fpr, tpr, t = roc_curve(y[test], prediction[:, 1])\n",
    "    tprs.append(interp(mean_fpr, fpr, tpr))\n",
    "    roc_auc = auc(fpr, tpr)\n",
    "    aucs.append(roc_auc)\n",
    "    plt.plot(fpr, tpr, lw=2, alpha=0.3, label='ROC fold %d (AUC = %0.2f)' % (i, roc_auc))\n",
    "    i= i+1\n",
    "\n",
    "plt.plot([0,1],[0,1],linestyle = '--',lw = 2,color = 'black')\n",
    "mean_tpr = np.mean(tprs, axis=0)\n",
    "mean_auc = auc(mean_fpr, mean_tpr)\n",
    "plt.plot(mean_fpr, mean_tpr, color='blue',\n",
    "         label=r'Mean ROC (AUC = %0.2f )' % (mean_auc),lw=2, alpha=1)\n",
    "\n",
    "plt.xlabel('False Positive Rate')\n",
    "plt.ylabel('True Positive Rate')\n",
    "plt.title('XGBoost ROC')\n",
    "plt.legend(loc=\"lower right\")\n",
    "plt.text(0.32,0.7,'More accurate area',fontsize = 12)\n",
    "plt.text(0.63,0.4,'Less accurate area',fontsize = 12)\n",
    "plt.show()\n",
    "'''"
   ]
  }
 ],
 "metadata": {
  "colab": {
   "provenance": []
  },
  "kernelspec": {
   "display_name": "Python 3 (ipykernel)",
   "language": "python",
   "name": "python3"
  },
  "language_info": {
   "codemirror_mode": {
    "name": "ipython",
    "version": 3
   },
   "file_extension": ".py",
   "mimetype": "text/x-python",
   "name": "python",
   "nbconvert_exporter": "python",
   "pygments_lexer": "ipython3",
   "version": "3.9.10"
  }
 },
 "nbformat": 4,
 "nbformat_minor": 1
}
